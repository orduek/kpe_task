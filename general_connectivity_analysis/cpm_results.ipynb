{
 "cells": [
  {
   "cell_type": "markdown",
   "metadata": {},
   "source": [
    "## Presenting CPM results\n"
   ]
  },
  {
   "cell_type": "code",
   "execution_count": 1,
   "metadata": {},
   "outputs": [],
   "source": [
    "import numpy as np\n",
    "import seaborn as sns\n",
    "import matplotlib.pyplot as plt\n",
    "from test_cpm import train_cpm, run_validate\n",
    "from scipy.stats import pearsonr"
   ]
  },
  {
   "cell_type": "code",
   "execution_count": 2,
   "metadata": {},
   "outputs": [
    {
     "name": "stdout",
     "output_type": "stream",
     "text": [
      "Running LOO, sub no: 0\n",
      "Running LOO, sub no: 1\n",
      "Running LOO, sub no: 2\n",
      "Running LOO, sub no: 3\n",
      "Running LOO, sub no: 4\n",
      "Running LOO, sub no: 5\n",
      "Running LOO, sub no: 6\n",
      "Running LOO, sub no: 7\n",
      "Running LOO, sub no: 8\n",
      "Running LOO, sub no: 9\n",
      "Running LOO, sub no: 10\n",
      "Running LOO, sub no: 11\n",
      "Running LOO, sub no: 12\n",
      "Running LOO, sub no: 13\n",
      "Running LOO, sub no: 14\n",
      "Running LOO, sub no: 15\n",
      "Running LOO, sub no: 16\n",
      "Running LOO, sub no: 17\n",
      "Running LOO, sub no: 18\n",
      "Running LOO, sub no: 19\n",
      "Running LOO, sub no: 20\n"
     ]
    },
    {
     "name": "stderr",
     "output_type": "stream",
     "text": [
      "/home/or/miniconda3/envs/neuroAnalysis/lib/python3.7/site-packages/scipy/stats/stats.py:3399: PearsonRConstantInputWarning: An input array is constant; the correlation coefficent is not defined.\n",
      "  warnings.warn(PearsonRConstantInputWarning())\n",
      "/home/or/kpe_task_analysis/general_connectivity_analysis/test_cpm.py:58: RuntimeWarning: invalid value encountered in greater\n",
      "  posedges=(rmat > 0) & (pmat < 0.01)\n",
      "/home/or/kpe_task_analysis/general_connectivity_analysis/test_cpm.py:58: RuntimeWarning: invalid value encountered in less\n",
      "  posedges=(rmat > 0) & (pmat < 0.01)\n",
      "/home/or/kpe_task_analysis/general_connectivity_analysis/test_cpm.py:60: RuntimeWarning: invalid value encountered in less\n",
      "  negedges=(rmat < 0) & (pmat < 0.01)\n"
     ]
    }
   ],
   "source": [
    "## AAL atlas\n",
    "first = np.load('/home/or/kpe_task_analysis/trauma_ses1.npy')\n",
    "second = np.load('/home/or/kpe_task_analysis/trauma_ses2.npy')\n",
    "delta = np.subtract(second, first)\n",
    "\n",
    "y = np.array([2,  -1,  30,  17,  28,   4,  30,  18,  22,  18,  -1,  11,   2,   4, -16,  32,   8,  14,  20,   3,  23])\n",
    "\n",
    "cpm1_Rpos , cpm1_Rneg,behav_pred_pos, behav_pred_neg  = run_validate(delta, y, 'LOO')"
   ]
  },
  {
   "cell_type": "code",
   "execution_count": null,
   "metadata": {},
   "outputs": [],
   "source": [
    "# Shen Atlas\n",
    "first_shen = np.load('/home/or/kpe_task_analysis/trauma_ses1_shen.npy')\n",
    "second_shen = np.load('/home/or/kpe_task_analysis/trauma_ses2_shen.npy')\n",
    "delta_shen = np.subtract(second_shen, first_shen)\n",
    "\n",
    "cpm1_Rpos_s , cpm1_Rneg_s, behav_pred_pos_s, behav_pred_neg_s  = run_validate(delta_shen, y, 'LOO')"
   ]
  },
  {
   "cell_type": "code",
   "execution_count": 3,
   "metadata": {},
   "outputs": [
    {
     "data": {
      "text/plain": [
       "(0.41742535915275286, 0.059734204550888806)"
      ]
     },
     "execution_count": 3,
     "metadata": {},
     "output_type": "execute_result"
    }
   ],
   "source": [
    "# Correlation between positive edges prediction and actual score (LOO method) is\n",
    "cpm1_Rpos"
   ]
  },
  {
   "cell_type": "code",
   "execution_count": 4,
   "metadata": {},
   "outputs": [
    {
     "data": {
      "text/plain": [
       "(0.2450205733783462, 0.2843959298331512)"
      ]
     },
     "execution_count": 4,
     "metadata": {},
     "output_type": "execute_result"
    }
   ],
   "source": [
    "# Correlation between negative edges prediction and actual score (LOO method) is\n",
    "cpm1_Rneg"
   ]
  },
  {
   "cell_type": "code",
   "execution_count": 5,
   "metadata": {},
   "outputs": [
    {
     "data": {
      "text/plain": [
       "<matplotlib.collections.PathCollection at 0x7f94dc5e0c50>"
      ]
     },
     "execution_count": 5,
     "metadata": {},
     "output_type": "execute_result"
    },
    {
     "data": {
      "image/png": "[encoded data removed]",
      "text/plain": [
       "<Figure size 432x288 with 1 Axes>"
      ]
     },
     "metadata": {
      "needs_background": "light"
     },
     "output_type": "display_data"
    }
   ],
   "source": [
    "# fitting regression line\n",
    "fit_pos=np.polyfit(behav_pred_pos,y,1)\n",
    "fit_pos\n",
    "# plot\n",
    "#fig, ax = plt.subplots()\n",
    "line = behav_pred_pos*fit_pos[0]+ fit_pos[1]\n",
    "plt.plot(behav_pred_pos, line, 'r')\n",
    "plt.scatter(behav_pred_pos, y, c='blue')\n"
   ]
  },
  {
   "cell_type": "code",
   "execution_count": 8,
   "metadata": {},
   "outputs": [
    {
     "data": {
      "text/plain": [
       "[Text(0, 0.5, 'Observed score'),\n",
       " Text(0.5, 0, 'Predicted score'),\n",
       " Text(0.5, 1.0, 'Predicted vs Observed after CPM')]"
      ]
     },
     "execution_count": 8,
     "metadata": {},
     "output_type": "execute_result"
    },
    {
     "data": {
      "image/png": "[encoded data removed]",
      "text/plain": [
       "<Figure size 432x288 with 1 Axes>"
      ]
     },
     "metadata": {},
     "output_type": "display_data"
    }
   ],
   "source": [
    "import seaborn as sns; #sns.set(color_codes=True)\n",
    "sns.set_style(\"whitegrid\")\n",
    "\n",
    "ax = sns.regplot(x=behav_pred_pos, y=y, ci=90, color = 'blue', )\n",
    "ax.set(xlabel='Predicted score', ylabel='Observed score', title='Predicted vs Observed after CPM')\n",
    "#sns.regplot(x=behav_pred_neg, y=y)\n",
    "#plt.scatter(behav_pred_pos, y)\n",
    "#plt.scatter(behav_pred_neg, y)"
   ]
  },
  {
   "cell_type": "code",
   "execution_count": null,
   "metadata": {},
   "outputs": [],
   "source": [
    "# Using Shen's parcellation we get bad results\n"
   ]
  },
  {
   "cell_type": "code",
   "execution_count": null,
   "metadata": {},
   "outputs": [],
   "source": [
    "import matplotlib.lines as mlines\n",
    "fig, ax = plt.subplots()\n",
    "ax.scatter(behav_pred_pos, y, c='blue')\n",
    "line = mlines.Line2D([0, 1], corr_pos, color='red')"
   ]
  }
 ],
 "metadata": {
  "kernelspec": {
   "display_name": "Python 3",
   "language": "python",
   "name": "python3"
  },
  "language_info": {
   "codemirror_mode": {
    "name": "ipython",
    "version": 3
   },
   "file_extension": ".py",
   "mimetype": "text/x-python",
   "name": "python",
   "nbconvert_exporter": "python",
   "pygments_lexer": "ipython3",
   "version": "3.7.6"
  }
 },
 "nbformat": 4,
 "nbformat_minor": 2
}
