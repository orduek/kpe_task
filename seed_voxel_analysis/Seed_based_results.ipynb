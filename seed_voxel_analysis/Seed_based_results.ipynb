{
 "cells": [
  {
   "cell_type": "code",
   "execution_count": 12,
   "metadata": {},
   "outputs": [],
   "source": [
    "import glob\n",
    "import numpy as np\n",
    "import pandas as pd\n",
    "import scipy\n",
    "from nilearn import plotting\n"
   ]
  },
  {
   "cell_type": "code",
   "execution_count": null,
   "metadata": {},
   "outputs": [],
   "source": [
    "# first load all seed based files\n",
    "files_ses1 = glob.glob('/home/or/kpe_conn/trauma_seed_amg_right_sub-*_ses-1_z.nii.gz')\n",
    "files_ses2 = glob.glob('/home/or/kpe_conn/trauma_seed_amg_right_sub-*_ses-2_z.nii.gz')\n",
    "print(files_ses1)\n",
    "#len(files)"
   ]
  },
  {
   "cell_type": "code",
   "execution_count": null,
   "metadata": {},
   "outputs": [],
   "source": [
    "# reading the files back\n",
    "from nilearn.input_data import NiftiMasker\n",
    "# here I use a masked image so all will have same size\n",
    "nifti_masker = NiftiMasker(\n",
    "    mask_img= '/media/Data/KPE_fmriPrep_preproc/kpeOutput/derivatives/fmriprep/sub-008/ses-2/func/sub-008_ses-2_task-Memory_space-MNI152NLin2009cAsym_desc-brain_mask.nii.gz',\n",
    "    smoothing_fwhm=5,\n",
    "    memory='nilearn_cache', memory_level=1)  # cache options\n",
    "fmri_AmgR_masked_ses1 = nifti_masker.fit_transform(files_ses1)\n",
    "fmri_AmgR_masked_ses2 = nifti_masker.fit_transform(files_ses2)\n"
   ]
  },
  {
   "cell_type": "code",
   "execution_count": null,
   "metadata": {},
   "outputs": [],
   "source": [
    "from nilearn import input_data\n",
    "brain_masker = input_data.NiftiMasker(\n",
    "        smoothing_fwhm=6,\n",
    "        detrend=True, standardize=True,\n",
    "        low_pass=0.1, high_pass=0.01, t_r=1.,\n",
    "        memory='/media/Data/nilearn', memory_level=1, verbose=2)\n",
    "brain_masker.fit(files_ses2)"
   ]
  },
  {
   "cell_type": "code",
   "execution_count": null,
   "metadata": {},
   "outputs": [],
   "source": [
    "deltaCor = fmri_AmgR_masked_ses2 - fmri_AmgR_masked_ses1\n",
    "print (f'Shape is: {deltaCor.shape}')\n",
    "\n",
    "# run paired t-test \n",
    "testDelta = scipy.stats.ttest_rel(fmri_AmgR_masked_ses1, fmri_AmgR_masked_ses2) \n",
    "np.sum(testDelta[1]<0.005)"
   ]
  },
  {
   "cell_type": "code",
   "execution_count": null,
   "metadata": {},
   "outputs": [],
   "source": [
    "# results before thresholding\n",
    "%matplotlib inline\n",
    "# mean across subjects\n",
    "mean_zcor_Delta = np.mean(deltaCor,0)\n",
    "mean_zcor_Delta.shape"
   ]
  },
  {
   "cell_type": "code",
   "execution_count": null,
   "metadata": {},
   "outputs": [],
   "source": [
    "# before using that we need to run and fit brain masker at least on one subject\n",
    "amygdala_coords = [(31,4,-22)]\n",
    "mean_zcor_img_delta = brain_masker.inverse_transform(mean_zcor_Delta.T)\n",
    "from nilearn import plotting\n",
    "display = plotting.plot_stat_map(mean_zcor_img_delta,\n",
    "                                     threshold=0.1, vmax=1,\n",
    "                                     cut_coords=amygdala_coords[0],\n",
    "                                     title=\"Seed-to-voxel correlation (Right Hippo) 2nd - 1st session\", display_mode = 'z',\n",
    "                                     )\n",
    "display.add_markers(marker_coords=amygdala_coords, marker_color='g',\n",
    "                    marker_size=200)"
   ]
  },
  {
   "cell_type": "code",
   "execution_count": null,
   "metadata": {},
   "outputs": [],
   "source": [
    "# treshold\n",
    "FWE_thr = 0.05/26503 #len(mean_zcor_Delta)\n",
    "len(mean_zcor_Delta)/10"
   ]
  },
  {
   "cell_type": "code",
   "execution_count": null,
   "metadata": {},
   "outputs": [],
   "source": [
    "corr_matDelta_thr = np.array(mean_zcor_Delta)\n",
    "# now I can treshold the mean matrix\n",
    "corr_matDelta_thr[testDelta[1]>FWE_thr] = 0 # everything that has p value larger than treshold becomes zero \n",
    "numNonZeroDelta = np.count_nonzero(corr_matDelta_thr)\n",
    "print (f'Number of voxels crossed the FWE thr is {numNonZeroDelta}')\n",
    "# transofrm it back to nifti\n",
    "thr_nifti_delta = brain_masker.inverse_transform(corr_matDelta_thr.T)\n",
    "%matplotlib inline\n",
    "display = plotting.plot_stat_map(thr_nifti_delta,\n",
    "                                     vmax=1,\n",
    "                                     threshold = 0.1,\n",
    "                                     title=\"Seed-to-voxel correlation 2nd - 1st (Right Amg)\", display_mode = 'z',\n",
    "                                     )\n",
    "display.add_markers(marker_coords=amygdala_coords, marker_color='g',\n",
    "                    marker_size=200)"
   ]
  },
  {
   "cell_type": "code",
   "execution_count": null,
   "metadata": {},
   "outputs": [],
   "source": [
    "# now lets try FDR\n",
    "from statsmodels.stats import multitest\n",
    "# we need to reshape the test p-values array to create 1D array\n",
    "#b = np.reshape(np.array(testDelta[1]), -1)\n",
    "fdr_mat = multitest.multipletests(testDelta[1], alpha=0.05, method='fdr_bh', is_sorted=False, returnsorted=False)\n",
    "#fdr_mat = multitest.fdrcorrection(testDelta[1], alpha=0.7, method='indep', is_sorted=False)\n",
    "\n",
    "np.sum(fdr_mat[1]<0.01)\n",
    "#fdr_mat[1]"
   ]
  },
  {
   "cell_type": "code",
   "execution_count": null,
   "metadata": {},
   "outputs": [],
   "source": [
    "tested_var = [1] * 21\n",
    "tested_var = np.array(tested_var).reshape(-1,1)\n",
    "tested_var"
   ]
  },
  {
   "cell_type": "code",
   "execution_count": null,
   "metadata": {},
   "outputs": [],
   "source": [
    "from nilearn.input_data import NiftiMasker\n",
    "nifti_masker = NiftiMasker(\n",
    "    smoothing_fwhm=0,\n",
    "    memory='nilearn_cache', memory_level=1)  # cache options\n",
    "fmri_masked_ses1 = nifti_masker.fit_transform(files_ses1)\n",
    "fmri_masked_ses2 = nifti_masker.fit_transform(files_ses2)"
   ]
  },
  {
   "cell_type": "code",
   "execution_count": null,
   "metadata": {},
   "outputs": [],
   "source": [
    "from nilearn import mass_univariate\n",
    "neg_log_pvals_permuted_ols, _, _ = mass_univariate.permuted_ols(tested_var, fmri_masked, confounding_vars=None, model_intercept=True, \n",
    "                                     n_perm=50, two_sided_test=True, random_state=None, n_jobs=1, verbose=5)"
   ]
  },
  {
   "cell_type": "code",
   "execution_count": null,
   "metadata": {},
   "outputs": [],
   "source": [
    "neg_log_pvals_permuted_ols_unmasked = nifti_masker.inverse_transform(\n",
    "    np.ravel(neg_log_pvals_permuted_ols))"
   ]
  },
  {
   "cell_type": "code",
   "execution_count": null,
   "metadata": {},
   "outputs": [],
   "source": [
    "from nilearn.plotting import plot_stat_map, show\n",
    "import matplotlib.pyplot as plt\n",
    "# Various plotting parameters\n",
    "z_slice = 12  # plotted slice\n",
    "\n",
    "threshold = - np.log10(0.1)  # 10% corrected\n",
    "vmax = np.max(neg_log_pvals_permuted_ols)\n",
    "\n",
    "# Plot permuted OLS p-values\n",
    "fig = plt.figure() #(figsize=(5, 7), facecolor='k')\n",
    "\n",
    "display = plot_stat_map(neg_log_pvals_permuted_ols_unmasked,\n",
    "                        threshold=threshold,\n",
    "                        display_mode='z', cut_coords=[z_slice],\n",
    "                        vmax=vmax, black_bg=True)\n",
    "\n",
    "n_detections = (neg_log_pvals_permuted_ols_unmasked.get_data()\n",
    "                > threshold).sum()\n",
    "title = ('Negative $\\log_{10}$ p-values'\n",
    "         '\\n(Non-parametric + max-type correction)'\n",
    "         '\\n%d detections') % n_detections\n",
    "\n",
    "display.title(title, y=1.2)\n",
    "\n",
    "show()"
   ]
  },
  {
   "cell_type": "code",
   "execution_count": null,
   "metadata": {},
   "outputs": [],
   "source": [
    "from nilearn import mass_univariate\n",
    "neg_log_pvals_permuted_ols2, _, _ = mass_univariate.permuted_ols(tested_var, fmri_masked2, confounding_vars=None, model_intercept=True, \n",
    "                                     n_perm=50, two_sided_test=True, random_state=None, n_jobs=1, verbose=5)"
   ]
  },
  {
   "cell_type": "code",
   "execution_count": null,
   "metadata": {},
   "outputs": [],
   "source": [
    "neg_log_pvals_permuted_ols_unmasked2 = nifti_masker.inverse_transform(\n",
    "    np.ravel(neg_log_pvals_permuted_ols2))"
   ]
  },
  {
   "cell_type": "code",
   "execution_count": null,
   "metadata": {},
   "outputs": [],
   "source": [
    "z_slice = 12  # plotted slice\n",
    "\n",
    "threshold = - np.log10(0.1)  # 10% corrected\n",
    "vmax = np.max(neg_log_pvals_permuted_ols2)\n",
    "\n",
    "# Plot permuted OLS p-values\n",
    "fig = plt.figure() #(figsize=(5, 7), facecolor='k')\n",
    "\n",
    "display = plot_stat_map(neg_log_pvals_permuted_ols_unmasked2,\n",
    "                        threshold=threshold,\n",
    "                        display_mode='z', cut_coords=[z_slice],\n",
    "                        vmax=vmax, black_bg=True)\n",
    "\n",
    "n_detections = (neg_log_pvals_permuted_ols_unmasked2.get_data()\n",
    "                > threshold).sum()\n",
    "title = ('Negative $\\log_{10}$ p-values'\n",
    "         '\\n(Non-parametric + max-type correction)'\n",
    "         '\\n%d detections') % n_detections\n",
    "\n",
    "display.title(title, y=1.2)\n",
    "\n",
    "show()"
   ]
  },
  {
   "cell_type": "code",
   "execution_count": null,
   "metadata": {},
   "outputs": [],
   "source": [
    "from nilearn import input_data\n",
    "brain_masker = input_data.NiftiMasker(\n",
    "        smoothing_fwhm=6,\n",
    "        detrend=True, standardize=True,\n",
    "        low_pass=0.1, high_pass=0.01, t_r=1.,\n",
    "        memory='/media/Data/nilearn', memory_level=1, verbose=2)\n",
    "brain_masker.fit(files_ses2)"
   ]
  },
  {
   "cell_type": "code",
   "execution_count": null,
   "metadata": {},
   "outputs": [],
   "source": [
    "import scipy\n",
    "import numpy as np\n",
    "amygdala_coords = [(-26, 2, -18)]#, (31,4,-22)]\n",
    "# start with simple t test and tresholding\n",
    "test = scipy.stats.ttest_1samp(fmri_masked,0,0)\n",
    "%matplotlib inline\n",
    "# mean across subjects\n",
    "mean_zcor = np.mean(fmri_masked,0)\n",
    "# before using that we need to run and fit brain masker at least on one subject\n",
    "\n",
    "mean_zcor_img = brain_masker.inverse_transform(mean_zcor.T)\n",
    "from nilearn import plotting\n",
    "display = plotting.plot_stat_map(mean_zcor_img,\n",
    "                                     threshold=0.2, vmax=1,\n",
    "                                     \n",
    "                                     title=\"Seed-to-voxel correlation (Left Amg seed)\", display_mode = 'z',\n",
    "                                     )\n",
    "display.add_markers(marker_coords=amygdala_coords, marker_color='g',\n",
    "                    marker_size=200)"
   ]
  },
  {
   "cell_type": "code",
   "execution_count": null,
   "metadata": {},
   "outputs": [],
   "source": [
    "# treshold\n",
    "#FWE\n",
    "FWE_thr = 0.05/len(mean_zcor)\n",
    "# create new matrix for correction\n",
    "corr_mat_thr = np.array(mean_zcor)\n",
    "# now I can treshold the mean matrix\n",
    "corr_mat_thr[test[1]>FWE_thr] = 0 # everything that has p value larger than treshold becomes zero \n",
    "numNonZero = np.count_nonzero(corr_mat_thr)\n",
    "print (f'Number of voxels crossed the FWE thr is {numNonZero}')\n",
    "# transofrm it back to nifti\n",
    "thr_nifti = brain_masker.inverse_transform(corr_mat_thr.T)\n",
    "%matplotlib inline\n",
    "display = plotting.plot_stat_map(thr_nifti,\n",
    "                                      vmax=1,\n",
    "                                     threshold = 0.2,\n",
    "                                     title=\"Seed-to-voxel correlation (Left Amg seed)\", display_mode = 'z',\n",
    "                                     )\n",
    "display.add_markers(marker_coords=amygdala_coords, marker_color='g',\n",
    "                    marker_size=200)"
   ]
  },
  {
   "cell_type": "code",
   "execution_count": null,
   "metadata": {},
   "outputs": [],
   "source": [
    "# now we should compare the two sessions\n",
    "test = scipy.stats.ttest_1samp(fmri_masked_ses2,0,0)\n",
    "%matplotlib inline\n",
    "# mean across subjects\n",
    "mean_zcor = np.mean(fmri_masked_ses2,0)\n",
    "# before using that we need to run and fit brain masker at least on one subject\n",
    "\n",
    "mean_zcor_img = brain_masker.inverse_transform(mean_zcor.T)\n",
    "from nilearn import plotting\n",
    "display = plotting.plot_stat_map(mean_zcor_img,\n",
    "                                     threshold=0.2, vmax=1,\n",
    "                                     \n",
    "                                     title=\"Seed-to-voxel correlation (Left Amg seed)\", display_mode = 'z',\n",
    "                                     )\n",
    "display.add_markers(marker_coords=amygdala_coords, marker_color='g',\n",
    "                    marker_size=200)"
   ]
  },
  {
   "cell_type": "code",
   "execution_count": null,
   "metadata": {},
   "outputs": [],
   "source": [
    "# Hippocampus\n",
    "files_ses1_h = glob.glob('/home/or/kpe_conn/trauma_seed_hippocampus_right_sub-*_ses-1_z.nii.gz')\n",
    "files_ses2_h = glob.glob('/home/or/kpe_conn/trauma_seed_hippocampus_right_sub-*_ses-2_z.nii.gz')"
   ]
  },
  {
   "cell_type": "code",
   "execution_count": null,
   "metadata": {},
   "outputs": [],
   "source": [
    "from nilearn.input_data import NiftiMasker\n",
    "# here I use a masked image so all will have same size\n",
    "nifti_masker = NiftiMasker(\n",
    "    mask_img= '/media/Data/KPE_fmriPrep_preproc/kpeOutput/derivatives/fmriprep/sub-008/ses-2/func/sub-008_ses-2_task-Memory_space-MNI152NLin2009cAsym_desc-brain_mask.nii.gz',\n",
    "    smoothing_fwhm=5,\n",
    "    memory='nilearn_cache', memory_level=1)  # cache options\n",
    "fmri_Hipp_masked_ses1 = nifti_masker.fit_transform(files_ses1_h)\n",
    "fmri_Hipp_masked_ses2 = nifti_masker.fit_transform(files_ses2_h)\n"
   ]
  },
  {
   "cell_type": "code",
   "execution_count": null,
   "metadata": {},
   "outputs": [],
   "source": [
    "from nilearn import input_data\n",
    "brain_masker = input_data.NiftiMasker(\n",
    "        smoothing_fwhm=6,\n",
    "        detrend=True, standardize=True,\n",
    "        low_pass=0.1, high_pass=0.01, t_r=1.,\n",
    "        memory='/media/Data/nilearn', memory_level=1, verbose=2)\n",
    "brain_masker.fit(files_ses1_h)"
   ]
  },
  {
   "cell_type": "code",
   "execution_count": null,
   "metadata": {},
   "outputs": [],
   "source": [
    "import scipy\n",
    "import numpy as np\n",
    "hippocampus_coors = [(24,-28,-10)]\n",
    "# start with simple t test and tresholding\n",
    "test = scipy.stats.ttest_1samp(fmri_Hipp_masked_ses1,0,0)\n",
    "%matplotlib inline\n",
    "# mean across subjects\n",
    "mean_zcor = np.mean(fmri_Hipp_masked_ses1,0)\n",
    "# before using that we need to run and fit brain masker at least on one subject\n",
    "\n",
    "mean_zcor_img = brain_masker.inverse_transform(mean_zcor.T)\n",
    "from nilearn import plotting\n",
    "display = plotting.plot_stat_map(mean_zcor_img,\n",
    "                                     threshold=0.2, vmax=1,\n",
    "                                     \n",
    "                                     title=\"Seed-to-voxel correlation (Right Hippo)\", display_mode = 'z',\n",
    "                                     )\n",
    "display.add_markers(marker_coords=hippocampus_coors, marker_color='g',\n",
    "                    marker_size=200)"
   ]
  },
  {
   "cell_type": "code",
   "execution_count": null,
   "metadata": {},
   "outputs": [],
   "source": [
    "# treshold\n",
    "#FWE\n",
    "FWE_thr = 0.05/len(mean_zcor)\n",
    "# create new matrix for correction\n",
    "corr_mat_thr = np.array(mean_zcor)\n",
    "# now I can treshold the mean matrix\n",
    "corr_mat_thr[test[1]>FWE_thr] = 0 # everything that has p value larger than treshold becomes zero \n",
    "numNonZero = np.count_nonzero(corr_mat_thr)\n",
    "print (f'Number of voxels crossed the FWE thr is {numNonZero}')\n",
    "# transofrm it back to nifti\n",
    "thr_nifti = brain_masker.inverse_transform(corr_mat_thr.T)\n",
    "%matplotlib inline\n",
    "display = plotting.plot_stat_map(thr_nifti,\n",
    "                                      vmax=1,\n",
    "                                     threshold = 0.2,\n",
    "                                     title=\"Seed-to-voxel correlation (Right Hippocampus)\", display_mode = 'z',\n",
    "                                     )\n",
    "display.add_markers(marker_coords=hippocampus_coors, marker_color='g',\n",
    "                    marker_size=200)"
   ]
  },
  {
   "cell_type": "code",
   "execution_count": null,
   "metadata": {},
   "outputs": [],
   "source": [
    "# run the same for session 2\n",
    "brain_masker.fit(files_ses2_h)\n",
    "\n",
    "test = scipy.stats.ttest_1samp(fmri_Hipp_masked_ses2,0,0)\n",
    "%matplotlib inline\n",
    "# mean across subjects\n",
    "mean_zcor = np.mean(fmri_Hipp_masked_ses2,0)\n",
    "# before using that we need to run and fit brain masker at least on one subject\n",
    "mean_zcor.shape"
   ]
  },
  {
   "cell_type": "code",
   "execution_count": null,
   "metadata": {},
   "outputs": [],
   "source": [
    "mean_zcor_img = brain_masker.inverse_transform(mean_zcor.T)\n",
    "from nilearn import plotting\n",
    "display = plotting.plot_stat_map(mean_zcor_img,\n",
    "                                     threshold=0.2, vmax=1,\n",
    "                                     \n",
    "                                     title=\"Seed-to-voxel correlation (Right Hippo) 2nd session\", display_mode = 'z',\n",
    "                                     )\n",
    "display.add_markers(marker_coords=hippocampus_coors, marker_color='g',\n",
    "                    marker_size=200)"
   ]
  },
  {
   "cell_type": "code",
   "execution_count": null,
   "metadata": {},
   "outputs": [],
   "source": [
    "corr_mat_thr = np.array(mean_zcor)\n",
    "# now I can treshold the mean matrix\n",
    "corr_mat_thr[test[1]>FWE_thr] = 0 # everything that has p value larger than treshold becomes zero \n",
    "numNonZero = np.count_nonzero(corr_mat_thr)\n",
    "print (f'Number of voxels crossed the FWE thr is {numNonZero}')\n",
    "# transofrm it back to nifti\n",
    "thr_nifti = brain_masker.inverse_transform(corr_mat_thr.T)\n",
    "%matplotlib inline\n",
    "display = plotting.plot_stat_map(thr_nifti,\n",
    "                                      vmax=1,\n",
    "                                     threshold = 0.02,\n",
    "                                     title=\"Seed-to-voxel correlation (Right Hippocampus)\", display_mode = 'z',\n",
    "                                     )\n",
    "display.add_markers(marker_coords=hippocampus_coors, marker_color='g',\n",
    "                    marker_size=200)"
   ]
  },
  {
   "cell_type": "code",
   "execution_count": null,
   "metadata": {},
   "outputs": [],
   "source": [
    "deltaCor = fmri_Hipp_masked_ses2 - fmri_Hipp_masked_ses1\n",
    "print (f'Shape is: {deltaCor.shape}')\n",
    "\n",
    "# run paired t-test \n",
    "testDelta = scipy.stats.ttest_rel(fmri_Hipp_masked_ses1, fmri_Hipp_masked_ses2) \n",
    "np.sum(testDelta[1]<0.05)\n",
    "#testDelta\n"
   ]
  },
  {
   "cell_type": "code",
   "execution_count": null,
   "metadata": {},
   "outputs": [],
   "source": [
    "%matplotlib inline\n",
    "# mean across subjects\n",
    "mean_zcor_Delta = np.mean(deltaCor,0)\n",
    "# before using that we need to run and fit brain masker at least on one subject\n",
    "\n",
    "mean_zcor_img_delta = brain_masker.inverse_transform(mean_zcor_Delta.T)\n",
    "from nilearn import plotting\n",
    "display = plotting.plot_stat_map(mean_zcor_img_delta,\n",
    "                                     threshold=0.1, vmax=1,\n",
    "                                     \n",
    "                                     title=\"Seed-to-voxel correlation (Right Hippo) 2nd - 1st session\", display_mode = 'z',\n",
    "                                     )\n",
    "display.add_markers(marker_coords=hippocampus_coors, marker_color='g',\n",
    "                    marker_size=200)"
   ]
  },
  {
   "cell_type": "code",
   "execution_count": null,
   "metadata": {},
   "outputs": [],
   "source": [
    "# treshold\n",
    "FWE_thr = 0.05/len(mean_zcor_Delta)\n",
    "corr_matDelta_thr = np.array(mean_zcor_Delta)\n",
    "# now I can treshold the mean matrix\n",
    "corr_matDelta_thr[testDelta[1]>FWE_thr] = 0 # everything that has p value larger than treshold becomes zero \n",
    "numNonZeroDelta = np.count_nonzero(corr_matDelta_thr)\n",
    "print (f'Number of voxels crossed the FWE thr is {numNonZeroDelta}')\n",
    "# transofrm it back to nifti\n",
    "thr_nifti_delta = brain_masker.inverse_transform(corr_matDelta_thr.T)\n",
    "%matplotlib inline\n",
    "display = plotting.plot_stat_map(thr_nifti_delta,\n",
    "                                     vmax=1,\n",
    "                                     threshold = 0.1,\n",
    "                                     title=\"Seed-to-voxel correlation 2nd - 1st (Right Hippocampus)\", display_mode = 'z',\n",
    "                                     )\n",
    "display.add_markers(marker_coords=hippocampus_coors, marker_color='g',\n",
    "                    marker_size=200)"
   ]
  },
  {
   "cell_type": "code",
   "execution_count": null,
   "metadata": {},
   "outputs": [],
   "source": [
    "testDelta[1].shape\n",
    "#b.shape"
   ]
  },
  {
   "cell_type": "code",
   "execution_count": null,
   "metadata": {},
   "outputs": [],
   "source": [
    "# now lets try FDR\n",
    "from statsmodels.stats import multitest\n",
    "# we need to reshape the test p-values array to create 1D array\n",
    "#b = np.reshape(np.array(testDelta[1]), -1)\n",
    "#fdr_mat = multitest.multipletests(testDelta[1], alpha=0.05, method='fdr_bh', is_sorted=False, returnsorted=False)\n",
    "fdr_mat = multitest.fdrcorrection(testDelta[1], alpha=0.7, method='indep', is_sorted=False)\n",
    "\n",
    "fdr_mat[1]\n",
    "#fdr_mat[1]"
   ]
  },
  {
   "cell_type": "code",
   "execution_count": null,
   "metadata": {},
   "outputs": [],
   "source": [
    "corr_mat_thrFDR = np.array(mean_zcor_Delta)\n",
    "corr_mat_thrFDR = np.reshape(corr_mat_thrFDR, -1)\n",
    "print(f'The number of voxels crossed FDR is {sum(fdr_mat[0])}')\n",
    "corr_mat_thrFDR[fdr_mat[0]==False] = 0\n",
    "nifti_fdr_thr = brain_masker.inverse_transform(corr_mat_thrFDR.T)"
   ]
  },
  {
   "cell_type": "code",
   "execution_count": null,
   "metadata": {},
   "outputs": [],
   "source": [
    "display = plotting.plot_stat_map(nifti_fdr_thr,\n",
    "                                     vmax=1,\n",
    "                                     threshold = 0.2,\n",
    "                                     title=\"Seed-to-voxel correlation 2nd - 1st (Right Hippocampus)\", display_mode = 'z',\n",
    "                                     )\n",
    "display.add_markers(marker_coords=hippocampus_coors, marker_color='g',\n",
    "                    marker_size=200)"
   ]
  },
  {
   "cell_type": "code",
   "execution_count": 33,
   "metadata": {},
   "outputs": [],
   "source": [
    "# using fslMaths to create differences images (between session 1 and two etc.)\n",
    "# load those ones\n",
    "diff_images = glob.glob('/home/or/kpe_conn/fsl/maths/hippRight_ses2-1_*.nii.gz')"
   ]
  },
  {
   "cell_type": "code",
   "execution_count": 35,
   "metadata": {},
   "outputs": [],
   "source": [
    "from nilearn.input_data import NiftiMasker\n",
    "# here I use a masked image so all will have same size\n",
    "nifti_masker = NiftiMasker(\n",
    "    mask_img= '/media/Data/KPE_BIDS/derivatives/fmriprep/sub-008/ses-2/func/sub-008_ses-2_task-Memory_space-MNI152NLin2009cAsym_desc-brain_mask.nii.gz',\n",
    "    smoothing_fwhm=5,\n",
    "    memory='nilearn_cache', memory_level=1)  # cache options\n",
    "hipp_ses2_1 = nifti_masker.fit_transform(diff_images)"
   ]
  },
  {
   "cell_type": "code",
   "execution_count": 36,
   "metadata": {},
   "outputs": [
    {
     "name": "stdout",
     "output_type": "stream",
     "text": [
      "[NiftiMasker.fit] Loading data from [/home/or/kpe_conn/fsl/maths/hippRight_ses2-1_1480.nii.gz, /home/or/kpe_conn/fsl/maths/hippRight_ses2-1_1293.nii.gz, /home/or/kpe_conn/fsl/maths/hippRight_ses2-1_1499.nii.gz, /home/or/kpe_conn/fsl/mat\n",
      "[NiftiMasker.fit] Computing the mask\n",
      "[Memory]    0.0s, 0.0min: Loading compute_background_mask...\n",
      "[NiftiMasker.fit] Resampling mask\n",
      "[Memory]    0.1s, 0.0min: Loading resample_img...\n"
     ]
    },
    {
     "data": {
      "text/plain": [
       "NiftiMasker(detrend=True, dtype=None, high_pass=None, low_pass=None,\n",
       "            mask_args=None, mask_img=None, mask_strategy='background',\n",
       "            memory=Memory(cachedir='/media/Data/nilearn/joblib'),\n",
       "            memory_level=1, sample_mask=None, sessions=None, smoothing_fwhm=6,\n",
       "            standardize=True, t_r=1.0, target_affine=None, target_shape=None,\n",
       "            verbose=2)"
      ]
     },
     "execution_count": 36,
     "metadata": {},
     "output_type": "execute_result"
    }
   ],
   "source": [
    "from nilearn import input_data\n",
    "brain_masker = input_data.NiftiMasker(\n",
    "        smoothing_fwhm=6,\n",
    "        detrend=True, standardize=True,\n",
    "        t_r=1.,\n",
    "        memory='/media/Data/nilearn', memory_level=1, verbose=2)\n",
    "brain_masker.fit(diff_images)"
   ]
  },
  {
   "cell_type": "code",
   "execution_count": 37,
   "metadata": {},
   "outputs": [
    {
     "data": {
      "text/plain": [
       "(265033,)"
      ]
     },
     "execution_count": 37,
     "metadata": {},
     "output_type": "execute_result"
    }
   ],
   "source": [
    "import scipy\n",
    "import numpy as np\n",
    "hippocampus_coors = [(24,-28,-10)]\n",
    "# start with simple t test and tresholding\n",
    "test = scipy.stats.ttest_1samp(hipp_ses2_1,0,0)\n",
    "%matplotlib inline\n",
    "# mean across subjects\n",
    "mean_zcor = np.mean(hipp_ses2_1,0)\n",
    "# before using that we need to run and fit brain masker at least on one subject\n",
    "mean_zcor.shape"
   ]
  },
  {
   "cell_type": "code",
   "execution_count": 38,
   "metadata": {},
   "outputs": [
    {
     "name": "stdout",
     "output_type": "stream",
     "text": [
      "________________________________________________________________________________\n",
      "[Memory] Calling nilearn.masking.unmask...\n",
      "unmask(array([-0.041237, ..., -0.032545]), <nibabel.nifti1.Nifti1Image object at 0x7fcfd70ecd10>)\n"
     ]
    },
    {
     "ename": "TypeError",
     "evalue": "X must be of shape (samples, 268275).",
     "output_type": "error",
     "traceback": [
      "\u001b[0;31m---------------------------------------------------------------------------\u001b[0m",
      "\u001b[0;31mTypeError\u001b[0m                                 Traceback (most recent call last)",
      "\u001b[0;32m<ipython-input-38-97088a1a1aa9>\u001b[0m in \u001b[0;36m<module>\u001b[0;34m\u001b[0m\n\u001b[0;32m----> 1\u001b[0;31m \u001b[0mmean_zcor_img\u001b[0m \u001b[0;34m=\u001b[0m \u001b[0mbrain_masker\u001b[0m\u001b[0;34m.\u001b[0m\u001b[0minverse_transform\u001b[0m\u001b[0;34m(\u001b[0m\u001b[0mmean_zcor\u001b[0m\u001b[0;34m.\u001b[0m\u001b[0mT\u001b[0m\u001b[0;34m)\u001b[0m\u001b[0;34m\u001b[0m\u001b[0;34m\u001b[0m\u001b[0m\n\u001b[0m\u001b[1;32m      2\u001b[0m \u001b[0;32mfrom\u001b[0m \u001b[0mnilearn\u001b[0m \u001b[0;32mimport\u001b[0m \u001b[0mplotting\u001b[0m\u001b[0;34m\u001b[0m\u001b[0;34m\u001b[0m\u001b[0m\n\u001b[1;32m      3\u001b[0m display = plotting.plot_stat_map(mean_zcor_img,\n\u001b[1;32m      4\u001b[0m                                      \u001b[0mthreshold\u001b[0m\u001b[0;34m=\u001b[0m\u001b[0;36m0.1\u001b[0m\u001b[0;34m,\u001b[0m \u001b[0mvmax\u001b[0m\u001b[0;34m=\u001b[0m\u001b[0;36m1\u001b[0m\u001b[0;34m,\u001b[0m\u001b[0;34m\u001b[0m\u001b[0;34m\u001b[0m\u001b[0m\n\u001b[1;32m      5\u001b[0m \u001b[0;34m\u001b[0m\u001b[0m\n",
      "\u001b[0;32m~/miniconda3/envs/neuroAnalysis/lib/python3.7/site-packages/nilearn/input_data/base_masker.py\u001b[0m in \u001b[0;36minverse_transform\u001b[0;34m(self, X)\u001b[0m\n\u001b[1;32m    222\u001b[0m         \"\"\"\n\u001b[1;32m    223\u001b[0m         \u001b[0mself\u001b[0m\u001b[0;34m.\u001b[0m\u001b[0m_check_fitted\u001b[0m\u001b[0;34m(\u001b[0m\u001b[0;34m)\u001b[0m\u001b[0;34m\u001b[0m\u001b[0;34m\u001b[0m\u001b[0m\n\u001b[0;32m--> 224\u001b[0;31m         \u001b[0mimg\u001b[0m \u001b[0;34m=\u001b[0m \u001b[0mself\u001b[0m\u001b[0;34m.\u001b[0m\u001b[0m_cache\u001b[0m\u001b[0;34m(\u001b[0m\u001b[0mmasking\u001b[0m\u001b[0;34m.\u001b[0m\u001b[0munmask\u001b[0m\u001b[0;34m)\u001b[0m\u001b[0;34m(\u001b[0m\u001b[0mX\u001b[0m\u001b[0;34m,\u001b[0m \u001b[0mself\u001b[0m\u001b[0;34m.\u001b[0m\u001b[0mmask_img_\u001b[0m\u001b[0;34m)\u001b[0m\u001b[0;34m\u001b[0m\u001b[0;34m\u001b[0m\u001b[0m\n\u001b[0m\u001b[1;32m    225\u001b[0m         \u001b[0;31m# Be robust again memmapping that will create read-only arrays in\u001b[0m\u001b[0;34m\u001b[0m\u001b[0;34m\u001b[0m\u001b[0;34m\u001b[0m\u001b[0m\n\u001b[1;32m    226\u001b[0m         \u001b[0;31m# internal structures of the header: remove the memmaped array\u001b[0m\u001b[0;34m\u001b[0m\u001b[0;34m\u001b[0m\u001b[0;34m\u001b[0m\u001b[0m\n",
      "\u001b[0;32m~/miniconda3/envs/neuroAnalysis/lib/python3.7/site-packages/joblib/memory.py\u001b[0m in \u001b[0;36m__call__\u001b[0;34m(self, *args, **kwargs)\u001b[0m\n\u001b[1;32m    560\u001b[0m \u001b[0;34m\u001b[0m\u001b[0m\n\u001b[1;32m    561\u001b[0m     \u001b[0;32mdef\u001b[0m \u001b[0m__call__\u001b[0m\u001b[0;34m(\u001b[0m\u001b[0mself\u001b[0m\u001b[0;34m,\u001b[0m \u001b[0;34m*\u001b[0m\u001b[0margs\u001b[0m\u001b[0;34m,\u001b[0m \u001b[0;34m**\u001b[0m\u001b[0mkwargs\u001b[0m\u001b[0;34m)\u001b[0m\u001b[0;34m:\u001b[0m\u001b[0;34m\u001b[0m\u001b[0;34m\u001b[0m\u001b[0m\n\u001b[0;32m--> 562\u001b[0;31m         \u001b[0;32mreturn\u001b[0m \u001b[0mself\u001b[0m\u001b[0;34m.\u001b[0m\u001b[0m_cached_call\u001b[0m\u001b[0;34m(\u001b[0m\u001b[0margs\u001b[0m\u001b[0;34m,\u001b[0m \u001b[0mkwargs\u001b[0m\u001b[0;34m)\u001b[0m\u001b[0;34m[\u001b[0m\u001b[0;36m0\u001b[0m\u001b[0;34m]\u001b[0m\u001b[0;34m\u001b[0m\u001b[0;34m\u001b[0m\u001b[0m\n\u001b[0m\u001b[1;32m    563\u001b[0m \u001b[0;34m\u001b[0m\u001b[0m\n\u001b[1;32m    564\u001b[0m     \u001b[0;32mdef\u001b[0m \u001b[0m__reduce__\u001b[0m\u001b[0;34m(\u001b[0m\u001b[0mself\u001b[0m\u001b[0;34m)\u001b[0m\u001b[0;34m:\u001b[0m\u001b[0;34m\u001b[0m\u001b[0;34m\u001b[0m\u001b[0m\n",
      "\u001b[0;32m~/miniconda3/envs/neuroAnalysis/lib/python3.7/site-packages/joblib/memory.py\u001b[0m in \u001b[0;36m_cached_call\u001b[0;34m(self, args, kwargs)\u001b[0m\n\u001b[1;32m    508\u001b[0m                           \u001b[0;34m'directory %s'\u001b[0m\u001b[0;34m\u001b[0m\u001b[0;34m\u001b[0m\u001b[0m\n\u001b[1;32m    509\u001b[0m                         % (name, argument_hash, output_dir))\n\u001b[0;32m--> 510\u001b[0;31m             \u001b[0mout\u001b[0m\u001b[0;34m,\u001b[0m \u001b[0mmetadata\u001b[0m \u001b[0;34m=\u001b[0m \u001b[0mself\u001b[0m\u001b[0;34m.\u001b[0m\u001b[0mcall\u001b[0m\u001b[0;34m(\u001b[0m\u001b[0;34m*\u001b[0m\u001b[0margs\u001b[0m\u001b[0;34m,\u001b[0m \u001b[0;34m**\u001b[0m\u001b[0mkwargs\u001b[0m\u001b[0;34m)\u001b[0m\u001b[0;34m\u001b[0m\u001b[0;34m\u001b[0m\u001b[0m\n\u001b[0m\u001b[1;32m    511\u001b[0m             \u001b[0;32mif\u001b[0m \u001b[0mself\u001b[0m\u001b[0;34m.\u001b[0m\u001b[0mmmap_mode\u001b[0m \u001b[0;32mis\u001b[0m \u001b[0;32mnot\u001b[0m \u001b[0;32mNone\u001b[0m\u001b[0;34m:\u001b[0m\u001b[0;34m\u001b[0m\u001b[0;34m\u001b[0m\u001b[0m\n\u001b[1;32m    512\u001b[0m                 \u001b[0;31m# Memmap the output at the first call to be consistent with\u001b[0m\u001b[0;34m\u001b[0m\u001b[0;34m\u001b[0m\u001b[0;34m\u001b[0m\u001b[0m\n",
      "\u001b[0;32m~/miniconda3/envs/neuroAnalysis/lib/python3.7/site-packages/joblib/memory.py\u001b[0m in \u001b[0;36mcall\u001b[0;34m(self, *args, **kwargs)\u001b[0m\n\u001b[1;32m    742\u001b[0m         \u001b[0;32mif\u001b[0m \u001b[0mself\u001b[0m\u001b[0;34m.\u001b[0m\u001b[0m_verbose\u001b[0m \u001b[0;34m>\u001b[0m \u001b[0;36m0\u001b[0m\u001b[0;34m:\u001b[0m\u001b[0;34m\u001b[0m\u001b[0;34m\u001b[0m\u001b[0m\n\u001b[1;32m    743\u001b[0m             \u001b[0mprint\u001b[0m\u001b[0;34m(\u001b[0m\u001b[0mformat_call\u001b[0m\u001b[0;34m(\u001b[0m\u001b[0mself\u001b[0m\u001b[0;34m.\u001b[0m\u001b[0mfunc\u001b[0m\u001b[0;34m,\u001b[0m \u001b[0margs\u001b[0m\u001b[0;34m,\u001b[0m \u001b[0mkwargs\u001b[0m\u001b[0;34m)\u001b[0m\u001b[0;34m)\u001b[0m\u001b[0;34m\u001b[0m\u001b[0;34m\u001b[0m\u001b[0m\n\u001b[0;32m--> 744\u001b[0;31m         \u001b[0moutput\u001b[0m \u001b[0;34m=\u001b[0m \u001b[0mself\u001b[0m\u001b[0;34m.\u001b[0m\u001b[0mfunc\u001b[0m\u001b[0;34m(\u001b[0m\u001b[0;34m*\u001b[0m\u001b[0margs\u001b[0m\u001b[0;34m,\u001b[0m \u001b[0;34m**\u001b[0m\u001b[0mkwargs\u001b[0m\u001b[0;34m)\u001b[0m\u001b[0;34m\u001b[0m\u001b[0;34m\u001b[0m\u001b[0m\n\u001b[0m\u001b[1;32m    745\u001b[0m         \u001b[0mself\u001b[0m\u001b[0;34m.\u001b[0m\u001b[0m_persist_output\u001b[0m\u001b[0;34m(\u001b[0m\u001b[0moutput\u001b[0m\u001b[0;34m,\u001b[0m \u001b[0moutput_dir\u001b[0m\u001b[0;34m)\u001b[0m\u001b[0;34m\u001b[0m\u001b[0;34m\u001b[0m\u001b[0m\n\u001b[1;32m    746\u001b[0m         \u001b[0mduration\u001b[0m \u001b[0;34m=\u001b[0m \u001b[0mtime\u001b[0m\u001b[0;34m.\u001b[0m\u001b[0mtime\u001b[0m\u001b[0;34m(\u001b[0m\u001b[0;34m)\u001b[0m \u001b[0;34m-\u001b[0m \u001b[0mstart_time\u001b[0m\u001b[0;34m\u001b[0m\u001b[0;34m\u001b[0m\u001b[0m\n",
      "\u001b[0;32m~/miniconda3/envs/neuroAnalysis/lib/python3.7/site-packages/nilearn/masking.py\u001b[0m in \u001b[0;36munmask\u001b[0;34m(X, mask_img, order)\u001b[0m\n\u001b[1;32m    858\u001b[0m         \u001b[0munmasked\u001b[0m \u001b[0;34m=\u001b[0m \u001b[0m_unmask_4d\u001b[0m\u001b[0;34m(\u001b[0m\u001b[0mX\u001b[0m\u001b[0;34m,\u001b[0m \u001b[0mmask\u001b[0m\u001b[0;34m,\u001b[0m \u001b[0morder\u001b[0m\u001b[0;34m=\u001b[0m\u001b[0morder\u001b[0m\u001b[0;34m)\u001b[0m\u001b[0;34m\u001b[0m\u001b[0;34m\u001b[0m\u001b[0m\n\u001b[1;32m    859\u001b[0m     \u001b[0;32melif\u001b[0m \u001b[0mnp\u001b[0m\u001b[0;34m.\u001b[0m\u001b[0mndim\u001b[0m\u001b[0;34m(\u001b[0m\u001b[0mX\u001b[0m\u001b[0;34m)\u001b[0m \u001b[0;34m==\u001b[0m \u001b[0;36m1\u001b[0m\u001b[0;34m:\u001b[0m\u001b[0;34m\u001b[0m\u001b[0;34m\u001b[0m\u001b[0m\n\u001b[0;32m--> 860\u001b[0;31m         \u001b[0munmasked\u001b[0m \u001b[0;34m=\u001b[0m \u001b[0m_unmask_3d\u001b[0m\u001b[0;34m(\u001b[0m\u001b[0mX\u001b[0m\u001b[0;34m,\u001b[0m \u001b[0mmask\u001b[0m\u001b[0;34m,\u001b[0m \u001b[0morder\u001b[0m\u001b[0;34m=\u001b[0m\u001b[0morder\u001b[0m\u001b[0;34m)\u001b[0m\u001b[0;34m\u001b[0m\u001b[0;34m\u001b[0m\u001b[0m\n\u001b[0m\u001b[1;32m    861\u001b[0m     \u001b[0;32melse\u001b[0m\u001b[0;34m:\u001b[0m\u001b[0;34m\u001b[0m\u001b[0;34m\u001b[0m\u001b[0m\n\u001b[1;32m    862\u001b[0m         raise TypeError(\"Masked data X must be 2D or 1D array; \"\n",
      "\u001b[0;32m~/miniconda3/envs/neuroAnalysis/lib/python3.7/site-packages/nilearn/masking.py\u001b[0m in \u001b[0;36m_unmask_3d\u001b[0;34m(X, mask, order)\u001b[0m\n\u001b[1;32m    776\u001b[0m     \u001b[0mn_features\u001b[0m \u001b[0;34m=\u001b[0m \u001b[0mmask\u001b[0m\u001b[0;34m.\u001b[0m\u001b[0msum\u001b[0m\u001b[0;34m(\u001b[0m\u001b[0;34m)\u001b[0m\u001b[0;34m\u001b[0m\u001b[0;34m\u001b[0m\u001b[0m\n\u001b[1;32m    777\u001b[0m     \u001b[0;32mif\u001b[0m \u001b[0mX\u001b[0m\u001b[0;34m.\u001b[0m\u001b[0mshape\u001b[0m\u001b[0;34m[\u001b[0m\u001b[0;36m0\u001b[0m\u001b[0;34m]\u001b[0m \u001b[0;34m!=\u001b[0m \u001b[0mn_features\u001b[0m\u001b[0;34m:\u001b[0m\u001b[0;34m\u001b[0m\u001b[0;34m\u001b[0m\u001b[0m\n\u001b[0;32m--> 778\u001b[0;31m         \u001b[0;32mraise\u001b[0m \u001b[0mTypeError\u001b[0m\u001b[0;34m(\u001b[0m\u001b[0;34m'X must be of shape (samples, %d).'\u001b[0m \u001b[0;34m%\u001b[0m \u001b[0mn_features\u001b[0m\u001b[0;34m)\u001b[0m\u001b[0;34m\u001b[0m\u001b[0;34m\u001b[0m\u001b[0m\n\u001b[0m\u001b[1;32m    779\u001b[0m \u001b[0;34m\u001b[0m\u001b[0m\n\u001b[1;32m    780\u001b[0m     data = np.zeros(\n",
      "\u001b[0;31mTypeError\u001b[0m: X must be of shape (samples, 268275)."
     ]
    }
   ],
   "source": [
    "mean_zcor_img = brain_masker.inverse_transform(mean_zcor.T)\n",
    "from nilearn import plotting\n",
    "display = plotting.plot_stat_map(mean_zcor_img,\n",
    "                                     threshold=0.1, vmax=1,\n",
    "                                     \n",
    "                                     title=\"Seed-to-voxel correlation (Right Hippo)\", display_mode = 'z',\n",
    "                                     )\n",
    "display.add_markers(marker_coords=hippocampus_coors, marker_color='g',\n",
    "                    marker_size=200)"
   ]
  },
  {
   "cell_type": "code",
   "execution_count": null,
   "metadata": {},
   "outputs": [],
   "source": [
    "# left Amygdala\n",
    "# first load all seed based files\n",
    "files_ses1 = glob.glob('/home/or/kpe_conn/trauma_seed_amg_left_sub-*_ses-1_z.nii.gz')\n",
    "files_ses2 = glob.glob('/home/or/kpe_conn/trauma_seed_amg_left _sub-*_ses-2_z.nii.gz')\n",
    "\n",
    "##\n",
    "# reading the files back\n",
    "from nilearn.input_data import NiftiMasker\n",
    "# here I use a masked image so all will have same size\n",
    "nifti_masker = NiftiMasker(\n",
    "    mask_img= '/media/Data/KPE_fmriPrep_preproc/kpeOutput/derivatives/fmriprep/sub-008/ses-2/func/sub-008_ses-2_task-Memory_space-MNI152NLin2009cAsym_desc-brain_mask.nii.gz',\n",
    "    smoothing_fwhm=5,\n",
    "    memory='nilearn_cache', memory_level=1, verbose=2)  # cache options\n",
    "fmri_AmgL_masked_ses1 = nifti_masker.fit_transform(files_ses1)\n",
    "fmri_AmgL_masked_ses2 = nifti_masker.fit_transform(files_ses2)\n",
    "\n",
    "###\n",
    "from nilearn import input_data\n",
    "brainMasker = input_data.NiftiMasker(\n",
    "        smoothing_fwhm=6,\n",
    "        detrend=True, standardize=True,\n",
    "        t_r=1.,\n",
    "        memory='/media/Data/nilearn', memory_level=1, verbose=2)\n",
    "brainMasker.fit(files_ses1)\n",
    "\n",
    "####\n",
    "deltaCor = fmri_AmgL_masked_ses2 - fmri_AmgL_masked_ses1\n",
    "print (f'Shape is: {deltaCor.shape}')\n",
    "\n",
    "# run paired t-test \n",
    "testDelta = scipy.stats.ttest_rel(fmri_AmgL_masked_ses1, fmri_AmgL_masked_ses2) \n",
    "np.sum(testDelta[1]<0.005)\n",
    "\n",
    "###\n",
    "# results before thresholding\n",
    "%matplotlib inline\n",
    "# mean across subjects\n",
    "mean_zcor_Delta = np.mean(deltaCor,0)\n",
    "mean_zcor_Delta.shape\n",
    "\n",
    "# before using that we need to run and fit brain masker at least on one subject\n",
    "amygdala_coords = [(-26, 2, -18)]\n",
    "mean_zcor_img_delta = brain_masker.inverse_transform(mean_zcor_Delta.T)\n",
    "from nilearn import plotting\n",
    "display = plotting.plot_stat_map(mean_zcor_img_delta,\n",
    "                                     threshold=0.1, vmax=1,\n",
    "                                     cut_coords=amygdala_coords[0],\n",
    "                                     title=\"Seed-to-voxel correlation (Left Amg) 2nd-1st session\", display_mode = 'z',\n",
    "                                     )\n",
    "display.add_markers(marker_coords=amygdala_coords, marker_color='g',\n",
    "                    marker_size=200)"
   ]
  },
  {
   "cell_type": "code",
   "execution_count": null,
   "metadata": {},
   "outputs": [],
   "source": [
    "# thresholding - FWE\n",
    "FWE_thr = 0.05/len(mean_zcor_Delta)\n",
    "corr_matDelta_thr = np.array(mean_zcor_Delta)\n",
    "# now I can treshold the mean matrix\n",
    "corr_matDelta_thr[testDelta[1]>FWE_thr] = 0 # everything that has p value larger than treshold becomes zero \n",
    "numNonZeroDelta = np.count_nonzero(corr_matDelta_thr)\n",
    "print (f'Number of voxels crossed the FWE thr is {numNonZeroDelta}')\n",
    "# transofrm it back to nifti\n",
    "thr_nifti_delta = brain_masker.inverse_transform(corr_matDelta_thr.T)\n",
    "%matplotlib inline\n",
    "display = plotting.plot_stat_map(thr_nifti_delta,\n",
    "                                     vmax=1,\n",
    "                                     threshold = 0.1,\n",
    "                                     title=\"Seed-to-voxel correlation 2nd - 1st (Right Amg)\", display_mode = 'z',\n",
    "                                     )\n",
    "display.add_markers(marker_coords=amygdala_coords, marker_color='g',\n",
    "                    marker_size=200)"
   ]
  },
  {
   "cell_type": "code",
   "execution_count": null,
   "metadata": {},
   "outputs": [],
   "source": [
    "# Thresholding FDR\n",
    "# now lets try FDR\n",
    "from statsmodels.stats import multitest\n",
    "# we need to reshape the test p-values array to create 1D array\n",
    "#b = np.reshape(np.array(testDelta[1]), -1)\n",
    "fdr_mat = multitest.multipletests(testDelta[1], alpha=1, method='fdr_bh', is_sorted=False, returnsorted=False)\n",
    "#fdr_mat = multitest.fdrcorrection(testDelta[1], alpha=0.7, method='indep', is_sorted=False)\n",
    "np.sum(fdr_mat[1]<0.05)"
   ]
  },
  {
   "cell_type": "markdown",
   "metadata": {},
   "source": [
    "Looking at the difference bwteen amg and hippocampus seed-voxel correlation - we get very little (if any) change. When we do not threshold it seems like there is lower connectivity, but very weak. "
   ]
  },
  {
   "cell_type": "code",
   "execution_count": 4,
   "metadata": {},
   "outputs": [],
   "source": [
    "# lets see the difference between groups\n",
    "import pandas as pd\n",
    "allDat = pd.read_excel('/home/or/Documents/kpe_analyses/KPEIHR0009_data_all_scored.xlsx')\n",
    "medDat = allDat[['scr_id','med_cond']]\n",
    "medDat.at[17, 'med_cond'] = 1 # change subject 1464 medication to 1\n",
    "medDat = medDat.append({'scr_id' : 'KPE1468' , 'med_cond' : 0}, ignore_index=True)\n",
    "medDat = medDat.append({'scr_id' : 'KPE1480' , 'med_cond' : 0}, ignore_index=True)\n",
    "medDat = medDat.append({'scr_id' : 'KPE1499' , 'med_cond' : 1}, ignore_index=True)\n",
    "#medDat"
   ]
  },
  {
   "cell_type": "code",
   "execution_count": null,
   "metadata": {},
   "outputs": [],
   "source": []
  },
  {
   "cell_type": "code",
   "execution_count": 5,
   "metadata": {},
   "outputs": [],
   "source": [
    "groupList = np.array(medDat['med_cond'])\n",
    "groupList.shape\n",
    "subjectList = medDat['scr_id']\n",
    "ketList = []\n",
    "midList = []\n",
    "for i in medDat.iterrows():\n",
    "    sub = i[1].scr_id.split('KPE')[1]\n",
    "    if i[1].med_cond ==1:\n",
    "        ketList.append(sub)\n",
    "    elif i[1].med_cond==0:\n",
    "        midList.append(sub)\n",
    "    else:\n",
    "        print('No medication condition')\n",
    "\n",
    "\n",
    "       "
   ]
  },
  {
   "cell_type": "code",
   "execution_count": 6,
   "metadata": {},
   "outputs": [
    {
     "name": "stdout",
     "output_type": "stream",
     "text": [
      "Number of Ketamine patients is: 11\n",
      "Number of Midazolam patients is: 10\n"
     ]
    }
   ],
   "source": [
    "print (f'Number of Ketamine patients is: {len(ketList)}')\n",
    "print (f'Number of Midazolam patients is: {len(midList)}')"
   ]
  },
  {
   "cell_type": "code",
   "execution_count": 28,
   "metadata": {},
   "outputs": [
    {
     "data": {
      "text/plain": [
       "['/home/or/kpe_conn/trauma_seed_amg_right_sub-1253_ses-2_z.nii.gz',\n",
       " '/home/or/kpe_conn/trauma_seed_amg_right_sub-1263_ses-2_z.nii.gz',\n",
       " '/home/or/kpe_conn/trauma_seed_amg_right_sub-1351_ses-2_z.nii.gz',\n",
       " '/home/or/kpe_conn/trauma_seed_amg_right_sub-1356_ses-2_z.nii.gz',\n",
       " '/home/or/kpe_conn/trauma_seed_amg_right_sub-1364_ses-2_z.nii.gz',\n",
       " '/home/or/kpe_conn/trauma_seed_amg_right_sub-1369_ses-2_z.nii.gz',\n",
       " '/home/or/kpe_conn/trauma_seed_amg_right_sub-1390_ses-2_z.nii.gz',\n",
       " '/home/or/kpe_conn/trauma_seed_amg_right_sub-1403_ses-2_z.nii.gz',\n",
       " '/home/or/kpe_conn/trauma_seed_amg_right_sub-1468_ses-2_z.nii.gz',\n",
       " '/home/or/kpe_conn/trauma_seed_amg_right_sub-1480_ses-2_z.nii.gz']"
      ]
     },
     "execution_count": 28,
     "metadata": {},
     "output_type": "execute_result"
    }
   ],
   "source": [
    "ket_func_ses1 = ['/home/or/kpe_conn/trauma_seed_amg_right_sub-%s_ses-1_z.nii.gz' % (sub) for sub in ketList]\n",
    "ket_func_ses2 = ['/home/or/kpe_conn/trauma_seed_amg_right_sub-%s_ses-2_z.nii.gz' % (sub) for sub in ketList]\n",
    "mid_func_ses1 = ['/home/or/kpe_conn/trauma_seed_amg_right_sub-%s_ses-1_z.nii.gz' % (sub) for sub in midList]\n",
    "mid_func_ses2 = ['/home/or/kpe_conn/trauma_seed_amg_right_sub-%s_ses-2_z.nii.gz' % (sub) for sub in midList]\n",
    "mid_func_ses2"
   ]
  },
  {
   "cell_type": "code",
   "execution_count": 31,
   "metadata": {},
   "outputs": [
    {
     "name": "stdout",
     "output_type": "stream",
     "text": [
      "[NiftiMasker.fit] Loading data from None\n",
      "[NiftiMasker.fit] Resampling mask\n",
      "[Memory]    0.0s, 0.0min: Loading resample_img...\n",
      "[Memory]    0.0s, 0.0min: Loading filter_and_mask...\n",
      "[NiftiMasker.fit] Loading data from None\n",
      "[NiftiMasker.fit] Resampling mask\n",
      "[Memory]    0.1s, 0.0min: Loading resample_img...\n",
      "[Memory]    0.1s, 0.0min: Loading filter_and_mask...\n",
      "[NiftiMasker.fit] Loading data from [/home/or/kpe_conn/trauma_seed_amg_right_sub-008_ses-1_z.nii.gz, /home/or/kpe_conn/trauma_seed_amg_right_sub-1223_ses-1_z.nii.gz, /home/or/kpe_conn/trauma_seed_amg_right_sub-1293_ses-1_z.nii.gz, /home\n",
      "[NiftiMasker.fit] Computing the mask\n",
      "[Memory]    0.0s, 0.0min: Loading compute_background_mask...\n",
      "[NiftiMasker.fit] Resampling mask\n",
      "[Memory]    0.0s, 0.0min: Loading resample_img...\n",
      "Shape is: (11, 265033)\n",
      "________________________________________________________________________________\n",
      "[Memory] Calling nilearn.masking.unmask...\n",
      "unmask(array([0.035829, ..., 0.001451]), <nibabel.nifti1.Nifti1Image object at 0x7fcfd7225d10>)\n"
     ]
    },
    {
     "ename": "TypeError",
     "evalue": "X must be of shape (samples, 263864).",
     "output_type": "error",
     "traceback": [
      "\u001b[0;31m---------------------------------------------------------------------------\u001b[0m",
      "\u001b[0;31mTypeError\u001b[0m                                 Traceback (most recent call last)",
      "\u001b[0;32m<ipython-input-31-d698cf3e0e32>\u001b[0m in \u001b[0;36m<module>\u001b[0;34m\u001b[0m\n\u001b[1;32m     34\u001b[0m \u001b[0;31m# before using that we need to run and fit brain masker at least on one subject\u001b[0m\u001b[0;34m\u001b[0m\u001b[0;34m\u001b[0m\u001b[0;34m\u001b[0m\u001b[0m\n\u001b[1;32m     35\u001b[0m \u001b[0mamygdala_coords\u001b[0m \u001b[0;34m=\u001b[0m \u001b[0;34m[\u001b[0m\u001b[0;34m(\u001b[0m\u001b[0;34m-\u001b[0m\u001b[0;36m26\u001b[0m\u001b[0;34m,\u001b[0m \u001b[0;36m2\u001b[0m\u001b[0;34m,\u001b[0m \u001b[0;34m-\u001b[0m\u001b[0;36m18\u001b[0m\u001b[0;34m)\u001b[0m\u001b[0;34m]\u001b[0m\u001b[0;34m\u001b[0m\u001b[0;34m\u001b[0m\u001b[0m\n\u001b[0;32m---> 36\u001b[0;31m \u001b[0mmean_zcor_img_delta\u001b[0m \u001b[0;34m=\u001b[0m \u001b[0mbrainMasker\u001b[0m\u001b[0;34m.\u001b[0m\u001b[0minverse_transform\u001b[0m\u001b[0;34m(\u001b[0m\u001b[0mmean_zcor_Delta\u001b[0m\u001b[0;34m.\u001b[0m\u001b[0mT\u001b[0m\u001b[0;34m)\u001b[0m\u001b[0;34m\u001b[0m\u001b[0;34m\u001b[0m\u001b[0m\n\u001b[0m\u001b[1;32m     37\u001b[0m \u001b[0;32mfrom\u001b[0m \u001b[0mnilearn\u001b[0m \u001b[0;32mimport\u001b[0m \u001b[0mplotting\u001b[0m\u001b[0;34m\u001b[0m\u001b[0;34m\u001b[0m\u001b[0m\n\u001b[1;32m     38\u001b[0m display = plotting.plot_stat_map(mean_zcor_img_delta,\n",
      "\u001b[0;32m~/miniconda3/envs/neuroAnalysis/lib/python3.7/site-packages/nilearn/input_data/base_masker.py\u001b[0m in \u001b[0;36minverse_transform\u001b[0;34m(self, X)\u001b[0m\n\u001b[1;32m    222\u001b[0m         \"\"\"\n\u001b[1;32m    223\u001b[0m         \u001b[0mself\u001b[0m\u001b[0;34m.\u001b[0m\u001b[0m_check_fitted\u001b[0m\u001b[0;34m(\u001b[0m\u001b[0;34m)\u001b[0m\u001b[0;34m\u001b[0m\u001b[0;34m\u001b[0m\u001b[0m\n\u001b[0;32m--> 224\u001b[0;31m         \u001b[0mimg\u001b[0m \u001b[0;34m=\u001b[0m \u001b[0mself\u001b[0m\u001b[0;34m.\u001b[0m\u001b[0m_cache\u001b[0m\u001b[0;34m(\u001b[0m\u001b[0mmasking\u001b[0m\u001b[0;34m.\u001b[0m\u001b[0munmask\u001b[0m\u001b[0;34m)\u001b[0m\u001b[0;34m(\u001b[0m\u001b[0mX\u001b[0m\u001b[0;34m,\u001b[0m \u001b[0mself\u001b[0m\u001b[0;34m.\u001b[0m\u001b[0mmask_img_\u001b[0m\u001b[0;34m)\u001b[0m\u001b[0;34m\u001b[0m\u001b[0;34m\u001b[0m\u001b[0m\n\u001b[0m\u001b[1;32m    225\u001b[0m         \u001b[0;31m# Be robust again memmapping that will create read-only arrays in\u001b[0m\u001b[0;34m\u001b[0m\u001b[0;34m\u001b[0m\u001b[0;34m\u001b[0m\u001b[0m\n\u001b[1;32m    226\u001b[0m         \u001b[0;31m# internal structures of the header: remove the memmaped array\u001b[0m\u001b[0;34m\u001b[0m\u001b[0;34m\u001b[0m\u001b[0;34m\u001b[0m\u001b[0m\n",
      "\u001b[0;32m~/miniconda3/envs/neuroAnalysis/lib/python3.7/site-packages/joblib/memory.py\u001b[0m in \u001b[0;36m__call__\u001b[0;34m(self, *args, **kwargs)\u001b[0m\n\u001b[1;32m    560\u001b[0m \u001b[0;34m\u001b[0m\u001b[0m\n\u001b[1;32m    561\u001b[0m     \u001b[0;32mdef\u001b[0m \u001b[0m__call__\u001b[0m\u001b[0;34m(\u001b[0m\u001b[0mself\u001b[0m\u001b[0;34m,\u001b[0m \u001b[0;34m*\u001b[0m\u001b[0margs\u001b[0m\u001b[0;34m,\u001b[0m \u001b[0;34m**\u001b[0m\u001b[0mkwargs\u001b[0m\u001b[0;34m)\u001b[0m\u001b[0;34m:\u001b[0m\u001b[0;34m\u001b[0m\u001b[0;34m\u001b[0m\u001b[0m\n\u001b[0;32m--> 562\u001b[0;31m         \u001b[0;32mreturn\u001b[0m \u001b[0mself\u001b[0m\u001b[0;34m.\u001b[0m\u001b[0m_cached_call\u001b[0m\u001b[0;34m(\u001b[0m\u001b[0margs\u001b[0m\u001b[0;34m,\u001b[0m \u001b[0mkwargs\u001b[0m\u001b[0;34m)\u001b[0m\u001b[0;34m[\u001b[0m\u001b[0;36m0\u001b[0m\u001b[0;34m]\u001b[0m\u001b[0;34m\u001b[0m\u001b[0;34m\u001b[0m\u001b[0m\n\u001b[0m\u001b[1;32m    563\u001b[0m \u001b[0;34m\u001b[0m\u001b[0m\n\u001b[1;32m    564\u001b[0m     \u001b[0;32mdef\u001b[0m \u001b[0m__reduce__\u001b[0m\u001b[0;34m(\u001b[0m\u001b[0mself\u001b[0m\u001b[0;34m)\u001b[0m\u001b[0;34m:\u001b[0m\u001b[0;34m\u001b[0m\u001b[0;34m\u001b[0m\u001b[0m\n",
      "\u001b[0;32m~/miniconda3/envs/neuroAnalysis/lib/python3.7/site-packages/joblib/memory.py\u001b[0m in \u001b[0;36m_cached_call\u001b[0;34m(self, args, kwargs)\u001b[0m\n\u001b[1;32m    508\u001b[0m                           \u001b[0;34m'directory %s'\u001b[0m\u001b[0;34m\u001b[0m\u001b[0;34m\u001b[0m\u001b[0m\n\u001b[1;32m    509\u001b[0m                         % (name, argument_hash, output_dir))\n\u001b[0;32m--> 510\u001b[0;31m             \u001b[0mout\u001b[0m\u001b[0;34m,\u001b[0m \u001b[0mmetadata\u001b[0m \u001b[0;34m=\u001b[0m \u001b[0mself\u001b[0m\u001b[0;34m.\u001b[0m\u001b[0mcall\u001b[0m\u001b[0;34m(\u001b[0m\u001b[0;34m*\u001b[0m\u001b[0margs\u001b[0m\u001b[0;34m,\u001b[0m \u001b[0;34m**\u001b[0m\u001b[0mkwargs\u001b[0m\u001b[0;34m)\u001b[0m\u001b[0;34m\u001b[0m\u001b[0;34m\u001b[0m\u001b[0m\n\u001b[0m\u001b[1;32m    511\u001b[0m             \u001b[0;32mif\u001b[0m \u001b[0mself\u001b[0m\u001b[0;34m.\u001b[0m\u001b[0mmmap_mode\u001b[0m \u001b[0;32mis\u001b[0m \u001b[0;32mnot\u001b[0m \u001b[0;32mNone\u001b[0m\u001b[0;34m:\u001b[0m\u001b[0;34m\u001b[0m\u001b[0;34m\u001b[0m\u001b[0m\n\u001b[1;32m    512\u001b[0m                 \u001b[0;31m# Memmap the output at the first call to be consistent with\u001b[0m\u001b[0;34m\u001b[0m\u001b[0;34m\u001b[0m\u001b[0;34m\u001b[0m\u001b[0m\n",
      "\u001b[0;32m~/miniconda3/envs/neuroAnalysis/lib/python3.7/site-packages/joblib/memory.py\u001b[0m in \u001b[0;36mcall\u001b[0;34m(self, *args, **kwargs)\u001b[0m\n\u001b[1;32m    742\u001b[0m         \u001b[0;32mif\u001b[0m \u001b[0mself\u001b[0m\u001b[0;34m.\u001b[0m\u001b[0m_verbose\u001b[0m \u001b[0;34m>\u001b[0m \u001b[0;36m0\u001b[0m\u001b[0;34m:\u001b[0m\u001b[0;34m\u001b[0m\u001b[0;34m\u001b[0m\u001b[0m\n\u001b[1;32m    743\u001b[0m             \u001b[0mprint\u001b[0m\u001b[0;34m(\u001b[0m\u001b[0mformat_call\u001b[0m\u001b[0;34m(\u001b[0m\u001b[0mself\u001b[0m\u001b[0;34m.\u001b[0m\u001b[0mfunc\u001b[0m\u001b[0;34m,\u001b[0m \u001b[0margs\u001b[0m\u001b[0;34m,\u001b[0m \u001b[0mkwargs\u001b[0m\u001b[0;34m)\u001b[0m\u001b[0;34m)\u001b[0m\u001b[0;34m\u001b[0m\u001b[0;34m\u001b[0m\u001b[0m\n\u001b[0;32m--> 744\u001b[0;31m         \u001b[0moutput\u001b[0m \u001b[0;34m=\u001b[0m \u001b[0mself\u001b[0m\u001b[0;34m.\u001b[0m\u001b[0mfunc\u001b[0m\u001b[0;34m(\u001b[0m\u001b[0;34m*\u001b[0m\u001b[0margs\u001b[0m\u001b[0;34m,\u001b[0m \u001b[0;34m**\u001b[0m\u001b[0mkwargs\u001b[0m\u001b[0;34m)\u001b[0m\u001b[0;34m\u001b[0m\u001b[0;34m\u001b[0m\u001b[0m\n\u001b[0m\u001b[1;32m    745\u001b[0m         \u001b[0mself\u001b[0m\u001b[0;34m.\u001b[0m\u001b[0m_persist_output\u001b[0m\u001b[0;34m(\u001b[0m\u001b[0moutput\u001b[0m\u001b[0;34m,\u001b[0m \u001b[0moutput_dir\u001b[0m\u001b[0;34m)\u001b[0m\u001b[0;34m\u001b[0m\u001b[0;34m\u001b[0m\u001b[0m\n\u001b[1;32m    746\u001b[0m         \u001b[0mduration\u001b[0m \u001b[0;34m=\u001b[0m \u001b[0mtime\u001b[0m\u001b[0;34m.\u001b[0m\u001b[0mtime\u001b[0m\u001b[0;34m(\u001b[0m\u001b[0;34m)\u001b[0m \u001b[0;34m-\u001b[0m \u001b[0mstart_time\u001b[0m\u001b[0;34m\u001b[0m\u001b[0;34m\u001b[0m\u001b[0m\n",
      "\u001b[0;32m~/miniconda3/envs/neuroAnalysis/lib/python3.7/site-packages/nilearn/masking.py\u001b[0m in \u001b[0;36munmask\u001b[0;34m(X, mask_img, order)\u001b[0m\n\u001b[1;32m    858\u001b[0m         \u001b[0munmasked\u001b[0m \u001b[0;34m=\u001b[0m \u001b[0m_unmask_4d\u001b[0m\u001b[0;34m(\u001b[0m\u001b[0mX\u001b[0m\u001b[0;34m,\u001b[0m \u001b[0mmask\u001b[0m\u001b[0;34m,\u001b[0m \u001b[0morder\u001b[0m\u001b[0;34m=\u001b[0m\u001b[0morder\u001b[0m\u001b[0;34m)\u001b[0m\u001b[0;34m\u001b[0m\u001b[0;34m\u001b[0m\u001b[0m\n\u001b[1;32m    859\u001b[0m     \u001b[0;32melif\u001b[0m \u001b[0mnp\u001b[0m\u001b[0;34m.\u001b[0m\u001b[0mndim\u001b[0m\u001b[0;34m(\u001b[0m\u001b[0mX\u001b[0m\u001b[0;34m)\u001b[0m \u001b[0;34m==\u001b[0m \u001b[0;36m1\u001b[0m\u001b[0;34m:\u001b[0m\u001b[0;34m\u001b[0m\u001b[0;34m\u001b[0m\u001b[0m\n\u001b[0;32m--> 860\u001b[0;31m         \u001b[0munmasked\u001b[0m \u001b[0;34m=\u001b[0m \u001b[0m_unmask_3d\u001b[0m\u001b[0;34m(\u001b[0m\u001b[0mX\u001b[0m\u001b[0;34m,\u001b[0m \u001b[0mmask\u001b[0m\u001b[0;34m,\u001b[0m \u001b[0morder\u001b[0m\u001b[0;34m=\u001b[0m\u001b[0morder\u001b[0m\u001b[0;34m)\u001b[0m\u001b[0;34m\u001b[0m\u001b[0;34m\u001b[0m\u001b[0m\n\u001b[0m\u001b[1;32m    861\u001b[0m     \u001b[0;32melse\u001b[0m\u001b[0;34m:\u001b[0m\u001b[0;34m\u001b[0m\u001b[0;34m\u001b[0m\u001b[0m\n\u001b[1;32m    862\u001b[0m         raise TypeError(\"Masked data X must be 2D or 1D array; \"\n",
      "\u001b[0;32m~/miniconda3/envs/neuroAnalysis/lib/python3.7/site-packages/nilearn/masking.py\u001b[0m in \u001b[0;36m_unmask_3d\u001b[0;34m(X, mask, order)\u001b[0m\n\u001b[1;32m    776\u001b[0m     \u001b[0mn_features\u001b[0m \u001b[0;34m=\u001b[0m \u001b[0mmask\u001b[0m\u001b[0;34m.\u001b[0m\u001b[0msum\u001b[0m\u001b[0;34m(\u001b[0m\u001b[0;34m)\u001b[0m\u001b[0;34m\u001b[0m\u001b[0;34m\u001b[0m\u001b[0m\n\u001b[1;32m    777\u001b[0m     \u001b[0;32mif\u001b[0m \u001b[0mX\u001b[0m\u001b[0;34m.\u001b[0m\u001b[0mshape\u001b[0m\u001b[0;34m[\u001b[0m\u001b[0;36m0\u001b[0m\u001b[0;34m]\u001b[0m \u001b[0;34m!=\u001b[0m \u001b[0mn_features\u001b[0m\u001b[0;34m:\u001b[0m\u001b[0;34m\u001b[0m\u001b[0;34m\u001b[0m\u001b[0m\n\u001b[0;32m--> 778\u001b[0;31m         \u001b[0;32mraise\u001b[0m \u001b[0mTypeError\u001b[0m\u001b[0;34m(\u001b[0m\u001b[0;34m'X must be of shape (samples, %d).'\u001b[0m \u001b[0;34m%\u001b[0m \u001b[0mn_features\u001b[0m\u001b[0;34m)\u001b[0m\u001b[0;34m\u001b[0m\u001b[0;34m\u001b[0m\u001b[0m\n\u001b[0m\u001b[1;32m    779\u001b[0m \u001b[0;34m\u001b[0m\u001b[0m\n\u001b[1;32m    780\u001b[0m     data = np.zeros(\n",
      "\u001b[0;31mTypeError\u001b[0m: X must be of shape (samples, 263864)."
     ]
    }
   ],
   "source": [
    "from nilearn.input_data import NiftiMasker\n",
    "# here I use a masked image so all will have same size\n",
    "nifti_masker = NiftiMasker(\n",
    "    mask_img= '/media/Data/KPE_BIDS/derivatives/fmriprep/sub-008/ses-2/func/sub-008_ses-2_task-Memory_space-MNI152NLin2009cAsym_desc-brain_mask.nii.gz',\n",
    "    smoothing_fwhm=5,\n",
    "    memory='nilearn_cache', memory_level=1, verbose=2)  # cache options\n",
    "fmri_AmgL_masked_ses1 = nifti_masker.fit_transform(ket_func_ses1)\n",
    "fmri_AmgL_masked_ses2 = nifti_masker.fit_transform(ket_func_ses2)\n",
    "\n",
    "###\n",
    "from nilearn import input_data\n",
    "brainMasker = input_data.NiftiMasker(\n",
    "        smoothing_fwhm=6,\n",
    "        detrend=True, standardize=True,\n",
    "        t_r=1.,\n",
    "        memory='/media/Data/nilearn', memory_level=1, verbose=2)\n",
    "#brainMasker.fit(ket_func_ses1)\n",
    "brainMasker.fit(ket_func_ses1)\n",
    "####\n",
    "deltaCor = fmri_AmgL_masked_ses2 - fmri_AmgL_masked_ses1\n",
    "print (f'Shape is: {deltaCor.shape}')\n",
    "\n",
    "# run paired t-test \n",
    "testDelta = scipy.stats.ttest_rel(fmri_AmgL_masked_ses1, fmri_AmgL_masked_ses2) \n",
    "np.sum(testDelta[1]<0.005)\n",
    "\n",
    "###\n",
    "# results before thresholding\n",
    "%matplotlib inline\n",
    "# mean across subjects\n",
    "mean_zcor_Delta = np.mean(deltaCor,0)\n",
    "mean_zcor_Delta.shape\n",
    "\n",
    "# before using that we need to run and fit brain masker at least on one subject\n",
    "amygdala_coords = [(-26, 2, -18)]\n",
    "mean_zcor_img_delta = brainMasker.inverse_transform(mean_zcor_Delta.T)\n",
    "from nilearn import plotting\n",
    "display = plotting.plot_stat_map(mean_zcor_img_delta,\n",
    "                                     threshold=0.1, vmax=1,\n",
    "                                     cut_coords=amygdala_coords[0],\n",
    "                                     title=\"Seed-to-voxel correlation (Left Amg) 2nd-1st session\", display_mode = 'z',\n",
    "                                     )\n",
    "display.add_markers(marker_coords=amygdala_coords, marker_color='g',\n",
    "                    marker_size=200)"
   ]
  },
  {
   "cell_type": "code",
   "execution_count": null,
   "metadata": {},
   "outputs": [],
   "source": [
    "# thresholding - FWE\n",
    "FWE_thr = 0.05/len(mean_zcor_Delta)\n",
    "corr_matDelta_thr = np.array(mean_zcor_Delta)\n",
    "# now I can treshold the mean matrix\n",
    "corr_matDelta_thr[testDelta[1]>FWE_thr] = 0 # everything that has p value larger than treshold becomes zero \n",
    "numNonZeroDelta = np.count_nonzero(corr_matDelta_thr)\n",
    "print (f'Number of voxels crossed the FWE thr is {numNonZeroDelta}')\n",
    "# transofrm it back to nifti\n",
    "thr_nifti_delta = brain_masker.inverse_transform(corr_matDelta_thr.T)\n",
    "%matplotlib inline\n",
    "display = plotting.plot_stat_map(thr_nifti_delta,\n",
    "                                     vmax=1,\n",
    "                                     threshold = 0.1,\n",
    "                                     cut_coords=amygdala_coords[0],\n",
    "                                     title=\"Seed-to-voxel correlation 2nd - 1st (Right Amg)\", display_mode = 'z',\n",
    "                                     )\n",
    "display.add_markers(marker_coords=amygdala_coords, marker_color='g',\n",
    "                    marker_size=200)"
   ]
  },
  {
   "cell_type": "code",
   "execution_count": null,
   "metadata": {},
   "outputs": [],
   "source": [
    "# Thresholding FDR\n",
    "# now lets try FDR\n",
    "from statsmodels.stats import multitest\n",
    "# we need to reshape the test p-values array to create 1D array\n",
    "#b = np.reshape(np.array(testDelta[1]), -1)\n",
    "fdr_mat = multitest.multipletests(testDelta[1], alpha=0.05, method='fdr_bh', is_sorted=False, returnsorted=False)\n",
    "#fdr_mat = multitest.fdrcorrection(testDelta[1], alpha=0.7, method='indep', is_sorted=False)\n",
    "np.sum(fdr_mat[1]<0.05)\n"
   ]
  },
  {
   "cell_type": "code",
   "execution_count": null,
   "metadata": {},
   "outputs": [],
   "source": [
    "fdr_mat"
   ]
  },
  {
   "cell_type": "code",
   "execution_count": null,
   "metadata": {},
   "outputs": [],
   "source": [
    "corr_mat_thrFDR = np.array(mean_zcor_Delta)\n",
    "corr_mat_thrFDR = np.reshape(corr_mat_thrFDR, -1)\n",
    "corr_mat_thrFDR[fdr_mat[0]==False] = 0\n",
    "nifti_fdr_thr = brain_masker.inverse_transform(corr_mat_thrFDR.T)\n",
    "# now I can treshold the mean matrix\n",
    "numNonZeroDelta = np.count_nonzero(corr_mat_thrFDR)\n",
    "print (f'Number of voxels crossed the FDR thr is {numNonZeroDelta}')\n",
    "# transofrm it back to nifti\n",
    "fdr_nifti_delta = brain_masker.inverse_transform(corr_matDelta_thr.T)\n",
    "%matplotlib inline\n",
    "display = plotting.plot_stat_map(nifti_fdr_thr,\n",
    "                                     vmax=1,\n",
    "                                     threshold = 0.1,\n",
    "                                     cut_coords=amygdala_coords[0],\n",
    "                                     #title=\"Seed-to-voxel correlation 2nd - 1st (Right Amg)\", display_mode = 'y',\n",
    "                                     )\n",
    "display.add_markers(marker_coords=amygdala_coords, marker_color='g',\n",
    "                    marker_size=200)"
   ]
  },
  {
   "cell_type": "code",
   "execution_count": null,
   "metadata": {},
   "outputs": [],
   "source": [
    "# surface plotting\n",
    "from nilearn import plotting, datasets    \n",
    "from nilearn.plotting.cm import _cmap_d as nilearn_cmaps\n",
    "\n",
    "\n",
    "view = plotting.view_img_on_surf(nifti_fdr_thr,surf_mesh='fsaverage5',threshold=0.1)   \n",
    "\n",
    "view"
   ]
  },
  {
   "cell_type": "code",
   "execution_count": 27,
   "metadata": {},
   "outputs": [
    {
     "name": "stdout",
     "output_type": "stream",
     "text": [
      "[NiftiMasker.fit] Loading data from None\n",
      "[NiftiMasker.fit] Resampling mask\n",
      "________________________________________________________________________________\n",
      "[Memory] Calling nilearn.image.resampling.resample_img...\n",
      "resample_img(<nibabel.nifti1.Nifti1Image object at 0x7fcfd4276e90>, target_affine=None, target_shape=None, copy=False, interpolation='nearest')\n",
      "_____________________________________________________resample_img - 0.0s, 0.0min\n",
      "________________________________________________________________________________\n",
      "[Memory] Calling nilearn.input_data.nifti_masker.filter_and_mask...\n",
      "filter_and_mask([ '/home/or/kpe_conn/trauma_seed_hippocampus_right_sub-1253_ses-1_z.nii.gz',\n",
      "  '/home/or/kpe_conn/trauma_seed_hippocampus_right_sub-1263_ses-1_z.nii.gz',\n",
      "  '/home/or/kpe_conn/trauma_seed_hippocampus_right_sub-1351_ses-1_z.nii.gz',\n",
      "  '/home/or/kpe_conn/trauma_seed_hippocampus_right_sub-1356_ses-1_z.nii.gz',\n",
      "  '/home/or/kpe_conn/trauma_seed_hippocampus_right_sub-1364_ses-1_z.nii.gz',\n",
      "  '/home/or/kpe_conn/trauma_seed_hippocampus_right_sub-1369_ses-1_z.nii.gz',\n",
      "  '/home/or/kpe_conn/trauma_seed_hippocampus_right_sub-1390_ses-1_z.nii.gz',\n",
      "  '/home/or/kpe_conn/trauma_seed_hippocampus_right_sub-1403_ses-1_z.nii.gz',\n",
      "  '/home/or/kpe_conn/trauma_seed_hippocampus_right_sub-1468_ses-1_z.nii.gz',\n",
      "  '/home/or/kpe_conn/trauma_seed_hippocampus_right_sub-1480_ses-1_z.nii.gz'], \n",
      "<nibabel.nifti1.Nifti1Image object at 0x7fcfd4276e90>, { 'detrend': False,\n",
      "  'dtype': None,\n",
      "  'high_pass': None,\n",
      "  'low_pass': None,\n",
      "  'sample_mask': None,\n",
      "  'sessions': None,\n",
      "  'smoothing_fwhm': 5,\n",
      "  'standardize': False,\n",
      "  't_r': None,\n",
      "  'target_affine': None,\n",
      "  'target_shape': None}, memory_level=1, memory=Memory(cachedir='nilearn_cache/joblib'), verbose=2, confounds=None, copy=True, dtype=None)\n",
      "[NiftiMasker.transform_single_imgs] Loading data from Nifti1Image(\n",
      "shape=(97, 115, 97, 10),\n",
      "affine=array([[   2.,    0.,    0.,  -96.],\n",
      "       [   0.,    2.,    0., -132.],\n",
      "       [   0.,    0.,    2.,  -78.],\n",
      "       [   0.,    0.,    0.,    1.]])\n",
      ")\n",
      "[NiftiMasker.transform_single_imgs] Smoothing images\n",
      "[NiftiMasker.transform_single_imgs] Extracting region signals\n",
      "[NiftiMasker.transform_single_imgs] Cleaning extracted signals\n",
      "__________________________________________________filter_and_mask - 3.8s, 0.1min\n",
      "[NiftiMasker.fit] Loading data from None\n",
      "[NiftiMasker.fit] Resampling mask\n",
      "[Memory]    3.9s, 0.1min: Loading resample_img...\n",
      "________________________________________________________________________________\n",
      "[Memory] Calling nilearn.input_data.nifti_masker.filter_and_mask...\n",
      "filter_and_mask([ '/home/or/kpe_conn/trauma_seed_hippocampus_right_sub-1253_ses-2_z.nii.gz',\n",
      "  '/home/or/kpe_conn/trauma_seed_hippocampus_right_sub-1263_ses-2_z.nii.gz',\n",
      "  '/home/or/kpe_conn/trauma_seed_hippocampus_right_sub-1351_ses-2_z.nii.gz',\n",
      "  '/home/or/kpe_conn/trauma_seed_hippocampus_right_sub-1356_ses-2_z.nii.gz',\n",
      "  '/home/or/kpe_conn/trauma_seed_hippocampus_right_sub-1364_ses-2_z.nii.gz',\n",
      "  '/home/or/kpe_conn/trauma_seed_hippocampus_right_sub-1369_ses-2_z.nii.gz',\n",
      "  '/home/or/kpe_conn/trauma_seed_hippocampus_right_sub-1390_ses-2_z.nii.gz',\n",
      "  '/home/or/kpe_conn/trauma_seed_hippocampus_right_sub-1403_ses-2_z.nii.gz',\n",
      "  '/home/or/kpe_conn/trauma_seed_hippocampus_right_sub-1468_ses-2_z.nii.gz',\n",
      "  '/home/or/kpe_conn/trauma_seed_hippocampus_right_sub-1480_ses-2_z.nii.gz'], \n",
      "<nibabel.nifti1.Nifti1Image object at 0x7fcfd71f0a50>, { 'detrend': False,\n",
      "  'dtype': None,\n",
      "  'high_pass': None,\n",
      "  'low_pass': None,\n",
      "  'sample_mask': None,\n",
      "  'sessions': None,\n",
      "  'smoothing_fwhm': 5,\n",
      "  'standardize': False,\n",
      "  't_r': None,\n",
      "  'target_affine': None,\n",
      "  'target_shape': None}, memory_level=1, memory=Memory(cachedir='nilearn_cache/joblib'), verbose=2, confounds=None, copy=True, dtype=None)\n",
      "[NiftiMasker.transform_single_imgs] Loading data from Nifti1Image(\n",
      "shape=(97, 115, 97, 10),\n",
      "affine=array([[   2.,    0.,    0.,  -96.],\n",
      "       [   0.,    2.,    0., -132.],\n",
      "       [   0.,    0.,    2.,  -78.],\n",
      "       [   0.,    0.,    0.,    1.]])\n",
      ")\n",
      "[NiftiMasker.transform_single_imgs] Smoothing images\n",
      "[NiftiMasker.transform_single_imgs] Extracting region signals\n",
      "[NiftiMasker.transform_single_imgs] Cleaning extracted signals\n",
      "__________________________________________________filter_and_mask - 2.4s, 0.0min\n"
     ]
    },
    {
     "ename": "NameError",
     "evalue": "name 'files_ses1' is not defined",
     "output_type": "error",
     "traceback": [
      "\u001b[0;31m---------------------------------------------------------------------------\u001b[0m",
      "\u001b[0;31mNameError\u001b[0m                                 Traceback (most recent call last)",
      "\u001b[0;32m<ipython-input-27-d14d59cc3f80>\u001b[0m in \u001b[0;36m<module>\u001b[0;34m\u001b[0m\n\u001b[1;32m     17\u001b[0m         \u001b[0mt_r\u001b[0m\u001b[0;34m=\u001b[0m\u001b[0;36m1.\u001b[0m\u001b[0;34m,\u001b[0m\u001b[0;34m\u001b[0m\u001b[0;34m\u001b[0m\u001b[0m\n\u001b[1;32m     18\u001b[0m         memory='/media/Data/nilearn', memory_level=1, verbose=2)\n\u001b[0;32m---> 19\u001b[0;31m \u001b[0mbrainMasker\u001b[0m\u001b[0;34m.\u001b[0m\u001b[0mfit\u001b[0m\u001b[0;34m(\u001b[0m\u001b[0mfiles_ses1\u001b[0m\u001b[0;34m)\u001b[0m\u001b[0;34m\u001b[0m\u001b[0;34m\u001b[0m\u001b[0m\n\u001b[0m\u001b[1;32m     20\u001b[0m \u001b[0;34m\u001b[0m\u001b[0m\n\u001b[1;32m     21\u001b[0m \u001b[0;31m####\u001b[0m\u001b[0;34m\u001b[0m\u001b[0;34m\u001b[0m\u001b[0;34m\u001b[0m\u001b[0m\n",
      "\u001b[0;31mNameError\u001b[0m: name 'files_ses1' is not defined"
     ]
    }
   ],
   "source": [
    "# do the same for Midazolam group\n",
    "\n",
    "from nilearn.input_data import NiftiMasker\n",
    "# here I use a masked image so all will have same size\n",
    "nifti_masker = NiftiMasker(\n",
    "    mask_img= '/media/Data/KPE_BIDS/derivatives/fmriprep/sub-008/ses-2/func/sub-008_ses-2_task-Memory_space-MNI152NLin2009cAsym_desc-brain_mask.nii.gz',\n",
    "    smoothing_fwhm=5,\n",
    "    memory='nilearn_cache', memory_level=1, verbose=2)  # cache options\n",
    "fmri_AmgL_masked_ses1 = nifti_masker.fit_transform(mid_func_ses1)\n",
    "fmri_AmgL_masked_ses2 = nifti_masker.fit_transform(mid_func_ses2)\n",
    "\n",
    "###\n",
    "from nilearn import input_data\n",
    "brainMasker = input_data.NiftiMasker(\n",
    "        smoothing_fwhm=6,\n",
    "        detrend=True, standardize=True,\n",
    "        t_r=1.,\n",
    "        memory='/media/Data/nilearn', memory_level=1, verbose=2)\n",
    "brainMasker.fit(files_ses1)\n",
    "\n",
    "####\n",
    "deltaCor = fmri_AmgL_masked_ses2 - fmri_AmgL_masked_ses1\n",
    "print (f'Shape is: {deltaCor.shape}')\n",
    "\n",
    "# run paired t-test \n",
    "testDelta = scipy.stats.ttest_rel(fmri_AmgL_masked_ses1, fmri_AmgL_masked_ses2) \n",
    "np.sum(testDelta[1]<0.005)\n",
    "\n",
    "###\n",
    "# results before thresholding\n",
    "%matplotlib inline\n",
    "# mean across subjects\n",
    "mean_zcor_Delta = np.mean(deltaCor,0)\n",
    "mean_zcor_Delta.shape\n",
    "\n",
    "# before using that we need to run and fit brain masker at least on one subject\n",
    "amygdala_coords = [(-26, 2, -18)]\n",
    "mean_zcor_img_delta = brain_masker.inverse_transform(mean_zcor_Delta.T)\n",
    "from nilearn import plotting\n",
    "display = plotting.plot_stat_map(mean_zcor_img_delta,\n",
    "                                     threshold=0.1, vmax=1,\n",
    "                                     cut_coords=amygdala_coords[0],\n",
    "                                     title=\"Seed-to-voxel correlation (Left Amg) 2nd-1st session\", display_mode = 'z',\n",
    "                                     )\n",
    "display.add_markers(marker_coords=amygdala_coords, marker_color='g',\n",
    "                    marker_size=200) "
   ]
  },
  {
   "cell_type": "code",
   "execution_count": null,
   "metadata": {},
   "outputs": [],
   "source": [
    "# FDR\n",
    "\n",
    "# Thresholding FDR\n",
    "# now lets try FDR\n",
    "from statsmodels.stats import multitest\n",
    "# we need to reshape the test p-values array to create 1D array\n",
    "#b = np.reshape(np.array(testDelta[1]), -1)\n",
    "fdr_mat = multitest.multipletests(testDelta[1], alpha=0.05, method='fdr_bh', is_sorted=False, returnsorted=False)\n",
    "#fdr_mat = multitest.fdrcorrection(testDelta[1], alpha=0.7, method='indep', is_sorted=False)\n",
    "np.sum(fdr_mat[1]<0.05)\n",
    "\n",
    "corr_mat_thrFDR = np.array(mean_zcor_Delta)\n",
    "corr_mat_thrFDR = np.reshape(corr_mat_thrFDR, -1)\n",
    "corr_mat_thrFDR[fdr_mat[0]==False] = 0\n",
    "nifti_fdr_thr = brain_masker.inverse_transform(corr_mat_thrFDR.T)\n",
    "# now I can treshold the mean matrix\n",
    "numNonZeroDelta = np.count_nonzero(corr_mat_thrFDR)\n",
    "print (f'Number of voxels crossed the FDR thr is {numNonZeroDelta}')\n",
    "# transofrm it back to nifti\n",
    "fdr_nifti_delta = brain_masker.inverse_transform(corr_matDelta_thr.T)\n",
    "%matplotlib inline\n",
    "display = plotting.plot_stat_map(nifti_fdr_thr,\n",
    "                                     vmax=1,\n",
    "                                     threshold = 0.1,\n",
    "                                     cut_coords=amygdala_coords[0],\n",
    "                                     title=\"Seed-to-voxel correlation 2nd - 1st (Right Amg)\", display_mode = 'y',\n",
    "                                     )\n",
    "display.add_markers(marker_coords=amygdala_coords, marker_color='g',\n",
    "                    marker_size=200)"
   ]
  },
  {
   "cell_type": "code",
   "execution_count": 22,
   "metadata": {},
   "outputs": [],
   "source": [
    "# create a function that reads seed-voxel z-transformed files and compare two groups/conditions\n",
    "def createDelta(func_files1, func_files2, mask_img):\n",
    "    from nilearn.input_data import NiftiMasker\n",
    "    \n",
    "    # here I use a masked image so all will have same size\n",
    "    nifti_masker = NiftiMasker(\n",
    "        mask_img= mask_img,\n",
    "        smoothing_fwhm=6,\n",
    "        memory='nilearn_cache', memory_level=1, verbose=2)  # cache options\n",
    "    fmri_masked_ses1 = nifti_masker.fit_transform(func_files1)\n",
    "    fmri_masked_ses2 = nifti_masker.fit_transform(func_files2)\n",
    "    ###\n",
    "    from nilearn import input_data\n",
    "    brainMasker = input_data.NiftiMasker(\n",
    "            smoothing_fwhm=6,\n",
    "            detrend=True, standardize=True,\n",
    "            t_r=1.,\n",
    "            memory='/media/Data/nilearn', memory_level=1, verbose=2)\n",
    "    brainMasker.fit(func_files1)\n",
    "\n",
    "    ####\n",
    "    deltaCor_a = fmri_masked_ses2 - fmri_masked_ses1\n",
    "    print (f'Shape is: {deltaCor_a.shape}')\n",
    "\n",
    "    # run paired t-test \n",
    "    testDelta = scipy.stats.ttest_rel(fmri_masked_ses1, fmri_masked_ses2) \n",
    "    print (f'Sum of p values < 0.005 is {np.sum(testDelta[1]<0.005)}')\n",
    "    \n",
    "    \n",
    "    return deltaCor_a, testDelta, brainMasker # return the delta correlation and the t-test array\n",
    "\n",
    "# take deltaCorrelation matrix and create file and image\n",
    "def createZimg(deltaCor, scriptName, seedName, brain_masker):\n",
    "    # mean across subjects\n",
    "    mean_zcor_Delta = np.mean(deltaCor,0)\n",
    "    mean_zcor_img_delta = brain_masker.inverse_transform(mean_zcor_Delta.T)\n",
    "    # save it as file\n",
    "    mean_zcor_img_delta.to_filename(\n",
    "        '/home/or/kpe_conn/%s_seed_%s_delta_z.nii.gz' %(scriptName,seedName))\n",
    "    \n",
    "    return mean_zcor_img_delta, mean_zcor_Delta # returns the image and the array \n",
    "\n",
    "\n",
    "## now create a function to do FDR thresholding\n",
    "def fdrThr(testDelta, mean_zcor_Delta, alpha):\n",
    "    from statsmodels.stats import multitest\n",
    "    # we need to reshape the test p-values array to create 1D array\n",
    "    #b = np.reshape(np.array(testDelta[1]), -1)\n",
    "    fdr_mat = multitest.multipletests(testDelta[1], alpha=alpha, method='fdr_bh', is_sorted=False, returnsorted=False)\n",
    "    #fdr_mat = multitest.fdrcorrection(testDelta[1], alpha=0.7, method='indep', is_sorted=False)\n",
    "    np.sum(fdr_mat[1]<0.05)\n",
    "    corr_mat_thrFDR = np.array(mean_zcor_Delta)\n",
    "    corr_mat_thrFDR = np.reshape(corr_mat_thrFDR, -1)\n",
    "    corr_mat_thrFDR[fdr_mat[0]==False] = 0\n",
    "    \n",
    "    # now I can treshold the mean matrix\n",
    "    numNonZeroDelta = np.count_nonzero(corr_mat_thrFDR)\n",
    "    print (f'Number of voxels crossed the FDR thr is {numNonZeroDelta}')\n",
    "    # transofrm it back to nifti\n",
    "    #nifti_fdr_thr = brain_Masker.inverse_transform(corr_mat_thrFDR.T)\n",
    "    return corr_mat_thrFDR #, nifti_fdr_thr # return matrix after FDR and nifti file\n",
    "                                         "
   ]
  },
  {
   "cell_type": "code",
   "execution_count": 7,
   "metadata": {},
   "outputs": [],
   "source": [
    "# now lets do right Hippo\n",
    "ket_func_ses1 = ['/home/or/kpe_conn/trauma_seed_hippocampus_right_sub-%s_ses-1_z.nii.gz' % (sub) for sub in ketList]\n",
    "ket_func_ses2 = ['/home/or/kpe_conn/trauma_seed_hippocampus_right_sub-%s_ses-2_z.nii.gz' % (sub) for sub in ketList]\n",
    "mid_func_ses1 = ['/home/or/kpe_conn/trauma_seed_hippocampus_right_sub-%s_ses-1_z.nii.gz' % (sub) for sub in midList]\n",
    "mid_func_ses2 = ['/home/or/kpe_conn/trauma_seed_hippocampus_right_sub-%s_ses-2_z.nii.gz' % (sub) for sub in midList]"
   ]
  },
  {
   "cell_type": "code",
   "execution_count": 17,
   "metadata": {
    "scrolled": true
   },
   "outputs": [
    {
     "data": {
      "text/plain": [
       "<nilearn.plotting.displays.OrthoSlicer at 0x7fcfd713fc90>"
      ]
     },
     "execution_count": 17,
     "metadata": {},
     "output_type": "execute_result"
    },
    {
     "data": {
      "image/png": "[encoded data removed]",
      "text/plain": [
       "<Figure size 475.2x187.2 with 4 Axes>"
      ]
     },
     "metadata": {},
     "output_type": "display_data"
    },
    {
     "data": {
      "image/png": "[encoded data removed]",
      "text/plain": [
       "<Figure size 475.2x187.2 with 4 Axes>"
      ]
     },
     "metadata": {},
     "output_type": "display_data"
    }
   ],
   "source": [
    "# run the functions - Ketamine\n",
    "import nilearn\n",
    "mask_img_temp = '/media/Data/KPE_BIDS/derivatives/fmriprep/sub-*/ses-[1,2]/func/sub-*_ses-[1,2]_task-Memory_space-MNI152NLin2009cAsym_desc-brain_mask.nii.gz'\n",
    "mask_files = glob.glob(mask_img_temp)\n",
    "mean_mask = nilearn.image.mean_img(mask_files, n_jobs=3)\n",
    "plotting.plot_anat(mean_mask)\n",
    "\n",
    "group_mask = nilearn.image.math_img(\"a>=0.95\", a=mean_mask)\n",
    "nilearn.plotting.plot_roi(group_mask)\n"
   ]
  },
  {
   "cell_type": "code",
   "execution_count": 24,
   "metadata": {},
   "outputs": [
    {
     "name": "stdout",
     "output_type": "stream",
     "text": [
      "[NiftiMasker.fit] Loading data from None\n",
      "[NiftiMasker.fit] Resampling mask\n",
      "[Memory]    0.0s, 0.0min: Loading resample_img...\n",
      "[Memory]    0.0s, 0.0min: Loading filter_and_mask...\n",
      "[NiftiMasker.fit] Loading data from None\n",
      "[NiftiMasker.fit] Resampling mask\n",
      "[Memory]    0.1s, 0.0min: Loading resample_img...\n",
      "[Memory]    0.1s, 0.0min: Loading filter_and_mask...\n",
      "[NiftiMasker.fit] Loading data from [/home/or/kpe_conn/trauma_seed_hippocampus_right_sub-008_ses-1_z.nii.gz, /home/or/kpe_conn/trauma_seed_hippocampus_right_sub-1223_ses-1_z.nii.gz, /home/or/kpe_conn/trauma_seed_hippocampus_right_sub-12\n",
      "[NiftiMasker.fit] Computing the mask\n",
      "[Memory]    0.0s, 0.0min: Loading compute_background_mask...\n",
      "[NiftiMasker.fit] Resampling mask\n",
      "[Memory]    0.0s, 0.0min: Loading resample_img...\n",
      "Shape is: (11, 228337)\n",
      "Sum of p values < 0.005 is 1207\n"
     ]
    }
   ],
   "source": [
    "rightHippo_ses2_1, tTestcor , _= createDelta(ket_func_ses1, ket_func_ses2, group_mask)"
   ]
  },
  {
   "cell_type": "code",
   "execution_count": 25,
   "metadata": {},
   "outputs": [
    {
     "name": "stdout",
     "output_type": "stream",
     "text": [
      "________________________________________________________________________________\n",
      "[Memory] Calling nilearn.masking.unmask...\n",
      "unmask(array([0.013735, ..., 0.004351]), <nibabel.nifti1.Nifti1Image object at 0x7fcfd70ecad0>)\n"
     ]
    },
    {
     "ename": "TypeError",
     "evalue": "X must be of shape (samples, 263864).",
     "output_type": "error",
     "traceback": [
      "\u001b[0;31m---------------------------------------------------------------------------\u001b[0m",
      "\u001b[0;31mTypeError\u001b[0m                                 Traceback (most recent call last)",
      "\u001b[0;32m<ipython-input-25-e9007cc03488>\u001b[0m in \u001b[0;36m<module>\u001b[0;34m\u001b[0m\n\u001b[0;32m----> 1\u001b[0;31m \u001b[0mrightHippo_mean_zcor_img\u001b[0m\u001b[0;34m,\u001b[0m \u001b[0mrightHippo_mean_zcor_Delta\u001b[0m \u001b[0;34m=\u001b[0m \u001b[0mcreateZimg\u001b[0m\u001b[0;34m(\u001b[0m\u001b[0mrightHippo_ses2_1\u001b[0m\u001b[0;34m,\u001b[0m \u001b[0;34m'trauma'\u001b[0m\u001b[0;34m,\u001b[0m \u001b[0;34m'rightHippo'\u001b[0m\u001b[0;34m,\u001b[0m \u001b[0m_\u001b[0m\u001b[0;34m)\u001b[0m\u001b[0;34m\u001b[0m\u001b[0;34m\u001b[0m\u001b[0m\n\u001b[0m\u001b[1;32m      2\u001b[0m \u001b[0;34m\u001b[0m\u001b[0m\n\u001b[1;32m      3\u001b[0m \u001b[0;34m\u001b[0m\u001b[0m\n\u001b[1;32m      4\u001b[0m \u001b[0mcorr_mat_thrFDR_leftAmg\u001b[0m \u001b[0;34m=\u001b[0m \u001b[0mfdrThr\u001b[0m\u001b[0;34m(\u001b[0m\u001b[0mtTestcor\u001b[0m\u001b[0;34m,\u001b[0m \u001b[0mrightHippo_mean_zcor_Delta\u001b[0m\u001b[0;34m,\u001b[0m \u001b[0;36m0.05\u001b[0m\u001b[0;34m)\u001b[0m\u001b[0;34m\u001b[0m\u001b[0;34m\u001b[0m\u001b[0m\n",
      "\u001b[0;32m<ipython-input-22-85039cf33b9a>\u001b[0m in \u001b[0;36mcreateZimg\u001b[0;34m(deltaCor, scriptName, seedName, brain_masker)\u001b[0m\n\u001b[1;32m     34\u001b[0m     \u001b[0;31m# mean across subjects\u001b[0m\u001b[0;34m\u001b[0m\u001b[0;34m\u001b[0m\u001b[0;34m\u001b[0m\u001b[0m\n\u001b[1;32m     35\u001b[0m     \u001b[0mmean_zcor_Delta\u001b[0m \u001b[0;34m=\u001b[0m \u001b[0mnp\u001b[0m\u001b[0;34m.\u001b[0m\u001b[0mmean\u001b[0m\u001b[0;34m(\u001b[0m\u001b[0mdeltaCor\u001b[0m\u001b[0;34m,\u001b[0m\u001b[0;36m0\u001b[0m\u001b[0;34m)\u001b[0m\u001b[0;34m\u001b[0m\u001b[0;34m\u001b[0m\u001b[0m\n\u001b[0;32m---> 36\u001b[0;31m     \u001b[0mmean_zcor_img_delta\u001b[0m \u001b[0;34m=\u001b[0m \u001b[0mbrain_masker\u001b[0m\u001b[0;34m.\u001b[0m\u001b[0minverse_transform\u001b[0m\u001b[0;34m(\u001b[0m\u001b[0mmean_zcor_Delta\u001b[0m\u001b[0;34m.\u001b[0m\u001b[0mT\u001b[0m\u001b[0;34m)\u001b[0m\u001b[0;34m\u001b[0m\u001b[0;34m\u001b[0m\u001b[0m\n\u001b[0m\u001b[1;32m     37\u001b[0m     \u001b[0;31m# save it as file\u001b[0m\u001b[0;34m\u001b[0m\u001b[0;34m\u001b[0m\u001b[0;34m\u001b[0m\u001b[0m\n\u001b[1;32m     38\u001b[0m     mean_zcor_img_delta.to_filename(\n",
      "\u001b[0;32m~/miniconda3/envs/neuroAnalysis/lib/python3.7/site-packages/nilearn/input_data/base_masker.py\u001b[0m in \u001b[0;36minverse_transform\u001b[0;34m(self, X)\u001b[0m\n\u001b[1;32m    222\u001b[0m         \"\"\"\n\u001b[1;32m    223\u001b[0m         \u001b[0mself\u001b[0m\u001b[0;34m.\u001b[0m\u001b[0m_check_fitted\u001b[0m\u001b[0;34m(\u001b[0m\u001b[0;34m)\u001b[0m\u001b[0;34m\u001b[0m\u001b[0;34m\u001b[0m\u001b[0m\n\u001b[0;32m--> 224\u001b[0;31m         \u001b[0mimg\u001b[0m \u001b[0;34m=\u001b[0m \u001b[0mself\u001b[0m\u001b[0;34m.\u001b[0m\u001b[0m_cache\u001b[0m\u001b[0;34m(\u001b[0m\u001b[0mmasking\u001b[0m\u001b[0;34m.\u001b[0m\u001b[0munmask\u001b[0m\u001b[0;34m)\u001b[0m\u001b[0;34m(\u001b[0m\u001b[0mX\u001b[0m\u001b[0;34m,\u001b[0m \u001b[0mself\u001b[0m\u001b[0;34m.\u001b[0m\u001b[0mmask_img_\u001b[0m\u001b[0;34m)\u001b[0m\u001b[0;34m\u001b[0m\u001b[0;34m\u001b[0m\u001b[0m\n\u001b[0m\u001b[1;32m    225\u001b[0m         \u001b[0;31m# Be robust again memmapping that will create read-only arrays in\u001b[0m\u001b[0;34m\u001b[0m\u001b[0;34m\u001b[0m\u001b[0;34m\u001b[0m\u001b[0m\n\u001b[1;32m    226\u001b[0m         \u001b[0;31m# internal structures of the header: remove the memmaped array\u001b[0m\u001b[0;34m\u001b[0m\u001b[0;34m\u001b[0m\u001b[0;34m\u001b[0m\u001b[0m\n",
      "\u001b[0;32m~/miniconda3/envs/neuroAnalysis/lib/python3.7/site-packages/joblib/memory.py\u001b[0m in \u001b[0;36m__call__\u001b[0;34m(self, *args, **kwargs)\u001b[0m\n\u001b[1;32m    560\u001b[0m \u001b[0;34m\u001b[0m\u001b[0m\n\u001b[1;32m    561\u001b[0m     \u001b[0;32mdef\u001b[0m \u001b[0m__call__\u001b[0m\u001b[0;34m(\u001b[0m\u001b[0mself\u001b[0m\u001b[0;34m,\u001b[0m \u001b[0;34m*\u001b[0m\u001b[0margs\u001b[0m\u001b[0;34m,\u001b[0m \u001b[0;34m**\u001b[0m\u001b[0mkwargs\u001b[0m\u001b[0;34m)\u001b[0m\u001b[0;34m:\u001b[0m\u001b[0;34m\u001b[0m\u001b[0;34m\u001b[0m\u001b[0m\n\u001b[0;32m--> 562\u001b[0;31m         \u001b[0;32mreturn\u001b[0m \u001b[0mself\u001b[0m\u001b[0;34m.\u001b[0m\u001b[0m_cached_call\u001b[0m\u001b[0;34m(\u001b[0m\u001b[0margs\u001b[0m\u001b[0;34m,\u001b[0m \u001b[0mkwargs\u001b[0m\u001b[0;34m)\u001b[0m\u001b[0;34m[\u001b[0m\u001b[0;36m0\u001b[0m\u001b[0;34m]\u001b[0m\u001b[0;34m\u001b[0m\u001b[0;34m\u001b[0m\u001b[0m\n\u001b[0m\u001b[1;32m    563\u001b[0m \u001b[0;34m\u001b[0m\u001b[0m\n\u001b[1;32m    564\u001b[0m     \u001b[0;32mdef\u001b[0m \u001b[0m__reduce__\u001b[0m\u001b[0;34m(\u001b[0m\u001b[0mself\u001b[0m\u001b[0;34m)\u001b[0m\u001b[0;34m:\u001b[0m\u001b[0;34m\u001b[0m\u001b[0;34m\u001b[0m\u001b[0m\n",
      "\u001b[0;32m~/miniconda3/envs/neuroAnalysis/lib/python3.7/site-packages/joblib/memory.py\u001b[0m in \u001b[0;36m_cached_call\u001b[0;34m(self, args, kwargs)\u001b[0m\n\u001b[1;32m    508\u001b[0m                           \u001b[0;34m'directory %s'\u001b[0m\u001b[0;34m\u001b[0m\u001b[0;34m\u001b[0m\u001b[0m\n\u001b[1;32m    509\u001b[0m                         % (name, argument_hash, output_dir))\n\u001b[0;32m--> 510\u001b[0;31m             \u001b[0mout\u001b[0m\u001b[0;34m,\u001b[0m \u001b[0mmetadata\u001b[0m \u001b[0;34m=\u001b[0m \u001b[0mself\u001b[0m\u001b[0;34m.\u001b[0m\u001b[0mcall\u001b[0m\u001b[0;34m(\u001b[0m\u001b[0;34m*\u001b[0m\u001b[0margs\u001b[0m\u001b[0;34m,\u001b[0m \u001b[0;34m**\u001b[0m\u001b[0mkwargs\u001b[0m\u001b[0;34m)\u001b[0m\u001b[0;34m\u001b[0m\u001b[0;34m\u001b[0m\u001b[0m\n\u001b[0m\u001b[1;32m    511\u001b[0m             \u001b[0;32mif\u001b[0m \u001b[0mself\u001b[0m\u001b[0;34m.\u001b[0m\u001b[0mmmap_mode\u001b[0m \u001b[0;32mis\u001b[0m \u001b[0;32mnot\u001b[0m \u001b[0;32mNone\u001b[0m\u001b[0;34m:\u001b[0m\u001b[0;34m\u001b[0m\u001b[0;34m\u001b[0m\u001b[0m\n\u001b[1;32m    512\u001b[0m                 \u001b[0;31m# Memmap the output at the first call to be consistent with\u001b[0m\u001b[0;34m\u001b[0m\u001b[0;34m\u001b[0m\u001b[0;34m\u001b[0m\u001b[0m\n",
      "\u001b[0;32m~/miniconda3/envs/neuroAnalysis/lib/python3.7/site-packages/joblib/memory.py\u001b[0m in \u001b[0;36mcall\u001b[0;34m(self, *args, **kwargs)\u001b[0m\n\u001b[1;32m    742\u001b[0m         \u001b[0;32mif\u001b[0m \u001b[0mself\u001b[0m\u001b[0;34m.\u001b[0m\u001b[0m_verbose\u001b[0m \u001b[0;34m>\u001b[0m \u001b[0;36m0\u001b[0m\u001b[0;34m:\u001b[0m\u001b[0;34m\u001b[0m\u001b[0;34m\u001b[0m\u001b[0m\n\u001b[1;32m    743\u001b[0m             \u001b[0mprint\u001b[0m\u001b[0;34m(\u001b[0m\u001b[0mformat_call\u001b[0m\u001b[0;34m(\u001b[0m\u001b[0mself\u001b[0m\u001b[0;34m.\u001b[0m\u001b[0mfunc\u001b[0m\u001b[0;34m,\u001b[0m \u001b[0margs\u001b[0m\u001b[0;34m,\u001b[0m \u001b[0mkwargs\u001b[0m\u001b[0;34m)\u001b[0m\u001b[0;34m)\u001b[0m\u001b[0;34m\u001b[0m\u001b[0;34m\u001b[0m\u001b[0m\n\u001b[0;32m--> 744\u001b[0;31m         \u001b[0moutput\u001b[0m \u001b[0;34m=\u001b[0m \u001b[0mself\u001b[0m\u001b[0;34m.\u001b[0m\u001b[0mfunc\u001b[0m\u001b[0;34m(\u001b[0m\u001b[0;34m*\u001b[0m\u001b[0margs\u001b[0m\u001b[0;34m,\u001b[0m \u001b[0;34m**\u001b[0m\u001b[0mkwargs\u001b[0m\u001b[0;34m)\u001b[0m\u001b[0;34m\u001b[0m\u001b[0;34m\u001b[0m\u001b[0m\n\u001b[0m\u001b[1;32m    745\u001b[0m         \u001b[0mself\u001b[0m\u001b[0;34m.\u001b[0m\u001b[0m_persist_output\u001b[0m\u001b[0;34m(\u001b[0m\u001b[0moutput\u001b[0m\u001b[0;34m,\u001b[0m \u001b[0moutput_dir\u001b[0m\u001b[0;34m)\u001b[0m\u001b[0;34m\u001b[0m\u001b[0;34m\u001b[0m\u001b[0m\n\u001b[1;32m    746\u001b[0m         \u001b[0mduration\u001b[0m \u001b[0;34m=\u001b[0m \u001b[0mtime\u001b[0m\u001b[0;34m.\u001b[0m\u001b[0mtime\u001b[0m\u001b[0;34m(\u001b[0m\u001b[0;34m)\u001b[0m \u001b[0;34m-\u001b[0m \u001b[0mstart_time\u001b[0m\u001b[0;34m\u001b[0m\u001b[0;34m\u001b[0m\u001b[0m\n",
      "\u001b[0;32m~/miniconda3/envs/neuroAnalysis/lib/python3.7/site-packages/nilearn/masking.py\u001b[0m in \u001b[0;36munmask\u001b[0;34m(X, mask_img, order)\u001b[0m\n\u001b[1;32m    858\u001b[0m         \u001b[0munmasked\u001b[0m \u001b[0;34m=\u001b[0m \u001b[0m_unmask_4d\u001b[0m\u001b[0;34m(\u001b[0m\u001b[0mX\u001b[0m\u001b[0;34m,\u001b[0m \u001b[0mmask\u001b[0m\u001b[0;34m,\u001b[0m \u001b[0morder\u001b[0m\u001b[0;34m=\u001b[0m\u001b[0morder\u001b[0m\u001b[0;34m)\u001b[0m\u001b[0;34m\u001b[0m\u001b[0;34m\u001b[0m\u001b[0m\n\u001b[1;32m    859\u001b[0m     \u001b[0;32melif\u001b[0m \u001b[0mnp\u001b[0m\u001b[0;34m.\u001b[0m\u001b[0mndim\u001b[0m\u001b[0;34m(\u001b[0m\u001b[0mX\u001b[0m\u001b[0;34m)\u001b[0m \u001b[0;34m==\u001b[0m \u001b[0;36m1\u001b[0m\u001b[0;34m:\u001b[0m\u001b[0;34m\u001b[0m\u001b[0;34m\u001b[0m\u001b[0m\n\u001b[0;32m--> 860\u001b[0;31m         \u001b[0munmasked\u001b[0m \u001b[0;34m=\u001b[0m \u001b[0m_unmask_3d\u001b[0m\u001b[0;34m(\u001b[0m\u001b[0mX\u001b[0m\u001b[0;34m,\u001b[0m \u001b[0mmask\u001b[0m\u001b[0;34m,\u001b[0m \u001b[0morder\u001b[0m\u001b[0;34m=\u001b[0m\u001b[0morder\u001b[0m\u001b[0;34m)\u001b[0m\u001b[0;34m\u001b[0m\u001b[0;34m\u001b[0m\u001b[0m\n\u001b[0m\u001b[1;32m    861\u001b[0m     \u001b[0;32melse\u001b[0m\u001b[0;34m:\u001b[0m\u001b[0;34m\u001b[0m\u001b[0;34m\u001b[0m\u001b[0m\n\u001b[1;32m    862\u001b[0m         raise TypeError(\"Masked data X must be 2D or 1D array; \"\n",
      "\u001b[0;32m~/miniconda3/envs/neuroAnalysis/lib/python3.7/site-packages/nilearn/masking.py\u001b[0m in \u001b[0;36m_unmask_3d\u001b[0;34m(X, mask, order)\u001b[0m\n\u001b[1;32m    776\u001b[0m     \u001b[0mn_features\u001b[0m \u001b[0;34m=\u001b[0m \u001b[0mmask\u001b[0m\u001b[0;34m.\u001b[0m\u001b[0msum\u001b[0m\u001b[0;34m(\u001b[0m\u001b[0;34m)\u001b[0m\u001b[0;34m\u001b[0m\u001b[0;34m\u001b[0m\u001b[0m\n\u001b[1;32m    777\u001b[0m     \u001b[0;32mif\u001b[0m \u001b[0mX\u001b[0m\u001b[0;34m.\u001b[0m\u001b[0mshape\u001b[0m\u001b[0;34m[\u001b[0m\u001b[0;36m0\u001b[0m\u001b[0;34m]\u001b[0m \u001b[0;34m!=\u001b[0m \u001b[0mn_features\u001b[0m\u001b[0;34m:\u001b[0m\u001b[0;34m\u001b[0m\u001b[0;34m\u001b[0m\u001b[0m\n\u001b[0;32m--> 778\u001b[0;31m         \u001b[0;32mraise\u001b[0m \u001b[0mTypeError\u001b[0m\u001b[0;34m(\u001b[0m\u001b[0;34m'X must be of shape (samples, %d).'\u001b[0m \u001b[0;34m%\u001b[0m \u001b[0mn_features\u001b[0m\u001b[0;34m)\u001b[0m\u001b[0;34m\u001b[0m\u001b[0;34m\u001b[0m\u001b[0m\n\u001b[0m\u001b[1;32m    779\u001b[0m \u001b[0;34m\u001b[0m\u001b[0m\n\u001b[1;32m    780\u001b[0m     data = np.zeros(\n",
      "\u001b[0;31mTypeError\u001b[0m: X must be of shape (samples, 263864)."
     ]
    }
   ],
   "source": [
    "rightHippo_mean_zcor_img, rightHippo_mean_zcor_Delta = createZimg(rightHippo_ses2_1, 'trauma', 'rightHippo', _)\n",
    "\n",
    "    \n",
    "corr_mat_thrFDR_leftAmg = fdrThr(tTestcor, rightHippo_mean_zcor_Delta, 0.05)"
   ]
  },
  {
   "cell_type": "code",
   "execution_count": null,
   "metadata": {},
   "outputs": [],
   "source": [
    "fdr_img = brain_masker.inverse_transform(corr_mat_thrFDR_leftAmg)\n",
    "%matplotlib inline\n",
    "display = plotting.plot_stat_map(fdr_img,\n",
    "                                     vmax=1,\n",
    "                                     threshold = 0.1,\n",
    "                                     cut_coords=[-40,-28,4,10],\n",
    "                                      display_mode = 'y',\n",
    "                                     )\n",
    "display.add_markers(marker_coords=amygdala_coords, marker_color='g',\n",
    "                    marker_size=100)"
   ]
  },
  {
   "cell_type": "code",
   "execution_count": null,
   "metadata": {},
   "outputs": [],
   "source": [
    "plotting.find_xyz_cut_coords(fdr_img, mask_img=None, activation_threshold=None)"
   ]
  },
  {
   "cell_type": "code",
   "execution_count": null,
   "metadata": {},
   "outputs": [],
   "source": [
    "plotting.find_cut_slices(fdr_img, direction='z', n_cuts=3, spacing='auto')"
   ]
  },
  {
   "cell_type": "code",
   "execution_count": null,
   "metadata": {},
   "outputs": [],
   "source": [
    "# surface plotting\n",
    "from nilearn import plotting, datasets    \n",
    "from nilearn.plotting.cm import _cmap_d as nilearn_cmaps\n",
    "\n",
    "\n",
    "view = plotting.view_img_on_surf(rightHippo_mean_zcor_img,surf_mesh='fsaverage5',threshold='99.5%')   \n",
    "\n",
    "view"
   ]
  },
  {
   "cell_type": "code",
   "execution_count": null,
   "metadata": {},
   "outputs": [],
   "source": [
    "# now lets do right Hippo\n",
    "ket_func_ses1 = ['/home/or/kpe_conn/trauma_seed_hippocampus_right_sub-%s_ses-1_z.nii.gz' % (sub) for sub in ketList]\n",
    "ket_func_ses2 = ['/home/or/kpe_conn/trauma_seed_hippocampus_right_sub-%s_ses-2_z.nii.gz' % (sub) for sub in ketList]\n",
    "mid_func_ses1 = ['/home/or/kpe_conn/trauma_seed_hippocampus_right_sub-%s_ses-1_z.nii.gz' % (sub) for sub in midList]\n",
    "mid_func_ses2 = ['/home/or/kpe_conn/trauma_seed_hippocampus_right_sub-%s_ses-2_z.nii.gz' % (sub) for sub in midList]"
   ]
  },
  {
   "cell_type": "code",
   "execution_count": null,
   "metadata": {},
   "outputs": [],
   "source": [
    "# run the functions - Ketamine\n",
    "mask_img = '/media/Data/KPE_fmriPrep_preproc/kpeOutput/derivatives/fmriprep/sub-008/ses-2/func/sub-008_ses-2_task-Memory_space-MNI152NLin2009cAsym_desc-brain_mask.nii.gz'\n",
    "leftAmg_ses2_1, tTestcor , _= createDelta(ket_func_ses1, ket_func_ses2, mask_img)"
   ]
  },
  {
   "cell_type": "code",
   "execution_count": null,
   "metadata": {},
   "outputs": [],
   "source": [
    "LeftAmg_mean_zcor_img, leftAmg_mean_zcor_Delta = createZimg(leftAmg_ses2_1, 'trauma', 'leftAmg')\n",
    "\n",
    "    \n",
    "corr_mat_thrFDR_leftAmg = fdrThr(tTestcor, leftAmg_mean_zcor_Delta, 0.05)"
   ]
  }
 ],
 "metadata": {
  "kernelspec": {
   "display_name": "Python 3",
   "language": "python",
   "name": "python3"
  },
  "language_info": {
   "codemirror_mode": {
    "name": "ipython",
    "version": 3
   },
   "file_extension": ".py",
   "mimetype": "text/x-python",
   "name": "python",
   "nbconvert_exporter": "python",
   "pygments_lexer": "ipython3",
   "version": "3.7.6"
  }
 },
 "nbformat": 4,
 "nbformat_minor": 2
}
