{
 "cells": [
  {
   "cell_type": "markdown",
   "metadata": {},
   "source": [
    "## Mask amygdala hippocampus and correlate the trauma script"
   ]
  },
  {
   "cell_type": "code",
   "execution_count": null,
   "metadata": {},
   "outputs": [],
   "source": [
    "import pandas as pd\n",
    "import numpy as np\n",
    "import matplotlib.pyplot as plt\n",
    "import seaborn as sns\n",
    "import scipy\n",
    "import nilearn.plotting\n",
    "import nilearn.input_data\n",
    "import os\n",
    "import nipype.pipeline.engine as pe  # pypeline engine\n",
    "import nipype.interfaces.utility as util  # utility"
   ]
  },
  {
   "cell_type": "code",
   "execution_count": null,
   "metadata": {},
   "outputs": [],
   "source": [
    "output_dir = '/media/Data/work/kpe_connAnalysis'\n",
    "ses = '1'"
   ]
  },
  {
   "cell_type": "code",
   "execution_count": null,
   "metadata": {},
   "outputs": [],
   "source": [
    "## set parameters for the maskers\n",
    "mask_params = {\n",
    "               'detrend': True, 'standardize': True,\n",
    "               'high_pass': 0.01, 'low_pass': 0.1, 't_r': 1,\n",
    "               'smoothing_fwhm': 4,\n",
    "                'verbose': 5}\n",
    "\n"
   ]
  },
  {
   "cell_type": "code",
   "execution_count": null,
   "metadata": {},
   "outputs": [],
   "source": [
    "## Amygdala as mask\n",
    "amg_file = '/media/Data/work/KPE_ROI/amygdala_association-test_z_FDR_0.01.nii.gz'\n",
    "amg_file = nilearn.image.math_img(\"a>=25\", a=amg_file)\n",
    "%matplotlib inline\n",
    "nilearn.plotting.plot_roi(amg_file)\n",
    "\n",
    "\n",
    "masker_amg = nilearn.input_data.NiftiMasker(mask_img= amg_file, **mask_params).fit()"
   ]
  },
  {
   "cell_type": "code",
   "execution_count": null,
   "metadata": {},
   "outputs": [],
   "source": [
    "# now lets do the same with vmPFC\n",
    "vmpfc_mask = '/media/Data/work/RCF_or/vmpfc_association-test_z_FDR_0.01.nii.gz'\n",
    "vmpfc_mask = nilearn.image.math_img(\"a>=5\", a=vmpfc_mask)\n",
    "%matplotlib inline\n",
    "nilearn.plotting.plot_roi(vmpfc_mask)\n",
    "masker_vmpfc = nilearn.input_data.NiftiMasker(mask_img= vmpfc_mask, **mask_params).fit()"
   ]
  },
  {
   "cell_type": "code",
   "execution_count": null,
   "metadata": {},
   "outputs": [],
   "source": [
    "## Hippocampus\n",
    "hipp_mask = '/media/Data/work/KPE_ROI/hippocampus_association-test_z_FDR_0.01.nii.gz'\n",
    "hipp_mask = nilearn.image.math_img(\"a>=15\", a=hipp_mask)\n",
    "%matplotlib inline\n",
    "nilearn.plotting.plot_roi(hipp_mask)\n",
    "masker_hipp = nilearn.input_data.NiftiMasker(mask_img= mask_file, **mask_params).fit()"
   ]
  },
  {
   "cell_type": "code",
   "execution_count": null,
   "metadata": {},
   "outputs": [],
   "source": [
    "def removeVars (sub, ses):\n",
    "    \n",
    "    # this method takes the csv regressors file (from fmriPrep) and chooses a few to confound. You can change those few\n",
    "    import pandas as pd\n",
    "    import numpy as np\n",
    "    subject = sub.split('KPE')[1]\n",
    "    confound_template = '/media/Data/Lab_Projects/KPE_PTSD_Project/neuroimaging/KPE_BIDS/derivatives/fmriprep/sub-{sub}/ses-{ses}/func/sub-{sub}_ses-{ses}_task-Memory_desc-confounds_regressors.tsv'\n",
    "    confoundFile = confound_template.format(sub=subject, ses=ses)\n",
    "    confound = pd.read_csv(confoundFile,sep=\"\\t\", na_values=\"n/a\")\n",
    "    finalConf = confound[['csf', 'white_matter', 'framewise_displacement', \n",
    "                          'a_comp_cor_00', 'a_comp_cor_01',\t'a_comp_cor_02', 'a_comp_cor_03', \n",
    "                          'a_comp_cor_04', 'a_comp_cor_05', 'trans_x', 'trans_y', 'trans_z', \n",
    "                          'rot_x', 'rot_y', 'rot_z']] # can add 'global_signal' also ,,\n",
    "                          # \n",
    "     # change NaN of FD to zero\n",
    "    finalConf = finalConf.fillna(0)\n",
    "    return np.array(finalConf)"
   ]
  },
  {
   "cell_type": "code",
   "execution_count": null,
   "metadata": {},
   "outputs": [],
   "source": [
    "# method to generate subject array of timeseries\n",
    "def pooledTS(sub, ses, confounds, output_dir):\n",
    "    import os\n",
    "    import numpy as np\n",
    "    import nilearn.input_data\n",
    "    import nilearn.image\n",
    "    \n",
    "    event_template = '/media/Data/Lab_Projects/KPE_PTSD_Project/neuroimaging/KPE_BIDS/condition_files/withNumbers/sub-{sub}_ses-{ses}_30sec_window.csv'\n",
    "    func_template = '/media/Data/Lab_Projects/KPE_PTSD_Project/neuroimaging/KPE_BIDS/derivatives/fmriprep/sub-{sub}/ses-{ses}/func/sub-{sub}_ses-{ses}_task-Memory_space-MNI152NLin2009cAsym_desc-preproc_bold.nii.gz'\n",
    "    # set mask params\n",
    "    mask_params = {\n",
    "               'detrend': True, 'standardize': True,\n",
    "               'high_pass': 0.01, 'low_pass': 0.1, 't_r': 1,\n",
    "               'smoothing_fwhm': 4,\n",
    "                'verbose': 5}\n",
    "\n",
    "    amg_file = '/media/Data/work/KPE_ROI/amygdala_association-test_z_FDR_0.01.nii.gz'\n",
    "    amg_file = nilearn.image.math_img(\"a>=25\", a=amg_file)\n",
    "    hipp_mask = '/media/Data/work/KPE_ROI/hippocampus_association-test_z_FDR_0.01.nii.gz'\n",
    "    hipp_mask = nilearn.image.math_img(\"a>=15\", a=hipp_mask)\n",
    "    vmpfc_mask = '/media/Data/work/RCF_or/vmpfc_association-test_z_FDR_0.01.nii.gz'\n",
    "    vmpfc_mask = nilearn.image.math_img(\"a>=5\", a=vmpfc_mask)\n",
    "\n",
    "    \n",
    "    # fit maskers\n",
    "    masker_amg = nilearn.input_data.NiftiMasker(mask_img= amg_file, **mask_params).fit()\n",
    "    masker_vmpfc = nilearn.input_data.NiftiMasker(mask_img= vmpfc_mask, **mask_params).fit()\n",
    "    masker_hipp = nilearn.input_data.NiftiMasker(mask_img= hipp_mask, **mask_params).fit()\n",
    "    # set output dir\n",
    "    if not os.path.exists(output_dir):\n",
    "        os.makedirs(output_dir)\n",
    "    duration = 120 #set duration of event in seconds \n",
    "    #sub_tsAmg = []\n",
    "    #sub_tsHipp = []\n",
    "    #sub_tsvmPFC = []\n",
    "    #for sub in subject_list:\n",
    "    subject = sub.split('KPE')[1]\n",
    "\n",
    "    # load the npy file (timeseries)\n",
    "    tsAmg = masker_amg.transform(func_template.format(sub=subject, ses=ses), confounds)\n",
    "    tsHipp = masker_hipp.transform(func_template.format(sub=subject, ses=ses),confounds)\n",
    "    tsvmPFC = masker_vmpfc.transform(func_template.format(sub=subject, ses=ses),confounds)\n",
    "    event = event_template.format(sub=subject, ses=ses)\n",
    "    events = pd.read_csv(event, sep='\\t')\n",
    "    onset = int(events.onset[events.trial_type_30=='trauma1_0']) # take onset of trauma first script\n",
    "    tsAmg_script = tsAmg[onset:onset+duration, :]\n",
    "    tsHipp_script = tsHipp[onset:onset+duration, :]\n",
    "    tsvmPFC_script = tsvmPFC[onset:onset+duration, :]\n",
    "    tsAmg_mean = np.mean(tsAmg_script, axis=1)\n",
    "    tsHipp_mean = np.mean(tsHipp_script, axis=1)\n",
    "    tsvmPFC_mean = np.mean(tsvmPFC_script, axis=1)\n",
    "    np.save(output_dir + 'sub-' + subject + 'amygdalaMeanTS' + 'ses-' + ses, tsAmg_mean)\n",
    "    np.save(output_dir + 'sub-' + subject + 'hippoMeanTS' + 'ses-' + ses, tsHipp_mean)\n",
    "    np.save(output_dir + 'sub-' + subject + 'vmPFCMeanTS' + 'ses-' + ses, tsvmPFC_mean)\n",
    "#     sub_tsAmg.append(tsAmg_mean)\n",
    "#     sub_tsHipp.append(tsHipp_mean)\n",
    "#     sub_tsvmPFC.append(tsvmPFC_mean)\n",
    "    return tsAmg_mean, tsHipp_mean , tsvmPFC_mean"
   ]
  },
  {
   "cell_type": "code",
   "execution_count": null,
   "metadata": {},
   "outputs": [],
   "source": [
    "## condition labels (ketamine , midazolam)\n",
    "# read file\n",
    "medication_cond = pd.read_csv('/home/or/kpe_task_analysis/task_based_analysis/kpe_sub_condition.csv')\n",
    "subject_list = np.array(medication_cond.scr_id)\n",
    "condition_label = np.array(medication_cond.med_cond)\n",
    "\n"
   ]
  },
  {
   "cell_type": "code",
   "execution_count": null,
   "metadata": {},
   "outputs": [],
   "source": [
    "subject_list = subject_list[0:24] # removing 1578 \n",
    "condition_label = condition_label[0:24]\n",
    "subject_list"
   ]
  },
  {
   "cell_type": "code",
   "execution_count": null,
   "metadata": {},
   "outputs": [],
   "source": [
    "infosource = pe.Node(util.IdentityInterface(fields=['subject_id'\n",
    "                                            ],\n",
    "                                    ),\n",
    "                  name=\"infosource\")\n",
    "infosource.iterables = [('subject_id', subject_list)]\n",
    "\n",
    "removeVars = pe.Node(util.Function(\n",
    "                    input_names=['sub','ses'],\n",
    "                    output_names=['finalConf'],\n",
    "                                     function=removeVars),\n",
    "                   name=\"removeVars\")\n",
    "\n",
    "removeVars.inputs.ses = ses\n",
    "\n",
    "runTimeSeries = pe.Node(util.Function(\n",
    "                    input_names=['sub','ses','confounds', 'output_dir'],\n",
    "                    output_names=['tsAmg_mean', 'tsHipp_mean', 'tsvmPFC_mean'],\n",
    "                                     function=pooledTS),\n",
    "                   name=\"runTimeSeries\")\n",
    "\n",
    "\n",
    "runTimeSeries.inputs.output_dir = output_dir\n",
    "runTimeSeries.inputs.ses = ses\n"
   ]
  },
  {
   "cell_type": "code",
   "execution_count": null,
   "metadata": {},
   "outputs": [],
   "source": [
    "amg_file"
   ]
  },
  {
   "cell_type": "code",
   "execution_count": null,
   "metadata": {},
   "outputs": [],
   "source": [
    "runTS = pe.Workflow(name='hippAmgTS', base_dir = output_dir)\n",
    "runTS.connect([\n",
    "    (infosource, removeVars, [('subject_id', 'sub')]),\n",
    "    (infosource, runTimeSeries, [('subject_id', 'sub')]),\n",
    "    (removeVars, runTimeSeries, [('finalConf', 'confounds')])\n",
    "])"
   ]
  },
  {
   "cell_type": "code",
   "execution_count": null,
   "metadata": {},
   "outputs": [],
   "source": [
    "runTS.run('MultiProc', plugin_args={'n_procs': 10})"
   ]
  },
  {
   "cell_type": "code",
   "execution_count": null,
   "metadata": {
    "scrolled": true
   },
   "outputs": [],
   "source": [
    "#subject_list = ['KPE008']\n",
    "subAmg, subHipp, subVMPFC = pooledTS(subject_list, '1')"
   ]
  },
  {
   "cell_type": "code",
   "execution_count": null,
   "metadata": {
    "scrolled": true
   },
   "outputs": [],
   "source": [
    "subAmg_2, subHipp_2 , subVMPFC_2= pooledTS(subject_list, '2')"
   ]
  },
  {
   "cell_type": "code",
   "execution_count": null,
   "metadata": {},
   "outputs": [],
   "source": [
    "plt.plot(subAmg[1])\n",
    "plt.plot(subHipp[1])\n",
    "plt.plot(subVMPFC[1])"
   ]
  },
  {
   "cell_type": "code",
   "execution_count": null,
   "metadata": {},
   "outputs": [],
   "source": [
    "np.array(subAmg_2).shape"
   ]
  },
  {
   "cell_type": "code",
   "execution_count": null,
   "metadata": {},
   "outputs": [],
   "source": [
    "#add both to same array\n",
    "both1 = np.dstack([subAmg, subHipp, subVMPFC])\n",
    "both1.shape\n",
    "both2 = np.dstack([subAmg_2, subHipp_2, subVMPFC_2])\n",
    "both2.shape\n"
   ]
  },
  {
   "cell_type": "code",
   "execution_count": null,
   "metadata": {},
   "outputs": [],
   "source": [
    "from nilearn import connectome\n",
    "connectome = connectome.ConnectivityMeasure(\n",
    "    kind='correlation', vectorize=False)\n",
    "\n",
    "mat_ses1 = connectome.fit_transform(both1)"
   ]
  },
  {
   "cell_type": "code",
   "execution_count": null,
   "metadata": {},
   "outputs": [],
   "source": [
    "sns.heatmap(np.mean(mat_ses1, axis=0), annot=True, cmap='coolwarm')"
   ]
  },
  {
   "cell_type": "code",
   "execution_count": null,
   "metadata": {},
   "outputs": [],
   "source": [
    "mat_ses2 = connectome.fit_transform(both2)\n",
    "sns.heatmap(np.mean(mat_ses2, axis=0), annot=True, cmap=\"coolwarm\")"
   ]
  },
  {
   "cell_type": "code",
   "execution_count": null,
   "metadata": {},
   "outputs": [],
   "source": [
    "ket1 = mat_ses1[condition_label==1]\n",
    "mid1 = mat_ses1[condition_label==0]\n",
    "ket2 = mat_ses2[condition_label==1]\n",
    "mid2 = mat_ses2[condition_label==0]\n",
    "sns.heatmap(np.mean(ket2, axis=0), cmap='coolwarm', annot=True)\n",
    "plt.show()\n",
    "sns.heatmap(np.mean(mid2, axis=0), cmap='coolwarm', annot=True)"
   ]
  },
  {
   "cell_type": "code",
   "execution_count": null,
   "metadata": {},
   "outputs": [],
   "source": [
    "t, p =scipy.stats.ttest_ind(ket2, mid2)"
   ]
  },
  {
   "cell_type": "code",
   "execution_count": null,
   "metadata": {},
   "outputs": [],
   "source": [
    "p"
   ]
  },
  {
   "cell_type": "code",
   "execution_count": null,
   "metadata": {},
   "outputs": [],
   "source": [
    "ket2_1 = np.subtract(ket2, ket1)\n",
    "mid2_1 = np.subtract(mid2, mid1)"
   ]
  },
  {
   "cell_type": "code",
   "execution_count": null,
   "metadata": {},
   "outputs": [],
   "source": [
    "t, p =scipy.stats.ttest_ind(ket2_1, mid2_1)\n",
    "p"
   ]
  },
  {
   "cell_type": "code",
   "execution_count": null,
   "metadata": {},
   "outputs": [],
   "source": [
    "sns.heatmap(t, cmap='coolwarm', annot=True)"
   ]
  },
  {
   "cell_type": "code",
   "execution_count": null,
   "metadata": {},
   "outputs": [],
   "source": [
    "mat2_1 = np.subtract(mat_ses2, mat_ses1)\n",
    "dfDelta = pd.DataFrame({'scr_id':subject_list, 'group':condition_label,\n",
    "                        'amg_hippo': mat2_1[:,0,1],\n",
    "                        'amg_vpmfc': mat2_1[:,0,2]})"
   ]
  },
  {
   "cell_type": "code",
   "execution_count": null,
   "metadata": {},
   "outputs": [],
   "source": [
    "sns.boxplot( y= 'amg_vpmfc',x= 'group', data= dfDelta, saturation=0.2)\n",
    "sns.stripplot( y= 'amg_vpmfc',x= 'group', data= dfDelta)\n",
    "scipy.stats.ttest_ind(dfDelta.amg_vpmfc[dfDelta.group==1], \n",
    "                      dfDelta.amg_vpmfc[dfDelta.group==0])"
   ]
  },
  {
   "cell_type": "code",
   "execution_count": null,
   "metadata": {},
   "outputs": [],
   "source": [
    "import pymc3 as pm\n",
    "from pymc3.glm import GLM\n",
    "\n",
    "with pm.Model() as model_glm:\n",
    "    GLM.from_formula('amg_vpmfc ~ group', dfDelta)\n",
    "    trace = pm.sample(draws=4000, tune=3000)"
   ]
  },
  {
   "cell_type": "code",
   "execution_count": null,
   "metadata": {},
   "outputs": [],
   "source": [
    "pm.summary(trace, credible_interval=.95).round(2)"
   ]
  },
  {
   "cell_type": "code",
   "execution_count": null,
   "metadata": {},
   "outputs": [],
   "source": [
    "ci = np.quantile(trace.group, [.025,.975]) # take credible intervals from the trace"
   ]
  },
  {
   "cell_type": "code",
   "execution_count": null,
   "metadata": {},
   "outputs": [],
   "source": [
    "fig, (ax1, ax2) = plt.subplots(1,2, figsize=(4, 5),gridspec_kw={'width_ratios': [1, .2],\n",
    "                                                        'wspace':.1})\n",
    "g1 = sns.stripplot(y= 'amg_vpmfc', x='group', data=dfDelta, size = 8, ax=ax1)\n",
    "sns.boxplot(y= 'amg_vpmfc', x='group', data=dfDelta,  ax=ax1,\n",
    "            boxprops=dict(alpha=.3))\n",
    "g2 = sns.distplot(trace['group'], ax = ax2, vertical=True)\n",
    "ax2.vlines(x=0.2,ymin=ci[0], ymax=ci[1], color='black', \n",
    "           linewidth = 1.5, linestyle = \"-\")\n",
    "\n",
    "#g3.set_ylim(-.7, .7)\n",
    "ax1.set_ylim(-.7,.7)\n",
    "ax2.set_ylim(-.7,.7)\n",
    "ax2.set_ylabel(\"Difference between groups\", fontsize=14) \n",
    "ax2.yaxis.set_label_position(\"right\")\n",
    "ax2.yaxis.tick_right()\n",
    "ax2.set_xticks([])\n",
    "ax1.set_ylabel(\"Amg-vmPFC change in connectivity\", fontsize=14)\n",
    "ax1.set_xlabel(\"Group\", fontsize=14)\n",
    "ax1.set_xticklabels(['Midazolam', 'Ketamine'])\n",
    "fig.savefig(\"amgvmPFC.png\", dpi=300,  bbox_inches='tight')"
   ]
  },
  {
   "cell_type": "code",
   "execution_count": null,
   "metadata": {},
   "outputs": [],
   "source": [
    "# only first 30sec\n",
    "both1_30 = both1[:, 0:120, :]\n",
    "both2_30 = both2[:, 0:120, :]\n",
    "\n",
    "mat_ses1_30 = connectome.fit_transform(both1_30)\n",
    "mat_ses2_30 = connectome.fit_transform(both2_30)"
   ]
  },
  {
   "cell_type": "code",
   "execution_count": null,
   "metadata": {},
   "outputs": [],
   "source": [
    "ket1 = mat_ses1_30[condition_label==1]\n",
    "mid1 = mat_ses1_30[condition_label==0]\n",
    "ket2 = mat_ses2_30[condition_label==1]\n",
    "mid2 = mat_ses2_30[condition_label==0]\n",
    "\n",
    "ket2_1 = np.subtract(ket2, ket1)\n",
    "mid2_1 = np.subtract(mid2, mid1)"
   ]
  },
  {
   "cell_type": "code",
   "execution_count": null,
   "metadata": {},
   "outputs": [],
   "source": [
    "t, p =scipy.stats.ttest_ind(ket2, mid2)\n",
    "p"
   ]
  },
  {
   "cell_type": "code",
   "execution_count": null,
   "metadata": {},
   "outputs": [],
   "source": [
    "## test for different time frames (30,60,90,120) sec\n",
    "ses = '2'\n",
    "duration = 60\n",
    "for sub in subject_list:\n",
    "        subject = sub.split('KPE')[1]\n",
    "        amgTS = np.load(output_dir + 'sub-' + subject + 'amygdalaMeanTS' + 'ses-' + ses + '.npy')\n",
    "        hippTS = np.load(output_dir + 'sub-' + subject + 'hippoMeanTS' + 'ses-' + ses + '.npy')\n",
    "        vmpfcTS = np.load(output_dir + 'sub-' + subject + 'vmPFCMeanTS' + 'ses-' + ses + '.npy')\n",
    "        "
   ]
  },
  {
   "cell_type": "code",
   "execution_count": null,
   "metadata": {},
   "outputs": [],
   "source": []
  }
 ],
 "metadata": {
  "kernelspec": {
   "display_name": "Python 3.7.7 64-bit ('neuroAnalysis': conda)",
   "language": "python",
   "name": "python37764bitneuroanalysiscondaa23731adadc74dd9881a406adec17ad1"
  },
  "language_info": {
   "codemirror_mode": {
    "name": "ipython",
    "version": 3
   },
   "file_extension": ".py",
   "mimetype": "text/x-python",
   "name": "python",
   "nbconvert_exporter": "python",
   "pygments_lexer": "ipython3",
   "version": "3.7.7"
  }
 },
 "nbformat": 4,
 "nbformat_minor": 4
}
