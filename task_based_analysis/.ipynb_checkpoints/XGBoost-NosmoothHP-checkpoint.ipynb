{
 "cells": [
  {
   "cell_type": "markdown",
   "metadata": {
    "slideshow": {
     "slide_type": "slide"
    }
   },
   "source": [
    "# Using machine learning XGboost classifier to look for different pattern between Ketamin and Midazolam groups"
   ]
  },
  {
   "cell_type": "code",
   "execution_count": 121,
   "metadata": {
    "slideshow": {
     "slide_type": "skip"
    }
   },
   "outputs": [],
   "source": [
    "# import relevant packages\n",
    "import glob\n",
    "import numpy as np\n",
    "import scipy\n",
    "import nilearn\n",
    "import nilearn.plotting\n",
    "import nilearn.input_data\n",
    "import matplotlib.pyplot as plt\n",
    "import seaborn as sns\n",
    "from xgboost import XGBClassifier\n",
    "from sklearn.model_selection import cross_val_score\n",
    "from sklearn.model_selection import StratifiedKFold\n",
    "from sklearn.model_selection import train_test_split\n",
    "from sklearn.metrics import accuracy_score"
   ]
  },
  {
   "cell_type": "markdown",
   "metadata": {
    "slideshow": {
     "slide_type": "slide"
    }
   },
   "source": [
    "## No apperant contribution to before/after treatment in general. \n",
    "- Lets look at group differences in ROIs $\\rightarrow$\n",
    "    * vmPFC\n",
    "    * Hippocampus\n",
    "    \n",
    "- We compare pattern of ROI activation in the trauma > relax contrast on the 2nd day"
   ]
  },
  {
   "cell_type": "code",
   "execution_count": 122,
   "metadata": {
    "slideshow": {
     "slide_type": "skip"
    }
   },
   "outputs": [],
   "source": [
    "# compare between groups\n",
    "import pandas as pd\n",
    "medication_cond = pd.read_csv('kpe_sub_condition.csv')\n",
    "\n",
    "\n",
    "ketamine_list = list(medication_cond['scr_id'][medication_cond['med_cond']==1])\n",
    "ket_list = []\n",
    "for subject in ketamine_list:\n",
    "    \n",
    "    sub = subject.split('KPE')[1]\n",
    "    ket_list.append(sub)\n",
    "\n",
    "\n",
    "midazolam_list = list(medication_cond['scr_id'][medication_cond['med_cond']==0])\n",
    "mid_list = []\n",
    "for subject in midazolam_list:\n",
    "    \n",
    "    sub = subject.split('KPE')[1]\n",
    "    mid_list.append(sub)\n",
    "#mid_list.remove('1480')"
   ]
  },
  {
   "cell_type": "code",
   "execution_count": 123,
   "metadata": {},
   "outputs": [
    {
     "name": "stdout",
     "output_type": "stream",
     "text": [
      "['008', '1223', '1293', '1307', '1315', '1322', '1339', '1343', '1387', '1419', '1464', '1499', '1573']\n",
      "['1253', '1263', '1351', '1356', '1364', '1369', '1390', '1403', '1468', '1480', '1561', '1578']\n"
     ]
    }
   ],
   "source": [
    "print(ket_list)\n",
    "print(mid_list)"
   ]
  },
  {
   "cell_type": "code",
   "execution_count": 124,
   "metadata": {},
   "outputs": [],
   "source": [
    "mid_list\n",
    "## only for 3rd session\n",
    "ket_list.remove('1315')"
   ]
  },
  {
   "cell_type": "code",
   "execution_count": 234,
   "metadata": {},
   "outputs": [],
   "source": [
    "# remove subjects in session 3\n",
    "mid_list.remove('1253')\n",
    "mid_list.remove('1468')\n",
    "mid_list.remove('1480')"
   ]
  },
  {
   "cell_type": "code",
   "execution_count": 125,
   "metadata": {},
   "outputs": [],
   "source": [
    "# only in 2nd session\n",
    "mid_list.remove('1578')\n",
    "# only for 3rd session\n",
    "#mid_list.remove('1253')\n",
    "#mid_list.remove('1480')"
   ]
  },
  {
   "cell_type": "code",
   "execution_count": 126,
   "metadata": {
    "slideshow": {
     "slide_type": "skip"
    }
   },
   "outputs": [],
   "source": [
    "ses = '2'\n",
    "ket_func = ['/gpfs/gibbs/pi/levy_ifat/Or/kpe/results/ScriptPart_ses%s_Nosmooth/modelfit/_subject_id_%s/modelestimate/results/cope7.nii.gz'% (ses,sub) for sub in ket_list]\n",
    "mid_func = ['/gpfs/gibbs/pi/levy_ifat/Or/kpe/results/ScriptPart_ses%s_Nosmooth/modelfit/_subject_id_%s/modelestimate/results/cope7.nii.gz'% (ses,sub) for sub in mid_list]"
   ]
  },
  {
   "cell_type": "code",
   "execution_count": 237,
   "metadata": {},
   "outputs": [],
   "source": [
    "# set n folds\n",
    "# In session 3 there are many NAs from Midazolam. So we set different fold than LOO (per group)\n",
    "n_folds= 7 #for 3rd session"
   ]
  },
  {
   "cell_type": "code",
   "execution_count": 127,
   "metadata": {},
   "outputs": [
    {
     "data": {
      "image/png": "[encoded data removed]",
      "text/plain": [
       "<Figure size 475.2x187.2 with 4 Axes>"
      ]
     },
     "metadata": {},
     "output_type": "display_data"
    }
   ],
   "source": [
    "mask_file = '/gpfs/gibbs/pi/levy_ifat/Or/ROI/hippocampus_association-test_z_FDR_0.01.nii.gz'\n",
    "mask_file = nilearn.image.math_img(\"a>=13\", a=mask_file)\n",
    "%matplotlib inline\n",
    "nilearn.plotting.plot_roi(mask_file)#, display_mode='x', cut_coords=[-26], annotate=False)\n",
    "masker = nilearn.input_data.NiftiMasker(mask_img=mask_file, \n",
    "                               sessions=None, smoothing_fwhm=2,\n",
    "                                        standardize=False, \n",
    "                                        detrend=False, verbose=5)"
   ]
  },
  {
   "cell_type": "code",
   "execution_count": 128,
   "metadata": {
    "slideshow": {
     "slide_type": "skip"
    }
   },
   "outputs": [
    {
     "name": "stdout",
     "output_type": "stream",
     "text": [
      "Running /gpfs/gibbs/pi/levy_ifat/Or/kpe/results/ScriptPart_ses2_Nosmooth/modelfit/_subject_id_008/modelestimate/results/cope7.nii.gz\n",
      "[NiftiMasker.fit] Loading data from None\n",
      "[NiftiMasker.fit] Resampling mask\n",
      "[NiftiMasker.transform_single_imgs] Loading data from Nifti1Image(\n",
      "shape=(97, 115, 97, 1),\n",
      "affine=array([[   2. ,    0. ,    0. ,  -96.5],\n",
      "       [   0. ,    2. ,    0. , -132.5],\n",
      "       [   0. ,    0. ,    2. ,  -78.5],\n",
      "       [   0. ,    0. ,    0. ,  \n",
      "[NiftiMasker.transform_single_imgs] Resampling images\n",
      "[NiftiMasker.transform_single_imgs] Smoothing images\n",
      "[NiftiMasker.transform_single_imgs] Extracting region signals\n",
      "[NiftiMasker.transform_single_imgs] Cleaning extracted signals\n",
      "Running /gpfs/gibbs/pi/levy_ifat/Or/kpe/results/ScriptPart_ses2_Nosmooth/modelfit/_subject_id_1223/modelestimate/results/cope7.nii.gz\n",
      "[NiftiMasker.fit] Loading data from None\n",
      "[NiftiMasker.fit] Resampling mask\n",
      "[NiftiMasker.transform_single_imgs] Loading data from Nifti1Image(\n",
      "shape=(97, 115, 97, 1),\n",
      "affine=array([[   2. ,    0. ,    0. ,  -96.5],\n",
      "       [   0. ,    2. ,    0. , -132.5],\n",
      "       [   0. ,    0. ,    2. ,  -78.5],\n",
      "       [   0. ,    0. ,    0. ,  \n",
      "[NiftiMasker.transform_single_imgs] Resampling images\n",
      "[NiftiMasker.transform_single_imgs] Smoothing images\n",
      "[NiftiMasker.transform_single_imgs] Extracting region signals\n",
      "[NiftiMasker.transform_single_imgs] Cleaning extracted signals\n",
      "Running /gpfs/gibbs/pi/levy_ifat/Or/kpe/results/ScriptPart_ses2_Nosmooth/modelfit/_subject_id_1293/modelestimate/results/cope7.nii.gz\n",
      "[NiftiMasker.fit] Loading data from None\n",
      "[NiftiMasker.fit] Resampling mask\n",
      "[NiftiMasker.transform_single_imgs] Loading data from Nifti1Image(\n",
      "shape=(97, 115, 97, 1),\n",
      "affine=array([[   2. ,    0. ,    0. ,  -96.5],\n",
      "       [   0. ,    2. ,    0. , -132.5],\n",
      "       [   0. ,    0. ,    2. ,  -78.5],\n",
      "       [   0. ,    0. ,    0. ,  \n",
      "[NiftiMasker.transform_single_imgs] Resampling images\n",
      "[NiftiMasker.transform_single_imgs] Smoothing images\n",
      "[NiftiMasker.transform_single_imgs] Extracting region signals\n",
      "[NiftiMasker.transform_single_imgs] Cleaning extracted signals\n",
      "Running /gpfs/gibbs/pi/levy_ifat/Or/kpe/results/ScriptPart_ses2_Nosmooth/modelfit/_subject_id_1307/modelestimate/results/cope7.nii.gz\n",
      "[NiftiMasker.fit] Loading data from None\n",
      "[NiftiMasker.fit] Resampling mask\n",
      "[NiftiMasker.transform_single_imgs] Loading data from Nifti1Image(\n",
      "shape=(97, 115, 97, 1),\n",
      "affine=array([[   2. ,    0. ,    0. ,  -96.5],\n",
      "       [   0. ,    2. ,    0. , -132.5],\n",
      "       [   0. ,    0. ,    2. ,  -78.5],\n",
      "       [   0. ,    0. ,    0. ,  \n",
      "[NiftiMasker.transform_single_imgs] Resampling images\n",
      "[NiftiMasker.transform_single_imgs] Smoothing images\n",
      "[NiftiMasker.transform_single_imgs] Extracting region signals\n",
      "[NiftiMasker.transform_single_imgs] Cleaning extracted signals\n",
      "Running /gpfs/gibbs/pi/levy_ifat/Or/kpe/results/ScriptPart_ses2_Nosmooth/modelfit/_subject_id_1322/modelestimate/results/cope7.nii.gz\n",
      "[NiftiMasker.fit] Loading data from None\n",
      "[NiftiMasker.fit] Resampling mask\n",
      "[NiftiMasker.transform_single_imgs] Loading data from Nifti1Image(\n",
      "shape=(97, 115, 97, 1),\n",
      "affine=array([[   2. ,    0. ,    0. ,  -96.5],\n",
      "       [   0. ,    2. ,    0. , -132.5],\n",
      "       [   0. ,    0. ,    2. ,  -78.5],\n",
      "       [   0. ,    0. ,    0. ,  \n",
      "[NiftiMasker.transform_single_imgs] Resampling images\n",
      "[NiftiMasker.transform_single_imgs] Smoothing images\n",
      "[NiftiMasker.transform_single_imgs] Extracting region signals\n",
      "[NiftiMasker.transform_single_imgs] Cleaning extracted signals\n",
      "Running /gpfs/gibbs/pi/levy_ifat/Or/kpe/results/ScriptPart_ses2_Nosmooth/modelfit/_subject_id_1339/modelestimate/results/cope7.nii.gz\n",
      "[NiftiMasker.fit] Loading data from None\n",
      "[NiftiMasker.fit] Resampling mask\n",
      "[NiftiMasker.transform_single_imgs] Loading data from Nifti1Image(\n",
      "shape=(97, 115, 97, 1),\n",
      "affine=array([[   2. ,    0. ,    0. ,  -96.5],\n",
      "       [   0. ,    2. ,    0. , -132.5],\n",
      "       [   0. ,    0. ,    2. ,  -78.5],\n",
      "       [   0. ,    0. ,    0. ,  \n",
      "[NiftiMasker.transform_single_imgs] Resampling images\n",
      "[NiftiMasker.transform_single_imgs] Smoothing images\n",
      "[NiftiMasker.transform_single_imgs] Extracting region signals\n",
      "[NiftiMasker.transform_single_imgs] Cleaning extracted signals\n",
      "Running /gpfs/gibbs/pi/levy_ifat/Or/kpe/results/ScriptPart_ses2_Nosmooth/modelfit/_subject_id_1343/modelestimate/results/cope7.nii.gz\n",
      "[NiftiMasker.fit] Loading data from None\n",
      "[NiftiMasker.fit] Resampling mask\n",
      "[NiftiMasker.transform_single_imgs] Loading data from Nifti1Image(\n",
      "shape=(97, 115, 97, 1),\n",
      "affine=array([[   2. ,    0. ,    0. ,  -96.5],\n",
      "       [   0. ,    2. ,    0. , -132.5],\n",
      "       [   0. ,    0. ,    2. ,  -78.5],\n",
      "       [   0. ,    0. ,    0. ,  \n",
      "[NiftiMasker.transform_single_imgs] Resampling images\n",
      "[NiftiMasker.transform_single_imgs] Smoothing images\n",
      "[NiftiMasker.transform_single_imgs] Extracting region signals\n",
      "[NiftiMasker.transform_single_imgs] Cleaning extracted signals\n",
      "Running /gpfs/gibbs/pi/levy_ifat/Or/kpe/results/ScriptPart_ses2_Nosmooth/modelfit/_subject_id_1387/modelestimate/results/cope7.nii.gz\n",
      "[NiftiMasker.fit] Loading data from None\n",
      "[NiftiMasker.fit] Resampling mask\n",
      "[NiftiMasker.transform_single_imgs] Loading data from Nifti1Image(\n",
      "shape=(97, 115, 97, 1),\n",
      "affine=array([[   2. ,    0. ,    0. ,  -96.5],\n",
      "       [   0. ,    2. ,    0. , -132.5],\n",
      "       [   0. ,    0. ,    2. ,  -78.5],\n",
      "       [   0. ,    0. ,    0. ,  \n",
      "[NiftiMasker.transform_single_imgs] Resampling images\n",
      "[NiftiMasker.transform_single_imgs] Smoothing images\n",
      "[NiftiMasker.transform_single_imgs] Extracting region signals\n",
      "[NiftiMasker.transform_single_imgs] Cleaning extracted signals\n",
      "Running /gpfs/gibbs/pi/levy_ifat/Or/kpe/results/ScriptPart_ses2_Nosmooth/modelfit/_subject_id_1419/modelestimate/results/cope7.nii.gz\n",
      "[NiftiMasker.fit] Loading data from None\n",
      "[NiftiMasker.fit] Resampling mask\n",
      "[NiftiMasker.transform_single_imgs] Loading data from Nifti1Image(\n",
      "shape=(97, 115, 97, 1),\n",
      "affine=array([[   2. ,    0. ,    0. ,  -96.5],\n",
      "       [   0. ,    2. ,    0. , -132.5],\n",
      "       [   0. ,    0. ,    2. ,  -78.5],\n",
      "       [   0. ,    0. ,    0. ,  \n",
      "[NiftiMasker.transform_single_imgs] Resampling images\n",
      "[NiftiMasker.transform_single_imgs] Smoothing images\n",
      "[NiftiMasker.transform_single_imgs] Extracting region signals\n",
      "[NiftiMasker.transform_single_imgs] Cleaning extracted signals\n",
      "Running /gpfs/gibbs/pi/levy_ifat/Or/kpe/results/ScriptPart_ses2_Nosmooth/modelfit/_subject_id_1464/modelestimate/results/cope7.nii.gz\n",
      "[NiftiMasker.fit] Loading data from None\n",
      "[NiftiMasker.fit] Resampling mask\n",
      "[NiftiMasker.transform_single_imgs] Loading data from Nifti1Image(\n",
      "shape=(97, 115, 97, 1),\n",
      "affine=array([[   2. ,    0. ,    0. ,  -96.5],\n",
      "       [   0. ,    2. ,    0. , -132.5],\n",
      "       [   0. ,    0. ,    2. ,  -78.5],\n",
      "       [   0. ,    0. ,    0. ,  \n",
      "[NiftiMasker.transform_single_imgs] Resampling images\n",
      "[NiftiMasker.transform_single_imgs] Smoothing images\n",
      "[NiftiMasker.transform_single_imgs] Extracting region signals\n",
      "[NiftiMasker.transform_single_imgs] Cleaning extracted signals\n",
      "Running /gpfs/gibbs/pi/levy_ifat/Or/kpe/results/ScriptPart_ses2_Nosmooth/modelfit/_subject_id_1499/modelestimate/results/cope7.nii.gz\n",
      "[NiftiMasker.fit] Loading data from None\n",
      "[NiftiMasker.fit] Resampling mask\n",
      "[NiftiMasker.transform_single_imgs] Loading data from Nifti1Image(\n",
      "shape=(97, 115, 97, 1),\n",
      "affine=array([[   2. ,    0. ,    0. ,  -96.5],\n",
      "       [   0. ,    2. ,    0. , -132.5],\n",
      "       [   0. ,    0. ,    2. ,  -78.5],\n",
      "       [   0. ,    0. ,    0. ,  \n",
      "[NiftiMasker.transform_single_imgs] Resampling images\n",
      "[NiftiMasker.transform_single_imgs] Smoothing images\n",
      "[NiftiMasker.transform_single_imgs] Extracting region signals\n",
      "[NiftiMasker.transform_single_imgs] Cleaning extracted signals\n",
      "Running /gpfs/gibbs/pi/levy_ifat/Or/kpe/results/ScriptPart_ses2_Nosmooth/modelfit/_subject_id_1573/modelestimate/results/cope7.nii.gz\n",
      "[NiftiMasker.fit] Loading data from None\n",
      "[NiftiMasker.fit] Resampling mask\n",
      "[NiftiMasker.transform_single_imgs] Loading data from Nifti1Image(\n",
      "shape=(97, 115, 97, 1),\n",
      "affine=array([[   2. ,    0. ,    0. ,  -96.5],\n",
      "       [   0. ,    2. ,    0. , -132.5],\n",
      "       [   0. ,    0. ,    2. ,  -78.5],\n",
      "       [   0. ,    0. ,    0. ,  \n",
      "[NiftiMasker.transform_single_imgs] Resampling images\n",
      "[NiftiMasker.transform_single_imgs] Smoothing images\n",
      "[NiftiMasker.transform_single_imgs] Extracting region signals\n"
     ]
    },
    {
     "name": "stdout",
     "output_type": "stream",
     "text": [
      "[NiftiMasker.transform_single_imgs] Cleaning extracted signals\n",
      "Running /gpfs/gibbs/pi/levy_ifat/Or/kpe/results/ScriptPart_ses2_Nosmooth/modelfit/_subject_id_1253/modelestimate/results/cope7.nii.gz\n",
      "[NiftiMasker.fit] Loading data from None\n",
      "[NiftiMasker.fit] Resampling mask\n",
      "[NiftiMasker.transform_single_imgs] Loading data from Nifti1Image(\n",
      "shape=(97, 115, 97, 1),\n",
      "affine=array([[   2. ,    0. ,    0. ,  -96.5],\n",
      "       [   0. ,    2. ,    0. , -132.5],\n",
      "       [   0. ,    0. ,    2. ,  -78.5],\n",
      "       [   0. ,    0. ,    0. ,  \n",
      "[NiftiMasker.transform_single_imgs] Resampling images\n",
      "[NiftiMasker.transform_single_imgs] Smoothing images\n",
      "[NiftiMasker.transform_single_imgs] Extracting region signals\n",
      "[NiftiMasker.transform_single_imgs] Cleaning extracted signals\n",
      "Running /gpfs/gibbs/pi/levy_ifat/Or/kpe/results/ScriptPart_ses2_Nosmooth/modelfit/_subject_id_1263/modelestimate/results/cope7.nii.gz\n",
      "[NiftiMasker.fit] Loading data from None\n",
      "[NiftiMasker.fit] Resampling mask\n",
      "[NiftiMasker.transform_single_imgs] Loading data from Nifti1Image(\n",
      "shape=(97, 115, 97, 1),\n",
      "affine=array([[   2. ,    0. ,    0. ,  -96.5],\n",
      "       [   0. ,    2. ,    0. , -132.5],\n",
      "       [   0. ,    0. ,    2. ,  -78.5],\n",
      "       [   0. ,    0. ,    0. ,  \n",
      "[NiftiMasker.transform_single_imgs] Resampling images\n",
      "[NiftiMasker.transform_single_imgs] Smoothing images\n",
      "[NiftiMasker.transform_single_imgs] Extracting region signals\n",
      "[NiftiMasker.transform_single_imgs] Cleaning extracted signals\n",
      "Running /gpfs/gibbs/pi/levy_ifat/Or/kpe/results/ScriptPart_ses2_Nosmooth/modelfit/_subject_id_1351/modelestimate/results/cope7.nii.gz\n",
      "[NiftiMasker.fit] Loading data from None\n",
      "[NiftiMasker.fit] Resampling mask\n",
      "[NiftiMasker.transform_single_imgs] Loading data from Nifti1Image(\n",
      "shape=(97, 115, 97, 1),\n",
      "affine=array([[   2. ,    0. ,    0. ,  -96.5],\n",
      "       [   0. ,    2. ,    0. , -132.5],\n",
      "       [   0. ,    0. ,    2. ,  -78.5],\n",
      "       [   0. ,    0. ,    0. ,  \n",
      "[NiftiMasker.transform_single_imgs] Resampling images\n",
      "[NiftiMasker.transform_single_imgs] Smoothing images\n",
      "[NiftiMasker.transform_single_imgs] Extracting region signals\n",
      "[NiftiMasker.transform_single_imgs] Cleaning extracted signals\n",
      "Running /gpfs/gibbs/pi/levy_ifat/Or/kpe/results/ScriptPart_ses2_Nosmooth/modelfit/_subject_id_1356/modelestimate/results/cope7.nii.gz\n",
      "[NiftiMasker.fit] Loading data from None\n",
      "[NiftiMasker.fit] Resampling mask\n",
      "[NiftiMasker.transform_single_imgs] Loading data from Nifti1Image(\n",
      "shape=(97, 115, 97, 1),\n",
      "affine=array([[   2. ,    0. ,    0. ,  -96.5],\n",
      "       [   0. ,    2. ,    0. , -132.5],\n",
      "       [   0. ,    0. ,    2. ,  -78.5],\n",
      "       [   0. ,    0. ,    0. ,  \n",
      "[NiftiMasker.transform_single_imgs] Resampling images\n",
      "[NiftiMasker.transform_single_imgs] Smoothing images\n",
      "[NiftiMasker.transform_single_imgs] Extracting region signals\n",
      "[NiftiMasker.transform_single_imgs] Cleaning extracted signals\n",
      "Running /gpfs/gibbs/pi/levy_ifat/Or/kpe/results/ScriptPart_ses2_Nosmooth/modelfit/_subject_id_1364/modelestimate/results/cope7.nii.gz\n",
      "[NiftiMasker.fit] Loading data from None\n",
      "[NiftiMasker.fit] Resampling mask\n",
      "[NiftiMasker.transform_single_imgs] Loading data from Nifti1Image(\n",
      "shape=(97, 115, 97, 1),\n",
      "affine=array([[   2. ,    0. ,    0. ,  -96.5],\n",
      "       [   0. ,    2. ,    0. , -132.5],\n",
      "       [   0. ,    0. ,    2. ,  -78.5],\n",
      "       [   0. ,    0. ,    0. ,  \n",
      "[NiftiMasker.transform_single_imgs] Resampling images\n",
      "[NiftiMasker.transform_single_imgs] Smoothing images\n",
      "[NiftiMasker.transform_single_imgs] Extracting region signals\n",
      "[NiftiMasker.transform_single_imgs] Cleaning extracted signals\n",
      "Running /gpfs/gibbs/pi/levy_ifat/Or/kpe/results/ScriptPart_ses2_Nosmooth/modelfit/_subject_id_1369/modelestimate/results/cope7.nii.gz\n",
      "[NiftiMasker.fit] Loading data from None\n",
      "[NiftiMasker.fit] Resampling mask\n",
      "[NiftiMasker.transform_single_imgs] Loading data from Nifti1Image(\n",
      "shape=(97, 115, 97, 1),\n",
      "affine=array([[   2. ,    0. ,    0. ,  -96.5],\n",
      "       [   0. ,    2. ,    0. , -132.5],\n",
      "       [   0. ,    0. ,    2. ,  -78.5],\n",
      "       [   0. ,    0. ,    0. ,  \n",
      "[NiftiMasker.transform_single_imgs] Resampling images\n",
      "[NiftiMasker.transform_single_imgs] Smoothing images\n",
      "[NiftiMasker.transform_single_imgs] Extracting region signals\n",
      "[NiftiMasker.transform_single_imgs] Cleaning extracted signals\n",
      "Running /gpfs/gibbs/pi/levy_ifat/Or/kpe/results/ScriptPart_ses2_Nosmooth/modelfit/_subject_id_1390/modelestimate/results/cope7.nii.gz\n",
      "[NiftiMasker.fit] Loading data from None\n",
      "[NiftiMasker.fit] Resampling mask\n",
      "[NiftiMasker.transform_single_imgs] Loading data from Nifti1Image(\n",
      "shape=(97, 115, 97, 1),\n",
      "affine=array([[   2. ,    0. ,    0. ,  -96.5],\n",
      "       [   0. ,    2. ,    0. , -132.5],\n",
      "       [   0. ,    0. ,    2. ,  -78.5],\n",
      "       [   0. ,    0. ,    0. ,  \n",
      "[NiftiMasker.transform_single_imgs] Resampling images\n",
      "[NiftiMasker.transform_single_imgs] Smoothing images\n",
      "[NiftiMasker.transform_single_imgs] Extracting region signals\n",
      "[NiftiMasker.transform_single_imgs] Cleaning extracted signals\n",
      "Running /gpfs/gibbs/pi/levy_ifat/Or/kpe/results/ScriptPart_ses2_Nosmooth/modelfit/_subject_id_1403/modelestimate/results/cope7.nii.gz\n",
      "[NiftiMasker.fit] Loading data from None\n",
      "[NiftiMasker.fit] Resampling mask\n",
      "[NiftiMasker.transform_single_imgs] Loading data from Nifti1Image(\n",
      "shape=(97, 115, 97, 1),\n",
      "affine=array([[   2. ,    0. ,    0. ,  -96.5],\n",
      "       [   0. ,    2. ,    0. , -132.5],\n",
      "       [   0. ,    0. ,    2. ,  -78.5],\n",
      "       [   0. ,    0. ,    0. ,  \n",
      "[NiftiMasker.transform_single_imgs] Resampling images\n",
      "[NiftiMasker.transform_single_imgs] Smoothing images\n",
      "[NiftiMasker.transform_single_imgs] Extracting region signals\n",
      "[NiftiMasker.transform_single_imgs] Cleaning extracted signals\n",
      "Running /gpfs/gibbs/pi/levy_ifat/Or/kpe/results/ScriptPart_ses2_Nosmooth/modelfit/_subject_id_1468/modelestimate/results/cope7.nii.gz\n",
      "[NiftiMasker.fit] Loading data from None\n",
      "[NiftiMasker.fit] Resampling mask\n",
      "[NiftiMasker.transform_single_imgs] Loading data from Nifti1Image(\n",
      "shape=(97, 115, 97, 1),\n",
      "affine=array([[   2. ,    0. ,    0. ,  -96.5],\n",
      "       [   0. ,    2. ,    0. , -132.5],\n",
      "       [   0. ,    0. ,    2. ,  -78.5],\n",
      "       [   0. ,    0. ,    0. ,  \n",
      "[NiftiMasker.transform_single_imgs] Resampling images\n",
      "[NiftiMasker.transform_single_imgs] Smoothing images\n",
      "[NiftiMasker.transform_single_imgs] Extracting region signals\n",
      "[NiftiMasker.transform_single_imgs] Cleaning extracted signals\n",
      "Running /gpfs/gibbs/pi/levy_ifat/Or/kpe/results/ScriptPart_ses2_Nosmooth/modelfit/_subject_id_1480/modelestimate/results/cope7.nii.gz\n",
      "[NiftiMasker.fit] Loading data from None\n",
      "[NiftiMasker.fit] Resampling mask\n",
      "[NiftiMasker.transform_single_imgs] Loading data from Nifti1Image(\n",
      "shape=(97, 115, 97, 1),\n",
      "affine=array([[   2. ,    0. ,    0. ,  -96.5],\n",
      "       [   0. ,    2. ,    0. , -132.5],\n",
      "       [   0. ,    0. ,    2. ,  -78.5],\n",
      "       [   0. ,    0. ,    0. ,  \n",
      "[NiftiMasker.transform_single_imgs] Resampling images\n",
      "[NiftiMasker.transform_single_imgs] Smoothing images\n",
      "[NiftiMasker.transform_single_imgs] Extracting region signals\n",
      "[NiftiMasker.transform_single_imgs] Cleaning extracted signals\n",
      "Running /gpfs/gibbs/pi/levy_ifat/Or/kpe/results/ScriptPart_ses2_Nosmooth/modelfit/_subject_id_1561/modelestimate/results/cope7.nii.gz\n",
      "[NiftiMasker.fit] Loading data from None\n",
      "[NiftiMasker.fit] Resampling mask\n",
      "[NiftiMasker.transform_single_imgs] Loading data from Nifti1Image(\n",
      "shape=(97, 115, 97, 1),\n",
      "affine=array([[   2. ,    0. ,    0. ,  -96.5],\n",
      "       [   0. ,    2. ,    0. , -132.5],\n",
      "       [   0. ,    0. ,    2. ,  -78.5],\n",
      "       [   0. ,    0. ,    0. ,  \n",
      "[NiftiMasker.transform_single_imgs] Resampling images\n",
      "[NiftiMasker.transform_single_imgs] Smoothing images\n",
      "[NiftiMasker.transform_single_imgs] Extracting region signals\n",
      "[NiftiMasker.transform_single_imgs] Cleaning extracted signals\n"
     ]
    },
    {
     "data": {
      "text/plain": [
       "(23, 1265)"
      ]
     },
     "execution_count": 128,
     "metadata": {},
     "output_type": "execute_result"
    }
   ],
   "source": [
    "ketamine = []\n",
    "for func in ket_func:\n",
    "    print(f'Running {func}')\n",
    "    beta = masker.fit_transform(func)\n",
    "    ketamine.append(beta)\n",
    "\n",
    "midazolam = []\n",
    "for func in mid_func:\n",
    "    print(f'Running {func}')\n",
    "    beta = masker.fit_transform(func)\n",
    "    midazolam.append(beta)\n",
    "\n",
    "ketArr = np.array(ketamine)\n",
    "ketArr_reshape= np.array(ketArr).reshape(ketArr.shape[0], ketArr.shape[2])\n",
    "ketArr_reshape.shape\n",
    "\n",
    "\n",
    "midArr = np.array(midazolam)\n",
    "midArr_reshape= np.array(midArr).reshape(midArr.shape[0], midArr.shape[2])\n",
    "midArr_reshape.shape\n",
    "\n",
    "\n",
    "## Create condition labels (1 = plus, 0 = minus)\n",
    "label1 = [1] * ketArr.shape[0]\n",
    "label2 = [0] * midArr.shape[0]\n",
    "condition_label = np.concatenate([label1, label2])\n",
    "condition_label\n",
    "\n",
    "X = np.concatenate([ketArr, midArr])\n",
    "X = X.reshape(X.shape[0], midArr_reshape.shape[1])\n",
    "X.shape"
   ]
  },
  {
   "cell_type": "code",
   "execution_count": 212,
   "metadata": {},
   "outputs": [
    {
     "data": {
      "text/plain": [
       "11"
      ]
     },
     "execution_count": 212,
     "metadata": {},
     "output_type": "execute_result"
    }
   ],
   "source": [
    "n_folds"
   ]
  },
  {
   "cell_type": "code",
   "execution_count": 213,
   "metadata": {
    "slideshow": {
     "slide_type": "slide"
    }
   },
   "outputs": [],
   "source": [
    "#from sklearn.model_selection import StratifiedKFold\n",
    "from sklearn.svm import LinearSVC\n",
    "\n",
    "from sklearn import svm\n",
    "model = XGBClassifier(n_jobs=7)\n",
    "\n",
    "## Here we use stratified K-fold with shuffling to generate different shuffling of leave one subject out\n",
    "cv = StratifiedKFold(n_splits=11, shuffle=True) # running for each subject\n"
   ]
  },
  {
   "cell_type": "code",
   "execution_count": 216,
   "metadata": {},
   "outputs": [],
   "source": [
    "scores = cross_val_score(model,\n",
    "                            X,\n",
    "                            y=condition_label,\n",
    "                            cv=cv,\n",
    "                            groups=condition_label,\n",
    "                            scoring= \"roc_auc\",\n",
    "                            n_jobs=5, # set number of CPUs\n",
    "                            #verbose = 5 # set some details of the activity \n",
    "                            )"
   ]
  },
  {
   "cell_type": "code",
   "execution_count": 217,
   "metadata": {},
   "outputs": [
    {
     "data": {
      "text/plain": [
       "array([1., 1., 1., 0., 0., 0., 1., 0., 0., 1., 1.])"
      ]
     },
     "execution_count": 217,
     "metadata": {},
     "output_type": "execute_result"
    }
   ],
   "source": [
    "scores"
   ]
  },
  {
   "cell_type": "markdown",
   "metadata": {
    "slideshow": {
     "slide_type": "slide"
    }
   },
   "source": [
    "## Use shuffle split to randomize and run the XGboost N times\n",
    "- This will create a distribution of estimation level \n",
    "- We can then better estimate how really its more accurate than chance\n"
   ]
  },
  {
   "cell_type": "code",
   "execution_count": 190,
   "metadata": {
    "scrolled": true,
    "slideshow": {
     "slide_type": "subslide"
    }
   },
   "outputs": [
    {
     "name": "stdout",
     "output_type": "stream",
     "text": [
      " Running 1 iteration\n",
      " Running 2 iteration\n",
      " Running 3 iteration\n",
      " Running 4 iteration\n",
      " Running 5 iteration\n",
      " Running 6 iteration\n",
      " Running 7 iteration\n",
      " Running 8 iteration\n",
      " Running 9 iteration\n",
      " Running 10 iteration\n",
      " Running 11 iteration\n",
      " Running 12 iteration\n",
      " Running 13 iteration\n",
      " Running 14 iteration\n",
      " Running 15 iteration\n",
      " Running 16 iteration\n",
      " Running 17 iteration\n",
      " Running 18 iteration\n",
      " Running 19 iteration\n",
      " Running 20 iteration\n",
      " Running 21 iteration\n",
      " Running 22 iteration\n",
      " Running 23 iteration\n",
      " Running 24 iteration\n",
      " Running 25 iteration\n",
      " Running 26 iteration\n",
      " Running 27 iteration\n",
      " Running 28 iteration\n",
      " Running 29 iteration\n",
      " Running 30 iteration\n",
      " Running 31 iteration\n",
      " Running 32 iteration\n",
      " Running 33 iteration\n",
      " Running 34 iteration\n",
      " Running 35 iteration\n",
      " Running 36 iteration\n",
      " Running 37 iteration\n",
      " Running 38 iteration\n",
      " Running 39 iteration\n",
      " Running 40 iteration\n",
      " Running 41 iteration\n",
      " Running 42 iteration\n",
      " Running 43 iteration\n",
      " Running 44 iteration\n",
      " Running 45 iteration\n",
      " Running 46 iteration\n",
      " Running 47 iteration\n",
      " Running 48 iteration\n",
      " Running 49 iteration\n",
      " Running 50 iteration\n",
      " Running 51 iteration\n",
      " Running 52 iteration\n",
      " Running 53 iteration\n",
      " Running 54 iteration\n",
      " Running 55 iteration\n",
      " Running 56 iteration\n",
      " Running 57 iteration\n",
      " Running 58 iteration\n",
      " Running 59 iteration\n",
      " Running 60 iteration\n",
      " Running 61 iteration\n",
      " Running 62 iteration\n",
      " Running 63 iteration\n",
      " Running 64 iteration\n",
      " Running 65 iteration\n",
      " Running 66 iteration\n",
      " Running 67 iteration\n",
      " Running 68 iteration\n",
      " Running 69 iteration\n",
      " Running 70 iteration\n",
      " Running 71 iteration\n",
      " Running 72 iteration\n",
      " Running 73 iteration\n",
      " Running 74 iteration\n",
      " Running 75 iteration\n",
      " Running 76 iteration\n",
      " Running 77 iteration\n",
      " Running 78 iteration\n",
      " Running 79 iteration\n",
      " Running 80 iteration\n",
      " Running 81 iteration\n",
      " Running 82 iteration\n",
      " Running 83 iteration\n",
      " Running 84 iteration\n",
      " Running 85 iteration\n",
      " Running 86 iteration\n",
      " Running 87 iteration\n",
      " Running 88 iteration\n",
      " Running 89 iteration\n",
      " Running 90 iteration\n",
      " Running 91 iteration\n",
      " Running 92 iteration\n",
      " Running 93 iteration\n",
      " Running 94 iteration\n",
      " Running 95 iteration\n",
      " Running 96 iteration\n",
      " Running 97 iteration\n",
      " Running 98 iteration\n",
      " Running 99 iteration\n",
      " Running 100 iteration\n"
     ]
    }
   ],
   "source": [
    "n_iter = 100\n",
    "rand_score = []\n",
    "for i in range(n_iter):\n",
    "    print(f' Running {i+1} iteration')\n",
    "    mean_scores = []\n",
    "    scores = cross_val_score(model,\n",
    "                            X,\n",
    "                            y=condition_label,\n",
    "                            cv=cv,\n",
    "                            groups=condition_label,\n",
    "                            scoring= \"roc_auc\",#\"f1\",#\"accuracy\",\n",
    "                            n_jobs=5, # set number of CPUs\n",
    "                            #verbose = 5 # set some details of the activity \n",
    "                            )\n",
    "    mean_scores.append(scores.mean())\n",
    "    rand_score.append(mean_scores)"
   ]
  },
  {
   "cell_type": "markdown",
   "metadata": {
    "slideshow": {
     "slide_type": "slide"
    }
   },
   "source": [
    "### Plotting area under ROC curve ditribution and printing average and standard deviation of the distribution"
   ]
  },
  {
   "cell_type": "code",
   "execution_count": 191,
   "metadata": {
    "slideshow": {
     "slide_type": "fragment"
    }
   },
   "outputs": [
    {
     "name": "stdout",
     "output_type": "stream",
     "text": [
      "Area under curve: 0.87 (+/- 0.18)\n",
      "95% CI is [0.70340909 1.        ]\n"
     ]
    },
    {
     "data": {
      "text/plain": [
       "<matplotlib.axes._subplots.AxesSubplot at 0x2b802244fad0>"
      ]
     },
     "execution_count": 191,
     "metadata": {},
     "output_type": "execute_result"
    },
    {
     "data": {
      "image/png": "[encoded data removed]",
      "text/plain": [
       "<Figure size 432x288 with 1 Axes>"
      ]
     },
     "metadata": {
      "needs_background": "light"
     },
     "output_type": "display_data"
    }
   ],
   "source": [
    "rand_score = np.array(rand_score)\n",
    "print(\"Area under curve: %0.2f (+/- %0.2f)\" % (np.mean(rand_score), np.std(rand_score) * 2))\n",
    "print(f'95% CI is {np.quantile(rand_score, [0.025, 0.975])}')\n",
    "sns.distplot(rand_score)"
   ]
  },
  {
   "cell_type": "code",
   "execution_count": 169,
   "metadata": {},
   "outputs": [
    {
     "name": "stderr",
     "output_type": "stream",
     "text": [
      "[Parallel(n_jobs=10)]: Using backend LokyBackend with 10 concurrent workers.\n",
      "[Parallel(n_jobs=10)]: Done  42 out of  50 | elapsed:   41.5s remaining:    7.9s\n"
     ]
    },
    {
     "name": "stdout",
     "output_type": "stream",
     "text": [
      "Classification score 0.8181818181818182 (pvalue : 0.1568627450980392)\n"
     ]
    },
    {
     "name": "stderr",
     "output_type": "stream",
     "text": [
      "[Parallel(n_jobs=10)]: Done  50 out of  50 | elapsed:   44.8s finished\n"
     ]
    }
   ],
   "source": [
    "## use sklearn permutation test\n",
    "from sklearn.model_selection import permutation_test_score\n",
    "score, permutation_scores, pvalue = permutation_test_score(\n",
    "    model, X, condition_label, scoring=\"roc_auc\", cv=cv, n_permutations=50, n_jobs=10, \n",
    "    verbose=5, random_state=121)\n",
    "#roc_auc\n",
    "print(\"Classification score %s (pvalue : %s)\" % (score, pvalue))"
   ]
  },
  {
   "cell_type": "markdown",
   "metadata": {
    "slideshow": {
     "slide_type": "slide"
    }
   },
   "source": [
    "## Now we do similar thing but with vmPFC \n",
    "As it might be involved in regular (no reconsolidated) extinction learning"
   ]
  },
  {
   "cell_type": "code",
   "execution_count": 210,
   "metadata": {
    "slideshow": {
     "slide_type": "fragment"
    }
   },
   "outputs": [
    {
     "data": {
      "image/png": "[encoded data removed]",
      "text/plain": [
       "<Figure size 475.2x187.2 with 4 Axes>"
      ]
     },
     "metadata": {},
     "output_type": "display_data"
    }
   ],
   "source": [
    "mask_file = '/gpfs/gibbs/pi/levy_ifat/Or/ROI/vmpfc_association-test_z_FDR_0.01.nii.gz'\n",
    "mask_file = nilearn.image.math_img(\"a>=2\", a=mask_file)\n",
    "%matplotlib inline\n",
    "nilearn.plotting.plot_roi(mask_file)\n",
    "masker = nilearn.input_data.NiftiMasker(mask_img=mask_file, \n",
    "                               smoothing_fwhm=1, standardize=True, \n",
    "                                        detrend=False, verbose=5)"
   ]
  },
  {
   "cell_type": "code",
   "execution_count": 211,
   "metadata": {
    "slideshow": {
     "slide_type": "skip"
    }
   },
   "outputs": [
    {
     "name": "stdout",
     "output_type": "stream",
     "text": [
      "Running /gpfs/gibbs/pi/levy_ifat/Or/kpe/results/ScriptPart_ses2_Nosmooth/modelfit/_subject_id_008/modelestimate/results/cope7.nii.gz\n",
      "[NiftiMasker.fit] Loading data from None\n",
      "[NiftiMasker.fit] Resampling mask\n",
      "[NiftiMasker.transform_single_imgs] Loading data from Nifti1Image(\n",
      "shape=(97, 115, 97, 1),\n",
      "affine=array([[   2. ,    0. ,    0. ,  -96.5],\n",
      "       [   0. ,    2. ,    0. , -132.5],\n",
      "       [   0. ,    0. ,    2. ,  -78.5],\n",
      "       [   0. ,    0. ,    0. ,  \n",
      "[NiftiMasker.transform_single_imgs] Resampling images\n",
      "[NiftiMasker.transform_single_imgs] Smoothing images\n",
      "[NiftiMasker.transform_single_imgs] Extracting region signals\n",
      "[NiftiMasker.transform_single_imgs] Cleaning extracted signals\n",
      "Running /gpfs/gibbs/pi/levy_ifat/Or/kpe/results/ScriptPart_ses2_Nosmooth/modelfit/_subject_id_1223/modelestimate/results/cope7.nii.gz\n",
      "[NiftiMasker.fit] Loading data from None\n",
      "[NiftiMasker.fit] Resampling mask\n",
      "[NiftiMasker.transform_single_imgs] Loading data from Nifti1Image(\n",
      "shape=(97, 115, 97, 1),\n",
      "affine=array([[   2. ,    0. ,    0. ,  -96.5],\n",
      "       [   0. ,    2. ,    0. , -132.5],\n",
      "       [   0. ,    0. ,    2. ,  -78.5],\n",
      "       [   0. ,    0. ,    0. ,  \n",
      "[NiftiMasker.transform_single_imgs] Resampling images\n"
     ]
    },
    {
     "name": "stderr",
     "output_type": "stream",
     "text": [
      "/gpfs/ysm/project/levy_ifat/oad4/conda_envs/py37_dev/lib/python3.7/site-packages/nilearn/signal.py:51: UserWarning: Standardization of 3D signal has been requested but would lead to zero values. Skipping.\n",
      "  warnings.warn('Standardization of 3D signal has been requested but '\n"
     ]
    },
    {
     "name": "stdout",
     "output_type": "stream",
     "text": [
      "[NiftiMasker.transform_single_imgs] Smoothing images\n",
      "[NiftiMasker.transform_single_imgs] Extracting region signals\n",
      "[NiftiMasker.transform_single_imgs] Cleaning extracted signals\n",
      "Running /gpfs/gibbs/pi/levy_ifat/Or/kpe/results/ScriptPart_ses2_Nosmooth/modelfit/_subject_id_1293/modelestimate/results/cope7.nii.gz\n",
      "[NiftiMasker.fit] Loading data from None\n",
      "[NiftiMasker.fit] Resampling mask\n",
      "[NiftiMasker.transform_single_imgs] Loading data from Nifti1Image(\n",
      "shape=(97, 115, 97, 1),\n",
      "affine=array([[   2. ,    0. ,    0. ,  -96.5],\n",
      "       [   0. ,    2. ,    0. , -132.5],\n",
      "       [   0. ,    0. ,    2. ,  -78.5],\n",
      "       [   0. ,    0. ,    0. ,  \n",
      "[NiftiMasker.transform_single_imgs] Resampling images\n"
     ]
    },
    {
     "name": "stderr",
     "output_type": "stream",
     "text": [
      "/gpfs/ysm/project/levy_ifat/oad4/conda_envs/py37_dev/lib/python3.7/site-packages/nilearn/signal.py:51: UserWarning: Standardization of 3D signal has been requested but would lead to zero values. Skipping.\n",
      "  warnings.warn('Standardization of 3D signal has been requested but '\n"
     ]
    },
    {
     "name": "stdout",
     "output_type": "stream",
     "text": [
      "[NiftiMasker.transform_single_imgs] Smoothing images\n",
      "[NiftiMasker.transform_single_imgs] Extracting region signals\n",
      "[NiftiMasker.transform_single_imgs] Cleaning extracted signals\n",
      "Running /gpfs/gibbs/pi/levy_ifat/Or/kpe/results/ScriptPart_ses2_Nosmooth/modelfit/_subject_id_1307/modelestimate/results/cope7.nii.gz\n",
      "[NiftiMasker.fit] Loading data from None\n",
      "[NiftiMasker.fit] Resampling mask\n",
      "[NiftiMasker.transform_single_imgs] Loading data from Nifti1Image(\n",
      "shape=(97, 115, 97, 1),\n",
      "affine=array([[   2. ,    0. ,    0. ,  -96.5],\n",
      "       [   0. ,    2. ,    0. , -132.5],\n",
      "       [   0. ,    0. ,    2. ,  -78.5],\n",
      "       [   0. ,    0. ,    0. ,  \n",
      "[NiftiMasker.transform_single_imgs] Resampling images\n"
     ]
    },
    {
     "name": "stderr",
     "output_type": "stream",
     "text": [
      "/gpfs/ysm/project/levy_ifat/oad4/conda_envs/py37_dev/lib/python3.7/site-packages/nilearn/signal.py:51: UserWarning: Standardization of 3D signal has been requested but would lead to zero values. Skipping.\n",
      "  warnings.warn('Standardization of 3D signal has been requested but '\n"
     ]
    },
    {
     "name": "stdout",
     "output_type": "stream",
     "text": [
      "[NiftiMasker.transform_single_imgs] Smoothing images\n",
      "[NiftiMasker.transform_single_imgs] Extracting region signals\n",
      "[NiftiMasker.transform_single_imgs] Cleaning extracted signals\n",
      "Running /gpfs/gibbs/pi/levy_ifat/Or/kpe/results/ScriptPart_ses2_Nosmooth/modelfit/_subject_id_1322/modelestimate/results/cope7.nii.gz\n",
      "[NiftiMasker.fit] Loading data from None\n",
      "[NiftiMasker.fit] Resampling mask\n",
      "[NiftiMasker.transform_single_imgs] Loading data from Nifti1Image(\n",
      "shape=(97, 115, 97, 1),\n",
      "affine=array([[   2. ,    0. ,    0. ,  -96.5],\n",
      "       [   0. ,    2. ,    0. , -132.5],\n",
      "       [   0. ,    0. ,    2. ,  -78.5],\n",
      "       [   0. ,    0. ,    0. ,  \n",
      "[NiftiMasker.transform_single_imgs] Resampling images\n"
     ]
    },
    {
     "name": "stderr",
     "output_type": "stream",
     "text": [
      "/gpfs/ysm/project/levy_ifat/oad4/conda_envs/py37_dev/lib/python3.7/site-packages/nilearn/signal.py:51: UserWarning: Standardization of 3D signal has been requested but would lead to zero values. Skipping.\n",
      "  warnings.warn('Standardization of 3D signal has been requested but '\n"
     ]
    },
    {
     "name": "stdout",
     "output_type": "stream",
     "text": [
      "[NiftiMasker.transform_single_imgs] Smoothing images\n",
      "[NiftiMasker.transform_single_imgs] Extracting region signals\n",
      "[NiftiMasker.transform_single_imgs] Cleaning extracted signals\n",
      "Running /gpfs/gibbs/pi/levy_ifat/Or/kpe/results/ScriptPart_ses2_Nosmooth/modelfit/_subject_id_1339/modelestimate/results/cope7.nii.gz\n",
      "[NiftiMasker.fit] Loading data from None\n",
      "[NiftiMasker.fit] Resampling mask\n",
      "[NiftiMasker.transform_single_imgs] Loading data from Nifti1Image(\n",
      "shape=(97, 115, 97, 1),\n",
      "affine=array([[   2. ,    0. ,    0. ,  -96.5],\n",
      "       [   0. ,    2. ,    0. , -132.5],\n",
      "       [   0. ,    0. ,    2. ,  -78.5],\n",
      "       [   0. ,    0. ,    0. ,  \n",
      "[NiftiMasker.transform_single_imgs] Resampling images\n"
     ]
    },
    {
     "name": "stderr",
     "output_type": "stream",
     "text": [
      "/gpfs/ysm/project/levy_ifat/oad4/conda_envs/py37_dev/lib/python3.7/site-packages/nilearn/signal.py:51: UserWarning: Standardization of 3D signal has been requested but would lead to zero values. Skipping.\n",
      "  warnings.warn('Standardization of 3D signal has been requested but '\n"
     ]
    },
    {
     "name": "stdout",
     "output_type": "stream",
     "text": [
      "[NiftiMasker.transform_single_imgs] Smoothing images\n",
      "[NiftiMasker.transform_single_imgs] Extracting region signals\n",
      "[NiftiMasker.transform_single_imgs] Cleaning extracted signals\n",
      "Running /gpfs/gibbs/pi/levy_ifat/Or/kpe/results/ScriptPart_ses2_Nosmooth/modelfit/_subject_id_1343/modelestimate/results/cope7.nii.gz\n",
      "[NiftiMasker.fit] Loading data from None\n",
      "[NiftiMasker.fit] Resampling mask\n",
      "[NiftiMasker.transform_single_imgs] Loading data from Nifti1Image(\n",
      "shape=(97, 115, 97, 1),\n",
      "affine=array([[   2. ,    0. ,    0. ,  -96.5],\n",
      "       [   0. ,    2. ,    0. , -132.5],\n",
      "       [   0. ,    0. ,    2. ,  -78.5],\n",
      "       [   0. ,    0. ,    0. ,  \n",
      "[NiftiMasker.transform_single_imgs] Resampling images\n"
     ]
    },
    {
     "name": "stderr",
     "output_type": "stream",
     "text": [
      "/gpfs/ysm/project/levy_ifat/oad4/conda_envs/py37_dev/lib/python3.7/site-packages/nilearn/signal.py:51: UserWarning: Standardization of 3D signal has been requested but would lead to zero values. Skipping.\n",
      "  warnings.warn('Standardization of 3D signal has been requested but '\n"
     ]
    },
    {
     "name": "stdout",
     "output_type": "stream",
     "text": [
      "[NiftiMasker.transform_single_imgs] Smoothing images\n",
      "[NiftiMasker.transform_single_imgs] Extracting region signals\n",
      "[NiftiMasker.transform_single_imgs] Cleaning extracted signals\n",
      "Running /gpfs/gibbs/pi/levy_ifat/Or/kpe/results/ScriptPart_ses2_Nosmooth/modelfit/_subject_id_1387/modelestimate/results/cope7.nii.gz\n",
      "[NiftiMasker.fit] Loading data from None\n",
      "[NiftiMasker.fit] Resampling mask\n",
      "[NiftiMasker.transform_single_imgs] Loading data from Nifti1Image(\n",
      "shape=(97, 115, 97, 1),\n",
      "affine=array([[   2. ,    0. ,    0. ,  -96.5],\n",
      "       [   0. ,    2. ,    0. , -132.5],\n",
      "       [   0. ,    0. ,    2. ,  -78.5],\n",
      "       [   0. ,    0. ,    0. ,  \n",
      "[NiftiMasker.transform_single_imgs] Resampling images\n"
     ]
    },
    {
     "name": "stderr",
     "output_type": "stream",
     "text": [
      "/gpfs/ysm/project/levy_ifat/oad4/conda_envs/py37_dev/lib/python3.7/site-packages/nilearn/signal.py:51: UserWarning: Standardization of 3D signal has been requested but would lead to zero values. Skipping.\n",
      "  warnings.warn('Standardization of 3D signal has been requested but '\n"
     ]
    },
    {
     "name": "stdout",
     "output_type": "stream",
     "text": [
      "[NiftiMasker.transform_single_imgs] Smoothing images\n",
      "[NiftiMasker.transform_single_imgs] Extracting region signals\n",
      "[NiftiMasker.transform_single_imgs] Cleaning extracted signals\n",
      "Running /gpfs/gibbs/pi/levy_ifat/Or/kpe/results/ScriptPart_ses2_Nosmooth/modelfit/_subject_id_1419/modelestimate/results/cope7.nii.gz\n",
      "[NiftiMasker.fit] Loading data from None\n",
      "[NiftiMasker.fit] Resampling mask\n",
      "[NiftiMasker.transform_single_imgs] Loading data from Nifti1Image(\n",
      "shape=(97, 115, 97, 1),\n",
      "affine=array([[   2. ,    0. ,    0. ,  -96.5],\n",
      "       [   0. ,    2. ,    0. , -132.5],\n",
      "       [   0. ,    0. ,    2. ,  -78.5],\n",
      "       [   0. ,    0. ,    0. ,  \n",
      "[NiftiMasker.transform_single_imgs] Resampling images\n"
     ]
    },
    {
     "name": "stderr",
     "output_type": "stream",
     "text": [
      "/gpfs/ysm/project/levy_ifat/oad4/conda_envs/py37_dev/lib/python3.7/site-packages/nilearn/signal.py:51: UserWarning: Standardization of 3D signal has been requested but would lead to zero values. Skipping.\n",
      "  warnings.warn('Standardization of 3D signal has been requested but '\n"
     ]
    },
    {
     "name": "stdout",
     "output_type": "stream",
     "text": [
      "[NiftiMasker.transform_single_imgs] Smoothing images\n",
      "[NiftiMasker.transform_single_imgs] Extracting region signals\n",
      "[NiftiMasker.transform_single_imgs] Cleaning extracted signals\n",
      "Running /gpfs/gibbs/pi/levy_ifat/Or/kpe/results/ScriptPart_ses2_Nosmooth/modelfit/_subject_id_1464/modelestimate/results/cope7.nii.gz\n",
      "[NiftiMasker.fit] Loading data from None\n",
      "[NiftiMasker.fit] Resampling mask\n",
      "[NiftiMasker.transform_single_imgs] Loading data from Nifti1Image(\n",
      "shape=(97, 115, 97, 1),\n",
      "affine=array([[   2. ,    0. ,    0. ,  -96.5],\n",
      "       [   0. ,    2. ,    0. , -132.5],\n",
      "       [   0. ,    0. ,    2. ,  -78.5],\n",
      "       [   0. ,    0. ,    0. ,  \n",
      "[NiftiMasker.transform_single_imgs] Resampling images\n"
     ]
    },
    {
     "name": "stderr",
     "output_type": "stream",
     "text": [
      "/gpfs/ysm/project/levy_ifat/oad4/conda_envs/py37_dev/lib/python3.7/site-packages/nilearn/signal.py:51: UserWarning: Standardization of 3D signal has been requested but would lead to zero values. Skipping.\n",
      "  warnings.warn('Standardization of 3D signal has been requested but '\n"
     ]
    },
    {
     "name": "stdout",
     "output_type": "stream",
     "text": [
      "[NiftiMasker.transform_single_imgs] Smoothing images\n",
      "[NiftiMasker.transform_single_imgs] Extracting region signals\n",
      "[NiftiMasker.transform_single_imgs] Cleaning extracted signals\n",
      "Running /gpfs/gibbs/pi/levy_ifat/Or/kpe/results/ScriptPart_ses2_Nosmooth/modelfit/_subject_id_1499/modelestimate/results/cope7.nii.gz\n",
      "[NiftiMasker.fit] Loading data from None\n",
      "[NiftiMasker.fit] Resampling mask\n",
      "[NiftiMasker.transform_single_imgs] Loading data from Nifti1Image(\n",
      "shape=(97, 115, 97, 1),\n",
      "affine=array([[   2. ,    0. ,    0. ,  -96.5],\n",
      "       [   0. ,    2. ,    0. , -132.5],\n",
      "       [   0. ,    0. ,    2. ,  -78.5],\n",
      "       [   0. ,    0. ,    0. ,  \n",
      "[NiftiMasker.transform_single_imgs] Resampling images\n"
     ]
    },
    {
     "name": "stderr",
     "output_type": "stream",
     "text": [
      "/gpfs/ysm/project/levy_ifat/oad4/conda_envs/py37_dev/lib/python3.7/site-packages/nilearn/signal.py:51: UserWarning: Standardization of 3D signal has been requested but would lead to zero values. Skipping.\n",
      "  warnings.warn('Standardization of 3D signal has been requested but '\n"
     ]
    },
    {
     "name": "stdout",
     "output_type": "stream",
     "text": [
      "[NiftiMasker.transform_single_imgs] Smoothing images\n",
      "[NiftiMasker.transform_single_imgs] Extracting region signals\n",
      "[NiftiMasker.transform_single_imgs] Cleaning extracted signals\n",
      "Running /gpfs/gibbs/pi/levy_ifat/Or/kpe/results/ScriptPart_ses2_Nosmooth/modelfit/_subject_id_1573/modelestimate/results/cope7.nii.gz\n",
      "[NiftiMasker.fit] Loading data from None\n",
      "[NiftiMasker.fit] Resampling mask\n",
      "[NiftiMasker.transform_single_imgs] Loading data from Nifti1Image(\n",
      "shape=(97, 115, 97, 1),\n",
      "affine=array([[   2. ,    0. ,    0. ,  -96.5],\n",
      "       [   0. ,    2. ,    0. , -132.5],\n",
      "       [   0. ,    0. ,    2. ,  -78.5],\n",
      "       [   0. ,    0. ,    0. ,  \n",
      "[NiftiMasker.transform_single_imgs] Resampling images\n"
     ]
    },
    {
     "name": "stderr",
     "output_type": "stream",
     "text": [
      "/gpfs/ysm/project/levy_ifat/oad4/conda_envs/py37_dev/lib/python3.7/site-packages/nilearn/signal.py:51: UserWarning: Standardization of 3D signal has been requested but would lead to zero values. Skipping.\n",
      "  warnings.warn('Standardization of 3D signal has been requested but '\n"
     ]
    },
    {
     "name": "stdout",
     "output_type": "stream",
     "text": [
      "[NiftiMasker.transform_single_imgs] Smoothing images\n",
      "[NiftiMasker.transform_single_imgs] Extracting region signals\n",
      "[NiftiMasker.transform_single_imgs] Cleaning extracted signals\n",
      "Running /gpfs/gibbs/pi/levy_ifat/Or/kpe/results/ScriptPart_ses2_Nosmooth/modelfit/_subject_id_1253/modelestimate/results/cope7.nii.gz\n",
      "[NiftiMasker.fit] Loading data from None\n",
      "[NiftiMasker.fit] Resampling mask\n",
      "[NiftiMasker.transform_single_imgs] Loading data from Nifti1Image(\n",
      "shape=(97, 115, 97, 1),\n",
      "affine=array([[   2. ,    0. ,    0. ,  -96.5],\n",
      "       [   0. ,    2. ,    0. , -132.5],\n",
      "       [   0. ,    0. ,    2. ,  -78.5],\n",
      "       [   0. ,    0. ,    0. ,  \n",
      "[NiftiMasker.transform_single_imgs] Resampling images\n"
     ]
    },
    {
     "name": "stderr",
     "output_type": "stream",
     "text": [
      "/gpfs/ysm/project/levy_ifat/oad4/conda_envs/py37_dev/lib/python3.7/site-packages/nilearn/signal.py:51: UserWarning: Standardization of 3D signal has been requested but would lead to zero values. Skipping.\n",
      "  warnings.warn('Standardization of 3D signal has been requested but '\n"
     ]
    },
    {
     "name": "stdout",
     "output_type": "stream",
     "text": [
      "[NiftiMasker.transform_single_imgs] Smoothing images\n",
      "[NiftiMasker.transform_single_imgs] Extracting region signals\n",
      "[NiftiMasker.transform_single_imgs] Cleaning extracted signals\n",
      "Running /gpfs/gibbs/pi/levy_ifat/Or/kpe/results/ScriptPart_ses2_Nosmooth/modelfit/_subject_id_1263/modelestimate/results/cope7.nii.gz\n",
      "[NiftiMasker.fit] Loading data from None\n",
      "[NiftiMasker.fit] Resampling mask\n",
      "[NiftiMasker.transform_single_imgs] Loading data from Nifti1Image(\n",
      "shape=(97, 115, 97, 1),\n",
      "affine=array([[   2. ,    0. ,    0. ,  -96.5],\n",
      "       [   0. ,    2. ,    0. , -132.5],\n",
      "       [   0. ,    0. ,    2. ,  -78.5],\n",
      "       [   0. ,    0. ,    0. ,  \n",
      "[NiftiMasker.transform_single_imgs] Resampling images\n"
     ]
    },
    {
     "name": "stderr",
     "output_type": "stream",
     "text": [
      "/gpfs/ysm/project/levy_ifat/oad4/conda_envs/py37_dev/lib/python3.7/site-packages/nilearn/signal.py:51: UserWarning: Standardization of 3D signal has been requested but would lead to zero values. Skipping.\n",
      "  warnings.warn('Standardization of 3D signal has been requested but '\n"
     ]
    },
    {
     "name": "stdout",
     "output_type": "stream",
     "text": [
      "[NiftiMasker.transform_single_imgs] Smoothing images\n",
      "[NiftiMasker.transform_single_imgs] Extracting region signals\n",
      "[NiftiMasker.transform_single_imgs] Cleaning extracted signals\n",
      "Running /gpfs/gibbs/pi/levy_ifat/Or/kpe/results/ScriptPart_ses2_Nosmooth/modelfit/_subject_id_1351/modelestimate/results/cope7.nii.gz\n",
      "[NiftiMasker.fit] Loading data from None\n",
      "[NiftiMasker.fit] Resampling mask\n",
      "[NiftiMasker.transform_single_imgs] Loading data from Nifti1Image(\n",
      "shape=(97, 115, 97, 1),\n",
      "affine=array([[   2. ,    0. ,    0. ,  -96.5],\n",
      "       [   0. ,    2. ,    0. , -132.5],\n",
      "       [   0. ,    0. ,    2. ,  -78.5],\n",
      "       [   0. ,    0. ,    0. ,  \n",
      "[NiftiMasker.transform_single_imgs] Resampling images\n"
     ]
    },
    {
     "name": "stderr",
     "output_type": "stream",
     "text": [
      "/gpfs/ysm/project/levy_ifat/oad4/conda_envs/py37_dev/lib/python3.7/site-packages/nilearn/signal.py:51: UserWarning: Standardization of 3D signal has been requested but would lead to zero values. Skipping.\n",
      "  warnings.warn('Standardization of 3D signal has been requested but '\n"
     ]
    },
    {
     "name": "stdout",
     "output_type": "stream",
     "text": [
      "[NiftiMasker.transform_single_imgs] Smoothing images\n",
      "[NiftiMasker.transform_single_imgs] Extracting region signals\n",
      "[NiftiMasker.transform_single_imgs] Cleaning extracted signals\n",
      "Running /gpfs/gibbs/pi/levy_ifat/Or/kpe/results/ScriptPart_ses2_Nosmooth/modelfit/_subject_id_1356/modelestimate/results/cope7.nii.gz\n",
      "[NiftiMasker.fit] Loading data from None\n",
      "[NiftiMasker.fit] Resampling mask\n",
      "[NiftiMasker.transform_single_imgs] Loading data from Nifti1Image(\n",
      "shape=(97, 115, 97, 1),\n",
      "affine=array([[   2. ,    0. ,    0. ,  -96.5],\n",
      "       [   0. ,    2. ,    0. , -132.5],\n",
      "       [   0. ,    0. ,    2. ,  -78.5],\n",
      "       [   0. ,    0. ,    0. ,  \n",
      "[NiftiMasker.transform_single_imgs] Resampling images\n"
     ]
    },
    {
     "name": "stderr",
     "output_type": "stream",
     "text": [
      "/gpfs/ysm/project/levy_ifat/oad4/conda_envs/py37_dev/lib/python3.7/site-packages/nilearn/signal.py:51: UserWarning: Standardization of 3D signal has been requested but would lead to zero values. Skipping.\n",
      "  warnings.warn('Standardization of 3D signal has been requested but '\n"
     ]
    },
    {
     "name": "stdout",
     "output_type": "stream",
     "text": [
      "[NiftiMasker.transform_single_imgs] Smoothing images\n",
      "[NiftiMasker.transform_single_imgs] Extracting region signals\n",
      "[NiftiMasker.transform_single_imgs] Cleaning extracted signals\n",
      "Running /gpfs/gibbs/pi/levy_ifat/Or/kpe/results/ScriptPart_ses2_Nosmooth/modelfit/_subject_id_1364/modelestimate/results/cope7.nii.gz\n",
      "[NiftiMasker.fit] Loading data from None\n",
      "[NiftiMasker.fit] Resampling mask\n",
      "[NiftiMasker.transform_single_imgs] Loading data from Nifti1Image(\n",
      "shape=(97, 115, 97, 1),\n",
      "affine=array([[   2. ,    0. ,    0. ,  -96.5],\n",
      "       [   0. ,    2. ,    0. , -132.5],\n",
      "       [   0. ,    0. ,    2. ,  -78.5],\n",
      "       [   0. ,    0. ,    0. ,  \n",
      "[NiftiMasker.transform_single_imgs] Resampling images\n"
     ]
    },
    {
     "name": "stderr",
     "output_type": "stream",
     "text": [
      "/gpfs/ysm/project/levy_ifat/oad4/conda_envs/py37_dev/lib/python3.7/site-packages/nilearn/signal.py:51: UserWarning: Standardization of 3D signal has been requested but would lead to zero values. Skipping.\n",
      "  warnings.warn('Standardization of 3D signal has been requested but '\n"
     ]
    },
    {
     "name": "stdout",
     "output_type": "stream",
     "text": [
      "[NiftiMasker.transform_single_imgs] Smoothing images\n",
      "[NiftiMasker.transform_single_imgs] Extracting region signals\n",
      "[NiftiMasker.transform_single_imgs] Cleaning extracted signals\n",
      "Running /gpfs/gibbs/pi/levy_ifat/Or/kpe/results/ScriptPart_ses2_Nosmooth/modelfit/_subject_id_1369/modelestimate/results/cope7.nii.gz\n",
      "[NiftiMasker.fit] Loading data from None\n",
      "[NiftiMasker.fit] Resampling mask\n",
      "[NiftiMasker.transform_single_imgs] Loading data from Nifti1Image(\n",
      "shape=(97, 115, 97, 1),\n",
      "affine=array([[   2. ,    0. ,    0. ,  -96.5],\n",
      "       [   0. ,    2. ,    0. , -132.5],\n",
      "       [   0. ,    0. ,    2. ,  -78.5],\n",
      "       [   0. ,    0. ,    0. ,  \n",
      "[NiftiMasker.transform_single_imgs] Resampling images\n"
     ]
    },
    {
     "name": "stderr",
     "output_type": "stream",
     "text": [
      "/gpfs/ysm/project/levy_ifat/oad4/conda_envs/py37_dev/lib/python3.7/site-packages/nilearn/signal.py:51: UserWarning: Standardization of 3D signal has been requested but would lead to zero values. Skipping.\n",
      "  warnings.warn('Standardization of 3D signal has been requested but '\n"
     ]
    },
    {
     "name": "stdout",
     "output_type": "stream",
     "text": [
      "[NiftiMasker.transform_single_imgs] Smoothing images\n",
      "[NiftiMasker.transform_single_imgs] Extracting region signals\n",
      "[NiftiMasker.transform_single_imgs] Cleaning extracted signals\n",
      "Running /gpfs/gibbs/pi/levy_ifat/Or/kpe/results/ScriptPart_ses2_Nosmooth/modelfit/_subject_id_1390/modelestimate/results/cope7.nii.gz\n",
      "[NiftiMasker.fit] Loading data from None\n",
      "[NiftiMasker.fit] Resampling mask\n",
      "[NiftiMasker.transform_single_imgs] Loading data from Nifti1Image(\n",
      "shape=(97, 115, 97, 1),\n",
      "affine=array([[   2. ,    0. ,    0. ,  -96.5],\n",
      "       [   0. ,    2. ,    0. , -132.5],\n",
      "       [   0. ,    0. ,    2. ,  -78.5],\n",
      "       [   0. ,    0. ,    0. ,  \n",
      "[NiftiMasker.transform_single_imgs] Resampling images\n"
     ]
    },
    {
     "name": "stderr",
     "output_type": "stream",
     "text": [
      "/gpfs/ysm/project/levy_ifat/oad4/conda_envs/py37_dev/lib/python3.7/site-packages/nilearn/signal.py:51: UserWarning: Standardization of 3D signal has been requested but would lead to zero values. Skipping.\n",
      "  warnings.warn('Standardization of 3D signal has been requested but '\n"
     ]
    },
    {
     "name": "stdout",
     "output_type": "stream",
     "text": [
      "[NiftiMasker.transform_single_imgs] Smoothing images\n",
      "[NiftiMasker.transform_single_imgs] Extracting region signals\n",
      "[NiftiMasker.transform_single_imgs] Cleaning extracted signals\n",
      "Running /gpfs/gibbs/pi/levy_ifat/Or/kpe/results/ScriptPart_ses2_Nosmooth/modelfit/_subject_id_1403/modelestimate/results/cope7.nii.gz\n",
      "[NiftiMasker.fit] Loading data from None\n",
      "[NiftiMasker.fit] Resampling mask\n",
      "[NiftiMasker.transform_single_imgs] Loading data from Nifti1Image(\n",
      "shape=(97, 115, 97, 1),\n",
      "affine=array([[   2. ,    0. ,    0. ,  -96.5],\n",
      "       [   0. ,    2. ,    0. , -132.5],\n",
      "       [   0. ,    0. ,    2. ,  -78.5],\n",
      "       [   0. ,    0. ,    0. ,  \n",
      "[NiftiMasker.transform_single_imgs] Resampling images\n"
     ]
    },
    {
     "name": "stderr",
     "output_type": "stream",
     "text": [
      "/gpfs/ysm/project/levy_ifat/oad4/conda_envs/py37_dev/lib/python3.7/site-packages/nilearn/signal.py:51: UserWarning: Standardization of 3D signal has been requested but would lead to zero values. Skipping.\n",
      "  warnings.warn('Standardization of 3D signal has been requested but '\n"
     ]
    },
    {
     "name": "stdout",
     "output_type": "stream",
     "text": [
      "[NiftiMasker.transform_single_imgs] Smoothing images\n",
      "[NiftiMasker.transform_single_imgs] Extracting region signals\n",
      "[NiftiMasker.transform_single_imgs] Cleaning extracted signals\n",
      "Running /gpfs/gibbs/pi/levy_ifat/Or/kpe/results/ScriptPart_ses2_Nosmooth/modelfit/_subject_id_1468/modelestimate/results/cope7.nii.gz\n",
      "[NiftiMasker.fit] Loading data from None\n",
      "[NiftiMasker.fit] Resampling mask\n",
      "[NiftiMasker.transform_single_imgs] Loading data from Nifti1Image(\n",
      "shape=(97, 115, 97, 1),\n",
      "affine=array([[   2. ,    0. ,    0. ,  -96.5],\n",
      "       [   0. ,    2. ,    0. , -132.5],\n",
      "       [   0. ,    0. ,    2. ,  -78.5],\n",
      "       [   0. ,    0. ,    0. ,  \n",
      "[NiftiMasker.transform_single_imgs] Resampling images\n"
     ]
    },
    {
     "name": "stderr",
     "output_type": "stream",
     "text": [
      "/gpfs/ysm/project/levy_ifat/oad4/conda_envs/py37_dev/lib/python3.7/site-packages/nilearn/signal.py:51: UserWarning: Standardization of 3D signal has been requested but would lead to zero values. Skipping.\n",
      "  warnings.warn('Standardization of 3D signal has been requested but '\n"
     ]
    },
    {
     "name": "stdout",
     "output_type": "stream",
     "text": [
      "[NiftiMasker.transform_single_imgs] Smoothing images\n",
      "[NiftiMasker.transform_single_imgs] Extracting region signals\n",
      "[NiftiMasker.transform_single_imgs] Cleaning extracted signals\n",
      "Running /gpfs/gibbs/pi/levy_ifat/Or/kpe/results/ScriptPart_ses2_Nosmooth/modelfit/_subject_id_1480/modelestimate/results/cope7.nii.gz\n",
      "[NiftiMasker.fit] Loading data from None\n",
      "[NiftiMasker.fit] Resampling mask\n",
      "[NiftiMasker.transform_single_imgs] Loading data from Nifti1Image(\n",
      "shape=(97, 115, 97, 1),\n",
      "affine=array([[   2. ,    0. ,    0. ,  -96.5],\n",
      "       [   0. ,    2. ,    0. , -132.5],\n",
      "       [   0. ,    0. ,    2. ,  -78.5],\n",
      "       [   0. ,    0. ,    0. ,  \n",
      "[NiftiMasker.transform_single_imgs] Resampling images\n"
     ]
    },
    {
     "name": "stderr",
     "output_type": "stream",
     "text": [
      "/gpfs/ysm/project/levy_ifat/oad4/conda_envs/py37_dev/lib/python3.7/site-packages/nilearn/signal.py:51: UserWarning: Standardization of 3D signal has been requested but would lead to zero values. Skipping.\n",
      "  warnings.warn('Standardization of 3D signal has been requested but '\n"
     ]
    },
    {
     "name": "stdout",
     "output_type": "stream",
     "text": [
      "[NiftiMasker.transform_single_imgs] Smoothing images\n",
      "[NiftiMasker.transform_single_imgs] Extracting region signals\n",
      "[NiftiMasker.transform_single_imgs] Cleaning extracted signals\n",
      "Running /gpfs/gibbs/pi/levy_ifat/Or/kpe/results/ScriptPart_ses2_Nosmooth/modelfit/_subject_id_1561/modelestimate/results/cope7.nii.gz\n",
      "[NiftiMasker.fit] Loading data from None\n",
      "[NiftiMasker.fit] Resampling mask\n",
      "[NiftiMasker.transform_single_imgs] Loading data from Nifti1Image(\n",
      "shape=(97, 115, 97, 1),\n",
      "affine=array([[   2. ,    0. ,    0. ,  -96.5],\n",
      "       [   0. ,    2. ,    0. , -132.5],\n",
      "       [   0. ,    0. ,    2. ,  -78.5],\n",
      "       [   0. ,    0. ,    0. ,  \n",
      "[NiftiMasker.transform_single_imgs] Resampling images\n"
     ]
    },
    {
     "name": "stderr",
     "output_type": "stream",
     "text": [
      "/gpfs/ysm/project/levy_ifat/oad4/conda_envs/py37_dev/lib/python3.7/site-packages/nilearn/signal.py:51: UserWarning: Standardization of 3D signal has been requested but would lead to zero values. Skipping.\n",
      "  warnings.warn('Standardization of 3D signal has been requested but '\n"
     ]
    },
    {
     "name": "stdout",
     "output_type": "stream",
     "text": [
      "[NiftiMasker.transform_single_imgs] Smoothing images\n",
      "[NiftiMasker.transform_single_imgs] Extracting region signals\n",
      "[NiftiMasker.transform_single_imgs] Cleaning extracted signals\n"
     ]
    },
    {
     "name": "stderr",
     "output_type": "stream",
     "text": [
      "/gpfs/ysm/project/levy_ifat/oad4/conda_envs/py37_dev/lib/python3.7/site-packages/nilearn/signal.py:51: UserWarning: Standardization of 3D signal has been requested but would lead to zero values. Skipping.\n",
      "  warnings.warn('Standardization of 3D signal has been requested but '\n"
     ]
    },
    {
     "data": {
      "text/plain": [
       "(23, 4485)"
      ]
     },
     "execution_count": 211,
     "metadata": {},
     "output_type": "execute_result"
    }
   ],
   "source": [
    "ketamine = []\n",
    "for func in ket_func:\n",
    "    print(f'Running {func}')\n",
    "    beta = masker.fit_transform(func)\n",
    "    ketamine.append(beta)\n",
    "\n",
    "midazolam = []\n",
    "for func in mid_func:\n",
    "    print(f'Running {func}')\n",
    "    beta = masker.fit_transform(func)\n",
    "    midazolam.append(beta)\n",
    "\n",
    "ketArr = np.array(ketamine)\n",
    "ketArr_reshape= np.array(ketArr).reshape(ketArr.shape[0], ketArr.shape[2])\n",
    "ketArr_reshape.shape\n",
    "\n",
    "\n",
    "midArr = np.array(midazolam)\n",
    "midArr_reshape= np.array(midArr).reshape(midArr.shape[0], midArr.shape[2])\n",
    "midArr_reshape.shape\n",
    "\n",
    "\n",
    "## Create condition labels (1 = plus, 0 = minus)\n",
    "label1 = [1] * ketArr.shape[0]\n",
    "label2 = [0] * midArr.shape[0]\n",
    "condition_label = np.concatenate([label1, label2])\n",
    "condition_label\n",
    "\n",
    "X = np.concatenate([ketArr, midArr])\n",
    "X = X.reshape(X.shape[0], midArr_reshape.shape[1])\n",
    "X.shape"
   ]
  },
  {
   "cell_type": "code",
   "execution_count": 9,
   "metadata": {},
   "outputs": [],
   "source": [
    "model = XGBClassifier(n_jobs=7, \n",
    "                      random_state=None)\n",
    "\n",
    "## Here we use stratified K-fold with shuffling to generate different shuffling of leave one subject out\n",
    "cv = StratifiedKFold(n_splits=11, shuffle=True) # running for each subject\n"
   ]
  },
  {
   "cell_type": "code",
   "execution_count": 10,
   "metadata": {},
   "outputs": [],
   "source": [
    "scores = cross_val_score(model,\n",
    "                            X,\n",
    "                            y=condition_label,\n",
    "                            cv=cv,\n",
    "                            groups=condition_label,\n",
    "                            scoring= \"roc_auc\",\n",
    "                            n_jobs=5, # set number of CPUs\n",
    "                            #verbose = 5 # set some details of the activity \n",
    "                            )"
   ]
  },
  {
   "cell_type": "code",
   "execution_count": 11,
   "metadata": {},
   "outputs": [
    {
     "data": {
      "text/plain": [
       "array([1. , 1. , 1. , 0.5, 1. , 1. , 1. , 1. , 1. , 1. , 1. ])"
      ]
     },
     "execution_count": 11,
     "metadata": {},
     "output_type": "execute_result"
    }
   ],
   "source": [
    "scores"
   ]
  },
  {
   "cell_type": "code",
   "execution_count": 243,
   "metadata": {
    "scrolled": true,
    "slideshow": {
     "slide_type": "skip"
    }
   },
   "outputs": [
    {
     "name": "stdout",
     "output_type": "stream",
     "text": [
      " Running 1 iteration\n",
      " Running 2 iteration\n",
      " Running 3 iteration\n",
      " Running 4 iteration\n",
      " Running 5 iteration\n",
      " Running 6 iteration\n",
      " Running 7 iteration\n",
      " Running 8 iteration\n",
      " Running 9 iteration\n",
      " Running 10 iteration\n",
      " Running 11 iteration\n",
      " Running 12 iteration\n",
      " Running 13 iteration\n",
      " Running 14 iteration\n",
      " Running 15 iteration\n",
      " Running 16 iteration\n",
      " Running 17 iteration\n",
      " Running 18 iteration\n",
      " Running 19 iteration\n",
      " Running 20 iteration\n",
      " Running 21 iteration\n",
      " Running 22 iteration\n",
      " Running 23 iteration\n",
      " Running 24 iteration\n",
      " Running 25 iteration\n",
      " Running 26 iteration\n",
      " Running 27 iteration\n",
      " Running 28 iteration\n",
      " Running 29 iteration\n",
      " Running 30 iteration\n",
      " Running 31 iteration\n",
      " Running 32 iteration\n",
      " Running 33 iteration\n",
      " Running 34 iteration\n",
      " Running 35 iteration\n",
      " Running 36 iteration\n",
      " Running 37 iteration\n",
      " Running 38 iteration\n",
      " Running 39 iteration\n",
      " Running 40 iteration\n",
      " Running 41 iteration\n",
      " Running 42 iteration\n",
      " Running 43 iteration\n",
      " Running 44 iteration\n",
      " Running 45 iteration\n",
      " Running 46 iteration\n",
      " Running 47 iteration\n",
      " Running 48 iteration\n",
      " Running 49 iteration\n",
      " Running 50 iteration\n",
      " Running 51 iteration\n",
      " Running 52 iteration\n",
      " Running 53 iteration\n",
      " Running 54 iteration\n",
      " Running 55 iteration\n",
      " Running 56 iteration\n",
      " Running 57 iteration\n",
      " Running 58 iteration\n",
      " Running 59 iteration\n",
      " Running 60 iteration\n",
      " Running 61 iteration\n",
      " Running 62 iteration\n",
      " Running 63 iteration\n",
      " Running 64 iteration\n",
      " Running 65 iteration\n",
      " Running 66 iteration\n",
      " Running 67 iteration\n",
      " Running 68 iteration\n",
      " Running 69 iteration\n",
      " Running 70 iteration\n",
      " Running 71 iteration\n",
      " Running 72 iteration\n",
      " Running 73 iteration\n",
      " Running 74 iteration\n",
      " Running 75 iteration\n",
      " Running 76 iteration\n",
      " Running 77 iteration\n",
      " Running 78 iteration\n",
      " Running 79 iteration\n",
      " Running 80 iteration\n",
      " Running 81 iteration\n",
      " Running 82 iteration\n",
      " Running 83 iteration\n",
      " Running 84 iteration\n",
      " Running 85 iteration\n",
      " Running 86 iteration\n",
      " Running 87 iteration\n",
      " Running 88 iteration\n",
      " Running 89 iteration\n",
      " Running 90 iteration\n",
      " Running 91 iteration\n",
      " Running 92 iteration\n",
      " Running 93 iteration\n",
      " Running 94 iteration\n",
      " Running 95 iteration\n",
      " Running 96 iteration\n",
      " Running 97 iteration\n",
      " Running 98 iteration\n",
      " Running 99 iteration\n",
      " Running 100 iteration\n"
     ]
    }
   ],
   "source": [
    "n_iter = 100\n",
    "rand_score = []\n",
    "mean_scores = []\n",
    "for i in range(n_iter):\n",
    "    print(f' Running {i+1} iteration')\n",
    "    mean_scores = []\n",
    "    scores = cross_val_score(model,\n",
    "                            X,\n",
    "                            y=condition_label,\n",
    "                            cv=cv,\n",
    "                            groups=condition_label,\n",
    "                            scoring= \"roc_auc\",\n",
    "                            n_jobs=8, # set number of CPUs\n",
    "                            \n",
    "                            )\n",
    "    mean_scores.append(scores.mean())\n",
    "    rand_score.append(mean_scores)"
   ]
  },
  {
   "cell_type": "code",
   "execution_count": 244,
   "metadata": {
    "slideshow": {
     "slide_type": "slide"
    }
   },
   "outputs": [
    {
     "name": "stdout",
     "output_type": "stream",
     "text": [
      "Area under curve: 0.38 (+/- 0.23)\n",
      "95% CI is [0.17678571 0.64285714]\n"
     ]
    },
    {
     "data": {
      "text/plain": [
       "<matplotlib.axes._subplots.AxesSubplot at 0x2b8022587090>"
      ]
     },
     "execution_count": 244,
     "metadata": {},
     "output_type": "execute_result"
    },
    {
     "data": {
      "image/png": "[encoded data removed]",
      "text/plain": [
       "<Figure size 432x288 with 1 Axes>"
      ]
     },
     "metadata": {
      "needs_background": "light"
     },
     "output_type": "display_data"
    }
   ],
   "source": [
    "rand_score = np.array(rand_score)\n",
    "print(\"Area under curve: %0.2f (+/- %0.2f)\" % (np.mean(rand_score), np.std(rand_score) * 2))\n",
    "print(f'95% CI is {np.quantile(rand_score, [0.025, 0.975])}')\n",
    "sns.distplot(rand_score)"
   ]
  },
  {
   "cell_type": "code",
   "execution_count": 52,
   "metadata": {},
   "outputs": [
    {
     "name": "stderr",
     "output_type": "stream",
     "text": [
      "[Parallel(n_jobs=8)]: Using backend LokyBackend with 8 concurrent workers.\n",
      "[Parallel(n_jobs=8)]: Done   2 tasks      | elapsed:   10.7s\n",
      "[Parallel(n_jobs=8)]: Done  56 tasks      | elapsed:  1.9min\n"
     ]
    },
    {
     "name": "stdout",
     "output_type": "stream",
     "text": [
      "Classification score 0.8636363636363636 (pvalue : 0.12871287128712872)\n"
     ]
    },
    {
     "name": "stderr",
     "output_type": "stream",
     "text": [
      "[Parallel(n_jobs=8)]: Done 100 out of 100 | elapsed:  3.1min finished\n"
     ]
    }
   ],
   "source": [
    "## use sklearn permutation test\n",
    "from sklearn.model_selection import permutation_test_score\n",
    "score, permutation_scores, pvalue = permutation_test_score(\n",
    "    model, X, condition_label, scoring=\"roc_auc\", cv=cv, n_permutations=100, n_jobs=8, \n",
    "    verbose=5, random_state=138)\n",
    "\n",
    "print(\"Classification score %s (pvalue : %s)\" % (score, pvalue))"
   ]
  },
  {
   "cell_type": "markdown",
   "metadata": {},
   "source": [
    "## Try some visualization\n",
    "- See a few dimensonality reduction options to visualize the results\n",
    "- Use ecluduan distance\n",
    "- PCA?\n",
    "- Other?"
   ]
  },
  {
   "cell_type": "code",
   "execution_count": 20,
   "metadata": {},
   "outputs": [
    {
     "data": {
      "text/plain": [
       "10701.918"
      ]
     },
     "execution_count": 20,
     "metadata": {},
     "output_type": "execute_result"
    }
   ],
   "source": [
    "## Start with euclidian distance - using log\n",
    "#dist = numpy.linalg.norm(a-b)\n",
    "dist = np.linalg.norm(ketArr_reshape[1] - ketArr_reshape[0])\n",
    "dist"
   ]
  },
  {
   "cell_type": "code",
   "execution_count": 36,
   "metadata": {},
   "outputs": [],
   "source": [
    "# loop and test distance between all subjects\n",
    "distSub = []\n",
    "dist = []\n",
    "for i in range(X.shape[0]):\n",
    "    for n in range(X.shape[0]):\n",
    "        dtSub = np.linalg.norm(X[i]- X[n])\n",
    "    distSub.append(dtSub)\n",
    "    dist.append(distSub)\n",
    "    "
   ]
  },
  {
   "cell_type": "code",
   "execution_count": 41,
   "metadata": {},
   "outputs": [
    {
     "data": {
      "text/plain": [
       "[[10293.386,\n",
       "  10480.314,\n",
       "  10000.209,\n",
       "  14875.146,\n",
       "  11418.049,\n",
       "  10281.256,\n",
       "  15685.136,\n",
       "  12374.759,\n",
       "  10993.589,\n",
       "  11539.266,\n",
       "  14779.165,\n",
       "  12761.358,\n",
       "  19746.383,\n",
       "  9801.506,\n",
       "  12853.012,\n",
       "  14321.41,\n",
       "  9583.957,\n",
       "  16590.424,\n",
       "  10579.277,\n",
       "  9707.959,\n",
       "  12944.341,\n",
       "  11667.853,\n",
       "  0.0],\n",
       " [10293.386,\n",
       "  10480.314,\n",
       "  10000.209,\n",
       "  14875.146,\n",
       "  11418.049,\n",
       "  10281.256,\n",
       "  15685.136,\n",
       "  12374.759,\n",
       "  10993.589,\n",
       "  11539.266,\n",
       "  14779.165,\n",
       "  12761.358,\n",
       "  19746.383,\n",
       "  9801.506,\n",
       "  12853.012,\n",
       "  14321.41,\n",
       "  9583.957,\n",
       "  16590.424,\n",
       "  10579.277,\n",
       "  9707.959,\n",
       "  12944.341,\n",
       "  11667.853,\n",
       "  0.0],\n",
       " [10293.386,\n",
       "  10480.314,\n",
       "  10000.209,\n",
       "  14875.146,\n",
       "  11418.049,\n",
       "  10281.256,\n",
       "  15685.136,\n",
       "  12374.759,\n",
       "  10993.589,\n",
       "  11539.266,\n",
       "  14779.165,\n",
       "  12761.358,\n",
       "  19746.383,\n",
       "  9801.506,\n",
       "  12853.012,\n",
       "  14321.41,\n",
       "  9583.957,\n",
       "  16590.424,\n",
       "  10579.277,\n",
       "  9707.959,\n",
       "  12944.341,\n",
       "  11667.853,\n",
       "  0.0],\n",
       " [10293.386,\n",
       "  10480.314,\n",
       "  10000.209,\n",
       "  14875.146,\n",
       "  11418.049,\n",
       "  10281.256,\n",
       "  15685.136,\n",
       "  12374.759,\n",
       "  10993.589,\n",
       "  11539.266,\n",
       "  14779.165,\n",
       "  12761.358,\n",
       "  19746.383,\n",
       "  9801.506,\n",
       "  12853.012,\n",
       "  14321.41,\n",
       "  9583.957,\n",
       "  16590.424,\n",
       "  10579.277,\n",
       "  9707.959,\n",
       "  12944.341,\n",
       "  11667.853,\n",
       "  0.0],\n",
       " [10293.386,\n",
       "  10480.314,\n",
       "  10000.209,\n",
       "  14875.146,\n",
       "  11418.049,\n",
       "  10281.256,\n",
       "  15685.136,\n",
       "  12374.759,\n",
       "  10993.589,\n",
       "  11539.266,\n",
       "  14779.165,\n",
       "  12761.358,\n",
       "  19746.383,\n",
       "  9801.506,\n",
       "  12853.012,\n",
       "  14321.41,\n",
       "  9583.957,\n",
       "  16590.424,\n",
       "  10579.277,\n",
       "  9707.959,\n",
       "  12944.341,\n",
       "  11667.853,\n",
       "  0.0],\n",
       " [10293.386,\n",
       "  10480.314,\n",
       "  10000.209,\n",
       "  14875.146,\n",
       "  11418.049,\n",
       "  10281.256,\n",
       "  15685.136,\n",
       "  12374.759,\n",
       "  10993.589,\n",
       "  11539.266,\n",
       "  14779.165,\n",
       "  12761.358,\n",
       "  19746.383,\n",
       "  9801.506,\n",
       "  12853.012,\n",
       "  14321.41,\n",
       "  9583.957,\n",
       "  16590.424,\n",
       "  10579.277,\n",
       "  9707.959,\n",
       "  12944.341,\n",
       "  11667.853,\n",
       "  0.0],\n",
       " [10293.386,\n",
       "  10480.314,\n",
       "  10000.209,\n",
       "  14875.146,\n",
       "  11418.049,\n",
       "  10281.256,\n",
       "  15685.136,\n",
       "  12374.759,\n",
       "  10993.589,\n",
       "  11539.266,\n",
       "  14779.165,\n",
       "  12761.358,\n",
       "  19746.383,\n",
       "  9801.506,\n",
       "  12853.012,\n",
       "  14321.41,\n",
       "  9583.957,\n",
       "  16590.424,\n",
       "  10579.277,\n",
       "  9707.959,\n",
       "  12944.341,\n",
       "  11667.853,\n",
       "  0.0],\n",
       " [10293.386,\n",
       "  10480.314,\n",
       "  10000.209,\n",
       "  14875.146,\n",
       "  11418.049,\n",
       "  10281.256,\n",
       "  15685.136,\n",
       "  12374.759,\n",
       "  10993.589,\n",
       "  11539.266,\n",
       "  14779.165,\n",
       "  12761.358,\n",
       "  19746.383,\n",
       "  9801.506,\n",
       "  12853.012,\n",
       "  14321.41,\n",
       "  9583.957,\n",
       "  16590.424,\n",
       "  10579.277,\n",
       "  9707.959,\n",
       "  12944.341,\n",
       "  11667.853,\n",
       "  0.0],\n",
       " [10293.386,\n",
       "  10480.314,\n",
       "  10000.209,\n",
       "  14875.146,\n",
       "  11418.049,\n",
       "  10281.256,\n",
       "  15685.136,\n",
       "  12374.759,\n",
       "  10993.589,\n",
       "  11539.266,\n",
       "  14779.165,\n",
       "  12761.358,\n",
       "  19746.383,\n",
       "  9801.506,\n",
       "  12853.012,\n",
       "  14321.41,\n",
       "  9583.957,\n",
       "  16590.424,\n",
       "  10579.277,\n",
       "  9707.959,\n",
       "  12944.341,\n",
       "  11667.853,\n",
       "  0.0],\n",
       " [10293.386,\n",
       "  10480.314,\n",
       "  10000.209,\n",
       "  14875.146,\n",
       "  11418.049,\n",
       "  10281.256,\n",
       "  15685.136,\n",
       "  12374.759,\n",
       "  10993.589,\n",
       "  11539.266,\n",
       "  14779.165,\n",
       "  12761.358,\n",
       "  19746.383,\n",
       "  9801.506,\n",
       "  12853.012,\n",
       "  14321.41,\n",
       "  9583.957,\n",
       "  16590.424,\n",
       "  10579.277,\n",
       "  9707.959,\n",
       "  12944.341,\n",
       "  11667.853,\n",
       "  0.0],\n",
       " [10293.386,\n",
       "  10480.314,\n",
       "  10000.209,\n",
       "  14875.146,\n",
       "  11418.049,\n",
       "  10281.256,\n",
       "  15685.136,\n",
       "  12374.759,\n",
       "  10993.589,\n",
       "  11539.266,\n",
       "  14779.165,\n",
       "  12761.358,\n",
       "  19746.383,\n",
       "  9801.506,\n",
       "  12853.012,\n",
       "  14321.41,\n",
       "  9583.957,\n",
       "  16590.424,\n",
       "  10579.277,\n",
       "  9707.959,\n",
       "  12944.341,\n",
       "  11667.853,\n",
       "  0.0],\n",
       " [10293.386,\n",
       "  10480.314,\n",
       "  10000.209,\n",
       "  14875.146,\n",
       "  11418.049,\n",
       "  10281.256,\n",
       "  15685.136,\n",
       "  12374.759,\n",
       "  10993.589,\n",
       "  11539.266,\n",
       "  14779.165,\n",
       "  12761.358,\n",
       "  19746.383,\n",
       "  9801.506,\n",
       "  12853.012,\n",
       "  14321.41,\n",
       "  9583.957,\n",
       "  16590.424,\n",
       "  10579.277,\n",
       "  9707.959,\n",
       "  12944.341,\n",
       "  11667.853,\n",
       "  0.0],\n",
       " [10293.386,\n",
       "  10480.314,\n",
       "  10000.209,\n",
       "  14875.146,\n",
       "  11418.049,\n",
       "  10281.256,\n",
       "  15685.136,\n",
       "  12374.759,\n",
       "  10993.589,\n",
       "  11539.266,\n",
       "  14779.165,\n",
       "  12761.358,\n",
       "  19746.383,\n",
       "  9801.506,\n",
       "  12853.012,\n",
       "  14321.41,\n",
       "  9583.957,\n",
       "  16590.424,\n",
       "  10579.277,\n",
       "  9707.959,\n",
       "  12944.341,\n",
       "  11667.853,\n",
       "  0.0],\n",
       " [10293.386,\n",
       "  10480.314,\n",
       "  10000.209,\n",
       "  14875.146,\n",
       "  11418.049,\n",
       "  10281.256,\n",
       "  15685.136,\n",
       "  12374.759,\n",
       "  10993.589,\n",
       "  11539.266,\n",
       "  14779.165,\n",
       "  12761.358,\n",
       "  19746.383,\n",
       "  9801.506,\n",
       "  12853.012,\n",
       "  14321.41,\n",
       "  9583.957,\n",
       "  16590.424,\n",
       "  10579.277,\n",
       "  9707.959,\n",
       "  12944.341,\n",
       "  11667.853,\n",
       "  0.0],\n",
       " [10293.386,\n",
       "  10480.314,\n",
       "  10000.209,\n",
       "  14875.146,\n",
       "  11418.049,\n",
       "  10281.256,\n",
       "  15685.136,\n",
       "  12374.759,\n",
       "  10993.589,\n",
       "  11539.266,\n",
       "  14779.165,\n",
       "  12761.358,\n",
       "  19746.383,\n",
       "  9801.506,\n",
       "  12853.012,\n",
       "  14321.41,\n",
       "  9583.957,\n",
       "  16590.424,\n",
       "  10579.277,\n",
       "  9707.959,\n",
       "  12944.341,\n",
       "  11667.853,\n",
       "  0.0],\n",
       " [10293.386,\n",
       "  10480.314,\n",
       "  10000.209,\n",
       "  14875.146,\n",
       "  11418.049,\n",
       "  10281.256,\n",
       "  15685.136,\n",
       "  12374.759,\n",
       "  10993.589,\n",
       "  11539.266,\n",
       "  14779.165,\n",
       "  12761.358,\n",
       "  19746.383,\n",
       "  9801.506,\n",
       "  12853.012,\n",
       "  14321.41,\n",
       "  9583.957,\n",
       "  16590.424,\n",
       "  10579.277,\n",
       "  9707.959,\n",
       "  12944.341,\n",
       "  11667.853,\n",
       "  0.0],\n",
       " [10293.386,\n",
       "  10480.314,\n",
       "  10000.209,\n",
       "  14875.146,\n",
       "  11418.049,\n",
       "  10281.256,\n",
       "  15685.136,\n",
       "  12374.759,\n",
       "  10993.589,\n",
       "  11539.266,\n",
       "  14779.165,\n",
       "  12761.358,\n",
       "  19746.383,\n",
       "  9801.506,\n",
       "  12853.012,\n",
       "  14321.41,\n",
       "  9583.957,\n",
       "  16590.424,\n",
       "  10579.277,\n",
       "  9707.959,\n",
       "  12944.341,\n",
       "  11667.853,\n",
       "  0.0],\n",
       " [10293.386,\n",
       "  10480.314,\n",
       "  10000.209,\n",
       "  14875.146,\n",
       "  11418.049,\n",
       "  10281.256,\n",
       "  15685.136,\n",
       "  12374.759,\n",
       "  10993.589,\n",
       "  11539.266,\n",
       "  14779.165,\n",
       "  12761.358,\n",
       "  19746.383,\n",
       "  9801.506,\n",
       "  12853.012,\n",
       "  14321.41,\n",
       "  9583.957,\n",
       "  16590.424,\n",
       "  10579.277,\n",
       "  9707.959,\n",
       "  12944.341,\n",
       "  11667.853,\n",
       "  0.0],\n",
       " [10293.386,\n",
       "  10480.314,\n",
       "  10000.209,\n",
       "  14875.146,\n",
       "  11418.049,\n",
       "  10281.256,\n",
       "  15685.136,\n",
       "  12374.759,\n",
       "  10993.589,\n",
       "  11539.266,\n",
       "  14779.165,\n",
       "  12761.358,\n",
       "  19746.383,\n",
       "  9801.506,\n",
       "  12853.012,\n",
       "  14321.41,\n",
       "  9583.957,\n",
       "  16590.424,\n",
       "  10579.277,\n",
       "  9707.959,\n",
       "  12944.341,\n",
       "  11667.853,\n",
       "  0.0],\n",
       " [10293.386,\n",
       "  10480.314,\n",
       "  10000.209,\n",
       "  14875.146,\n",
       "  11418.049,\n",
       "  10281.256,\n",
       "  15685.136,\n",
       "  12374.759,\n",
       "  10993.589,\n",
       "  11539.266,\n",
       "  14779.165,\n",
       "  12761.358,\n",
       "  19746.383,\n",
       "  9801.506,\n",
       "  12853.012,\n",
       "  14321.41,\n",
       "  9583.957,\n",
       "  16590.424,\n",
       "  10579.277,\n",
       "  9707.959,\n",
       "  12944.341,\n",
       "  11667.853,\n",
       "  0.0],\n",
       " [10293.386,\n",
       "  10480.314,\n",
       "  10000.209,\n",
       "  14875.146,\n",
       "  11418.049,\n",
       "  10281.256,\n",
       "  15685.136,\n",
       "  12374.759,\n",
       "  10993.589,\n",
       "  11539.266,\n",
       "  14779.165,\n",
       "  12761.358,\n",
       "  19746.383,\n",
       "  9801.506,\n",
       "  12853.012,\n",
       "  14321.41,\n",
       "  9583.957,\n",
       "  16590.424,\n",
       "  10579.277,\n",
       "  9707.959,\n",
       "  12944.341,\n",
       "  11667.853,\n",
       "  0.0],\n",
       " [10293.386,\n",
       "  10480.314,\n",
       "  10000.209,\n",
       "  14875.146,\n",
       "  11418.049,\n",
       "  10281.256,\n",
       "  15685.136,\n",
       "  12374.759,\n",
       "  10993.589,\n",
       "  11539.266,\n",
       "  14779.165,\n",
       "  12761.358,\n",
       "  19746.383,\n",
       "  9801.506,\n",
       "  12853.012,\n",
       "  14321.41,\n",
       "  9583.957,\n",
       "  16590.424,\n",
       "  10579.277,\n",
       "  9707.959,\n",
       "  12944.341,\n",
       "  11667.853,\n",
       "  0.0],\n",
       " [10293.386,\n",
       "  10480.314,\n",
       "  10000.209,\n",
       "  14875.146,\n",
       "  11418.049,\n",
       "  10281.256,\n",
       "  15685.136,\n",
       "  12374.759,\n",
       "  10993.589,\n",
       "  11539.266,\n",
       "  14779.165,\n",
       "  12761.358,\n",
       "  19746.383,\n",
       "  9801.506,\n",
       "  12853.012,\n",
       "  14321.41,\n",
       "  9583.957,\n",
       "  16590.424,\n",
       "  10579.277,\n",
       "  9707.959,\n",
       "  12944.341,\n",
       "  11667.853,\n",
       "  0.0]]"
      ]
     },
     "execution_count": 41,
     "metadata": {},
     "output_type": "execute_result"
    }
   ],
   "source": [
    "np.array(dist).shape\n",
    "dist"
   ]
  },
  {
   "cell_type": "code",
   "execution_count": 45,
   "metadata": {},
   "outputs": [
    {
     "ename": "TypeError",
     "evalue": "list indices must be integers or slices, not tuple",
     "output_type": "error",
     "traceback": [
      "\u001b[0;31m---------------------------------------------------------------------------\u001b[0m",
      "\u001b[0;31mTypeError\u001b[0m                                 Traceback (most recent call last)",
      "\u001b[0;32m<ipython-input-45-666d90e21ede>\u001b[0m in \u001b[0;36m<module>\u001b[0;34m\u001b[0m\n\u001b[0;32m----> 1\u001b[0;31m \u001b[0msns\u001b[0m\u001b[0;34m.\u001b[0m\u001b[0mscatterplot\u001b[0m\u001b[0;34m(\u001b[0m\u001b[0mdist\u001b[0m\u001b[0;34m[\u001b[0m\u001b[0;34m:\u001b[0m\u001b[0;34m,\u001b[0m\u001b[0;36m0\u001b[0m\u001b[0;34m]\u001b[0m\u001b[0;34m,\u001b[0m \u001b[0mdist\u001b[0m\u001b[0;34m[\u001b[0m\u001b[0;34m:\u001b[0m\u001b[0;34m,\u001b[0m\u001b[0;36m1\u001b[0m\u001b[0;34m]\u001b[0m\u001b[0;34m)\u001b[0m\u001b[0;34m\u001b[0m\u001b[0;34m\u001b[0m\u001b[0m\n\u001b[0m",
      "\u001b[0;31mTypeError\u001b[0m: list indices must be integers or slices, not tuple"
     ]
    }
   ],
   "source": [
    "sns.scatterplot(dist[:,0], dist[:,1])"
   ]
  },
  {
   "cell_type": "code",
   "execution_count": 215,
   "metadata": {},
   "outputs": [],
   "source": [
    "## PCA\n",
    "from sklearn.decomposition import PCA\n",
    "pca = PCA(n_components=2)\n",
    "X_r = pca.fit(X).transform(X)"
   ]
  },
  {
   "cell_type": "code",
   "execution_count": 178,
   "metadata": {},
   "outputs": [
    {
     "data": {
      "text/plain": [
       "(23, 10)"
      ]
     },
     "execution_count": 178,
     "metadata": {},
     "output_type": "execute_result"
    }
   ],
   "source": [
    "X_r.shape"
   ]
  },
  {
   "cell_type": "code",
   "execution_count": 216,
   "metadata": {},
   "outputs": [
    {
     "name": "stdout",
     "output_type": "stream",
     "text": [
      "explained variance ratio (first two components): [0.14201081 0.09177829]\n"
     ]
    }
   ],
   "source": [
    "print('explained variance ratio (first two components): %s'\n",
    "      % str(pca.explained_variance_ratio_))"
   ]
  },
  {
   "cell_type": "code",
   "execution_count": 218,
   "metadata": {},
   "outputs": [
    {
     "ename": "IndexError",
     "evalue": "index 5 is out of bounds for axis 1 with size 2",
     "output_type": "error",
     "traceback": [
      "\u001b[0;31m---------------------------------------------------------------------------\u001b[0m",
      "\u001b[0;31mIndexError\u001b[0m                                Traceback (most recent call last)",
      "\u001b[0;32m<ipython-input-218-e36a2ec9a15a>\u001b[0m in \u001b[0;36m<module>\u001b[0;34m\u001b[0m\n\u001b[1;32m      4\u001b[0m \u001b[0mtarget_names\u001b[0m \u001b[0;34m=\u001b[0m \u001b[0;34m[\u001b[0m\u001b[0;34m'Midazolam'\u001b[0m\u001b[0;34m,\u001b[0m\u001b[0;34m'Ketamine'\u001b[0m\u001b[0;34m]\u001b[0m\u001b[0;34m\u001b[0m\u001b[0;34m\u001b[0m\u001b[0m\n\u001b[1;32m      5\u001b[0m \u001b[0;32mfor\u001b[0m \u001b[0mcolor\u001b[0m\u001b[0;34m,\u001b[0m \u001b[0mi\u001b[0m\u001b[0;34m,\u001b[0m \u001b[0mtarget_name\u001b[0m \u001b[0;32min\u001b[0m \u001b[0mzip\u001b[0m\u001b[0;34m(\u001b[0m\u001b[0mcolors\u001b[0m\u001b[0;34m,\u001b[0m \u001b[0;34m[\u001b[0m\u001b[0;36m0\u001b[0m\u001b[0;34m,\u001b[0m \u001b[0;36m1\u001b[0m\u001b[0;34m]\u001b[0m\u001b[0;34m,\u001b[0m \u001b[0mtarget_names\u001b[0m\u001b[0;34m)\u001b[0m\u001b[0;34m:\u001b[0m\u001b[0;34m\u001b[0m\u001b[0;34m\u001b[0m\u001b[0m\n\u001b[0;32m----> 6\u001b[0;31m     plt.scatter(X_r[y == i, 5], X_r[y == i, 4], color=color, alpha=.8, lw=lw,\n\u001b[0m\u001b[1;32m      7\u001b[0m                 label=target_name)\n",
      "\u001b[0;31mIndexError\u001b[0m: index 5 is out of bounds for axis 1 with size 2"
     ]
    }
   ],
   "source": [
    "colors = ['navy', 'red']\n",
    "lw = 2\n",
    "y = np.array(condition_label) # make it an array so we can get mask for each place\n",
    "target_names = ['Midazolam','Ketamine']\n",
    "for color, i, target_name in zip(colors, [0, 1], target_names):\n",
    "    plt.scatter(X_r[y == i, 5], X_r[y == i, 4], color=color, alpha=.8, lw=lw,\n",
    "                label=target_name)\n"
   ]
  },
  {
   "cell_type": "code",
   "execution_count": 219,
   "metadata": {},
   "outputs": [
    {
     "data": {
      "image/png": "[encoded data removed]",
      "text/plain": [
       "<Figure size 432x288 with 1 Axes>"
      ]
     },
     "metadata": {
      "needs_background": "light"
     },
     "output_type": "display_data"
    }
   ],
   "source": [
    "from scipy.cluster.hierarchy import dendrogram, linkage, cut_tree\n",
    "# That's the hierarchical clustering step\n",
    "hier = linkage(X, method='average', metric='euclidean')#''euclidean') # scipy's hierarchical clustering\n",
    "# HAC proceeds by iteratively merging brain regions, which can be visualized with a tree\n",
    "res = dendrogram(hier, get_leaves=True) # Generate a dendrogram from the hierarchy"
   ]
  },
  {
   "cell_type": "code",
   "execution_count": 220,
   "metadata": {},
   "outputs": [
    {
     "name": "stdout",
     "output_type": "stream",
     "text": [
      "[0 0 1 1 1 0 0 0 1 1 1 0 1 1 0 1 1 1 0 1 0 0 0]\n"
     ]
    }
   ],
   "source": [
    "# the order of merging above give us a good order to visualize the matrix\n",
    "order = res.get('leaves') # Extract the order on parcels from the dendrogram\n",
    "print(condition_label[order]) # print group of subjects, according to order"
   ]
  },
  {
   "cell_type": "code",
   "execution_count": 221,
   "metadata": {},
   "outputs": [
    {
     "name": "stdout",
     "output_type": "stream",
     "text": [
      "[0 0 0 0 0 0 0 0 0 0 0 0 1 0 0 0 0 0 0 0 0 0 0]\n"
     ]
    }
   ],
   "source": [
    "part = np.squeeze(cut_tree(hier, n_clusters=2)) # Cut the hierarchy\n",
    "# Each entry of the vector part is a parcel, and codes for the number of the network of this parcel\n",
    "print(part) # e.g. parcel #7 is in cluster 5. What is the cluster of parcel number 10?"
   ]
  },
  {
   "cell_type": "code",
   "execution_count": 222,
   "metadata": {},
   "outputs": [],
   "source": [
    "from sklearn.cluster import FeatureAgglomeration\n",
    "fa = FeatureAgglomeration(n_clusters=2)\n",
    "X_f = fa.fit(X).transform(X)"
   ]
  },
  {
   "cell_type": "code",
   "execution_count": 223,
   "metadata": {},
   "outputs": [
    {
     "data": {
      "image/png": "[encoded data removed]",
      "text/plain": [
       "<Figure size 432x288 with 1 Axes>"
      ]
     },
     "metadata": {
      "needs_background": "light"
     },
     "output_type": "display_data"
    }
   ],
   "source": [
    "colors = ['navy', 'red']\n",
    "lw = 2\n",
    "y = np.array(condition_label) # make it an array so we can get mask for each place\n",
    "target_names = ['Midazolam','Ketamine']\n",
    "for color, i, target_name in zip(colors, [0, 1], target_names):\n",
    "    plt.scatter(X_f[y == i, 0], X_f[y == i, 1], color=color, alpha=.8, lw=lw,\n",
    "                label=target_name)"
   ]
  },
  {
   "cell_type": "code",
   "execution_count": 226,
   "metadata": {},
   "outputs": [
    {
     "data": {
      "text/plain": [
       "(23, 2)"
      ]
     },
     "execution_count": 226,
     "metadata": {},
     "output_type": "execute_result"
    }
   ],
   "source": [
    "# from sklearn import random_projection\n",
    "# transformer = random_projection.GaussianRandomProjection(n_components = 2)\n",
    "# X_new = transformer.fit_transform(X)\n",
    "# X_new.shape\n",
    "\n",
    "from sklearn import random_projection\n",
    "\n",
    "transformer = random_projection.SparseRandomProjection(n_components = 2)\n",
    "X_new = transformer.fit_transform(X)\n",
    "X_new.shape\n"
   ]
  },
  {
   "cell_type": "code",
   "execution_count": 227,
   "metadata": {},
   "outputs": [
    {
     "data": {
      "image/png": "[encoded data removed]",
      "text/plain": [
       "<Figure size 432x288 with 1 Axes>"
      ]
     },
     "metadata": {
      "needs_background": "light"
     },
     "output_type": "display_data"
    }
   ],
   "source": [
    "colors = ['navy', 'red']\n",
    "lw = 2\n",
    "y = np.array(condition_label) # make it an array so we can get mask for each place\n",
    "target_names = ['Midazolam','Ketamine']\n",
    "for color, i, target_name in zip(colors, [0, 1], target_names):\n",
    "    plt.scatter(X_new[y == i, 0], X_new[y == i, 1], color=color, alpha=.8, lw=lw,\n",
    "                label=target_name)"
   ]
  },
  {
   "cell_type": "code",
   "execution_count": 252,
   "metadata": {},
   "outputs": [
    {
     "data": {
      "text/plain": [
       "(23, 2)"
      ]
     },
     "execution_count": 252,
     "metadata": {},
     "output_type": "execute_result"
    }
   ],
   "source": [
    "from sklearn.decomposition import FastICA\n",
    "\n",
    "transformer = FastICA(n_components=2,\n",
    "        random_state=0, algorithm='parallel',\n",
    "                     fun='cube')\n",
    "X_transformed = transformer.fit_transform(X)\n",
    "X_transformed.shape"
   ]
  },
  {
   "cell_type": "code",
   "execution_count": 253,
   "metadata": {},
   "outputs": [
    {
     "data": {
      "image/png": "[encoded data removed]",
      "text/plain": [
       "<Figure size 432x288 with 1 Axes>"
      ]
     },
     "metadata": {
      "needs_background": "light"
     },
     "output_type": "display_data"
    }
   ],
   "source": [
    "colors = ['navy', 'red']\n",
    "lw = 2\n",
    "y = np.array(condition_label) # make it an array so we can get mask for each place\n",
    "target_names = ['Midazolam','Ketamine']\n",
    "for color, i, target_name in zip(colors, [0, 1], target_names):\n",
    "    plt.scatter(X_transformed[y == i, 0], X_transformed[y == i, 1], color=color, alpha=.8, lw=lw,\n",
    "                label=target_name)"
   ]
  },
  {
   "cell_type": "code",
   "execution_count": null,
   "metadata": {},
   "outputs": [],
   "source": []
  }
 ],
 "metadata": {
  "celltoolbar": "Slideshow",
  "kernelspec": {
   "display_name": "Python 3",
   "language": "python",
   "name": "python3"
  },
  "language_info": {
   "codemirror_mode": {
    "name": "ipython",
    "version": 3
   },
   "file_extension": ".py",
   "mimetype": "text/x-python",
   "name": "python",
   "nbconvert_exporter": "python",
   "pygments_lexer": "ipython3",
   "version": "3.7.5"
  }
 },
 "nbformat": 4,
 "nbformat_minor": 4
}
