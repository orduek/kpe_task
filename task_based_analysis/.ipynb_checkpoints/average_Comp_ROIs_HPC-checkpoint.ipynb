{
 "cells": [
  {
   "cell_type": "markdown",
   "metadata": {},
   "source": [
    "# Comparing Ketamine and Midazolam after treatment in ROIs\n",
    "- Analysis in HPC\n",
    "- focus on end of treatment\n",
    "- Amygdala\n",
    "- vmPFC\n",
    "- Hippocampus"
   ]
  },
  {
   "cell_type": "markdown",
   "metadata": {},
   "source": [
    "#### Small explanation for the code for future reference (as it is a bit messy)\n",
    "- I take all functional files of trauma vs relaxed first script first 1min\n",
    "- I mask for amygdala - run analysis per session (1,2,3) and calculate effect (using pyMC3)\n",
    "- I mask for vmPFC and do the same\n",
    "- I mask for hippocampus and do the same\n",
    "- For testing, I have also masked for OFC, just to make sure we don't see an effect\n",
    "- Effect reported are amygdala and hippocampus show sig. difference in the post treatment scan. Amygdala shows(?) effect in 30 days f/u hipocampus doesn't. vmPFC and OFC doesn't show anything."
   ]
  },
  {
   "cell_type": "code",
   "execution_count": 1,
   "metadata": {},
   "outputs": [
    {
     "name": "stderr",
     "output_type": "stream",
     "text": [
      "/gpfs/ysm/project/levy_ifat/oad4/conda_envs/py37_dev/lib/python3.7/site-packages/sklearn/utils/deprecation.py:143: FutureWarning: The sklearn.utils.testing module is  deprecated in version 0.22 and will be removed in version 0.24. The corresponding classes / functions should instead be imported from sklearn.utils. Anything that cannot be imported from sklearn.utils is now part of the private API.\n",
      "  warnings.warn(message, FutureWarning)\n",
      "/gpfs/ysm/project/levy_ifat/oad4/conda_envs/py37_dev/lib/python3.7/site-packages/sklearn/utils/deprecation.py:143: FutureWarning: The sklearn.datasets.base module is  deprecated in version 0.22 and will be removed in version 0.24. The corresponding classes / functions should instead be imported from sklearn.datasets. Anything that cannot be imported from sklearn.datasets is now part of the private API.\n",
      "  warnings.warn(message, FutureWarning)\n"
     ]
    }
   ],
   "source": [
    "# import relevant packages\n",
    "import glob\n",
    "import numpy as np\n",
    "import scipy\n",
    "import nilearn\n",
    "import nilearn.image\n",
    "import nilearn.plotting\n",
    "import nilearn.input_data\n",
    "import matplotlib.pyplot as plt\n",
    "import seaborn as sns\n",
    "import pandas as pd\n",
    "import pymc3 as pm\n",
    "import arviz as az\n",
    "from pymc3.glm import GLM"
   ]
  },
  {
   "cell_type": "code",
   "execution_count": 2,
   "metadata": {
    "scrolled": true
   },
   "outputs": [
    {
     "name": "stdout",
     "output_type": "stream",
     "text": [
      "/gpfs/gibbs/pi/levy_ifat/Or/kpe/fmriprep/sub-1369/ses-1/func/sub-1369_ses-1_task-Memory_desc-confounds_regressors.tsv\n",
      "0.4420321038141352\n",
      "/gpfs/gibbs/pi/levy_ifat/Or/kpe/fmriprep/sub-1351/ses-1/func/sub-1351_ses-1_task-Memory_desc-confounds_regressors.tsv\n",
      "0.3276853469824854\n",
      "/gpfs/gibbs/pi/levy_ifat/Or/kpe/fmriprep/sub-1561/ses-1/func/sub-1561_ses-1_task-Memory_desc-confounds_regressors.tsv\n",
      "0.11021738126863087\n",
      "/gpfs/gibbs/pi/levy_ifat/Or/kpe/fmriprep/sub-1315/ses-1/func/sub-1315_ses-1_task-Memory_desc-confounds_regressors.tsv\n",
      "0.20839440234500298\n",
      "/gpfs/gibbs/pi/levy_ifat/Or/kpe/fmriprep/sub-1578/ses-1/func/sub-1578_ses-1_task-Memory_desc-confounds_regressors.tsv\n",
      "0.17796583895372753\n",
      "/gpfs/gibbs/pi/levy_ifat/Or/kpe/fmriprep/sub-1387/ses-1/func/sub-1387_ses-1_task-Memory_desc-confounds_regressors.tsv\n",
      "0.23898132487648083\n",
      "/gpfs/gibbs/pi/levy_ifat/Or/kpe/fmriprep/sub-1499/ses-1/func/sub-1499_ses-1_task-Memory_desc-confounds_regressors.tsv\n",
      "0.1677553626829104\n",
      "/gpfs/gibbs/pi/levy_ifat/Or/kpe/fmriprep/sub-1573/ses-1/func/sub-1573_ses-1_task-Memory_desc-confounds_regressors.tsv\n",
      "0.46715496864420697\n",
      "/gpfs/gibbs/pi/levy_ifat/Or/kpe/fmriprep/sub-1480/ses-1/func/sub-1480_ses-1_task-Memory_desc-confounds_regressors.tsv\n",
      "0.1738407010630942\n",
      "/gpfs/gibbs/pi/levy_ifat/Or/kpe/fmriprep/sub-1364/ses-1/func/sub-1364_ses-1_task-Memory_desc-confounds_regressors.tsv\n",
      "0.1891590580069025\n",
      "/gpfs/gibbs/pi/levy_ifat/Or/kpe/fmriprep/sub-1403/ses-1/func/sub-1403_ses-1_task-Memory_desc-confounds_regressors.tsv\n",
      "0.22577934756631762\n",
      "/gpfs/gibbs/pi/levy_ifat/Or/kpe/fmriprep/sub-008/ses-1/func/sub-008_ses-1_task-Memory_desc-confounds_regressors.tsv\n",
      "0.14191055547093234\n",
      "/gpfs/gibbs/pi/levy_ifat/Or/kpe/fmriprep/sub-1343/ses-1/func/sub-1343_ses-1_task-Memory_desc-confounds_regressors.tsv\n",
      "0.1488731626509649\n",
      "/gpfs/gibbs/pi/levy_ifat/Or/kpe/fmriprep/sub-1307/ses-1/func/sub-1307_ses-1_task-Memory_desc-confounds_regressors.tsv\n",
      "0.39881746948757496\n",
      "/gpfs/gibbs/pi/levy_ifat/Or/kpe/fmriprep/sub-1419/ses-1/func/sub-1419_ses-1_task-Memory_desc-confounds_regressors.tsv\n",
      "0.14028772150679011\n",
      "/gpfs/gibbs/pi/levy_ifat/Or/kpe/fmriprep/sub-1263/ses-1/func/sub-1263_ses-1_task-Memory_desc-confounds_regressors.tsv\n",
      "0.18431874512925736\n",
      "/gpfs/gibbs/pi/levy_ifat/Or/kpe/fmriprep/sub-1322/ses-1/func/sub-1322_ses-1_task-Memory_desc-confounds_regressors.tsv\n",
      "0.23673324713916447\n",
      "/gpfs/gibbs/pi/levy_ifat/Or/kpe/fmriprep/sub-1390/ses-1/func/sub-1390_ses-1_task-Memory_desc-confounds_regressors.tsv\n",
      "0.16501041661232188\n",
      "/gpfs/gibbs/pi/levy_ifat/Or/kpe/fmriprep/sub-1223/ses-1/func/sub-1223_ses-1_task-Memory_desc-confounds_regressors.tsv\n",
      "0.21993026206772767\n",
      "/gpfs/gibbs/pi/levy_ifat/Or/kpe/fmriprep/sub-1339/ses-1/func/sub-1339_ses-1_task-Memory_desc-confounds_regressors.tsv\n",
      "0.2077268245048889\n",
      "/gpfs/gibbs/pi/levy_ifat/Or/kpe/fmriprep/sub-1293/ses-1/func/sub-1293_ses-1_task-Memory_desc-confounds_regressors.tsv\n",
      "0.17582867045780554\n",
      "/gpfs/gibbs/pi/levy_ifat/Or/kpe/fmriprep/sub-1464/ses-1/func/sub-1464_ses-1_task-Memory_desc-confounds_regressors.tsv\n",
      "0.2263467090601724\n",
      "/gpfs/gibbs/pi/levy_ifat/Or/kpe/fmriprep/sub-1356/ses-1/func/sub-1356_ses-1_task-Memory_desc-confounds_regressors.tsv\n",
      "0.17494762097491226\n",
      "/gpfs/gibbs/pi/levy_ifat/Or/kpe/fmriprep/sub-1468/ses-1/func/sub-1468_ses-1_task-Memory_desc-confounds_regressors.tsv\n",
      "0.21405186170523605\n",
      "/gpfs/gibbs/pi/levy_ifat/Or/kpe/fmriprep/sub-1253/ses-1/func/sub-1253_ses-1_task-Memory_desc-confounds_regressors.tsv\n",
      "0.1025577043674729\n"
     ]
    }
   ],
   "source": [
    "## Check mean FD for each subject\n",
    "# session 1 - \n",
    "regFiles = glob.glob('/gpfs/gibbs/pi/levy_ifat/Or/kpe/fmriprep/sub-*/ses-1/func/sub-*_ses-1_task-Memory_desc-confounds_regressors.tsv')\n",
    "#df.columns.values.tolist()\n",
    "for file in regFiles:\n",
    "    df = pd.read_csv(file, sep=\"\\t\")\n",
    "    print(file)\n",
    "    print(df['framewise_displacement'].mean())"
   ]
  },
  {
   "cell_type": "code",
   "execution_count": 43,
   "metadata": {},
   "outputs": [
    {
     "data": {
      "text/plain": [
       "21"
      ]
     },
     "execution_count": 43,
     "metadata": {},
     "output_type": "execute_result"
    }
   ],
   "source": [
    "# Set session\n",
    "ses = 3\n",
    "## Grab group\n",
    "# compare between groups\n",
    "\n",
    "medication_cond = pd.read_csv('kpe_sub_condition.csv')\n",
    "\n",
    "func_files = glob.glob('/gpfs/gibbs/pi/levy_ifat/Or/kpe/results/ScriptPart_ses%s/modelfit/_subject_id_*/modelestimate/results/cope7.nii.gz' %(ses))\n",
    "\n",
    "func_files.sort()\n",
    "len(func_files)"
   ]
  },
  {
   "cell_type": "code",
   "execution_count": 39,
   "metadata": {},
   "outputs": [],
   "source": [
    "# remove 1315\n",
    "del func_files[6] #(only session 1,2)"
   ]
  },
  {
   "cell_type": "code",
   "execution_count": 44,
   "metadata": {
    "scrolled": true
   },
   "outputs": [
    {
     "data": {
      "text/plain": [
       "['/gpfs/gibbs/pi/levy_ifat/Or/kpe/results/ScriptPart_ses3/modelfit/_subject_id_008/modelestimate/results/cope7.nii.gz',\n",
       " '/gpfs/gibbs/pi/levy_ifat/Or/kpe/results/ScriptPart_ses3/modelfit/_subject_id_1223/modelestimate/results/cope7.nii.gz',\n",
       " '/gpfs/gibbs/pi/levy_ifat/Or/kpe/results/ScriptPart_ses3/modelfit/_subject_id_1263/modelestimate/results/cope7.nii.gz',\n",
       " '/gpfs/gibbs/pi/levy_ifat/Or/kpe/results/ScriptPart_ses3/modelfit/_subject_id_1293/modelestimate/results/cope7.nii.gz',\n",
       " '/gpfs/gibbs/pi/levy_ifat/Or/kpe/results/ScriptPart_ses3/modelfit/_subject_id_1307/modelestimate/results/cope7.nii.gz',\n",
       " '/gpfs/gibbs/pi/levy_ifat/Or/kpe/results/ScriptPart_ses3/modelfit/_subject_id_1322/modelestimate/results/cope7.nii.gz',\n",
       " '/gpfs/gibbs/pi/levy_ifat/Or/kpe/results/ScriptPart_ses3/modelfit/_subject_id_1339/modelestimate/results/cope7.nii.gz',\n",
       " '/gpfs/gibbs/pi/levy_ifat/Or/kpe/results/ScriptPart_ses3/modelfit/_subject_id_1343/modelestimate/results/cope7.nii.gz',\n",
       " '/gpfs/gibbs/pi/levy_ifat/Or/kpe/results/ScriptPart_ses3/modelfit/_subject_id_1351/modelestimate/results/cope7.nii.gz',\n",
       " '/gpfs/gibbs/pi/levy_ifat/Or/kpe/results/ScriptPart_ses3/modelfit/_subject_id_1356/modelestimate/results/cope7.nii.gz',\n",
       " '/gpfs/gibbs/pi/levy_ifat/Or/kpe/results/ScriptPart_ses3/modelfit/_subject_id_1364/modelestimate/results/cope7.nii.gz',\n",
       " '/gpfs/gibbs/pi/levy_ifat/Or/kpe/results/ScriptPart_ses3/modelfit/_subject_id_1369/modelestimate/results/cope7.nii.gz',\n",
       " '/gpfs/gibbs/pi/levy_ifat/Or/kpe/results/ScriptPart_ses3/modelfit/_subject_id_1387/modelestimate/results/cope7.nii.gz',\n",
       " '/gpfs/gibbs/pi/levy_ifat/Or/kpe/results/ScriptPart_ses3/modelfit/_subject_id_1390/modelestimate/results/cope7.nii.gz',\n",
       " '/gpfs/gibbs/pi/levy_ifat/Or/kpe/results/ScriptPart_ses3/modelfit/_subject_id_1403/modelestimate/results/cope7.nii.gz',\n",
       " '/gpfs/gibbs/pi/levy_ifat/Or/kpe/results/ScriptPart_ses3/modelfit/_subject_id_1419/modelestimate/results/cope7.nii.gz',\n",
       " '/gpfs/gibbs/pi/levy_ifat/Or/kpe/results/ScriptPart_ses3/modelfit/_subject_id_1464/modelestimate/results/cope7.nii.gz',\n",
       " '/gpfs/gibbs/pi/levy_ifat/Or/kpe/results/ScriptPart_ses3/modelfit/_subject_id_1499/modelestimate/results/cope7.nii.gz',\n",
       " '/gpfs/gibbs/pi/levy_ifat/Or/kpe/results/ScriptPart_ses3/modelfit/_subject_id_1561/modelestimate/results/cope7.nii.gz',\n",
       " '/gpfs/gibbs/pi/levy_ifat/Or/kpe/results/ScriptPart_ses3/modelfit/_subject_id_1573/modelestimate/results/cope7.nii.gz',\n",
       " '/gpfs/gibbs/pi/levy_ifat/Or/kpe/results/ScriptPart_ses3/modelfit/_subject_id_1578/modelestimate/results/cope7.nii.gz']"
      ]
     },
     "execution_count": 44,
     "metadata": {},
     "output_type": "execute_result"
    }
   ],
   "source": [
    "func_files"
   ]
  },
  {
   "cell_type": "code",
   "execution_count": 45,
   "metadata": {},
   "outputs": [
    {
     "name": "stdout",
     "output_type": "stream",
     "text": [
      "[NiftiMasker.fit] Loading data from None\n",
      "[NiftiMasker.fit] Resampling mask\n"
     ]
    },
    {
     "data": {
      "image/png": "[encoded data removed]",
      "text/plain": [
       "<Figure size 475.2x187.2 with 4 Axes>"
      ]
     },
     "metadata": {},
     "output_type": "display_data"
    }
   ],
   "source": [
    "## Amygdala as mask\n",
    "mask_file = '/gpfs/gibbs/pi/levy_ifat/Or/ROI/amygdala_association-test_z_FDR_0.01.nii.gz'\n",
    "mask_file = nilearn.image.math_img(\"a>=25\", a=mask_file)\n",
    "%matplotlib inline\n",
    "nilearn.plotting.plot_roi(mask_file)\n",
    "\n",
    "\n",
    "masker = nilearn.input_data.NiftiMasker(mask_img=mask_file, \n",
    "                                smoothing_fwhm=None, standardize=False,\n",
    "                                        detrend=False, verbose=9).fit()"
   ]
  },
  {
   "cell_type": "code",
   "execution_count": 46,
   "metadata": {},
   "outputs": [
    {
     "name": "stdout",
     "output_type": "stream",
     "text": [
      "[NiftiMasker.transform_single_imgs] Loading data from Nifti1Image(\n",
      "shape=(97, 115, 97, 1),\n",
      "affine=array([[   2. ,    0. ,    0. ,  -96.5],\n",
      "       [   0. ,    2. ,    0. , -132.5],\n",
      "       [   0. ,    0. ,    2. ,  -78.5],\n",
      "       [   0. ,    0. ,    0. ,  \n",
      "[NiftiMasker.transform_single_imgs] Resampling images\n",
      "[NiftiMasker.transform_single_imgs] Extracting region signals\n",
      "[NiftiMasker.transform_single_imgs] Cleaning extracted signals\n",
      "[NiftiMasker.transform_single_imgs] Loading data from Nifti1Image(\n",
      "shape=(97, 115, 97, 1),\n",
      "affine=array([[   2. ,    0. ,    0. ,  -96.5],\n",
      "       [   0. ,    2. ,    0. , -132.5],\n",
      "       [   0. ,    0. ,    2. ,  -78.5],\n",
      "       [   0. ,    0. ,    0. ,  \n",
      "[NiftiMasker.transform_single_imgs] Resampling images\n",
      "[NiftiMasker.transform_single_imgs] Extracting region signals\n",
      "[NiftiMasker.transform_single_imgs] Cleaning extracted signals\n",
      "[NiftiMasker.transform_single_imgs] Loading data from Nifti1Image(\n",
      "shape=(97, 115, 97, 1),\n",
      "affine=array([[   2. ,    0. ,    0. ,  -96.5],\n",
      "       [   0. ,    2. ,    0. , -132.5],\n",
      "       [   0. ,    0. ,    2. ,  -78.5],\n",
      "       [   0. ,    0. ,    0. ,  \n",
      "[NiftiMasker.transform_single_imgs] Resampling images\n",
      "[NiftiMasker.transform_single_imgs] Extracting region signals\n",
      "[NiftiMasker.transform_single_imgs] Cleaning extracted signals\n",
      "[NiftiMasker.transform_single_imgs] Loading data from Nifti1Image(\n",
      "shape=(97, 115, 97, 1),\n",
      "affine=array([[   2. ,    0. ,    0. ,  -96.5],\n",
      "       [   0. ,    2. ,    0. , -132.5],\n",
      "       [   0. ,    0. ,    2. ,  -78.5],\n",
      "       [   0. ,    0. ,    0. ,  \n",
      "[NiftiMasker.transform_single_imgs] Resampling images\n",
      "[NiftiMasker.transform_single_imgs] Extracting region signals\n",
      "[NiftiMasker.transform_single_imgs] Cleaning extracted signals\n",
      "[NiftiMasker.transform_single_imgs] Loading data from Nifti1Image(\n",
      "shape=(97, 115, 97, 1),\n",
      "affine=array([[   2. ,    0. ,    0. ,  -96.5],\n",
      "       [   0. ,    2. ,    0. , -132.5],\n",
      "       [   0. ,    0. ,    2. ,  -78.5],\n",
      "       [   0. ,    0. ,    0. ,  \n",
      "[NiftiMasker.transform_single_imgs] Resampling images\n",
      "[NiftiMasker.transform_single_imgs] Extracting region signals\n",
      "[NiftiMasker.transform_single_imgs] Cleaning extracted signals\n",
      "[NiftiMasker.transform_single_imgs] Loading data from Nifti1Image(\n",
      "shape=(97, 115, 97, 1),\n",
      "affine=array([[   2. ,    0. ,    0. ,  -96.5],\n",
      "       [   0. ,    2. ,    0. , -132.5],\n",
      "       [   0. ,    0. ,    2. ,  -78.5],\n",
      "       [   0. ,    0. ,    0. ,  \n",
      "[NiftiMasker.transform_single_imgs] Resampling images\n",
      "[NiftiMasker.transform_single_imgs] Extracting region signals\n",
      "[NiftiMasker.transform_single_imgs] Cleaning extracted signals\n",
      "[NiftiMasker.transform_single_imgs] Loading data from Nifti1Image(\n",
      "shape=(97, 115, 97, 1),\n",
      "affine=array([[   2. ,    0. ,    0. ,  -96.5],\n",
      "       [   0. ,    2. ,    0. , -132.5],\n",
      "       [   0. ,    0. ,    2. ,  -78.5],\n",
      "       [   0. ,    0. ,    0. ,  \n",
      "[NiftiMasker.transform_single_imgs] Resampling images\n",
      "[NiftiMasker.transform_single_imgs] Extracting region signals\n",
      "[NiftiMasker.transform_single_imgs] Cleaning extracted signals\n",
      "[NiftiMasker.transform_single_imgs] Loading data from Nifti1Image(\n",
      "shape=(97, 115, 97, 1),\n",
      "affine=array([[   2. ,    0. ,    0. ,  -96.5],\n",
      "       [   0. ,    2. ,    0. , -132.5],\n",
      "       [   0. ,    0. ,    2. ,  -78.5],\n",
      "       [   0. ,    0. ,    0. ,  \n",
      "[NiftiMasker.transform_single_imgs] Resampling images\n",
      "[NiftiMasker.transform_single_imgs] Extracting region signals\n",
      "[NiftiMasker.transform_single_imgs] Cleaning extracted signals\n",
      "[NiftiMasker.transform_single_imgs] Loading data from Nifti1Image(\n",
      "shape=(97, 115, 97, 1),\n",
      "affine=array([[   2. ,    0. ,    0. ,  -96.5],\n",
      "       [   0. ,    2. ,    0. , -132.5],\n",
      "       [   0. ,    0. ,    2. ,  -78.5],\n",
      "       [   0. ,    0. ,    0. ,  \n",
      "[NiftiMasker.transform_single_imgs] Resampling images\n",
      "[NiftiMasker.transform_single_imgs] Extracting region signals\n",
      "[NiftiMasker.transform_single_imgs] Cleaning extracted signals\n",
      "[NiftiMasker.transform_single_imgs] Loading data from Nifti1Image(\n",
      "shape=(97, 115, 97, 1),\n",
      "affine=array([[   2. ,    0. ,    0. ,  -96.5],\n",
      "       [   0. ,    2. ,    0. , -132.5],\n",
      "       [   0. ,    0. ,    2. ,  -78.5],\n",
      "       [   0. ,    0. ,    0. ,  \n",
      "[NiftiMasker.transform_single_imgs] Resampling images\n",
      "[NiftiMasker.transform_single_imgs] Extracting region signals\n",
      "[NiftiMasker.transform_single_imgs] Cleaning extracted signals\n",
      "[NiftiMasker.transform_single_imgs] Loading data from Nifti1Image(\n",
      "shape=(97, 115, 97, 1),\n",
      "affine=array([[   2. ,    0. ,    0. ,  -96.5],\n",
      "       [   0. ,    2. ,    0. , -132.5],\n",
      "       [   0. ,    0. ,    2. ,  -78.5],\n",
      "       [   0. ,    0. ,    0. ,  \n",
      "[NiftiMasker.transform_single_imgs] Resampling images\n",
      "[NiftiMasker.transform_single_imgs] Extracting region signals\n",
      "[NiftiMasker.transform_single_imgs] Cleaning extracted signals\n",
      "[NiftiMasker.transform_single_imgs] Loading data from Nifti1Image(\n",
      "shape=(97, 115, 97, 1),\n",
      "affine=array([[   2. ,    0. ,    0. ,  -96.5],\n",
      "       [   0. ,    2. ,    0. , -132.5],\n",
      "       [   0. ,    0. ,    2. ,  -78.5],\n",
      "       [   0. ,    0. ,    0. ,  \n",
      "[NiftiMasker.transform_single_imgs] Resampling images\n",
      "[NiftiMasker.transform_single_imgs] Extracting region signals\n",
      "[NiftiMasker.transform_single_imgs] Cleaning extracted signals\n",
      "[NiftiMasker.transform_single_imgs] Loading data from Nifti1Image(\n",
      "shape=(97, 115, 97, 1),\n",
      "affine=array([[   2. ,    0. ,    0. ,  -96.5],\n",
      "       [   0. ,    2. ,    0. , -132.5],\n",
      "       [   0. ,    0. ,    2. ,  -78.5],\n",
      "       [   0. ,    0. ,    0. ,  \n",
      "[NiftiMasker.transform_single_imgs] Resampling images\n",
      "[NiftiMasker.transform_single_imgs] Extracting region signals\n",
      "[NiftiMasker.transform_single_imgs] Cleaning extracted signals\n",
      "[NiftiMasker.transform_single_imgs] Loading data from Nifti1Image(\n",
      "shape=(97, 115, 97, 1),\n",
      "affine=array([[   2. ,    0. ,    0. ,  -96.5],\n",
      "       [   0. ,    2. ,    0. , -132.5],\n",
      "       [   0. ,    0. ,    2. ,  -78.5],\n",
      "       [   0. ,    0. ,    0. ,  \n",
      "[NiftiMasker.transform_single_imgs] Resampling images\n",
      "[NiftiMasker.transform_single_imgs] Extracting region signals\n",
      "[NiftiMasker.transform_single_imgs] Cleaning extracted signals\n",
      "[NiftiMasker.transform_single_imgs] Loading data from Nifti1Image(\n",
      "shape=(97, 115, 97, 1),\n",
      "affine=array([[   2. ,    0. ,    0. ,  -96.5],\n",
      "       [   0. ,    2. ,    0. , -132.5],\n",
      "       [   0. ,    0. ,    2. ,  -78.5],\n",
      "       [   0. ,    0. ,    0. ,  \n",
      "[NiftiMasker.transform_single_imgs] Resampling images\n",
      "[NiftiMasker.transform_single_imgs] Extracting region signals\n",
      "[NiftiMasker.transform_single_imgs] Cleaning extracted signals\n",
      "[NiftiMasker.transform_single_imgs] Loading data from Nifti1Image(\n",
      "shape=(97, 115, 97, 1),\n",
      "affine=array([[   2. ,    0. ,    0. ,  -96.5],\n",
      "       [   0. ,    2. ,    0. , -132.5],\n",
      "       [   0. ,    0. ,    2. ,  -78.5],\n",
      "       [   0. ,    0. ,    0. ,  \n",
      "[NiftiMasker.transform_single_imgs] Resampling images\n",
      "[NiftiMasker.transform_single_imgs] Extracting region signals\n",
      "[NiftiMasker.transform_single_imgs] Cleaning extracted signals\n",
      "[NiftiMasker.transform_single_imgs] Loading data from Nifti1Image(\n",
      "shape=(97, 115, 97, 1),\n",
      "affine=array([[   2. ,    0. ,    0. ,  -96.5],\n",
      "       [   0. ,    2. ,    0. , -132.5],\n",
      "       [   0. ,    0. ,    2. ,  -78.5],\n",
      "       [   0. ,    0. ,    0. ,  \n",
      "[NiftiMasker.transform_single_imgs] Resampling images\n",
      "[NiftiMasker.transform_single_imgs] Extracting region signals\n",
      "[NiftiMasker.transform_single_imgs] Cleaning extracted signals\n",
      "[NiftiMasker.transform_single_imgs] Loading data from Nifti1Image(\n",
      "shape=(97, 115, 97, 1),\n",
      "affine=array([[   2. ,    0. ,    0. ,  -96.5],\n",
      "       [   0. ,    2. ,    0. , -132.5],\n",
      "       [   0. ,    0. ,    2. ,  -78.5],\n",
      "       [   0. ,    0. ,    0. ,  \n",
      "[NiftiMasker.transform_single_imgs] Resampling images\n",
      "[NiftiMasker.transform_single_imgs] Extracting region signals\n",
      "[NiftiMasker.transform_single_imgs] Cleaning extracted signals\n",
      "[NiftiMasker.transform_single_imgs] Loading data from Nifti1Image(\n",
      "shape=(97, 115, 97, 1),\n",
      "affine=array([[   2. ,    0. ,    0. ,  -96.5],\n",
      "       [   0. ,    2. ,    0. , -132.5],\n",
      "       [   0. ,    0. ,    2. ,  -78.5],\n",
      "       [   0. ,    0. ,    0. ,  \n",
      "[NiftiMasker.transform_single_imgs] Resampling images\n",
      "[NiftiMasker.transform_single_imgs] Extracting region signals\n",
      "[NiftiMasker.transform_single_imgs] Cleaning extracted signals\n",
      "[NiftiMasker.transform_single_imgs] Loading data from Nifti1Image(\n",
      "shape=(97, 115, 97, 1),\n",
      "affine=array([[   2. ,    0. ,    0. ,  -96.5],\n",
      "       [   0. ,    2. ,    0. , -132.5],\n",
      "       [   0. ,    0. ,    2. ,  -78.5],\n",
      "       [   0. ,    0. ,    0. ,  \n",
      "[NiftiMasker.transform_single_imgs] Resampling images\n"
     ]
    },
    {
     "name": "stdout",
     "output_type": "stream",
     "text": [
      "[NiftiMasker.transform_single_imgs] Extracting region signals\n",
      "[NiftiMasker.transform_single_imgs] Cleaning extracted signals\n",
      "[NiftiMasker.transform_single_imgs] Loading data from Nifti1Image(\n",
      "shape=(97, 115, 97, 1),\n",
      "affine=array([[   2. ,    0. ,    0. ,  -96.5],\n",
      "       [   0. ,    2. ,    0. , -132.5],\n",
      "       [   0. ,    0. ,    2. ,  -78.5],\n",
      "       [   0. ,    0. ,    0. ,  \n",
      "[NiftiMasker.transform_single_imgs] Resampling images\n",
      "[NiftiMasker.transform_single_imgs] Extracting region signals\n",
      "[NiftiMasker.transform_single_imgs] Cleaning extracted signals\n"
     ]
    }
   ],
   "source": [
    "## using dask to pararelize fit transform\n",
    "t_arr = []\n",
    "mean_act = []\n",
    "scr_id = []\n",
    "#delayed_get_data = dask.delayed(masker.fit_transform)\n",
    "for func in func_files:\n",
    "    # get subject number\n",
    "    scr_id.append('KPE' + func.split('id_')[1].split('/')[0])\n",
    "    # get average activation\n",
    "    t_map = masker.transform(func)\n",
    "    t_arr.append(np.mean(t_map, axis=1)[0])\n",
    "    \n"
   ]
  },
  {
   "cell_type": "code",
   "execution_count": 47,
   "metadata": {},
   "outputs": [],
   "source": [
    "df_ses3 = []\n",
    "df_ses3 = pd.DataFrame({'scr_id': scr_id, 'amg3': t_arr})\n",
    "df_ses3 = pd.merge(medication_cond, df_ses3)\n",
    "df_ses3 = df_ses3.rename(columns={'med_cond': 'group'})\n",
    "#df['group'] = medication_cond['med_cond']\n",
    "df_ses3 = df_ses3.replace(to_replace={'group': {0.0:'midazolam', 1.0:'ketamine'}})"
   ]
  },
  {
   "cell_type": "code",
   "execution_count": 50,
   "metadata": {},
   "outputs": [
    {
     "data": {
      "text/html": [
       "<div>\n",
       "<style scoped>\n",
       "    .dataframe tbody tr th:only-of-type {\n",
       "        vertical-align: middle;\n",
       "    }\n",
       "\n",
       "    .dataframe tbody tr th {\n",
       "        vertical-align: top;\n",
       "    }\n",
       "\n",
       "    .dataframe thead tr th {\n",
       "        text-align: left;\n",
       "    }\n",
       "\n",
       "    .dataframe thead tr:last-of-type th {\n",
       "        text-align: right;\n",
       "    }\n",
       "</style>\n",
       "<table border=\"1\" class=\"dataframe\">\n",
       "  <thead>\n",
       "    <tr>\n",
       "      <th></th>\n",
       "      <th colspan=\"8\" halign=\"left\">amg3</th>\n",
       "    </tr>\n",
       "    <tr>\n",
       "      <th></th>\n",
       "      <th>count</th>\n",
       "      <th>mean</th>\n",
       "      <th>std</th>\n",
       "      <th>min</th>\n",
       "      <th>2.5%</th>\n",
       "      <th>50%</th>\n",
       "      <th>97.5%</th>\n",
       "      <th>max</th>\n",
       "    </tr>\n",
       "    <tr>\n",
       "      <th>group</th>\n",
       "      <th></th>\n",
       "      <th></th>\n",
       "      <th></th>\n",
       "      <th></th>\n",
       "      <th></th>\n",
       "      <th></th>\n",
       "      <th></th>\n",
       "      <th></th>\n",
       "    </tr>\n",
       "  </thead>\n",
       "  <tbody>\n",
       "    <tr>\n",
       "      <th>ketamine</th>\n",
       "      <td>12.0</td>\n",
       "      <td>-8.098831</td>\n",
       "      <td>25.731792</td>\n",
       "      <td>-51.072002</td>\n",
       "      <td>-50.790543</td>\n",
       "      <td>-8.087476</td>\n",
       "      <td>27.843633</td>\n",
       "      <td>30.116594</td>\n",
       "    </tr>\n",
       "    <tr>\n",
       "      <th>midazolam</th>\n",
       "      <td>9.0</td>\n",
       "      <td>11.689874</td>\n",
       "      <td>30.076048</td>\n",
       "      <td>-17.359652</td>\n",
       "      <td>-17.306857</td>\n",
       "      <td>-1.437943</td>\n",
       "      <td>62.401079</td>\n",
       "      <td>63.315742</td>\n",
       "    </tr>\n",
       "  </tbody>\n",
       "</table>\n",
       "</div>"
      ],
      "text/plain": [
       "           amg3                                                        \\\n",
       "          count       mean        std        min       2.5%       50%   \n",
       "group                                                                   \n",
       "ketamine   12.0  -8.098831  25.731792 -51.072002 -50.790543 -8.087476   \n",
       "midazolam   9.0  11.689874  30.076048 -17.359652 -17.306857 -1.437943   \n",
       "\n",
       "                                 \n",
       "               97.5%        max  \n",
       "group                            \n",
       "ketamine   27.843633  30.116594  \n",
       "midazolam  62.401079  63.315742  "
      ]
     },
     "execution_count": 50,
     "metadata": {},
     "output_type": "execute_result"
    }
   ],
   "source": [
    "df_ses3.groupby('group').describe(percentiles=[.025, 0.975])\n",
    "#df_ses3.groupby('group').median()"
   ]
  },
  {
   "cell_type": "code",
   "execution_count": 42,
   "metadata": {},
   "outputs": [],
   "source": [
    "df_ses2 = []\n",
    "df_ses2 = pd.DataFrame({'scr_id': scr_id, 'amg2': t_arr})\n",
    "df_ses2 = pd.merge(medication_cond, df_ses2)\n",
    "df_ses2 = df_ses2.rename(columns={'med_cond': 'group'})\n",
    "#df['goup'] = medication_cond['med_cond']\n",
    "df_ses2 = df_ses2.replace(to_replace={'group': {0.0:'midazolam', 1.0:'ketamine'}})"
   ]
  },
  {
   "cell_type": "code",
   "execution_count": null,
   "metadata": {},
   "outputs": [],
   "source": [
    "df_ses2.groupby('group').describe(percentiles=[.025, 0.975])\n",
    "#df_ses2.groupby('group').median()"
   ]
  },
  {
   "cell_type": "code",
   "execution_count": null,
   "metadata": {},
   "outputs": [],
   "source": [
    "sns.set_style(\"ticks\")\n",
    "sns.boxplot('group','amg2',data=df_ses2)\n",
    "sns.stripplot('group','amg2',data=df_ses2)\n",
    "scipy.stats.ttest_ind(df_ses2.amg2[df_ses2.group=='ketamine'],\n",
    "                      df_ses2.amg2[df_ses2.group=='midazolam']\n",
    "                     )"
   ]
  },
  {
   "cell_type": "code",
   "execution_count": 37,
   "metadata": {},
   "outputs": [],
   "source": [
    "df_ses1 = []\n",
    "df_ses1 = pd.DataFrame({'scr_id': scr_id, 'amg1': t_arr})\n",
    "df_ses1 = pd.merge(medication_cond, df_ses1)\n",
    "df_ses1 = df_ses1.rename(columns={'med_cond': 'group'})\n",
    "df_ses1 = df_ses1.replace(to_replace={'group': {0.0:'midazolam', 1.0:'ketamine'}})\n",
    "#df['group'] = medication_cond['med_cond']"
   ]
  },
  {
   "cell_type": "code",
   "execution_count": 39,
   "metadata": {},
   "outputs": [
    {
     "data": {
      "text/html": [
       "<div>\n",
       "<style scoped>\n",
       "    .dataframe tbody tr th:only-of-type {\n",
       "        vertical-align: middle;\n",
       "    }\n",
       "\n",
       "    .dataframe tbody tr th {\n",
       "        vertical-align: top;\n",
       "    }\n",
       "\n",
       "    .dataframe thead tr th {\n",
       "        text-align: left;\n",
       "    }\n",
       "\n",
       "    .dataframe thead tr:last-of-type th {\n",
       "        text-align: right;\n",
       "    }\n",
       "</style>\n",
       "<table border=\"1\" class=\"dataframe\">\n",
       "  <thead>\n",
       "    <tr>\n",
       "      <th></th>\n",
       "      <th colspan=\"8\" halign=\"left\">amg1</th>\n",
       "    </tr>\n",
       "    <tr>\n",
       "      <th></th>\n",
       "      <th>count</th>\n",
       "      <th>mean</th>\n",
       "      <th>std</th>\n",
       "      <th>min</th>\n",
       "      <th>2.5%</th>\n",
       "      <th>50%</th>\n",
       "      <th>97.5%</th>\n",
       "      <th>max</th>\n",
       "    </tr>\n",
       "    <tr>\n",
       "      <th>group</th>\n",
       "      <th></th>\n",
       "      <th></th>\n",
       "      <th></th>\n",
       "      <th></th>\n",
       "      <th></th>\n",
       "      <th></th>\n",
       "      <th></th>\n",
       "      <th></th>\n",
       "    </tr>\n",
       "  </thead>\n",
       "  <tbody>\n",
       "    <tr>\n",
       "      <th>ketamine</th>\n",
       "      <td>12.0</td>\n",
       "      <td>0.113930</td>\n",
       "      <td>38.557558</td>\n",
       "      <td>-90.909035</td>\n",
       "      <td>-76.576139</td>\n",
       "      <td>5.279020</td>\n",
       "      <td>46.184828</td>\n",
       "      <td>48.258152</td>\n",
       "    </tr>\n",
       "    <tr>\n",
       "      <th>midazolam</th>\n",
       "      <td>12.0</td>\n",
       "      <td>14.073708</td>\n",
       "      <td>42.920295</td>\n",
       "      <td>-28.428524</td>\n",
       "      <td>-26.625662</td>\n",
       "      <td>-1.134067</td>\n",
       "      <td>102.375473</td>\n",
       "      <td>110.843590</td>\n",
       "    </tr>\n",
       "  </tbody>\n",
       "</table>\n",
       "</div>"
      ],
      "text/plain": [
       "           amg1                                                        \\\n",
       "          count       mean        std        min       2.5%       50%   \n",
       "group                                                                   \n",
       "ketamine   12.0   0.113930  38.557558 -90.909035 -76.576139  5.279020   \n",
       "midazolam  12.0  14.073708  42.920295 -28.428524 -26.625662 -1.134067   \n",
       "\n",
       "                                   \n",
       "                97.5%         max  \n",
       "group                              \n",
       "ketamine    46.184828   48.258152  \n",
       "midazolam  102.375473  110.843590  "
      ]
     },
     "execution_count": 39,
     "metadata": {},
     "output_type": "execute_result"
    }
   ],
   "source": [
    "\n",
    "df_ses1.groupby('group').describe(percentiles=[.025, 0.975])"
   ]
  },
  {
   "cell_type": "code",
   "execution_count": null,
   "metadata": {},
   "outputs": [],
   "source": [
    "df_ses1"
   ]
  },
  {
   "cell_type": "code",
   "execution_count": null,
   "metadata": {},
   "outputs": [],
   "source": [
    "df_ses1 = pd.merge(df, df_ses1)\n",
    "df_ses1['amg_change'] = df_ses1.meanAct - df_ses1.amg1"
   ]
  },
  {
   "cell_type": "code",
   "execution_count": 40,
   "metadata": {},
   "outputs": [
    {
     "data": {
      "text/plain": [
       "<matplotlib.axes._subplots.AxesSubplot at 0x2aceba67e850>"
      ]
     },
     "execution_count": 40,
     "metadata": {},
     "output_type": "execute_result"
    },
    {
     "data": {
      "image/png": "[encoded data removed]",
      "text/plain": [
       "<Figure size 432x288 with 1 Axes>"
      ]
     },
     "metadata": {
      "needs_background": "light"
     },
     "output_type": "display_data"
    }
   ],
   "source": [
    "# this is in case we need to show the lowering of amygdala reactivation before and after treatment\n",
    "sns.boxplot(y='amg1', x= 'group', data = df_ses1)\n",
    "sns.stripplot(y='amg1', x= 'group', data = df_ses1)"
   ]
  },
  {
   "cell_type": "code",
   "execution_count": null,
   "metadata": {},
   "outputs": [],
   "source": [
    "df_ses3 = pd.merge(df, df_ses3)\n",
    "df_ses3"
   ]
  },
  {
   "cell_type": "code",
   "execution_count": null,
   "metadata": {},
   "outputs": [],
   "source": [
    "sns.barplot(x='group',y='amg3', data=df_ses3, ci=95)\n",
    "#sns.boxplot(x='group',y='meanAct', data=df)\n",
    "scipy.stats.ttest_ind(df_ses3.amg3[df_ses3['group']=='ketamine'], \n",
    "                      df_ses3['amg3'][df_ses3['group']=='midazolam'])"
   ]
  },
  {
   "cell_type": "code",
   "execution_count": null,
   "metadata": {},
   "outputs": [],
   "source": [
    "df_ses1 = []\n",
    "df_ses1 = pd.DataFrame({'scr_id': scr_id, 'meanAct_ses1': average[0]})\n",
    "df_ses1 = pd.merge(medication_cond, df_ses1)\n",
    "df_ses1 = df_ses1.rename(columns={'med_cond': 'group'})\n",
    "#df['group'] = medication_cond['med_cond']\n",
    "df_ses1 = df_ses1.replace(to_replace={'group': {0.0:'midazolam', 1.0:'ketamine'}})"
   ]
  },
  {
   "cell_type": "code",
   "execution_count": 8,
   "metadata": {},
   "outputs": [],
   "source": [
    "group = {'ketamine': 1,'midazolam': 0} \n",
    "df_ses3['groupIdx'] =[group[item] for item in df_ses3.group] "
   ]
  },
  {
   "cell_type": "code",
   "execution_count": 9,
   "metadata": {},
   "outputs": [],
   "source": [
    "df = []\n",
    "df = pd.DataFrame({'scr_id': scr_id, 'meanAct': t_arr})\n",
    "df = pd.merge(medication_cond, df)\n",
    "df = df.rename(columns={'med_cond': 'group'})\n",
    "#df['group'] = medication_cond['med_cond']\n",
    "df = df.replace(to_replace={'group': {0.0:'midazolam', 1.0:'ketamine'}})"
   ]
  },
  {
   "cell_type": "markdown",
   "metadata": {},
   "source": [
    "## Combine all three sessions"
   ]
  },
  {
   "cell_type": "code",
   "execution_count": 97,
   "metadata": {},
   "outputs": [
    {
     "data": {
      "text/html": [
       "<div>\n",
       "<style scoped>\n",
       "    .dataframe tbody tr th:only-of-type {\n",
       "        vertical-align: middle;\n",
       "    }\n",
       "\n",
       "    .dataframe tbody tr th {\n",
       "        vertical-align: top;\n",
       "    }\n",
       "\n",
       "    .dataframe thead th {\n",
       "        text-align: right;\n",
       "    }\n",
       "</style>\n",
       "<table border=\"1\" class=\"dataframe\">\n",
       "  <thead>\n",
       "    <tr style=\"text-align: right;\">\n",
       "      <th></th>\n",
       "      <th>scr_id</th>\n",
       "      <th>group</th>\n",
       "      <th>amg1</th>\n",
       "      <th>amg2</th>\n",
       "      <th>amg3</th>\n",
       "      <th>groupIdx</th>\n",
       "    </tr>\n",
       "  </thead>\n",
       "  <tbody>\n",
       "    <tr>\n",
       "      <th>0</th>\n",
       "      <td>KPE008</td>\n",
       "      <td>ketamine</td>\n",
       "      <td>28.970097</td>\n",
       "      <td>3.190120</td>\n",
       "      <td>-6.452068</td>\n",
       "      <td>1</td>\n",
       "    </tr>\n",
       "    <tr>\n",
       "      <th>1</th>\n",
       "      <td>KPE1223</td>\n",
       "      <td>ketamine</td>\n",
       "      <td>13.012181</td>\n",
       "      <td>12.912502</td>\n",
       "      <td>-25.161104</td>\n",
       "      <td>1</td>\n",
       "    </tr>\n",
       "    <tr>\n",
       "      <th>2</th>\n",
       "      <td>KPE1253</td>\n",
       "      <td>midazolam</td>\n",
       "      <td>0.108282</td>\n",
       "      <td>-17.441103</td>\n",
       "      <td>NaN</td>\n",
       "      <td>0</td>\n",
       "    </tr>\n",
       "    <tr>\n",
       "      <th>3</th>\n",
       "      <td>KPE1263</td>\n",
       "      <td>midazolam</td>\n",
       "      <td>-21.872662</td>\n",
       "      <td>12.129872</td>\n",
       "      <td>58.742424</td>\n",
       "      <td>0</td>\n",
       "    </tr>\n",
       "    <tr>\n",
       "      <th>4</th>\n",
       "      <td>KPE1293</td>\n",
       "      <td>ketamine</td>\n",
       "      <td>-7.580429</td>\n",
       "      <td>-20.233118</td>\n",
       "      <td>-17.078924</td>\n",
       "      <td>1</td>\n",
       "    </tr>\n",
       "    <tr>\n",
       "      <th>5</th>\n",
       "      <td>KPE1307</td>\n",
       "      <td>ketamine</td>\n",
       "      <td>-38.789413</td>\n",
       "      <td>-52.221310</td>\n",
       "      <td>-11.628900</td>\n",
       "      <td>1</td>\n",
       "    </tr>\n",
       "    <tr>\n",
       "      <th>6</th>\n",
       "      <td>KPE1322</td>\n",
       "      <td>ketamine</td>\n",
       "      <td>40.718792</td>\n",
       "      <td>13.528724</td>\n",
       "      <td>-50.048515</td>\n",
       "      <td>1</td>\n",
       "    </tr>\n",
       "    <tr>\n",
       "      <th>7</th>\n",
       "      <td>KPE1339</td>\n",
       "      <td>ketamine</td>\n",
       "      <td>-2.454142</td>\n",
       "      <td>-3.369165</td>\n",
       "      <td>-0.137346</td>\n",
       "      <td>1</td>\n",
       "    </tr>\n",
       "    <tr>\n",
       "      <th>8</th>\n",
       "      <td>KPE1343</td>\n",
       "      <td>ketamine</td>\n",
       "      <td>-90.909035</td>\n",
       "      <td>-65.085220</td>\n",
       "      <td>-51.072002</td>\n",
       "      <td>1</td>\n",
       "    </tr>\n",
       "    <tr>\n",
       "      <th>9</th>\n",
       "      <td>KPE1351</td>\n",
       "      <td>midazolam</td>\n",
       "      <td>-28.428524</td>\n",
       "      <td>-18.552002</td>\n",
       "      <td>-1.437943</td>\n",
       "      <td>0</td>\n",
       "    </tr>\n",
       "    <tr>\n",
       "      <th>10</th>\n",
       "      <td>KPE1356</td>\n",
       "      <td>midazolam</td>\n",
       "      <td>-17.781033</td>\n",
       "      <td>30.883720</td>\n",
       "      <td>-1.711294</td>\n",
       "      <td>0</td>\n",
       "    </tr>\n",
       "    <tr>\n",
       "      <th>11</th>\n",
       "      <td>KPE1364</td>\n",
       "      <td>midazolam</td>\n",
       "      <td>-13.385894</td>\n",
       "      <td>56.474892</td>\n",
       "      <td>63.315742</td>\n",
       "      <td>0</td>\n",
       "    </tr>\n",
       "    <tr>\n",
       "      <th>12</th>\n",
       "      <td>KPE1369</td>\n",
       "      <td>midazolam</td>\n",
       "      <td>110.843590</td>\n",
       "      <td>26.396391</td>\n",
       "      <td>13.279358</td>\n",
       "      <td>0</td>\n",
       "    </tr>\n",
       "    <tr>\n",
       "      <th>13</th>\n",
       "      <td>KPE1387</td>\n",
       "      <td>ketamine</td>\n",
       "      <td>-16.330170</td>\n",
       "      <td>-13.578852</td>\n",
       "      <td>-9.722885</td>\n",
       "      <td>1</td>\n",
       "    </tr>\n",
       "    <tr>\n",
       "      <th>14</th>\n",
       "      <td>KPE1390</td>\n",
       "      <td>midazolam</td>\n",
       "      <td>-12.436435</td>\n",
       "      <td>7.847728</td>\n",
       "      <td>-6.360809</td>\n",
       "      <td>0</td>\n",
       "    </tr>\n",
       "    <tr>\n",
       "      <th>15</th>\n",
       "      <td>KPE1403</td>\n",
       "      <td>midazolam</td>\n",
       "      <td>24.746063</td>\n",
       "      <td>2.054658</td>\n",
       "      <td>-17.095680</td>\n",
       "      <td>0</td>\n",
       "    </tr>\n",
       "    <tr>\n",
       "      <th>16</th>\n",
       "      <td>KPE1419</td>\n",
       "      <td>ketamine</td>\n",
       "      <td>-16.783064</td>\n",
       "      <td>-22.499304</td>\n",
       "      <td>2.970581</td>\n",
       "      <td>1</td>\n",
       "    </tr>\n",
       "    <tr>\n",
       "      <th>17</th>\n",
       "      <td>KPE1464</td>\n",
       "      <td>ketamine</td>\n",
       "      <td>26.202894</td>\n",
       "      <td>-31.185732</td>\n",
       "      <td>19.177311</td>\n",
       "      <td>1</td>\n",
       "    </tr>\n",
       "    <tr>\n",
       "      <th>18</th>\n",
       "      <td>KPE1468</td>\n",
       "      <td>midazolam</td>\n",
       "      <td>-2.376417</td>\n",
       "      <td>27.221401</td>\n",
       "      <td>NaN</td>\n",
       "      <td>0</td>\n",
       "    </tr>\n",
       "    <tr>\n",
       "      <th>19</th>\n",
       "      <td>KPE1480</td>\n",
       "      <td>midazolam</td>\n",
       "      <td>80.050438</td>\n",
       "      <td>12.215979</td>\n",
       "      <td>NaN</td>\n",
       "      <td>0</td>\n",
       "    </tr>\n",
       "    <tr>\n",
       "      <th>20</th>\n",
       "      <td>KPE1499</td>\n",
       "      <td>ketamine</td>\n",
       "      <td>48.258152</td>\n",
       "      <td>-53.837910</td>\n",
       "      <td>30.116594</td>\n",
       "      <td>1</td>\n",
       "    </tr>\n",
       "    <tr>\n",
       "      <th>21</th>\n",
       "      <td>KPE1561</td>\n",
       "      <td>midazolam</td>\n",
       "      <td>15.476287</td>\n",
       "      <td>23.159636</td>\n",
       "      <td>13.836721</td>\n",
       "      <td>0</td>\n",
       "    </tr>\n",
       "    <tr>\n",
       "      <th>22</th>\n",
       "      <td>KPE1573</td>\n",
       "      <td>ketamine</td>\n",
       "      <td>17.051298</td>\n",
       "      <td>5.870611</td>\n",
       "      <td>21.851280</td>\n",
       "      <td>1</td>\n",
       "    </tr>\n",
       "    <tr>\n",
       "      <th>23</th>\n",
       "      <td>KPE1578</td>\n",
       "      <td>midazolam</td>\n",
       "      <td>33.940796</td>\n",
       "      <td>NaN</td>\n",
       "      <td>-17.359652</td>\n",
       "      <td>0</td>\n",
       "    </tr>\n",
       "  </tbody>\n",
       "</table>\n",
       "</div>"
      ],
      "text/plain": [
       "     scr_id      group        amg1       amg2       amg3  groupIdx\n",
       "0    KPE008   ketamine   28.970097   3.190120  -6.452068         1\n",
       "1   KPE1223   ketamine   13.012181  12.912502 -25.161104         1\n",
       "2   KPE1253  midazolam    0.108282 -17.441103        NaN         0\n",
       "3   KPE1263  midazolam  -21.872662  12.129872  58.742424         0\n",
       "4   KPE1293   ketamine   -7.580429 -20.233118 -17.078924         1\n",
       "5   KPE1307   ketamine  -38.789413 -52.221310 -11.628900         1\n",
       "6   KPE1322   ketamine   40.718792  13.528724 -50.048515         1\n",
       "7   KPE1339   ketamine   -2.454142  -3.369165  -0.137346         1\n",
       "8   KPE1343   ketamine  -90.909035 -65.085220 -51.072002         1\n",
       "9   KPE1351  midazolam  -28.428524 -18.552002  -1.437943         0\n",
       "10  KPE1356  midazolam  -17.781033  30.883720  -1.711294         0\n",
       "11  KPE1364  midazolam  -13.385894  56.474892  63.315742         0\n",
       "12  KPE1369  midazolam  110.843590  26.396391  13.279358         0\n",
       "13  KPE1387   ketamine  -16.330170 -13.578852  -9.722885         1\n",
       "14  KPE1390  midazolam  -12.436435   7.847728  -6.360809         0\n",
       "15  KPE1403  midazolam   24.746063   2.054658 -17.095680         0\n",
       "16  KPE1419   ketamine  -16.783064 -22.499304   2.970581         1\n",
       "17  KPE1464   ketamine   26.202894 -31.185732  19.177311         1\n",
       "18  KPE1468  midazolam   -2.376417  27.221401        NaN         0\n",
       "19  KPE1480  midazolam   80.050438  12.215979        NaN         0\n",
       "20  KPE1499   ketamine   48.258152 -53.837910  30.116594         1\n",
       "21  KPE1561  midazolam   15.476287  23.159636  13.836721         0\n",
       "22  KPE1573   ketamine   17.051298   5.870611  21.851280         1\n",
       "23  KPE1578  midazolam   33.940796        NaN -17.359652         0"
      ]
     },
     "execution_count": 97,
     "metadata": {},
     "output_type": "execute_result"
    }
   ],
   "source": [
    "df = pd.merge(df_ses1, df_ses2, how='left')\n",
    "df = pd.merge(df, df_ses3, how='left') # adding that to avoid removing Nan subjects\n",
    "# add index for group (0 and 1)\n",
    "group = {'ketamine': 1,'midazolam': 0} \n",
    "df['groupIdx'] =[group[item] for item in df.group] \n",
    "df"
   ]
  },
  {
   "cell_type": "code",
   "execution_count": 21,
   "metadata": {},
   "outputs": [
    {
     "data": {
      "text/html": [
       "<div>\n",
       "<style scoped>\n",
       "    .dataframe tbody tr th:only-of-type {\n",
       "        vertical-align: middle;\n",
       "    }\n",
       "\n",
       "    .dataframe tbody tr th {\n",
       "        vertical-align: top;\n",
       "    }\n",
       "\n",
       "    .dataframe thead th {\n",
       "        text-align: right;\n",
       "    }\n",
       "</style>\n",
       "<table border=\"1\" class=\"dataframe\">\n",
       "  <thead>\n",
       "    <tr style=\"text-align: right;\">\n",
       "      <th></th>\n",
       "      <th>scr_id</th>\n",
       "      <th>meanAct</th>\n",
       "    </tr>\n",
       "    <tr>\n",
       "      <th>group</th>\n",
       "      <th></th>\n",
       "      <th></th>\n",
       "    </tr>\n",
       "  </thead>\n",
       "  <tbody>\n",
       "    <tr>\n",
       "      <th>ketamine</th>\n",
       "      <td>12</td>\n",
       "      <td>12</td>\n",
       "    </tr>\n",
       "    <tr>\n",
       "      <th>midazolam</th>\n",
       "      <td>11</td>\n",
       "      <td>11</td>\n",
       "    </tr>\n",
       "  </tbody>\n",
       "</table>\n",
       "</div>"
      ],
      "text/plain": [
       "           scr_id  meanAct\n",
       "group                     \n",
       "ketamine       12       12\n",
       "midazolam      11       11"
      ]
     },
     "execution_count": 21,
     "metadata": {},
     "output_type": "execute_result"
    }
   ],
   "source": [
    "df.groupby(['group']).count()"
   ]
  },
  {
   "cell_type": "code",
   "execution_count": 22,
   "metadata": {},
   "outputs": [
    {
     "data": {
      "text/plain": [
       "Ttest_indResult(statistic=-3.2647509916341058, pvalue=0.0037020122176823515)"
      ]
     },
     "execution_count": 22,
     "metadata": {},
     "output_type": "execute_result"
    },
    {
     "data": {
      "image/png": "[encoded data removed]",
      "text/plain": [
       "<Figure size 432x288 with 1 Axes>"
      ]
     },
     "metadata": {
      "needs_background": "light"
     },
     "output_type": "display_data"
    }
   ],
   "source": [
    "# plot\n",
    "sns.barplot(x='group',y='meanAct', data=df, ci=95)\n",
    "#sns.boxplot(x='group',y='meanAct', data=df)\n",
    "scipy.stats.ttest_ind(df.meanAct[df['group']=='ketamine'], df['meanAct'][df['group']=='midazolam'])"
   ]
  },
  {
   "cell_type": "code",
   "execution_count": null,
   "metadata": {},
   "outputs": [],
   "source": [
    "# test changes betwen sessions\n",
    "df2ses = pd.merge(df, df_ses1)\n",
    "df2ses['amg2_1'] = df2ses.meanAct - df2ses.meanAct_ses1\n"
   ]
  },
  {
   "cell_type": "code",
   "execution_count": null,
   "metadata": {},
   "outputs": [],
   "source": [
    "sns.barplot(x='group',y='amg2_1', data=df2ses, ci=68)\n",
    "#sns.boxplot(x='group',y='meanAct', data=df)\n",
    "scipy.stats.ttest_ind(df2ses.amg2_1[df2ses['group']=='ketamine'], \n",
    "                      df2ses['amg2_1'][df2ses['group']=='midazolam'])"
   ]
  },
  {
   "cell_type": "markdown",
   "metadata": {},
   "source": [
    "## Use PyMC3 for bayesian based analysis "
   ]
  },
  {
   "cell_type": "code",
   "execution_count": 15,
   "metadata": {},
   "outputs": [],
   "source": [
    "# first code new variable for group index (1=ketamine, 0= midazolam)\n",
    "group = {'ketamine': 1,'midazolam': 0} \n",
    "df['groupIdx'] =[group[item] for item in df.group] "
   ]
  },
  {
   "cell_type": "code",
   "execution_count": 27,
   "metadata": {},
   "outputs": [
    {
     "name": "stderr",
     "output_type": "stream",
     "text": [
      "Auto-assigning NUTS sampler...\n",
      "Initializing NUTS using jitter+adapt_diag...\n",
      "Multiprocess sampling (4 chains in 4 jobs)\n",
      "NUTS: [sigma, beta, alpha]\n"
     ]
    },
    {
     "data": {
      "text/html": [
       "\n",
       "    <div>\n",
       "        <style>\n",
       "            /* Turns off some styling */\n",
       "            progress {\n",
       "                /* gets rid of default border in Firefox and Opera. */\n",
       "                border: none;\n",
       "                /* Needs to be in here for Safari polyfill so background images work as expected. */\n",
       "                background-size: auto;\n",
       "            }\n",
       "            .progress-bar-interrupted, .progress-bar-interrupted::-webkit-progress-bar {\n",
       "                background: #F44336;\n",
       "            }\n",
       "        </style>\n",
       "      <progress value='32000' class='' max='32000' style='width:300px; height:20px; vertical-align: middle;'></progress>\n",
       "      100.00% [32000/32000 00:08<00:00 Sampling 4 chains, 0 divergences]\n",
       "    </div>\n",
       "    "
      ],
      "text/plain": [
       "<IPython.core.display.HTML object>"
      ]
     },
     "metadata": {},
     "output_type": "display_data"
    },
    {
     "name": "stderr",
     "output_type": "stream",
     "text": [
      "Sampling 4 chains for 4_000 tune and 4_000 draw iterations (16_000 + 16_000 draws total) took 9 seconds.\n"
     ]
    }
   ],
   "source": [
    "# Full model\n",
    "with pm.Model() as model_1:\n",
    "    # Data\n",
    "    group = pm.Data('group', df.groupIdx)\n",
    "    amg = pm.Data('amg', df.meanAct)\n",
    "    #ketamine = pm.Data('ketamine', df.meanAct[df['group']=='ketamine'].values)\n",
    "    #midazolam = pm.Data('midazolam', df.meanAct[df['group']=='midazolam'].values)\n",
    "    \n",
    "    # Priors\n",
    "    alpha = pm.Normal('alpha', mu=5, sd=5)\n",
    "    beta = pm.Normal('beta', mu=-5, sd=5)\n",
    "    sigma = pm.HalfNormal('sigma', sigma=5)\n",
    "    \n",
    "    # Regression\n",
    "    mu = alpha + beta * group\n",
    "    diff_group = pm.Normal('diff_group', mu=mu, sd=sigma, observed=amg)\n",
    "    \n",
    "    # Prior sampling, trace definition and posterior sampling\n",
    "    prior = pm.sample_prior_predictive()\n",
    "    posterior_1 = pm.sample(draws=4000, tune=4000) # this is the trace sampling\n",
    "   # posterior_pred_1 = pm.sample_posterior_predictive(posterior_1)"
   ]
  },
  {
   "cell_type": "code",
   "execution_count": 32,
   "metadata": {},
   "outputs": [
    {
     "name": "stderr",
     "output_type": "stream",
     "text": [
      "/gpfs/ysm/project/levy_ifat/oad4/conda_envs/py37_dev/lib/python3.7/site-packages/arviz/data/io_pymc3.py:91: FutureWarning: Using `from_pymc3` without the model will be deprecated in a future release. Not using the model will return less accurate and less useful results. Make sure you use the model argument or call from_pymc3 within a model context.\n",
      "  FutureWarning,\n"
     ]
    },
    {
     "data": {
      "text/html": [
       "<div>\n",
       "<style scoped>\n",
       "    .dataframe tbody tr th:only-of-type {\n",
       "        vertical-align: middle;\n",
       "    }\n",
       "\n",
       "    .dataframe tbody tr th {\n",
       "        vertical-align: top;\n",
       "    }\n",
       "\n",
       "    .dataframe thead th {\n",
       "        text-align: right;\n",
       "    }\n",
       "</style>\n",
       "<table border=\"1\" class=\"dataframe\">\n",
       "  <thead>\n",
       "    <tr style=\"text-align: right;\">\n",
       "      <th></th>\n",
       "      <th>mean</th>\n",
       "      <th>sd</th>\n",
       "      <th>hdi_2.5%</th>\n",
       "      <th>hdi_97.5%</th>\n",
       "      <th>mcse_mean</th>\n",
       "      <th>mcse_sd</th>\n",
       "      <th>ess_mean</th>\n",
       "      <th>ess_sd</th>\n",
       "      <th>ess_bulk</th>\n",
       "      <th>ess_tail</th>\n",
       "      <th>r_hat</th>\n",
       "    </tr>\n",
       "  </thead>\n",
       "  <tbody>\n",
       "    <tr>\n",
       "      <th>alpha</th>\n",
       "      <td>5.143</td>\n",
       "      <td>3.638</td>\n",
       "      <td>-1.865</td>\n",
       "      <td>12.287</td>\n",
       "      <td>0.030</td>\n",
       "      <td>0.022</td>\n",
       "      <td>15059.0</td>\n",
       "      <td>13388.0</td>\n",
       "      <td>15050.0</td>\n",
       "      <td>11360.0</td>\n",
       "      <td>1.0</td>\n",
       "    </tr>\n",
       "    <tr>\n",
       "      <th>beta</th>\n",
       "      <td>-8.430</td>\n",
       "      <td>4.182</td>\n",
       "      <td>-16.584</td>\n",
       "      <td>-0.227</td>\n",
       "      <td>0.034</td>\n",
       "      <td>0.025</td>\n",
       "      <td>15414.0</td>\n",
       "      <td>14258.0</td>\n",
       "      <td>15405.0</td>\n",
       "      <td>11693.0</td>\n",
       "      <td>1.0</td>\n",
       "    </tr>\n",
       "    <tr>\n",
       "      <th>sigma</th>\n",
       "      <td>20.672</td>\n",
       "      <td>2.033</td>\n",
       "      <td>16.963</td>\n",
       "      <td>24.829</td>\n",
       "      <td>0.016</td>\n",
       "      <td>0.011</td>\n",
       "      <td>17069.0</td>\n",
       "      <td>16875.0</td>\n",
       "      <td>16995.0</td>\n",
       "      <td>10110.0</td>\n",
       "      <td>1.0</td>\n",
       "    </tr>\n",
       "  </tbody>\n",
       "</table>\n",
       "</div>"
      ],
      "text/plain": [
       "         mean     sd  hdi_2.5%  hdi_97.5%  mcse_mean  mcse_sd  ess_mean  \\\n",
       "alpha   5.143  3.638    -1.865     12.287      0.030    0.022   15059.0   \n",
       "beta   -8.430  4.182   -16.584     -0.227      0.034    0.025   15414.0   \n",
       "sigma  20.672  2.033    16.963     24.829      0.016    0.011   17069.0   \n",
       "\n",
       "        ess_sd  ess_bulk  ess_tail  r_hat  \n",
       "alpha  13388.0   15050.0   11360.0    1.0  \n",
       "beta   14258.0   15405.0   11693.0    1.0  \n",
       "sigma  16875.0   16995.0   10110.0    1.0  "
      ]
     },
     "execution_count": 32,
     "metadata": {},
     "output_type": "execute_result"
    }
   ],
   "source": [
    "#az.summary(posterior_1, credible_interval=.95).round(2) # adding round to make shorted floats\n",
    "pm.summary(posterior_1, hdi_prob=0.95)#, alpha=.05).round(2)# also possible"
   ]
  },
  {
   "cell_type": "code",
   "execution_count": 10,
   "metadata": {},
   "outputs": [
    {
     "name": "stderr",
     "output_type": "stream",
     "text": [
      "Auto-assigning NUTS sampler...\n",
      "Initializing NUTS using jitter+adapt_diag...\n",
      "Multiprocess sampling (4 chains in 4 jobs)\n",
      "NUTS: [sd, groupIdx, Intercept]\n"
     ]
    },
    {
     "data": {
      "text/html": [
       "\n",
       "    <div>\n",
       "        <style>\n",
       "            /* Turns off some styling */\n",
       "            progress {\n",
       "                /* gets rid of default border in Firefox and Opera. */\n",
       "                border: none;\n",
       "                /* Needs to be in here for Safari polyfill so background images work as expected. */\n",
       "                background-size: auto;\n",
       "            }\n",
       "            .progress-bar-interrupted, .progress-bar-interrupted::-webkit-progress-bar {\n",
       "                background: #F44336;\n",
       "            }\n",
       "        </style>\n",
       "      <progress value='32000' class='' max='32000' style='width:300px; height:20px; vertical-align: middle;'></progress>\n",
       "      100.00% [32000/32000 00:10<00:00 Sampling 4 chains, 0 divergences]\n",
       "    </div>\n",
       "    "
      ],
      "text/plain": [
       "<IPython.core.display.HTML object>"
      ]
     },
     "metadata": {},
     "output_type": "display_data"
    },
    {
     "name": "stderr",
     "output_type": "stream",
     "text": [
      "Sampling 4 chains for 3_000 tune and 5_000 draw iterations (12_000 + 20_000 draws total) took 11 seconds.\n"
     ]
    }
   ],
   "source": [
    "# play with glm module of pymc3\n",
    "with pm.Model() as model_glm:\n",
    "    GLM.from_formula('amg3 ~ groupIdx', df_ses3)\n",
    "    trace = pm.sample(draws=5000, tune=3000)"
   ]
  },
  {
   "cell_type": "code",
   "execution_count": 11,
   "metadata": {},
   "outputs": [
    {
     "name": "stderr",
     "output_type": "stream",
     "text": [
      "/gpfs/ysm/project/levy_ifat/oad4/conda_envs/py37_dev/lib/python3.7/site-packages/arviz/data/io_pymc3.py:91: FutureWarning: Using `from_pymc3` without the model will be deprecated in a future release. Not using the model will return less accurate and less useful results. Make sure you use the model argument or call from_pymc3 within a model context.\n",
      "  FutureWarning,\n"
     ]
    },
    {
     "data": {
      "text/html": [
       "<div>\n",
       "<style scoped>\n",
       "    .dataframe tbody tr th:only-of-type {\n",
       "        vertical-align: middle;\n",
       "    }\n",
       "\n",
       "    .dataframe tbody tr th {\n",
       "        vertical-align: top;\n",
       "    }\n",
       "\n",
       "    .dataframe thead th {\n",
       "        text-align: right;\n",
       "    }\n",
       "</style>\n",
       "<table border=\"1\" class=\"dataframe\">\n",
       "  <thead>\n",
       "    <tr style=\"text-align: right;\">\n",
       "      <th></th>\n",
       "      <th>mean</th>\n",
       "      <th>sd</th>\n",
       "      <th>hdi_2.5%</th>\n",
       "      <th>hdi_97.5%</th>\n",
       "      <th>mcse_mean</th>\n",
       "      <th>mcse_sd</th>\n",
       "      <th>ess_mean</th>\n",
       "      <th>ess_sd</th>\n",
       "      <th>ess_bulk</th>\n",
       "      <th>ess_tail</th>\n",
       "      <th>r_hat</th>\n",
       "    </tr>\n",
       "  </thead>\n",
       "  <tbody>\n",
       "    <tr>\n",
       "      <th>Intercept</th>\n",
       "      <td>11.68</td>\n",
       "      <td>9.71</td>\n",
       "      <td>-8.41</td>\n",
       "      <td>29.71</td>\n",
       "      <td>0.11</td>\n",
       "      <td>0.08</td>\n",
       "      <td>7960.0</td>\n",
       "      <td>7960.0</td>\n",
       "      <td>7970.0</td>\n",
       "      <td>9101.0</td>\n",
       "      <td>1.0</td>\n",
       "    </tr>\n",
       "    <tr>\n",
       "      <th>groupIdx</th>\n",
       "      <td>-19.68</td>\n",
       "      <td>12.82</td>\n",
       "      <td>-45.61</td>\n",
       "      <td>4.35</td>\n",
       "      <td>0.14</td>\n",
       "      <td>0.10</td>\n",
       "      <td>8030.0</td>\n",
       "      <td>8030.0</td>\n",
       "      <td>8025.0</td>\n",
       "      <td>9451.0</td>\n",
       "      <td>1.0</td>\n",
       "    </tr>\n",
       "    <tr>\n",
       "      <th>sd</th>\n",
       "      <td>28.21</td>\n",
       "      <td>4.80</td>\n",
       "      <td>20.07</td>\n",
       "      <td>37.94</td>\n",
       "      <td>0.05</td>\n",
       "      <td>0.04</td>\n",
       "      <td>8339.0</td>\n",
       "      <td>8339.0</td>\n",
       "      <td>8155.0</td>\n",
       "      <td>7859.0</td>\n",
       "      <td>1.0</td>\n",
       "    </tr>\n",
       "  </tbody>\n",
       "</table>\n",
       "</div>"
      ],
      "text/plain": [
       "            mean     sd  hdi_2.5%  hdi_97.5%  mcse_mean  mcse_sd  ess_mean  \\\n",
       "Intercept  11.68   9.71     -8.41      29.71       0.11     0.08    7960.0   \n",
       "groupIdx  -19.68  12.82    -45.61       4.35       0.14     0.10    8030.0   \n",
       "sd         28.21   4.80     20.07      37.94       0.05     0.04    8339.0   \n",
       "\n",
       "           ess_sd  ess_bulk  ess_tail  r_hat  \n",
       "Intercept  7960.0    7970.0    9101.0    1.0  \n",
       "groupIdx   8030.0    8025.0    9451.0    1.0  \n",
       "sd         8339.0    8155.0    7859.0    1.0  "
      ]
     },
     "execution_count": 11,
     "metadata": {},
     "output_type": "execute_result"
    }
   ],
   "source": [
    "pm.summary(trace, hdi_prob=.95).round(2)"
   ]
  },
  {
   "cell_type": "code",
   "execution_count": 13,
   "metadata": {},
   "outputs": [
    {
     "data": {
      "text/plain": [
       "<matplotlib.axes._subplots.AxesSubplot at 0x2b7e8a1bb950>"
      ]
     },
     "execution_count": 13,
     "metadata": {},
     "output_type": "execute_result"
    },
    {
     "data": {
      "image/png": "[encoded data removed]",
      "text/plain": [
       "<Figure size 432x288 with 1 Axes>"
      ]
     },
     "metadata": {
      "needs_background": "light"
     },
     "output_type": "display_data"
    }
   ],
   "source": [
    "pm.plot_posterior(trace['groupIdx'])"
   ]
  },
  {
   "cell_type": "code",
   "execution_count": null,
   "metadata": {},
   "outputs": [],
   "source": [
    "sns.distplot(trace.groupIdx)\n",
    "sum(trace['groupIdx']>0) / len(trace['groupIdx'])"
   ]
  },
  {
   "cell_type": "code",
   "execution_count": null,
   "metadata": {},
   "outputs": [],
   "source": [
    "# set variables\n",
    "sns.set_style(\"ticks\") # set style\n",
    "y = 'meanAct'\n",
    "dfPlot = df\n",
    "ci = np.quantile(trace.groupIdx, [.025,.975])\n",
    "fig, (ax1, ax2) = plt.subplots(1,2, figsize=(3, 5),gridspec_kw={'width_ratios': [1, .2],\n",
    "                                                        'wspace':.1})\n",
    "g1 = sns.stripplot(y= y, x='group', data=dfPlot, size = 8, ax=ax1)\n",
    "sns.boxplot(y= y, x='group', data=dfPlot,  ax=ax1,\n",
    "            boxprops=dict(alpha=.3))\n",
    "g2 = sns.distplot(trace['groupIdx'], ax = ax2, vertical=True)\n",
    "ax2.vlines(x=0.001,ymin=ci[0], ymax=ci[1], color='black', \n",
    "           linewidth = 2, linestyle = \"-\")\n",
    "\n",
    "#g3.set_ylim(-.7, .7)\n",
    "#ax1.set_ylim(-.7,.7)\n",
    "ax2.set_ylim(g1.get_ylim()) # use first graph's limits to get the relevant for this one\n",
    "ax2.yaxis.tick_right()\n",
    "ax2.set_xticks([])\n",
    "ax2.set_ylabel(\"Difference between groups\", fontsize=14) \n",
    "ax2.yaxis.set_label_position(\"right\")\n",
    "ax1.set_ylabel(\"Amg reactivity to traumatic script\", fontsize=12)\n",
    "ax1.set_xlabel(\"Group\", fontsize=14)\n",
    "fig.savefig('amygdalaReactivity.png', dpi=600, bbox_inches='tight')"
   ]
  },
  {
   "cell_type": "markdown",
   "metadata": {},
   "source": [
    "### Creating mixed level model"
   ]
  },
  {
   "cell_type": "code",
   "execution_count": 98,
   "metadata": {},
   "outputs": [],
   "source": [
    "df_long = pd.melt(df, id_vars=['scr_id','groupIdx'], value_vars=['amg1','amg2','amg3'])\n",
    "df_long.to_csv('amygdala.csv', index=False)"
   ]
  },
  {
   "cell_type": "code",
   "execution_count": 102,
   "metadata": {},
   "outputs": [
    {
     "name": "stderr",
     "output_type": "stream",
     "text": [
      "Auto-assigning NUTS sampler...\n",
      "Initializing NUTS using jitter+adapt_diag...\n",
      "Multiprocess sampling (4 chains in 4 jobs)\n",
      "NUTS: [sd, groupIdx, variable[T.amg3], variable[T.amg2], Intercept]\n"
     ]
    },
    {
     "data": {
      "text/html": [
       "\n",
       "    <div>\n",
       "        <style>\n",
       "            /* Turns off some styling */\n",
       "            progress {\n",
       "                /* gets rid of default border in Firefox and Opera. */\n",
       "                border: none;\n",
       "                /* Needs to be in here for Safari polyfill so background images work as expected. */\n",
       "                background-size: auto;\n",
       "            }\n",
       "            .progress-bar-interrupted, .progress-bar-interrupted::-webkit-progress-bar {\n",
       "                background: #F44336;\n",
       "            }\n",
       "        </style>\n",
       "      <progress value='16000' class='' max='16000' style='width:300px; height:20px; vertical-align: middle;'></progress>\n",
       "      100.00% [16000/16000 00:08<00:00 Sampling 4 chains, 0 divergences]\n",
       "    </div>\n",
       "    "
      ],
      "text/plain": [
       "<IPython.core.display.HTML object>"
      ]
     },
     "metadata": {},
     "output_type": "display_data"
    },
    {
     "name": "stderr",
     "output_type": "stream",
     "text": [
      "Sampling 4 chains for 2_000 tune and 2_000 draw iterations (8_000 + 8_000 draws total) took 8 seconds.\n"
     ]
    }
   ],
   "source": [
    "with pm.Model() as model_glm1:\n",
    "    GLM.from_formula('value ~ groupIdx + variable', df_long)\n",
    "    trace_mixed = pm.sample(draws=2000, tune=2000)"
   ]
  },
  {
   "cell_type": "code",
   "execution_count": 103,
   "metadata": {},
   "outputs": [
    {
     "name": "stderr",
     "output_type": "stream",
     "text": [
      "/gpfs/ysm/project/levy_ifat/oad4/conda_envs/py37_dev/lib/python3.7/site-packages/arviz/data/io_pymc3.py:91: FutureWarning: Using `from_pymc3` without the model will be deprecated in a future release. Not using the model will return less accurate and less useful results. Make sure you use the model argument or call from_pymc3 within a model context.\n",
      "  FutureWarning,\n"
     ]
    },
    {
     "data": {
      "text/html": [
       "<div>\n",
       "<style scoped>\n",
       "    .dataframe tbody tr th:only-of-type {\n",
       "        vertical-align: middle;\n",
       "    }\n",
       "\n",
       "    .dataframe tbody tr th {\n",
       "        vertical-align: top;\n",
       "    }\n",
       "\n",
       "    .dataframe thead th {\n",
       "        text-align: right;\n",
       "    }\n",
       "</style>\n",
       "<table border=\"1\" class=\"dataframe\">\n",
       "  <thead>\n",
       "    <tr style=\"text-align: right;\">\n",
       "      <th></th>\n",
       "      <th>mean</th>\n",
       "      <th>sd</th>\n",
       "      <th>hdi_3%</th>\n",
       "      <th>hdi_97%</th>\n",
       "      <th>mcse_mean</th>\n",
       "      <th>mcse_sd</th>\n",
       "      <th>ess_mean</th>\n",
       "      <th>ess_sd</th>\n",
       "      <th>ess_bulk</th>\n",
       "      <th>ess_tail</th>\n",
       "      <th>r_hat</th>\n",
       "    </tr>\n",
       "  </thead>\n",
       "  <tbody>\n",
       "    <tr>\n",
       "      <th>Intercept</th>\n",
       "      <td>18.155</td>\n",
       "      <td>7.820</td>\n",
       "      <td>3.029</td>\n",
       "      <td>32.459</td>\n",
       "      <td>0.124</td>\n",
       "      <td>0.087</td>\n",
       "      <td>3995.0</td>\n",
       "      <td>3995.0</td>\n",
       "      <td>3989.0</td>\n",
       "      <td>4790.0</td>\n",
       "      <td>1.0</td>\n",
       "    </tr>\n",
       "    <tr>\n",
       "      <th>variable[T.amg2]</th>\n",
       "      <td>-9.232</td>\n",
       "      <td>9.383</td>\n",
       "      <td>-26.618</td>\n",
       "      <td>7.982</td>\n",
       "      <td>0.136</td>\n",
       "      <td>0.096</td>\n",
       "      <td>4788.0</td>\n",
       "      <td>4788.0</td>\n",
       "      <td>4784.0</td>\n",
       "      <td>5468.0</td>\n",
       "      <td>1.0</td>\n",
       "    </tr>\n",
       "    <tr>\n",
       "      <th>variable[T.amg3]</th>\n",
       "      <td>-5.015</td>\n",
       "      <td>9.842</td>\n",
       "      <td>-23.997</td>\n",
       "      <td>12.695</td>\n",
       "      <td>0.139</td>\n",
       "      <td>0.106</td>\n",
       "      <td>5042.0</td>\n",
       "      <td>4299.0</td>\n",
       "      <td>5054.0</td>\n",
       "      <td>5147.0</td>\n",
       "      <td>1.0</td>\n",
       "    </tr>\n",
       "    <tr>\n",
       "      <th>groupIdx</th>\n",
       "      <td>-22.285</td>\n",
       "      <td>7.887</td>\n",
       "      <td>-36.768</td>\n",
       "      <td>-7.177</td>\n",
       "      <td>0.097</td>\n",
       "      <td>0.070</td>\n",
       "      <td>6590.0</td>\n",
       "      <td>6285.0</td>\n",
       "      <td>6602.0</td>\n",
       "      <td>5425.0</td>\n",
       "      <td>1.0</td>\n",
       "    </tr>\n",
       "    <tr>\n",
       "      <th>sd</th>\n",
       "      <td>32.084</td>\n",
       "      <td>2.883</td>\n",
       "      <td>27.176</td>\n",
       "      <td>37.635</td>\n",
       "      <td>0.037</td>\n",
       "      <td>0.026</td>\n",
       "      <td>6139.0</td>\n",
       "      <td>6139.0</td>\n",
       "      <td>5984.0</td>\n",
       "      <td>4595.0</td>\n",
       "      <td>1.0</td>\n",
       "    </tr>\n",
       "  </tbody>\n",
       "</table>\n",
       "</div>"
      ],
      "text/plain": [
       "                    mean     sd  hdi_3%  hdi_97%  mcse_mean  mcse_sd  \\\n",
       "Intercept         18.155  7.820   3.029   32.459      0.124    0.087   \n",
       "variable[T.amg2]  -9.232  9.383 -26.618    7.982      0.136    0.096   \n",
       "variable[T.amg3]  -5.015  9.842 -23.997   12.695      0.139    0.106   \n",
       "groupIdx         -22.285  7.887 -36.768   -7.177      0.097    0.070   \n",
       "sd                32.084  2.883  27.176   37.635      0.037    0.026   \n",
       "\n",
       "                  ess_mean  ess_sd  ess_bulk  ess_tail  r_hat  \n",
       "Intercept           3995.0  3995.0    3989.0    4790.0    1.0  \n",
       "variable[T.amg2]    4788.0  4788.0    4784.0    5468.0    1.0  \n",
       "variable[T.amg3]    5042.0  4299.0    5054.0    5147.0    1.0  \n",
       "groupIdx            6590.0  6285.0    6602.0    5425.0    1.0  \n",
       "sd                  6139.0  6139.0    5984.0    4595.0    1.0  "
      ]
     },
     "execution_count": 103,
     "metadata": {},
     "output_type": "execute_result"
    }
   ],
   "source": [
    "pm.summary(trace_mixed)"
   ]
  },
  {
   "cell_type": "markdown",
   "metadata": {},
   "source": [
    "#### There is a main effect for the group (ketamine lower than midazolam)"
   ]
  },
  {
   "cell_type": "markdown",
   "metadata": {},
   "source": [
    "## Next we do the same for vmPFC"
   ]
  },
  {
   "cell_type": "code",
   "execution_count": null,
   "metadata": {},
   "outputs": [],
   "source": [
    "# now lets do the same with vmPFC\n",
    "mask_file = '/gpfs/gibbs/pi/levy_ifat/Or/ROI/vmpfc_association-test_z_FDR_0.01.nii.gz'\n",
    "mask_file = nilearn.image.math_img(\"a>=5\", a=mask_file)\n",
    "%matplotlib inline\n",
    "nilearn.plotting.plot_roi(mask_file)\n",
    "masker = nilearn.input_data.NiftiMasker(mask_img=mask_file, \n",
    "                               sessions=None, smoothing_fwhm=None,\n",
    "                                        standardize=False, detrend=False, verbose=5)"
   ]
  },
  {
   "cell_type": "code",
   "execution_count": null,
   "metadata": {},
   "outputs": [],
   "source": [
    "mean_act_vmpfc = []\n",
    "scr_id = []\n",
    "for func in func_files:\n",
    "    # get subject number\n",
    "    scr_id.append('KPE' + func.split('id_')[1].split('/')[0])\n",
    "    # get average activation\n",
    "    t_map = masker.fit_transform(func)\n",
    "    \n",
    "    average = np.mean(np.array(t_map))\n",
    "    mean_act_vmpfc.append(average)\n"
   ]
  },
  {
   "cell_type": "code",
   "execution_count": null,
   "metadata": {},
   "outputs": [],
   "source": [
    "df[\"vmpfc\"] = mean_act_vmpfc\n",
    "#df_vmpfc = pd.DataFrame({'scr_id': scr_id, 'vmpfc': mean_act_vmpfc})\n",
    "#df_vmpfc = pd.merge(df_vmpfc, medication_cond)\n",
    "sns.boxplot(x='group',y='vmpfc', data=df)\n",
    "#sns.barplot(x='med_cond',y='meanAct', data=df_vmpfc, ci=68)\n",
    "scipy.stats.ttest_ind(df.vmpfc[df['group']=='ketamine'],\n",
    "                      df.vmpfc[df['group']=='midazolam'])"
   ]
  },
  {
   "cell_type": "code",
   "execution_count": null,
   "metadata": {},
   "outputs": [],
   "source": [
    "df_vmpfc"
   ]
  },
  {
   "cell_type": "code",
   "execution_count": null,
   "metadata": {},
   "outputs": [],
   "source": [
    "with pm.Model() as model_glm:\n",
    "    GLM.from_formula('vmPFC ~ groupIdx', df)\n",
    "    trace_vmpfc = pm.sample(draws=4000, tune=3000)"
   ]
  },
  {
   "cell_type": "code",
   "execution_count": null,
   "metadata": {},
   "outputs": [],
   "source": [
    "pm.summary(trace_vmpfc, credible_interval=.95).round(2)"
   ]
  },
  {
   "cell_type": "code",
   "execution_count": 52,
   "metadata": {},
   "outputs": [
    {
     "data": {
      "image/png": "[encoded data removed]",
      "text/plain": [
       "<Figure size 475.2x187.2 with 4 Axes>"
      ]
     },
     "metadata": {},
     "output_type": "display_data"
    }
   ],
   "source": [
    "## Hippocampus\n",
    "mask_file = '/gpfs/gibbs/pi/levy_ifat/Or/ROI/hippocampus_association-test_z_FDR_0.01.nii.gz'\n",
    "mask_file = nilearn.image.math_img(\"a>=15\", a=mask_file)\n",
    "%matplotlib inline\n",
    "nilearn.plotting.plot_roi(mask_file)\n",
    "masker = nilearn.input_data.NiftiMasker(mask_img=mask_file, \n",
    "                               sessions=None, smoothing_fwhm=None,\n",
    "                                        standardize=False, detrend=False, verbose=5)"
   ]
  },
  {
   "cell_type": "code",
   "execution_count": 53,
   "metadata": {},
   "outputs": [
    {
     "name": "stdout",
     "output_type": "stream",
     "text": [
      "[NiftiMasker.fit] Loading data from None\n",
      "[NiftiMasker.fit] Resampling mask\n",
      "[NiftiMasker.transform_single_imgs] Loading data from Nifti1Image(\n",
      "shape=(97, 115, 97, 1),\n",
      "affine=array([[   2. ,    0. ,    0. ,  -96.5],\n",
      "       [   0. ,    2. ,    0. , -132.5],\n",
      "       [   0. ,    0. ,    2. ,  -78.5],\n",
      "       [   0. ,    0. ,    0. ,  \n",
      "[NiftiMasker.transform_single_imgs] Resampling images\n",
      "[NiftiMasker.transform_single_imgs] Extracting region signals\n",
      "[NiftiMasker.transform_single_imgs] Cleaning extracted signals\n",
      "[NiftiMasker.fit] Loading data from None\n",
      "[NiftiMasker.fit] Resampling mask\n",
      "[NiftiMasker.transform_single_imgs] Loading data from Nifti1Image(\n",
      "shape=(97, 115, 97, 1),\n",
      "affine=array([[   2. ,    0. ,    0. ,  -96.5],\n",
      "       [   0. ,    2. ,    0. , -132.5],\n",
      "       [   0. ,    0. ,    2. ,  -78.5],\n",
      "       [   0. ,    0. ,    0. ,  \n",
      "[NiftiMasker.transform_single_imgs] Resampling images\n",
      "[NiftiMasker.transform_single_imgs] Extracting region signals\n",
      "[NiftiMasker.transform_single_imgs] Cleaning extracted signals\n",
      "[NiftiMasker.fit] Loading data from None\n",
      "[NiftiMasker.fit] Resampling mask\n",
      "[NiftiMasker.transform_single_imgs] Loading data from Nifti1Image(\n",
      "shape=(97, 115, 97, 1),\n",
      "affine=array([[   2. ,    0. ,    0. ,  -96.5],\n",
      "       [   0. ,    2. ,    0. , -132.5],\n",
      "       [   0. ,    0. ,    2. ,  -78.5],\n",
      "       [   0. ,    0. ,    0. ,  \n",
      "[NiftiMasker.transform_single_imgs] Resampling images\n",
      "[NiftiMasker.transform_single_imgs] Extracting region signals\n",
      "[NiftiMasker.transform_single_imgs] Cleaning extracted signals\n",
      "[NiftiMasker.fit] Loading data from None\n",
      "[NiftiMasker.fit] Resampling mask\n",
      "[NiftiMasker.transform_single_imgs] Loading data from Nifti1Image(\n",
      "shape=(97, 115, 97, 1),\n",
      "affine=array([[   2. ,    0. ,    0. ,  -96.5],\n",
      "       [   0. ,    2. ,    0. , -132.5],\n",
      "       [   0. ,    0. ,    2. ,  -78.5],\n",
      "       [   0. ,    0. ,    0. ,  \n",
      "[NiftiMasker.transform_single_imgs] Resampling images\n",
      "[NiftiMasker.transform_single_imgs] Extracting region signals\n",
      "[NiftiMasker.transform_single_imgs] Cleaning extracted signals\n",
      "[NiftiMasker.fit] Loading data from None\n",
      "[NiftiMasker.fit] Resampling mask\n",
      "[NiftiMasker.transform_single_imgs] Loading data from Nifti1Image(\n",
      "shape=(97, 115, 97, 1),\n",
      "affine=array([[   2. ,    0. ,    0. ,  -96.5],\n",
      "       [   0. ,    2. ,    0. , -132.5],\n",
      "       [   0. ,    0. ,    2. ,  -78.5],\n",
      "       [   0. ,    0. ,    0. ,  \n",
      "[NiftiMasker.transform_single_imgs] Resampling images\n",
      "[NiftiMasker.transform_single_imgs] Extracting region signals\n",
      "[NiftiMasker.transform_single_imgs] Cleaning extracted signals\n",
      "[NiftiMasker.fit] Loading data from None\n",
      "[NiftiMasker.fit] Resampling mask\n",
      "[NiftiMasker.transform_single_imgs] Loading data from Nifti1Image(\n",
      "shape=(97, 115, 97, 1),\n",
      "affine=array([[   2. ,    0. ,    0. ,  -96.5],\n",
      "       [   0. ,    2. ,    0. , -132.5],\n",
      "       [   0. ,    0. ,    2. ,  -78.5],\n",
      "       [   0. ,    0. ,    0. ,  \n",
      "[NiftiMasker.transform_single_imgs] Resampling images\n",
      "[NiftiMasker.transform_single_imgs] Extracting region signals\n",
      "[NiftiMasker.transform_single_imgs] Cleaning extracted signals\n",
      "[NiftiMasker.fit] Loading data from None\n",
      "[NiftiMasker.fit] Resampling mask\n",
      "[NiftiMasker.transform_single_imgs] Loading data from Nifti1Image(\n",
      "shape=(97, 115, 97, 1),\n",
      "affine=array([[   2. ,    0. ,    0. ,  -96.5],\n",
      "       [   0. ,    2. ,    0. , -132.5],\n",
      "       [   0. ,    0. ,    2. ,  -78.5],\n",
      "       [   0. ,    0. ,    0. ,  \n",
      "[NiftiMasker.transform_single_imgs] Resampling images\n",
      "[NiftiMasker.transform_single_imgs] Extracting region signals\n",
      "[NiftiMasker.transform_single_imgs] Cleaning extracted signals\n",
      "[NiftiMasker.fit] Loading data from None\n",
      "[NiftiMasker.fit] Resampling mask\n",
      "[NiftiMasker.transform_single_imgs] Loading data from Nifti1Image(\n",
      "shape=(97, 115, 97, 1),\n",
      "affine=array([[   2. ,    0. ,    0. ,  -96.5],\n",
      "       [   0. ,    2. ,    0. , -132.5],\n",
      "       [   0. ,    0. ,    2. ,  -78.5],\n",
      "       [   0. ,    0. ,    0. ,  \n",
      "[NiftiMasker.transform_single_imgs] Resampling images\n",
      "[NiftiMasker.transform_single_imgs] Extracting region signals\n",
      "[NiftiMasker.transform_single_imgs] Cleaning extracted signals\n",
      "[NiftiMasker.fit] Loading data from None\n",
      "[NiftiMasker.fit] Resampling mask\n",
      "[NiftiMasker.transform_single_imgs] Loading data from Nifti1Image(\n",
      "shape=(97, 115, 97, 1),\n",
      "affine=array([[   2. ,    0. ,    0. ,  -96.5],\n",
      "       [   0. ,    2. ,    0. , -132.5],\n",
      "       [   0. ,    0. ,    2. ,  -78.5],\n",
      "       [   0. ,    0. ,    0. ,  \n",
      "[NiftiMasker.transform_single_imgs] Resampling images\n",
      "[NiftiMasker.transform_single_imgs] Extracting region signals\n",
      "[NiftiMasker.transform_single_imgs] Cleaning extracted signals\n",
      "[NiftiMasker.fit] Loading data from None\n",
      "[NiftiMasker.fit] Resampling mask\n",
      "[NiftiMasker.transform_single_imgs] Loading data from Nifti1Image(\n",
      "shape=(97, 115, 97, 1),\n",
      "affine=array([[   2. ,    0. ,    0. ,  -96.5],\n",
      "       [   0. ,    2. ,    0. , -132.5],\n",
      "       [   0. ,    0. ,    2. ,  -78.5],\n",
      "       [   0. ,    0. ,    0. ,  \n",
      "[NiftiMasker.transform_single_imgs] Resampling images\n",
      "[NiftiMasker.transform_single_imgs] Extracting region signals\n",
      "[NiftiMasker.transform_single_imgs] Cleaning extracted signals\n",
      "[NiftiMasker.fit] Loading data from None\n",
      "[NiftiMasker.fit] Resampling mask\n",
      "[NiftiMasker.transform_single_imgs] Loading data from Nifti1Image(\n",
      "shape=(97, 115, 97, 1),\n",
      "affine=array([[   2. ,    0. ,    0. ,  -96.5],\n",
      "       [   0. ,    2. ,    0. , -132.5],\n",
      "       [   0. ,    0. ,    2. ,  -78.5],\n",
      "       [   0. ,    0. ,    0. ,  \n",
      "[NiftiMasker.transform_single_imgs] Resampling images\n",
      "[NiftiMasker.transform_single_imgs] Extracting region signals\n",
      "[NiftiMasker.transform_single_imgs] Cleaning extracted signals\n",
      "[NiftiMasker.fit] Loading data from None\n",
      "[NiftiMasker.fit] Resampling mask\n",
      "[NiftiMasker.transform_single_imgs] Loading data from Nifti1Image(\n",
      "shape=(97, 115, 97, 1),\n",
      "affine=array([[   2. ,    0. ,    0. ,  -96.5],\n",
      "       [   0. ,    2. ,    0. , -132.5],\n",
      "       [   0. ,    0. ,    2. ,  -78.5],\n",
      "       [   0. ,    0. ,    0. ,  \n",
      "[NiftiMasker.transform_single_imgs] Resampling images\n",
      "[NiftiMasker.transform_single_imgs] Extracting region signals\n",
      "[NiftiMasker.transform_single_imgs] Cleaning extracted signals\n",
      "[NiftiMasker.fit] Loading data from None\n",
      "[NiftiMasker.fit] Resampling mask\n",
      "[NiftiMasker.transform_single_imgs] Loading data from Nifti1Image(\n",
      "shape=(97, 115, 97, 1),\n",
      "affine=array([[   2. ,    0. ,    0. ,  -96.5],\n",
      "       [   0. ,    2. ,    0. , -132.5],\n",
      "       [   0. ,    0. ,    2. ,  -78.5],\n",
      "       [   0. ,    0. ,    0. ,  \n",
      "[NiftiMasker.transform_single_imgs] Resampling images\n",
      "[NiftiMasker.transform_single_imgs] Extracting region signals\n",
      "[NiftiMasker.transform_single_imgs] Cleaning extracted signals\n",
      "[NiftiMasker.fit] Loading data from None\n",
      "[NiftiMasker.fit] Resampling mask\n",
      "[NiftiMasker.transform_single_imgs] Loading data from Nifti1Image(\n",
      "shape=(97, 115, 97, 1),\n",
      "affine=array([[   2. ,    0. ,    0. ,  -96.5],\n",
      "       [   0. ,    2. ,    0. , -132.5],\n",
      "       [   0. ,    0. ,    2. ,  -78.5],\n",
      "       [   0. ,    0. ,    0. ,  \n",
      "[NiftiMasker.transform_single_imgs] Resampling images\n",
      "[NiftiMasker.transform_single_imgs] Extracting region signals\n",
      "[NiftiMasker.transform_single_imgs] Cleaning extracted signals\n",
      "[NiftiMasker.fit] Loading data from None\n",
      "[NiftiMasker.fit] Resampling mask\n",
      "[NiftiMasker.transform_single_imgs] Loading data from Nifti1Image(\n",
      "shape=(97, 115, 97, 1),\n",
      "affine=array([[   2. ,    0. ,    0. ,  -96.5],\n",
      "       [   0. ,    2. ,    0. , -132.5],\n",
      "       [   0. ,    0. ,    2. ,  -78.5],\n",
      "       [   0. ,    0. ,    0. ,  \n",
      "[NiftiMasker.transform_single_imgs] Resampling images\n",
      "[NiftiMasker.transform_single_imgs] Extracting region signals\n",
      "[NiftiMasker.transform_single_imgs] Cleaning extracted signals\n",
      "[NiftiMasker.fit] Loading data from None\n",
      "[NiftiMasker.fit] Resampling mask\n",
      "[NiftiMasker.transform_single_imgs] Loading data from Nifti1Image(\n",
      "shape=(97, 115, 97, 1),\n",
      "affine=array([[   2. ,    0. ,    0. ,  -96.5],\n",
      "       [   0. ,    2. ,    0. , -132.5],\n",
      "       [   0. ,    0. ,    2. ,  -78.5],\n",
      "       [   0. ,    0. ,    0. ,  \n",
      "[NiftiMasker.transform_single_imgs] Resampling images\n",
      "[NiftiMasker.transform_single_imgs] Extracting region signals\n",
      "[NiftiMasker.transform_single_imgs] Cleaning extracted signals\n",
      "[NiftiMasker.fit] Loading data from None\n",
      "[NiftiMasker.fit] Resampling mask\n",
      "[NiftiMasker.transform_single_imgs] Loading data from Nifti1Image(\n",
      "shape=(97, 115, 97, 1),\n",
      "affine=array([[   2. ,    0. ,    0. ,  -96.5],\n",
      "       [   0. ,    2. ,    0. , -132.5],\n",
      "       [   0. ,    0. ,    2. ,  -78.5],\n",
      "       [   0. ,    0. ,    0. ,  \n",
      "[NiftiMasker.transform_single_imgs] Resampling images\n",
      "[NiftiMasker.transform_single_imgs] Extracting region signals\n"
     ]
    },
    {
     "name": "stdout",
     "output_type": "stream",
     "text": [
      "[NiftiMasker.transform_single_imgs] Cleaning extracted signals\n",
      "[NiftiMasker.fit] Loading data from None\n",
      "[NiftiMasker.fit] Resampling mask\n",
      "[NiftiMasker.transform_single_imgs] Loading data from Nifti1Image(\n",
      "shape=(97, 115, 97, 1),\n",
      "affine=array([[   2. ,    0. ,    0. ,  -96.5],\n",
      "       [   0. ,    2. ,    0. , -132.5],\n",
      "       [   0. ,    0. ,    2. ,  -78.5],\n",
      "       [   0. ,    0. ,    0. ,  \n",
      "[NiftiMasker.transform_single_imgs] Resampling images\n",
      "[NiftiMasker.transform_single_imgs] Extracting region signals\n",
      "[NiftiMasker.transform_single_imgs] Cleaning extracted signals\n",
      "[NiftiMasker.fit] Loading data from None\n",
      "[NiftiMasker.fit] Resampling mask\n",
      "[NiftiMasker.transform_single_imgs] Loading data from Nifti1Image(\n",
      "shape=(97, 115, 97, 1),\n",
      "affine=array([[   2. ,    0. ,    0. ,  -96.5],\n",
      "       [   0. ,    2. ,    0. , -132.5],\n",
      "       [   0. ,    0. ,    2. ,  -78.5],\n",
      "       [   0. ,    0. ,    0. ,  \n",
      "[NiftiMasker.transform_single_imgs] Resampling images\n",
      "[NiftiMasker.transform_single_imgs] Extracting region signals\n",
      "[NiftiMasker.transform_single_imgs] Cleaning extracted signals\n",
      "[NiftiMasker.fit] Loading data from None\n",
      "[NiftiMasker.fit] Resampling mask\n",
      "[NiftiMasker.transform_single_imgs] Loading data from Nifti1Image(\n",
      "shape=(97, 115, 97, 1),\n",
      "affine=array([[   2. ,    0. ,    0. ,  -96.5],\n",
      "       [   0. ,    2. ,    0. , -132.5],\n",
      "       [   0. ,    0. ,    2. ,  -78.5],\n",
      "       [   0. ,    0. ,    0. ,  \n",
      "[NiftiMasker.transform_single_imgs] Resampling images\n",
      "[NiftiMasker.transform_single_imgs] Extracting region signals\n",
      "[NiftiMasker.transform_single_imgs] Cleaning extracted signals\n",
      "[NiftiMasker.fit] Loading data from None\n",
      "[NiftiMasker.fit] Resampling mask\n",
      "[NiftiMasker.transform_single_imgs] Loading data from Nifti1Image(\n",
      "shape=(97, 115, 97, 1),\n",
      "affine=array([[   2. ,    0. ,    0. ,  -96.5],\n",
      "       [   0. ,    2. ,    0. , -132.5],\n",
      "       [   0. ,    0. ,    2. ,  -78.5],\n",
      "       [   0. ,    0. ,    0. ,  \n",
      "[NiftiMasker.transform_single_imgs] Resampling images\n",
      "[NiftiMasker.transform_single_imgs] Extracting region signals\n",
      "[NiftiMasker.transform_single_imgs] Cleaning extracted signals\n"
     ]
    }
   ],
   "source": [
    "mean_act_hippo = []\n",
    "scr_id = []\n",
    "for func in func_files:\n",
    "    # get subject number\n",
    "    scr_id.append('KPE' + func.split('id_')[1].split('/')[0])\n",
    "    # get average activation\n",
    "    t_map = masker.fit_transform(func)\n",
    "    \n",
    "    average = np.mean(np.array(t_map))\n",
    "    mean_act_hippo.append(average)\n"
   ]
  },
  {
   "cell_type": "code",
   "execution_count": 54,
   "metadata": {},
   "outputs": [],
   "source": [
    "df_ses3['hippo3'] = mean_act_hippo"
   ]
  },
  {
   "cell_type": "code",
   "execution_count": 55,
   "metadata": {},
   "outputs": [
    {
     "data": {
      "text/html": [
       "<div>\n",
       "<style scoped>\n",
       "    .dataframe tbody tr th:only-of-type {\n",
       "        vertical-align: middle;\n",
       "    }\n",
       "\n",
       "    .dataframe tbody tr th {\n",
       "        vertical-align: top;\n",
       "    }\n",
       "\n",
       "    .dataframe thead tr th {\n",
       "        text-align: left;\n",
       "    }\n",
       "\n",
       "    .dataframe thead tr:last-of-type th {\n",
       "        text-align: right;\n",
       "    }\n",
       "</style>\n",
       "<table border=\"1\" class=\"dataframe\">\n",
       "  <thead>\n",
       "    <tr>\n",
       "      <th></th>\n",
       "      <th colspan=\"8\" halign=\"left\">amg3</th>\n",
       "      <th colspan=\"8\" halign=\"left\">hippo3</th>\n",
       "    </tr>\n",
       "    <tr>\n",
       "      <th></th>\n",
       "      <th>count</th>\n",
       "      <th>mean</th>\n",
       "      <th>std</th>\n",
       "      <th>min</th>\n",
       "      <th>25%</th>\n",
       "      <th>50%</th>\n",
       "      <th>75%</th>\n",
       "      <th>max</th>\n",
       "      <th>count</th>\n",
       "      <th>mean</th>\n",
       "      <th>std</th>\n",
       "      <th>min</th>\n",
       "      <th>25%</th>\n",
       "      <th>50%</th>\n",
       "      <th>75%</th>\n",
       "      <th>max</th>\n",
       "    </tr>\n",
       "    <tr>\n",
       "      <th>group</th>\n",
       "      <th></th>\n",
       "      <th></th>\n",
       "      <th></th>\n",
       "      <th></th>\n",
       "      <th></th>\n",
       "      <th></th>\n",
       "      <th></th>\n",
       "      <th></th>\n",
       "      <th></th>\n",
       "      <th></th>\n",
       "      <th></th>\n",
       "      <th></th>\n",
       "      <th></th>\n",
       "      <th></th>\n",
       "      <th></th>\n",
       "      <th></th>\n",
       "    </tr>\n",
       "  </thead>\n",
       "  <tbody>\n",
       "    <tr>\n",
       "      <th>ketamine</th>\n",
       "      <td>12.0</td>\n",
       "      <td>-8.098831</td>\n",
       "      <td>25.731792</td>\n",
       "      <td>-51.072002</td>\n",
       "      <td>-19.099469</td>\n",
       "      <td>-8.087476</td>\n",
       "      <td>7.022264</td>\n",
       "      <td>30.116594</td>\n",
       "      <td>12.0</td>\n",
       "      <td>-13.658186</td>\n",
       "      <td>32.768942</td>\n",
       "      <td>-101.073006</td>\n",
       "      <td>-18.82849</td>\n",
       "      <td>-3.059737</td>\n",
       "      <td>1.501609</td>\n",
       "      <td>29.092049</td>\n",
       "    </tr>\n",
       "    <tr>\n",
       "      <th>midazolam</th>\n",
       "      <td>9.0</td>\n",
       "      <td>11.689874</td>\n",
       "      <td>30.076048</td>\n",
       "      <td>-17.359652</td>\n",
       "      <td>-6.360809</td>\n",
       "      <td>-1.437943</td>\n",
       "      <td>13.836721</td>\n",
       "      <td>63.315742</td>\n",
       "      <td>9.0</td>\n",
       "      <td>-2.099810</td>\n",
       "      <td>27.818291</td>\n",
       "      <td>-55.609840</td>\n",
       "      <td>-19.27248</td>\n",
       "      <td>4.384132</td>\n",
       "      <td>22.466808</td>\n",
       "      <td>27.207291</td>\n",
       "    </tr>\n",
       "  </tbody>\n",
       "</table>\n",
       "</div>"
      ],
      "text/plain": [
       "           amg3                                                        \\\n",
       "          count       mean        std        min        25%       50%   \n",
       "group                                                                   \n",
       "ketamine   12.0  -8.098831  25.731792 -51.072002 -19.099469 -8.087476   \n",
       "midazolam   9.0  11.689874  30.076048 -17.359652  -6.360809 -1.437943   \n",
       "\n",
       "                                hippo3                                    \\\n",
       "                 75%        max  count       mean        std         min   \n",
       "group                                                                      \n",
       "ketamine    7.022264  30.116594   12.0 -13.658186  32.768942 -101.073006   \n",
       "midazolam  13.836721  63.315742    9.0  -2.099810  27.818291  -55.609840   \n",
       "\n",
       "                                                     \n",
       "                25%       50%        75%        max  \n",
       "group                                                \n",
       "ketamine  -18.82849 -3.059737   1.501609  29.092049  \n",
       "midazolam -19.27248  4.384132  22.466808  27.207291  "
      ]
     },
     "execution_count": 55,
     "metadata": {},
     "output_type": "execute_result"
    }
   ],
   "source": [
    "df_ses3.groupby('group').describe()"
   ]
  },
  {
   "cell_type": "code",
   "execution_count": null,
   "metadata": {},
   "outputs": [],
   "source": []
  },
  {
   "cell_type": "code",
   "execution_count": 56,
   "metadata": {},
   "outputs": [
    {
     "data": {
      "text/plain": [
       "Ttest_indResult(statistic=-0.8515439101806068, pvalue=0.40507261974855324)"
      ]
     },
     "execution_count": 56,
     "metadata": {},
     "output_type": "execute_result"
    },
    {
     "data": {
      "image/png": "[encoded data removed]",
      "text/plain": [
       "<Figure size 432x288 with 1 Axes>"
      ]
     },
     "metadata": {
      "needs_background": "light"
     },
     "output_type": "display_data"
    }
   ],
   "source": [
    "sns.barplot(x='group',y='hippo3', data=df_ses3, ci=95)\n",
    "scipy.stats.ttest_ind(df_ses3.hippo3[df_ses3['group']=='ketamine'],\n",
    "                      df_ses3['hippo3'][df_ses3['group']=='midazolam'])"
   ]
  },
  {
   "cell_type": "code",
   "execution_count": 57,
   "metadata": {},
   "outputs": [
    {
     "ename": "AttributeError",
     "evalue": "'DataFrame' object has no attribute 'hippo2'",
     "output_type": "error",
     "traceback": [
      "\u001b[0;31m---------------------------------------------------------------------------\u001b[0m",
      "\u001b[0;31mAttributeError\u001b[0m                            Traceback (most recent call last)",
      "\u001b[0;32m<ipython-input-57-b7e6c7529849>\u001b[0m in \u001b[0;36m<module>\u001b[0;34m\u001b[0m\n\u001b[0;32m----> 1\u001b[0;31m \u001b[0mdf\u001b[0m\u001b[0;34m[\u001b[0m\u001b[0;34m'hippo_21'\u001b[0m\u001b[0;34m]\u001b[0m \u001b[0;34m=\u001b[0m \u001b[0mdf\u001b[0m\u001b[0;34m.\u001b[0m\u001b[0mhippo2\u001b[0m \u001b[0;34m-\u001b[0m \u001b[0mdf\u001b[0m\u001b[0;34m.\u001b[0m\u001b[0mhippo1\u001b[0m\u001b[0;34m\u001b[0m\u001b[0;34m\u001b[0m\u001b[0m\n\u001b[0m\u001b[1;32m      2\u001b[0m \u001b[0msns\u001b[0m\u001b[0;34m.\u001b[0m\u001b[0mbarplot\u001b[0m\u001b[0;34m(\u001b[0m\u001b[0mx\u001b[0m\u001b[0;34m=\u001b[0m\u001b[0;34m'group'\u001b[0m\u001b[0;34m,\u001b[0m\u001b[0my\u001b[0m\u001b[0;34m=\u001b[0m\u001b[0;34m'hippo_21'\u001b[0m\u001b[0;34m,\u001b[0m \u001b[0mdata\u001b[0m\u001b[0;34m=\u001b[0m\u001b[0mdf\u001b[0m\u001b[0;34m,\u001b[0m \u001b[0mci\u001b[0m\u001b[0;34m=\u001b[0m\u001b[0;36m68\u001b[0m\u001b[0;34m)\u001b[0m\u001b[0;34m\u001b[0m\u001b[0;34m\u001b[0m\u001b[0m\n\u001b[1;32m      3\u001b[0m \u001b[0mscipy\u001b[0m\u001b[0;34m.\u001b[0m\u001b[0mstats\u001b[0m\u001b[0;34m.\u001b[0m\u001b[0mttest_ind\u001b[0m\u001b[0;34m(\u001b[0m\u001b[0mdf\u001b[0m\u001b[0;34m.\u001b[0m\u001b[0mhippo_21\u001b[0m\u001b[0;34m[\u001b[0m\u001b[0mdf\u001b[0m\u001b[0;34m[\u001b[0m\u001b[0;34m'group'\u001b[0m\u001b[0;34m]\u001b[0m\u001b[0;34m==\u001b[0m\u001b[0;34m'ketamine'\u001b[0m\u001b[0;34m]\u001b[0m\u001b[0;34m,\u001b[0m \u001b[0mdf\u001b[0m\u001b[0;34m[\u001b[0m\u001b[0;34m'hippo_21'\u001b[0m\u001b[0;34m]\u001b[0m\u001b[0;34m[\u001b[0m\u001b[0mdf\u001b[0m\u001b[0;34m[\u001b[0m\u001b[0;34m'group'\u001b[0m\u001b[0;34m]\u001b[0m\u001b[0;34m==\u001b[0m\u001b[0;34m'midazolam'\u001b[0m\u001b[0;34m]\u001b[0m\u001b[0;34m)\u001b[0m\u001b[0;34m\u001b[0m\u001b[0;34m\u001b[0m\u001b[0m\n",
      "\u001b[0;32m/gpfs/ysm/project/levy_ifat/oad4/conda_envs/py37_dev/lib/python3.7/site-packages/pandas/core/generic.py\u001b[0m in \u001b[0;36m__getattr__\u001b[0;34m(self, name)\u001b[0m\n\u001b[1;32m   5177\u001b[0m             \u001b[0;32mif\u001b[0m \u001b[0mself\u001b[0m\u001b[0;34m.\u001b[0m\u001b[0m_info_axis\u001b[0m\u001b[0;34m.\u001b[0m\u001b[0m_can_hold_identifiers_and_holds_name\u001b[0m\u001b[0;34m(\u001b[0m\u001b[0mname\u001b[0m\u001b[0;34m)\u001b[0m\u001b[0;34m:\u001b[0m\u001b[0;34m\u001b[0m\u001b[0;34m\u001b[0m\u001b[0m\n\u001b[1;32m   5178\u001b[0m                 \u001b[0;32mreturn\u001b[0m \u001b[0mself\u001b[0m\u001b[0;34m[\u001b[0m\u001b[0mname\u001b[0m\u001b[0;34m]\u001b[0m\u001b[0;34m\u001b[0m\u001b[0;34m\u001b[0m\u001b[0m\n\u001b[0;32m-> 5179\u001b[0;31m             \u001b[0;32mreturn\u001b[0m \u001b[0mobject\u001b[0m\u001b[0;34m.\u001b[0m\u001b[0m__getattribute__\u001b[0m\u001b[0;34m(\u001b[0m\u001b[0mself\u001b[0m\u001b[0;34m,\u001b[0m \u001b[0mname\u001b[0m\u001b[0;34m)\u001b[0m\u001b[0;34m\u001b[0m\u001b[0;34m\u001b[0m\u001b[0m\n\u001b[0m\u001b[1;32m   5180\u001b[0m \u001b[0;34m\u001b[0m\u001b[0m\n\u001b[1;32m   5181\u001b[0m     \u001b[0;32mdef\u001b[0m \u001b[0m__setattr__\u001b[0m\u001b[0;34m(\u001b[0m\u001b[0mself\u001b[0m\u001b[0;34m,\u001b[0m \u001b[0mname\u001b[0m\u001b[0;34m,\u001b[0m \u001b[0mvalue\u001b[0m\u001b[0;34m)\u001b[0m\u001b[0;34m:\u001b[0m\u001b[0;34m\u001b[0m\u001b[0;34m\u001b[0m\u001b[0m\n",
      "\u001b[0;31mAttributeError\u001b[0m: 'DataFrame' object has no attribute 'hippo2'"
     ]
    }
   ],
   "source": [
    "df['hippo_21'] = df.hippo2 - df.hippo1\n",
    "sns.barplot(x='group',y='hippo_21', data=df, ci=68)\n",
    "scipy.stats.ttest_ind(df.hippo_21[df['group']=='ketamine'], df['hippo_21'][df['group']=='midazolam'])"
   ]
  },
  {
   "cell_type": "code",
   "execution_count": 70,
   "metadata": {},
   "outputs": [
    {
     "name": "stderr",
     "output_type": "stream",
     "text": [
      "Auto-assigning NUTS sampler...\n",
      "Initializing NUTS using jitter+adapt_diag...\n",
      "Multiprocess sampling (4 chains in 4 jobs)\n",
      "NUTS: [sd, groupIdx, Intercept]\n"
     ]
    },
    {
     "data": {
      "text/html": [
       "\n",
       "    <div>\n",
       "        <style>\n",
       "            /* Turns off some styling */\n",
       "            progress {\n",
       "                /* gets rid of default border in Firefox and Opera. */\n",
       "                border: none;\n",
       "                /* Needs to be in here for Safari polyfill so background images work as expected. */\n",
       "                background-size: auto;\n",
       "            }\n",
       "            .progress-bar-interrupted, .progress-bar-interrupted::-webkit-progress-bar {\n",
       "                background: #F44336;\n",
       "            }\n",
       "        </style>\n",
       "      <progress value='16000' class='' max='16000' style='width:300px; height:20px; vertical-align: middle;'></progress>\n",
       "      100.00% [16000/16000 00:05<00:00 Sampling 4 chains, 0 divergences]\n",
       "    </div>\n",
       "    "
      ],
      "text/plain": [
       "<IPython.core.display.HTML object>"
      ]
     },
     "metadata": {},
     "output_type": "display_data"
    },
    {
     "name": "stderr",
     "output_type": "stream",
     "text": [
      "Sampling 4 chains for 2_000 tune and 2_000 draw iterations (8_000 + 8_000 draws total) took 6 seconds.\n",
      "/gpfs/ysm/project/levy_ifat/oad4/conda_envs/py37_dev/lib/python3.7/site-packages/arviz/data/io_pymc3.py:91: FutureWarning: Using `from_pymc3` without the model will be deprecated in a future release. Not using the model will return less accurate and less useful results. Make sure you use the model argument or call from_pymc3 within a model context.\n",
      "  FutureWarning,\n"
     ]
    },
    {
     "data": {
      "text/html": [
       "<div>\n",
       "<style scoped>\n",
       "    .dataframe tbody tr th:only-of-type {\n",
       "        vertical-align: middle;\n",
       "    }\n",
       "\n",
       "    .dataframe tbody tr th {\n",
       "        vertical-align: top;\n",
       "    }\n",
       "\n",
       "    .dataframe thead th {\n",
       "        text-align: right;\n",
       "    }\n",
       "</style>\n",
       "<table border=\"1\" class=\"dataframe\">\n",
       "  <thead>\n",
       "    <tr style=\"text-align: right;\">\n",
       "      <th></th>\n",
       "      <th>mean</th>\n",
       "      <th>sd</th>\n",
       "      <th>hdi_2.5%</th>\n",
       "      <th>hdi_97.5%</th>\n",
       "      <th>mcse_mean</th>\n",
       "      <th>mcse_sd</th>\n",
       "      <th>ess_mean</th>\n",
       "      <th>ess_sd</th>\n",
       "      <th>ess_bulk</th>\n",
       "      <th>ess_tail</th>\n",
       "      <th>r_hat</th>\n",
       "    </tr>\n",
       "  </thead>\n",
       "  <tbody>\n",
       "    <tr>\n",
       "      <th>Intercept</th>\n",
       "      <td>-2.25</td>\n",
       "      <td>10.67</td>\n",
       "      <td>-22.49</td>\n",
       "      <td>19.14</td>\n",
       "      <td>0.18</td>\n",
       "      <td>0.13</td>\n",
       "      <td>3692.0</td>\n",
       "      <td>3305.0</td>\n",
       "      <td>3694.0</td>\n",
       "      <td>4117.0</td>\n",
       "      <td>1.0</td>\n",
       "    </tr>\n",
       "    <tr>\n",
       "      <th>groupIdx</th>\n",
       "      <td>-11.34</td>\n",
       "      <td>14.21</td>\n",
       "      <td>-39.16</td>\n",
       "      <td>16.01</td>\n",
       "      <td>0.24</td>\n",
       "      <td>0.17</td>\n",
       "      <td>3616.0</td>\n",
       "      <td>3455.0</td>\n",
       "      <td>3619.0</td>\n",
       "      <td>4030.0</td>\n",
       "      <td>1.0</td>\n",
       "    </tr>\n",
       "    <tr>\n",
       "      <th>sd</th>\n",
       "      <td>31.40</td>\n",
       "      <td>5.31</td>\n",
       "      <td>21.82</td>\n",
       "      <td>41.63</td>\n",
       "      <td>0.08</td>\n",
       "      <td>0.06</td>\n",
       "      <td>3891.0</td>\n",
       "      <td>3861.0</td>\n",
       "      <td>3908.0</td>\n",
       "      <td>3440.0</td>\n",
       "      <td>1.0</td>\n",
       "    </tr>\n",
       "  </tbody>\n",
       "</table>\n",
       "</div>"
      ],
      "text/plain": [
       "            mean     sd  hdi_2.5%  hdi_97.5%  mcse_mean  mcse_sd  ess_mean  \\\n",
       "Intercept  -2.25  10.67    -22.49      19.14       0.18     0.13    3692.0   \n",
       "groupIdx  -11.34  14.21    -39.16      16.01       0.24     0.17    3616.0   \n",
       "sd         31.40   5.31     21.82      41.63       0.08     0.06    3891.0   \n",
       "\n",
       "           ess_sd  ess_bulk  ess_tail  r_hat  \n",
       "Intercept  3305.0    3694.0    4117.0    1.0  \n",
       "groupIdx   3455.0    3619.0    4030.0    1.0  \n",
       "sd         3861.0    3908.0    3440.0    1.0  "
      ]
     },
     "execution_count": 70,
     "metadata": {},
     "output_type": "execute_result"
    }
   ],
   "source": [
    "with pm.Model() as model_glm:\n",
    "    GLM.from_formula('hippo3 ~ groupIdx', df_ses3)\n",
    "    trace_hippo = pm.sample(draws=2000, tune=2000,random_seed=113)\n",
    "pm.summary(trace_hippo, hdi_prob=.95).round(2)"
   ]
  },
  {
   "cell_type": "code",
   "execution_count": null,
   "metadata": {},
   "outputs": [],
   "source": [
    "# set variables\n",
    "sns.set_style(\"ticks\")\n",
    "y = 'hippo'\n",
    "dfPlot = df\n",
    "ci = np.quantile(trace_hippo.groupIdx, [.025,.975])\n",
    "fig, (ax1, ax2) = plt.subplots(1,2, figsize=(3, 5),gridspec_kw={'width_ratios': [1, .2],\n",
    "                                                        'wspace':.1})\n",
    "g1 = sns.stripplot(y= y, x='group', data=dfPlot, size = 8, ax=ax1)\n",
    "sns.boxplot(y= y, x='group', data=dfPlot,  ax=ax1,\n",
    "            boxprops=dict(alpha=.3))\n",
    "g2 = sns.distplot(trace_hippo['groupIdx'], ax = ax2, vertical=True)\n",
    "ax2.vlines(x=0.001,ymin=ci[0], ymax=ci[1], color='black', \n",
    "           linewidth = 2, linestyle = \"-\")\n",
    "\n",
    "\n",
    "ax2.set_ylim(g1.get_ylim()) # use first graph's limits to get the relevant for this one\n",
    "ax2.yaxis.tick_right()\n",
    "ax2.set_xticks([])\n",
    "ax2.set_ylabel(\"Difference between groups\", fontsize=14) \n",
    "ax2.yaxis.set_label_position(\"right\")\n",
    "ax1.set_ylabel(\"Hippocampus reactivity to traumatic script\", fontsize=12)\n",
    "ax1.set_xlabel(\"Group\", fontsize=14)\n",
    "fig.savefig('hippoReactivity.png', dpi=600, bbox_inches='tight')"
   ]
  },
  {
   "cell_type": "code",
   "execution_count": null,
   "metadata": {},
   "outputs": [],
   "source": [
    "df.groupby('group').describe()"
   ]
  },
  {
   "cell_type": "markdown",
   "metadata": {},
   "source": [
    "## Test OFC\n",
    "- making sure its only different in classification and nothing else."
   ]
  },
  {
   "cell_type": "code",
   "execution_count": null,
   "metadata": {},
   "outputs": [],
   "source": [
    "mask_file = '/gpfs/gibbs/pi/levy_ifat/Or/ROI/orbitofrontal cortex_association-test_z_FDR_0.01.nii.gz'\n",
    "mask_file = nilearn.image.math_img(\"a>=6\", a=mask_file)\n",
    "%matplotlib inline\n",
    "nilearn.plotting.plot_roi(mask_file)\n",
    "masker = nilearn.input_data.NiftiMasker(mask_img=mask_file, \n",
    "                               smoothing_fwhm=None, standardize=False, \n",
    "                                        detrend=False, verbose=5)"
   ]
  },
  {
   "cell_type": "code",
   "execution_count": null,
   "metadata": {},
   "outputs": [],
   "source": [
    "mean_act_ofc = []\n",
    "scr_id = []\n",
    "for func in func_files:\n",
    "    # get subject number\n",
    "    scr_id.append('KPE' + func.split('id_')[1].split('/')[0])\n",
    "    # get average activation\n",
    "    t_map = masker.fit_transform(func)\n",
    "    \n",
    "    average = np.mean(np.array(t_map))\n",
    "    mean_act_ofc.append(average)"
   ]
  },
  {
   "cell_type": "code",
   "execution_count": null,
   "metadata": {},
   "outputs": [],
   "source": [
    "df['ofc'] = mean_act_ofc\n",
    "sns.barplot(x='group',y='ofc', data=df, ci=68)\n",
    "scipy.stats.ttest_ind(df.ofc[df['group']=='ketamine'],\n",
    "                      df['ofc'][df['group']=='midazolam'])"
   ]
  },
  {
   "cell_type": "markdown",
   "metadata": {},
   "source": [
    "# Correlation between PCL scores and average activation"
   ]
  },
  {
   "cell_type": "code",
   "execution_count": null,
   "metadata": {},
   "outputs": [],
   "source": [
    "## read pcl scores\n",
    "pclDf = pd.read_csv('/home/or/Documents/kpe_analyses/KPEIHR0009_DATA_2020-08-13_1339.csv')\n",
    "# take only KPE patients\n",
    "pclDf = pclDf[pclDf['scr_id'].str.startswith('KPE')]\n",
    "list(pclDf.columns)"
   ]
  },
  {
   "cell_type": "code",
   "execution_count": null,
   "metadata": {},
   "outputs": [],
   "source": [
    "dfP = pd.DataFrame({'subject': pclDf['scr_id']})\n",
    "dfP_PCL = pclDf[['scr_id','redcap_event_name','pcl5_1', 'pcl5_2', 'pcl5_3', 'pcl5_4', 'pcl5_5', 'pcl5_6', 'pcl5_7',\n",
    " 'pcl5_8', 'pcl5_9', 'pcl5_10', 'pcl5_11', 'pcl5_12', 'pcl5_13', 'pcl5_14', 'pcl5_15', 'pcl5_16', 'pcl5_17',\n",
    " 'pcl5_18', 'pcl5_19', 'pcl5_20']]\n",
    "# remove NAs\n",
    "dfP_PCL = dfP_PCL.dropna()\n",
    "# set list of columns for analysis\n",
    "colList = list(dfP_PCL)\n",
    "colList.remove('scr_id')\n",
    "colList.remove('redcap_event_name')\n",
    "# set total pcl scores \n",
    "dfP_PCL['pclTotal'] = dfP_PCL[colList].sum(axis=1)\n",
    "sns.distplot(dfP_PCL.pclTotal)"
   ]
  },
  {
   "cell_type": "code",
   "execution_count": null,
   "metadata": {},
   "outputs": [],
   "source": [
    "# reshape it to wide\n",
    "df2=dfP_PCL.pivot(index = 'scr_id',columns='redcap_event_name', values='pclTotal')\n",
    "list(df2)\n",
    "df2 = df2.rename(columns={\"30_day_follow_up_s_arm_1\": \"30Days\", \"90_day_follow_up_s_arm_1\": \"90Days\",\n",
    "                    \"screening_selfrepo_arm_1\": \"Screening\", \"visit_1_arm_1\": \"Visit1\", \n",
    "                    \"visit_7_week_follo_arm_1\": \"Visit7\"})\n",
    "#df2['scr_id'] = dfP_PCL['scr_id']\n",
    "df2"
   ]
  },
  {
   "cell_type": "code",
   "execution_count": null,
   "metadata": {},
   "outputs": [],
   "source": [
    "# merging two data frames toghether\n",
    "dfTest = pd.merge(df, df2, on = 'scr_id')\n",
    "# change visit1 missing values with screening values\n",
    "for i in dfTest.iterrows():\n",
    "    if np.isnan(i[1].Visit1):\n",
    "        print(\"Nan\")\n",
    "        print(i[1].Screening)\n",
    "        dfTest.at[i[0], 'Visit1']= i[1].Screening\n",
    "\n",
    "# create difference pcl score\n",
    "dfTest['days30_1'] = dfTest['30Days'] - dfTest.Visit1\n",
    "dfTest['days30_s'] = dfTest['30Days'] - dfTest.Screening\n",
    "dfTest['Visit7_1'] = dfTest['Visit7'] - dfTest.Visit1\n",
    "dfTest"
   ]
  },
  {
   "cell_type": "code",
   "execution_count": null,
   "metadata": {},
   "outputs": [],
   "source": [
    "sns.lmplot(x='Visit7', y='meanAct',hue='group', data=dfTest)\n",
    "xMask = np.isnan(dfTest['Visit7'])\n",
    "yMask = np.isnan(dfTest['meanAct'])\n",
    "nas = np.logical_or(xMask, yMask)\n",
    "scipy.stats.pearsonr(dfTest['Visit7'][~nas],dfTest['meanAct'][~nas])"
   ]
  },
  {
   "cell_type": "code",
   "execution_count": null,
   "metadata": {},
   "outputs": [],
   "source": [
    "## Test difference in amygdala activation between 1st and2nd session and see if it correlates to symtpoms\n",
    "dfTest['amg_ses2_ses1'] = dfTest.meanAct - df_ses1.meanAct_ses1"
   ]
  },
  {
   "cell_type": "code",
   "execution_count": null,
   "metadata": {},
   "outputs": [],
   "source": [
    "sns.lmplot(x='amg_ses2_ses1', y='Visit7_1',hue='group', data=dfTest)\n",
    "xMask = np.isnan(dfTest['Visit7_1'])\n",
    "yMask = np.isnan(dfTest['amg_ses2_ses1'])\n",
    "nas = np.logical_or(xMask, yMask)\n",
    "scipy.stats.pearsonr(dfTest['Visit7_1'][~nas],dfTest['amg_ses2_ses1'][~nas])"
   ]
  },
  {
   "cell_type": "code",
   "execution_count": null,
   "metadata": {},
   "outputs": [],
   "source": [
    "### So - change in Hippocampus reactivation to trauma script (vs. relax) is correlated to changes symptoms at end of treatment\n",
    "       "
   ]
  },
  {
   "cell_type": "code",
   "execution_count": null,
   "metadata": {},
   "outputs": [],
   "source": [
    "dfTest"
   ]
  },
  {
   "cell_type": "code",
   "execution_count": null,
   "metadata": {},
   "outputs": [],
   "source": [
    "# lets test correlation per group (although this is a very ver\n"
   ]
  },
  {
   "cell_type": "code",
   "execution_count": null,
   "metadata": {},
   "outputs": [],
   "source": [
    "dfTest.corr()\n",
    "#sns.heatmap(dfTest)"
   ]
  },
  {
   "cell_type": "code",
   "execution_count": null,
   "metadata": {},
   "outputs": [],
   "source": [
    "plt.figure(figsize=(20,10))\n",
    "sns.heatmap(dfTest[dfTest.group==0].corr(), annot=True, cmap=\"coolwarm\")"
   ]
  },
  {
   "cell_type": "code",
   "execution_count": null,
   "metadata": {},
   "outputs": [],
   "source": [
    "\n",
    "X = dfTest[['meanAct','hippo', 'group']]\n",
    "y = dfTest['days30_1']\n",
    "\n",
    "X = sm.add_constant(X)\n",
    "est = sm.OLS(y, X, missing='drop').fit()\n",
    "est.summary()"
   ]
  },
  {
   "cell_type": "code",
   "execution_count": null,
   "metadata": {},
   "outputs": [],
   "source": [
    "smOLS = smf.ols(formula='days30_1 ~ group * meanAct', data=dfTest).fit()\n",
    "\n",
    "smOLS.summary()"
   ]
  },
  {
   "cell_type": "markdown",
   "metadata": {},
   "source": [
    "## Check correlation with SCR"
   ]
  },
  {
   "cell_type": "code",
   "execution_count": null,
   "metadata": {},
   "outputs": [],
   "source": [
    "scr = pd.read_csv('/home/or/kpe_task_analysis/scr_deltas.csv')\n",
    "scr1 = scr.drop(columns = ['med_cond', 'groupIdx'])\n",
    "scr1"
   ]
  },
  {
   "cell_type": "code",
   "execution_count": null,
   "metadata": {},
   "outputs": [],
   "source": [
    "dfMerge = pd.merge(df, scr1)\n",
    "dfMerge"
   ]
  },
  {
   "cell_type": "code",
   "execution_count": null,
   "metadata": {},
   "outputs": [],
   "source": [
    "sns.lmplot(x = 'Trauma_2vs1', y= 'meanAct',hue = 'group', data=dfMerge)"
   ]
  },
  {
   "cell_type": "code",
   "execution_count": null,
   "metadata": {},
   "outputs": [],
   "source": [
    "smOLS = smf.ols(formula='Trauma_2vs1 ~ group * meanAct', data=dfMerge).fit()\n",
    "\n",
    "smOLS.summary()"
   ]
  },
  {
   "cell_type": "markdown",
   "metadata": {},
   "source": [
    "## Check changes in amg activation and SCR / PCL"
   ]
  },
  {
   "cell_type": "code",
   "execution_count": null,
   "metadata": {},
   "outputs": [],
   "source": [
    "dfMerge['amg_2_1'] = dfMerge.meanAct - df_ses1.meanAct_ses1"
   ]
  },
  {
   "cell_type": "code",
   "execution_count": null,
   "metadata": {},
   "outputs": [],
   "source": [
    "sns.lmplot(x='Trauma_2vs1', y = 'amg_2_1', hue='group', data=dfMerge)"
   ]
  },
  {
   "cell_type": "code",
   "execution_count": null,
   "metadata": {},
   "outputs": [],
   "source": [
    "smOLS = smf.ols(formula='Trauma_2vs1 ~ group * amg_2_1', data=dfMerge).fit()\n",
    "\n",
    "smOLS.summary()"
   ]
  }
 ],
 "metadata": {
  "kernelspec": {
   "display_name": "Python 3",
   "language": "python",
   "name": "python3"
  },
  "language_info": {
   "codemirror_mode": {
    "name": "ipython",
    "version": 3
   },
   "file_extension": ".py",
   "mimetype": "text/x-python",
   "name": "python",
   "nbconvert_exporter": "python",
   "pygments_lexer": "ipython3",
   "version": "3.7.5"
  }
 },
 "nbformat": 4,
 "nbformat_minor": 4
}
