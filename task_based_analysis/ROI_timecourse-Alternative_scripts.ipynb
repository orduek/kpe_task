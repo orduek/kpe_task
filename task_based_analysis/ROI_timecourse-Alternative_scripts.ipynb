{
 "cells": [
  {
   "cell_type": "markdown",
   "metadata": {},
   "source": [
    "## Time course based ROI analysis\n",
    "In this notebook we will take ROI timecourse in the first 30sec of the trauma script and compare different groups and sessions"
   ]
  },
  {
   "cell_type": "code",
   "execution_count": 1,
   "metadata": {},
   "outputs": [
    {
     "name": "stderr",
     "output_type": "stream",
     "text": [
      "/home/or/miniconda3/envs/neuroAnalysis/lib/python3.7/site-packages/sklearn/externals/joblib/__init__.py:15: DeprecationWarning: sklearn.externals.joblib is deprecated in 0.21 and will be removed in 0.23. Please import this functionality directly from joblib, which can be installed with: pip install joblib. If this warning is raised when loading pickled models, you may need to re-serialize those models with scikit-learn 0.21+.\n",
      "  warnings.warn(msg, category=DeprecationWarning)\n"
     ]
    }
   ],
   "source": [
    "import numpy as np\n",
    "import pandas as pd\n",
    "import nilearn\n",
    "from nilearn import plotting\n",
    "import glob\n",
    "import os\n",
    "from nilearn.input_data import NiftiMasker\n",
    "import matplotlib.pyplot as plt\n",
    "from connUtils import removeVars, timeSeriesSingle\n",
    "import scipy\n",
    "work_dir = '/media/Data/work/KPE_ROI/timecourse'"
   ]
  },
  {
   "cell_type": "code",
   "execution_count": null,
   "metadata": {},
   "outputs": [],
   "source": [
    "# put functional file, confound file and event file here - this is for one subject\n",
    "func_file = '/media/Data/KPE_BIDS/derivatives/fmriprep/sub-{sub}/ses-{ses}/func/sub-{sub}_ses-{ses}_task-Memory_space-MNI152NLin6Asym_desc-preproc_bold.nii.gz'\n",
    "confound_file = '/media/Data/KPE_BIDS/derivatives/fmriprep/sub-{sub}/ses-{ses}/func/sub-{sub}_ses-{ses}_task-Memory_desc-confounds_regressors.tsv'\n",
    "events_file = '/media/Data/KPE_BIDS/condition_files/withNumbers/sub-{sub}_ses-{ses}_30sec_window.csv'"
   ]
  },
  {
   "cell_type": "markdown",
   "metadata": {},
   "source": [
    "### Amygdala"
   ]
  },
  {
   "cell_type": "code",
   "execution_count": 2,
   "metadata": {},
   "outputs": [
    {
     "data": {
      "text/plain": [
       "<nilearn.plotting.displays.OrthoSlicer at 0x7f24ab5aa890>"
      ]
     },
     "execution_count": 2,
     "metadata": {},
     "output_type": "execute_result"
    },
    {
     "data": {
      "image/png": "[encoded data removed]",
      "text/plain": [
       "<Figure size 475.2x187.2 with 4 Axes>"
      ]
     },
     "metadata": {},
     "output_type": "display_data"
    }
   ],
   "source": [
    "mask_file = '/media/Data/work/KPE_ROI/amygdala_association-test_z_FDR_0.01.nii.gz'\n",
    "mask_file = nilearn.image.math_img(\"a>=19\", a=mask_file)\n",
    "%matplotlib inline\n",
    "nilearn.plotting.plot_roi(mask_file)"
   ]
  },
  {
   "cell_type": "code",
   "execution_count": null,
   "metadata": {},
   "outputs": [],
   "source": [
    "# here I use a masked image so all will have same size - create a function that does that\n",
    "def generate_timeSeries(sub, ses, mask_file): \n",
    "    nifti_masker = NiftiMasker(\n",
    "        mask_img= mask_file,\n",
    "        smoothing_fwhm=4, standardize=True, t_r=1,high_pass = .01,\n",
    "         verbose=5)  # cache options\n",
    "    fmri_masked_ses = nifti_masker.fit_transform(func_file.format(sub=sub, ses=ses), confound_file.format(sub=sub, ses=ses))\n",
    "    # memory= os.path.join(work_dir,'nilearn_cache_alternative'), memory_level=0,\n",
    "    return fmri_masked_ses\n",
    "\n",
    "def plot_series(time1, time2):\n",
    "    # recieves two time series and returns a graph of the two with std's\n",
    "    time1_mean = np.mean(time1, axis=0)\n",
    "    time1_std = np.std(time1, axis=0)\n",
    "    smooth_path    = time1_mean\n",
    "    under_line     = (smooth_path - time1_std)\n",
    "    over_line      = (smooth_path + time1_std)\n",
    "    time2_mean = np.mean(time2, axis=0)\n",
    "    time2_std = np.std(time2, axis=0)\n",
    "    smooth_path2    = time2_mean\n",
    "    under_line2     = (smooth_path2 - time2_std)\n",
    "    over_line2      = (smooth_path2 + time2_std)\n",
    "    plt.figure(figsize = [10,5])\n",
    "    plt.plot(time1_mean, \"blue\")\n",
    "    plt.fill_between(range(120), under_line, over_line, color='b', alpha=.1)\n",
    "    plt.plot(time2_mean, \"red\")\n",
    "    plt.fill_between(range(120), under_line2, over_line2, color='r', alpha=.1)"
   ]
  },
  {
   "cell_type": "code",
   "execution_count": null,
   "metadata": {},
   "outputs": [],
   "source": [
    "import pandas as pd\n",
    "medication_cond = pd.read_csv('/home/or/kpe_task_analysis/task_based_analysis/kpe_sub_condition.csv')\n",
    "\n",
    "ketamine_list = list(medication_cond['scr_id'][medication_cond['med_cond']==1])\n",
    "ket_list = []\n",
    "for subject in ketamine_list:\n",
    "    print(subject)\n",
    "    sub = subject.split('KPE')[1]\n",
    "    ket_list.append(sub)\n",
    "\n",
    "\n",
    "midazolam_list = list(medication_cond['scr_id'][medication_cond['med_cond']==0])\n",
    "mid_list = []\n",
    "for subject in midazolam_list:\n",
    "    print(subject)\n",
    "    sub = subject.split('KPE')[1]\n",
    "    mid_list.append(sub)\n",
    "mid_list.remove('1480')"
   ]
  },
  {
   "cell_type": "code",
   "execution_count": null,
   "metadata": {},
   "outputs": [],
   "source": [
    "ket_func1 = []\n",
    "for sub in ket_list:\n",
    "    timeSer1= generate_timeSeries(sub, '1',mask_file)\n",
    "    timeSer1mean = np.mean(timeSer1, axis = 1) # average across voxels\n",
    "    time1 = pd.read_csv(events_file.format(sub=sub, ses='1'), sep='\\t')\n",
    "    t1 = int(round(time1.onset[time1.trial_type_30 =='sad1_0'])) # must be integer\n",
    "    ket_func1.append(timeSer1mean[t1:t1+120])\n",
    "np.save('ket_func1_amg_sad', ket_func1)"
   ]
  },
  {
   "cell_type": "code",
   "execution_count": null,
   "metadata": {},
   "outputs": [],
   "source": [
    "ket_func2 = []\n",
    "for sub in ket_list:\n",
    "    timeSer2= generate_timeSeries(sub, '2',mask_file)\n",
    "    timeSer2mean = np.mean(timeSer2, axis = 1) # average across voxels\n",
    "    time2 = pd.read_csv(events_file.format(sub=sub, ses='2'), sep='\\t')\n",
    "    t2 = int(round(time2.onset[time2.trial_type_30 =='sad1_0'])) # must be integer\n",
    "    ket_func2.append(timeSer2mean[t2:t2+120])\n",
    "np.save('ket_func2_amg_sad', ket_func2)"
   ]
  },
  {
   "cell_type": "code",
   "execution_count": null,
   "metadata": {
    "scrolled": true
   },
   "outputs": [],
   "source": [
    "mid_func1 = []\n",
    "for sub in mid_list:\n",
    "    timeSer1= generate_timeSeries(sub, '1',mask_file)\n",
    "    timeSer1mean = np.mean(timeSer1, axis = 1) # average across voxels\n",
    "    time1 = pd.read_csv(events_file.format(sub=sub, ses='1'), sep='\\t')\n",
    "    t1 = int(round(time1.onset[time1.trial_type_30 =='sad1_0'])) # must be integer\n",
    "    mid_func1.append(timeSer1mean[t1:t1+120])\n",
    "np.save('mid_func1_amg_sad', mid_func1)"
   ]
  },
  {
   "cell_type": "code",
   "execution_count": null,
   "metadata": {},
   "outputs": [],
   "source": [
    "mid_func2 = []\n",
    "for sub in mid_list:\n",
    "    timeSer2= generate_timeSeries(sub, '2',mask_file)\n",
    "    timeSer2mean = np.mean(timeSer2, axis = 1) # average across voxels\n",
    "    time2 = pd.read_csv(events_file.format(sub=sub, ses='2'), sep='\\t')\n",
    "    t2 = int(round(time2.onset[time2.trial_type_30 =='sad1_0'])) # must be integer\n",
    "    mid_func2.append(timeSer2mean[t2:t2+120])\n",
    "np.save('mid_func2_amg_sad', mid_func2)"
   ]
  },
  {
   "cell_type": "code",
   "execution_count": null,
   "metadata": {},
   "outputs": [],
   "source": [
    "plot_series(ket_func1, ket_func2)\n",
    "plot_series(mid_func1, mid_func2)"
   ]
  },
  {
   "cell_type": "code",
   "execution_count": null,
   "metadata": {},
   "outputs": [],
   "source": [
    "# Calculate correlation between first and seond session in this timecourse. \n",
    "cor_mid = []\n",
    "for i in range(len(mid_func1)):\n",
    "    cor = scipy.stats.pearsonr(mid_func1[i], mid_func2[i])#, rowvar=False)\n",
    "    cor_mid.append(cor)\n",
    "np.mean(np.array(cor_mid)[:,0])"
   ]
  },
  {
   "cell_type": "code",
   "execution_count": null,
   "metadata": {},
   "outputs": [],
   "source": [
    "# removing one subject that has problems in data in session 2 (1351)\n",
    "np.array(mid_func2).shape\n",
    "del mid_func2[2]\n",
    "del mid_func1[2]\n",
    "\n",
    "##\n",
    "del mid_func1[4]\n",
    "del mid_func2[4]"
   ]
  },
  {
   "cell_type": "markdown",
   "metadata": {},
   "source": [
    "## generating boxplot to show the activation around the peak (3-15 sec)"
   ]
  },
  {
   "cell_type": "code",
   "execution_count": null,
   "metadata": {},
   "outputs": [],
   "source": [
    "# before that, lets see where are the global maximums of each subject (location = second in the script)\n",
    "ket1=[]\n",
    "for mat in ket_func1:\n",
    "    print(np.argmax(mat))\n",
    "    ket1.append(np.argmax(mat))\n",
    "ket2 = []\n",
    "for mat in ket_func2:\n",
    "    print(np.argmax(mat))\n",
    "    ket2.append(np.argmax(mat))"
   ]
  },
  {
   "cell_type": "code",
   "execution_count": null,
   "metadata": {},
   "outputs": [],
   "source": [
    "mid1 = []\n",
    "for mat in mid_func1:\n",
    "    \n",
    "    mid1.append(np.argmax(mat))\n",
    "mid2 = []\n",
    "for mat in mid_func2:\n",
    "    print(np.argmax(mat))\n",
    "    mid2.append(np.argmax(mat))"
   ]
  },
  {
   "cell_type": "code",
   "execution_count": null,
   "metadata": {},
   "outputs": [],
   "source": [
    "# lets plot the locations of maximums for subject\n",
    "plt.figure(figsize = [10,5])\n",
    "plt.scatter(ket_list + mid_list,ket1 + mid1, color = \"blue\", alpha = 0.6)\n",
    "plt.scatter(ket_list + mid_list , ket2 + mid2 , color = \"red\", alpha = 0.3)\n"
   ]
  },
  {
   "cell_type": "code",
   "execution_count": null,
   "metadata": {},
   "outputs": [],
   "source": [
    "# boxplot on the first part of script\n",
    "#ket1_mean = np.mean(ket_func1, axis=0)\n",
    "mid1_mean = np.mean(mid_func1[5:20], axis=1)\n",
    "mid2_mean = np.mean(mid_func2[5:20], axis=1)\n",
    "ket1_mean = np.mean(ket_func1[5:20], axis=1)\n",
    "ket2_mean = np.mean(ket_func2[5:20], axis=1)\n",
    "plt.figure(figsize = [10,5])\n",
    "plt.boxplot([ket1_mean, ket2_mean, mid1_mean, mid2_mean])\n",
    "#plt.boxplot([ket1_mean[0:15], ket2_mean[0:15]])"
   ]
  },
  {
   "cell_type": "code",
   "execution_count": null,
   "metadata": {},
   "outputs": [],
   "source": [
    "# now lets built it around individual global maximum\n",
    "def maxVec(funcArr):\n",
    "    vec = []\n",
    "    for mat in funcArr:\n",
    "        vec.append(np.argmax(mat))\n",
    "    maxi = []\n",
    "    for i, x in enumerate(vec):\n",
    "        maxi.append(funcArr[i][x])\n",
    "    return maxi"
   ]
  },
  {
   "cell_type": "code",
   "execution_count": null,
   "metadata": {},
   "outputs": [],
   "source": [
    "ket1_max = maxVec(ket_func1)\n",
    "ket2_max = maxVec(ket_func2)\n",
    "mid1_max = maxVec(mid_func1)\n",
    "mid2_max = maxVec(mid_func2)"
   ]
  },
  {
   "cell_type": "code",
   "execution_count": null,
   "metadata": {},
   "outputs": [],
   "source": [
    "mid1_max"
   ]
  },
  {
   "cell_type": "code",
   "execution_count": null,
   "metadata": {},
   "outputs": [],
   "source": [
    "plt.figure(figsize = [10,5])\n",
    "labels = ['','Ket_ses1', 'Ket_ses2', 'Mid_ses1', 'Mid_ses2']\n",
    "x_pos = np.arange(len(labels))\n",
    "plt.boxplot([ket1_max, ket2_max, mid1_max, mid2_max])\n",
    "plt.xticks(x_pos, labels)\n",
    "print(f' T test for ketamine group diff {scipy.stats.ttest_rel(ket1_max, ket2_max)}')\n",
    "print (f'T test for midazolam group {scipy.stats.ttest_rel(mid1_max, mid2_max)}')\n"
   ]
  },
  {
   "cell_type": "markdown",
   "metadata": {},
   "source": [
    "## Hippocampus"
   ]
  },
  {
   "cell_type": "code",
   "execution_count": null,
   "metadata": {},
   "outputs": [],
   "source": [
    "mask_file = '/media/Data/work/KPE_ROI/hippocampus_association-test_z_FDR_0.01.nii.gz'\n",
    "mask_file = nilearn.image.math_img(\"a>=12\", a=mask_file)\n",
    "nilearn.plotting.plot_roi(mask_file)"
   ]
  },
  {
   "cell_type": "code",
   "execution_count": null,
   "metadata": {},
   "outputs": [],
   "source": [
    "ket_func1 = []\n",
    "for sub in ket_list:\n",
    "    timeSer1= generate_timeSeries(sub, '1',mask_file)\n",
    "    timeSer1mean = np.mean(timeSer1, axis = 1) # average across voxels\n",
    "    time1 = pd.read_csv(events_file.format(sub=sub, ses='1'), sep='\\t')\n",
    "    t1 = int(round(time1.onset[time1.trial_type_30 =='sad1_0'])) # must be integer\n",
    "    ket_func1.append(timeSer1mean[t1:t1+120])\n",
    "np.save('ket_func1_hippo_sad', ket_func1)"
   ]
  },
  {
   "cell_type": "code",
   "execution_count": null,
   "metadata": {},
   "outputs": [],
   "source": [
    "ket_func2 = []\n",
    "for sub in ket_list:\n",
    "    timeSer2= generate_timeSeries(sub, '2',mask_file)\n",
    "    timeSer2mean = np.mean(timeSer2, axis = 1) # average across voxels\n",
    "    time2 = pd.read_csv(events_file.format(sub=sub, ses='2'), sep='\\t')\n",
    "    t2 = int(round(time2.onset[time2.trial_type_30 =='sad1_0'])) # must be integer\n",
    "    ket_func2.append(timeSer2mean[t2:t2+120])\n",
    "np.save('ket_func2_hippo_sad', ket_func2)"
   ]
  },
  {
   "cell_type": "code",
   "execution_count": null,
   "metadata": {},
   "outputs": [],
   "source": [
    "mid_func1 = []\n",
    "for sub in mid_list:\n",
    "    timeSer1= generate_timeSeries(sub, '1',mask_file)\n",
    "    timeSer1mean = np.mean(timeSer1, axis = 1) # average across voxels\n",
    "    time1 = pd.read_csv(events_file.format(sub=sub, ses='1'), sep='\\t')\n",
    "    t1 = int(round(time1.onset[time1.trial_type_30 =='sad1_0'])) # must be integer\n",
    "    mid_func1.append(timeSer1mean[t1:t1+120])\n",
    "np.save('mid_func1_hippo_sad', mid_func1)"
   ]
  },
  {
   "cell_type": "code",
   "execution_count": null,
   "metadata": {},
   "outputs": [],
   "source": [
    "mid_func2 = []\n",
    "for sub in mid_list:\n",
    "    timeSer2= generate_timeSeries(sub, '2',mask_file)\n",
    "    timeSer2mean = np.mean(timeSer2, axis = 1) # average across voxels\n",
    "    time2 = pd.read_csv(events_file.format(sub=sub, ses='2'), sep='\\t')\n",
    "    t2 = int(round(time2.onset[time2.trial_type_30 =='sad1_0'])) # must be integer\n",
    "    mid_func2.append(timeSer2mean[t2:t2+120])\n",
    "np.save('mid_func2_hippo_sad', mid_func2)"
   ]
  },
  {
   "cell_type": "code",
   "execution_count": null,
   "metadata": {},
   "outputs": [],
   "source": [
    "plot_series(ket_func1, ket_func2)"
   ]
  },
  {
   "cell_type": "code",
   "execution_count": null,
   "metadata": {},
   "outputs": [],
   "source": [
    "plot_series(mid_func1, mid_func2)"
   ]
  },
  {
   "cell_type": "code",
   "execution_count": null,
   "metadata": {},
   "outputs": [],
   "source": [
    "\n",
    "x1 = np.array(mid_func1)\n",
    "x2 = np.array(mid_func2)\n",
    "a = scipy.signal.correlate(x1,x2)\n",
    "a.shape\n",
    "#plt.xcorr(x1, x2)\n",
    "a[0].shape"
   ]
  },
  {
   "cell_type": "markdown",
   "metadata": {},
   "source": [
    "## vmPFC"
   ]
  },
  {
   "cell_type": "code",
   "execution_count": null,
   "metadata": {},
   "outputs": [],
   "source": [
    "mask_file = '/media/Data/work/KPE_ROI/binConjunc_PvNxDECxRECxMONxPRI_vmpfc.nii.gz'\n",
    "#mask_file = nilearn.image.math_img(\"a>=12\", a=mask_file)\n",
    "nilearn.plotting.plot_roi(mask_file)"
   ]
  },
  {
   "cell_type": "code",
   "execution_count": null,
   "metadata": {},
   "outputs": [],
   "source": [
    "ket_func1 = []\n",
    "for sub in ket_list:\n",
    "    timeSer1= generate_timeSeries(sub, '1',mask_file)\n",
    "    timeSer1mean = np.mean(timeSer1, axis = 1) # average across voxels\n",
    "    time1 = pd.read_csv(events_file.format(sub=sub, ses='1'), sep='\\t')\n",
    "    t1 = int(round(time1.onset[time1.trial_type_30 =='sad1_0'])) # must be integer\n",
    "    ket_func1.append(timeSer1mean[t1:t1+120])\n",
    "np.save('ket_func1_vmPFC_sad', ket_func1)\n",
    "ket_func2 = []\n",
    "for sub in ket_list:\n",
    "    timeSer2= generate_timeSeries(sub, '2',mask_file)\n",
    "    timeSer2mean = np.mean(timeSer2, axis = 1) # average across voxels\n",
    "    time2 = pd.read_csv(events_file.format(sub=sub, ses='2'), sep='\\t')\n",
    "    t2 = int(round(time2.onset[time2.trial_type_30 =='sad1_0'])) # must be integer\n",
    "    ket_func2.append(timeSer2mean[t2:t2+120])\n",
    "np.save('ket_func2_vmPFC_sad', ket_func2)"
   ]
  },
  {
   "cell_type": "code",
   "execution_count": null,
   "metadata": {},
   "outputs": [],
   "source": [
    "mid_func1 = []\n",
    "for sub in mid_list:\n",
    "    timeSer1= generate_timeSeries(sub, '1',mask_file)\n",
    "    timeSer1mean = np.mean(timeSer1, axis = 1) # average across voxels\n",
    "    time1 = pd.read_csv(events_file.format(sub=sub, ses='1'), sep='\\t')\n",
    "    t1 = int(round(time1.onset[time1.trial_type_30 =='sad1_0'])) # must be integer\n",
    "    mid_func1.append(timeSer1mean[t1:t1+120])\n",
    "np.save('mid_func1_vmPFC_sad', mid_func1)\n",
    "mid_func2 = []\n",
    "for sub in mid_list:\n",
    "    timeSer2= generate_timeSeries(sub, '2',mask_file)\n",
    "    timeSer2mean = np.mean(timeSer2, axis = 1) # average across voxels\n",
    "    time2 = pd.read_csv(events_file.format(sub=sub, ses='2'), sep='\\t')\n",
    "    t2 = int(round(time2.onset[time2.trial_type_30 =='sad1_0'])) # must be integer\n",
    "    mid_func2.append(timeSer2mean[t2:t2+120])\n",
    "np.save('mid_func2_vmPFC_sad', mid_func2)"
   ]
  },
  {
   "cell_type": "code",
   "execution_count": null,
   "metadata": {},
   "outputs": [],
   "source": [
    "plot_series(mid_func1, mid_func2)\n",
    "plot_series(ket_func1, ket_func2)"
   ]
  },
  {
   "cell_type": "code",
   "execution_count": null,
   "metadata": {},
   "outputs": [],
   "source": [
    "ket1_max = maxVec(ket_func1)\n",
    "ket2_max = maxVec(ket_func2)\n",
    "mid1_max = maxVec(mid_func1)\n",
    "mid2_max = maxVec(mid_func2)\n",
    "plt.figure(figsize = [10,5])\n",
    "plt.boxplot([ket1_max, ket2_max, mid1_max, mid2_max])\n",
    "print(f' T test for ketamine group diff {scipy.stats.ttest_rel(ket1_max, ket2_max)}')\n",
    "print (f'T test for midazolam group {scipy.stats.ttest_rel(mid1_max, mid2_max)}')\n"
   ]
  },
  {
   "cell_type": "markdown",
   "metadata": {},
   "source": [
    "## Striatum"
   ]
  },
  {
   "cell_type": "code",
   "execution_count": null,
   "metadata": {},
   "outputs": [],
   "source": [
    "mask_file = '/media/Data/work/KPE_ROI/binConjunc_PvNxDECxRECxMONxPRI_striatum.nii.gz'\n",
    "#mask_file = nilearn.image.math_img(\"a>=12\", a=mask_file)\n",
    "nilearn.plotting.plot_roi(mask_file)"
   ]
  },
  {
   "cell_type": "code",
   "execution_count": null,
   "metadata": {},
   "outputs": [],
   "source": [
    "ket_func1 = []\n",
    "for sub in ket_list:\n",
    "    timeSer1= generate_timeSeries(sub, '1',mask_file)\n",
    "    timeSer1mean = np.mean(timeSer1, axis = 1) # average across voxels\n",
    "    time1 = pd.read_csv(events_file.format(sub=sub, ses='1'), sep='\\t')\n",
    "    t1 = int(round(time1.onset[time1.trial_type_30 =='sad1_0'])) # must be integer\n",
    "    ket_func1.append(timeSer1mean[t1:t1+120])\n",
    "np.save('ket_func1_striatum_sad', ket_func1)\n",
    "ket_func2 = []\n",
    "for sub in ket_list:\n",
    "    timeSer2= generate_timeSeries(sub, '2',mask_file)\n",
    "    timeSer2mean = np.mean(timeSer2, axis = 1) # average across voxels\n",
    "    time2 = pd.read_csv(events_file.format(sub=sub, ses='2'), sep='\\t')\n",
    "    t2 = int(round(time2.onset[time2.trial_type_30 =='sad1_0'])) # must be integer\n",
    "    ket_func2.append(timeSer2mean[t2:t2+120])\n",
    "np.save('ket_func2_striatum_sad', ket_func2)"
   ]
  },
  {
   "cell_type": "code",
   "execution_count": null,
   "metadata": {},
   "outputs": [],
   "source": [
    "mid_func1 = []\n",
    "for sub in mid_list:\n",
    "    timeSer1= generate_timeSeries(sub, '1',mask_file)\n",
    "    timeSer1mean = np.mean(timeSer1, axis = 1) # average across voxels\n",
    "    time1 = pd.read_csv(events_file.format(sub=sub, ses='1'), sep='\\t')\n",
    "    t1 = int(round(time1.onset[time1.trial_type_30 =='sad1_0'])) # must be integer\n",
    "    mid_func1.append(timeSer1mean[t1:t1+120])\n",
    "np.save('mid_func1_striatum_sad', mid_func1)\n",
    "mid_func2 = []\n",
    "for sub in mid_list:\n",
    "    timeSer2= generate_timeSeries(sub, '2',mask_file)\n",
    "    timeSer2mean = np.mean(timeSer2, axis = 1) # average across voxels\n",
    "    time2 = pd.read_csv(events_file.format(sub=sub, ses='2'), sep='\\t')\n",
    "    t2 = int(round(time2.onset[time2.trial_type_30 =='sad1_0'])) # must be integer\n",
    "    mid_func2.append(timeSer2mean[t2:t2+120])\n",
    "np.save('mid_func2_striatum_sad', mid_func2)"
   ]
  },
  {
   "cell_type": "code",
   "execution_count": null,
   "metadata": {},
   "outputs": [],
   "source": [
    "plot_series(mid_func1, mid_func2)\n",
    "plot_series(ket_func1, ket_func2)"
   ]
  },
  {
   "cell_type": "code",
   "execution_count": null,
   "metadata": {},
   "outputs": [],
   "source": [
    "ket1_max = maxVec(ket_func1)\n",
    "ket2_max = maxVec(ket_func2)\n",
    "mid1_max = maxVec(mid_func1)\n",
    "mid2_max = maxVec(mid_func2)\n",
    "plt.figure(figsize = [10,5])\n",
    "plt.boxplot([ket1_max, ket2_max, mid1_max, mid2_max])\n",
    "print(f' T test for ketamine group diff {scipy.stats.ttest_rel(ket1_max, ket2_max)}')\n",
    "print (f'T test for midazolam group {scipy.stats.ttest_rel(mid1_max, mid2_max)}')"
   ]
  },
  {
   "cell_type": "markdown",
   "metadata": {},
   "source": [
    "## vACC"
   ]
  },
  {
   "cell_type": "code",
   "execution_count": null,
   "metadata": {},
   "outputs": [],
   "source": [
    "mask_file = '/media/Data/work/KPE_ROI/ventral anterior_association-test_z_FDR_0.01.nii.gz'\n",
    "mask_file = nilearn.image.math_img(\"a>=4\", a=mask_file)\n",
    "nilearn.plotting.plot_roi(mask_file)"
   ]
  },
  {
   "cell_type": "code",
   "execution_count": null,
   "metadata": {},
   "outputs": [],
   "source": [
    "ket_func1 = []\n",
    "for sub in ket_list:\n",
    "    timeSer1= generate_timeSeries(sub, '1',mask_file)\n",
    "    timeSer1mean = np.mean(timeSer1, axis = 1) # average across voxels\n",
    "    time1 = pd.read_csv(events_file.format(sub=sub, ses='1'), sep='\\t')\n",
    "    t1 = int(round(time1.onset[time1.trial_type_30 =='sad1_0'])) # must be integer\n",
    "    ket_func1.append(timeSer1mean[t1:t1+120])\n",
    "np.save('ket_func1_vACC_sad', ket_func1)\n",
    "ket_func2 = []\n",
    "for sub in ket_list:\n",
    "    timeSer2= generate_timeSeries(sub, '2',mask_file)\n",
    "    timeSer2mean = np.mean(timeSer2, axis = 1) # average across voxels\n",
    "    time2 = pd.read_csv(events_file.format(sub=sub, ses='2'), sep='\\t')\n",
    "    t2 = int(round(time2.onset[time2.trial_type_30 =='sad1_0'])) # must be integer\n",
    "    ket_func2.append(timeSer2mean[t2:t2+120])\n",
    "np.save('ket_func2_vACC_sad', ket_func2)"
   ]
  },
  {
   "cell_type": "code",
   "execution_count": null,
   "metadata": {},
   "outputs": [],
   "source": [
    "mid_func1 = []\n",
    "for sub in mid_list:\n",
    "    timeSer1= generate_timeSeries(sub, '1',mask_file)\n",
    "    timeSer1mean = np.mean(timeSer1, axis = 1) # average across voxels\n",
    "    time1 = pd.read_csv(events_file.format(sub=sub, ses='1'), sep='\\t')\n",
    "    t1 = int(round(time1.onset[time1.trial_type_30 =='sad1_0'])) # must be integer\n",
    "    mid_func1.append(timeSer1mean[t1:t1+120])\n",
    "np.save('mid_func1_vACC_sad', mid_func1)\n",
    "mid_func2 = []\n",
    "for sub in mid_list:\n",
    "    timeSer2= generate_timeSeries(sub, '2',mask_file)\n",
    "    timeSer2mean = np.mean(timeSer2, axis = 1) # average across voxels\n",
    "    time2 = pd.read_csv(events_file.format(sub=sub, ses='2'), sep='\\t')\n",
    "    t2 = int(round(time2.onset[time2.trial_type_30 =='sad1_0'])) # must be integer\n",
    "    mid_func2.append(timeSer2mean[t2:t2+120])\n",
    "np.save('mid_func2_vACC_sad', mid_func2)"
   ]
  },
  {
   "cell_type": "code",
   "execution_count": null,
   "metadata": {},
   "outputs": [],
   "source": [
    "for i in range(len(mid_func1)):\n",
    "    plt.plot(mid_func1[i]) \n",
    "    plt.plot(mid_func2[i])   \n",
    "    plt.show()\n",
    "#plot_series(ket_func1, ket_func2)"
   ]
  },
  {
   "cell_type": "code",
   "execution_count": null,
   "metadata": {},
   "outputs": [],
   "source": [
    "plt.plot(ket_func1[0])\n",
    "plt.plot(ket_func1[1])"
   ]
  },
  {
   "cell_type": "code",
   "execution_count": null,
   "metadata": {},
   "outputs": [],
   "source": [
    "ket1_max = maxVec(ket_func1)\n",
    "ket2_max = maxVec(ket_func2)\n",
    "mid1_max = maxVec(mid_func1)\n",
    "mid2_max = maxVec(mid_func2)\n",
    "\n",
    "plt.figure(figsize = [10,5])\n",
    "labels = ['','Ket_ses1', 'Ket_ses2', 'Mid_ses1', 'Mid_ses2']\n",
    "x_pos = np.arange(len(labels))\n",
    "plt.boxplot([ket1_max, ket2_max, mid1_max, mid2_max])\n",
    "plt.xticks(x_pos, labels)\n",
    "print(f' T test for ketamine group diff {scipy.stats.ttest_rel(ket1_max, ket2_max)}')\n",
    "print (f'T test for midazolam group {scipy.stats.ttest_rel(mid1_max, mid2_max)}')\n"
   ]
  },
  {
   "cell_type": "markdown",
   "metadata": {},
   "source": [
    "## Compare timecourse of different regions"
   ]
  },
  {
   "cell_type": "code",
   "execution_count": null,
   "metadata": {},
   "outputs": [],
   "source": [
    "vmPFC = np.load('ket_func1_vmPFC.npy')\n",
    "amygdala = np.load('ket_func1_amg.npy')\n",
    "hippo = np.load('ket_func1_hippo.npy')\n",
    "vACC = np.load('ket_func1_vACC.npy')"
   ]
  },
  {
   "cell_type": "code",
   "execution_count": null,
   "metadata": {},
   "outputs": [],
   "source": [
    "plot_series(hippo,vmPFC)"
   ]
  },
  {
   "cell_type": "code",
   "execution_count": null,
   "metadata": {},
   "outputs": [],
   "source": [
    "for i,x in enumerate(ket_list):\n",
    "    plt.plot(hippo[i])\n",
    "    plt.plot(vmPFC[i], color = \"red\")\n",
    "    plt.show()"
   ]
  },
  {
   "cell_type": "code",
   "execution_count": null,
   "metadata": {},
   "outputs": [],
   "source": []
  }
 ],
 "metadata": {
  "kernelspec": {
   "display_name": "Python 3",
   "language": "python",
   "name": "python3"
  },
  "language_info": {
   "codemirror_mode": {
    "name": "ipython",
    "version": 3
   },
   "file_extension": ".py",
   "mimetype": "text/x-python",
   "name": "python",
   "nbconvert_exporter": "python",
   "pygments_lexer": "ipython3",
   "version": "3.7.7"
  }
 },
 "nbformat": 4,
 "nbformat_minor": 4
}
