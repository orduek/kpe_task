{
 "cells": [
  {
   "cell_type": "markdown",
   "metadata": {
    "slideshow": {
     "slide_type": "slide"
    }
   },
   "source": [
    "# Using machine learning XGboost classifier to look for different pattern between Ketamin and Midazolam groups\n",
    "- Running on the Beta of trauma1_0 instead of contrast between trauma and sad (more similar to MVPA)"
   ]
  },
  {
   "cell_type": "code",
   "execution_count": 47,
   "metadata": {
    "slideshow": {
     "slide_type": "skip"
    }
   },
   "outputs": [],
   "source": [
    "# import relevant packages\n",
    "import glob\n",
    "import numpy as np\n",
    "import scipy\n",
    "import nilearn\n",
    "import nilearn.plotting\n",
    "import nilearn.input_data\n",
    "import matplotlib.pyplot as plt\n",
    "import seaborn as sns\n",
    "from xgboost import XGBClassifier\n",
    "from sklearn.model_selection import train_test_split\n",
    "from sklearn.metrics import accuracy_score"
   ]
  },
  {
   "cell_type": "markdown",
   "metadata": {
    "slideshow": {
     "slide_type": "slide"
    }
   },
   "source": [
    "## No apperant contribution to before/after treatment in general. \n",
    "- Lets look at group differences in ROIs $\\rightarrow$\n",
    "    * Amygdala\n",
    "    * vmPFC\n",
    "    * Hippocampus\n",
    "    * Striatum\n",
    "- We compare pattern of ROI activation in the trauma > relax contrast on the 2nd day"
   ]
  },
  {
   "cell_type": "code",
   "execution_count": 72,
   "metadata": {
    "slideshow": {
     "slide_type": "slide"
    }
   },
   "outputs": [
    {
     "name": "stdout",
     "output_type": "stream",
     "text": [
      "[NiftiMasker.fit] Loading data from None\n",
      "[NiftiMasker.fit] Resampling mask\n"
     ]
    },
    {
     "data": {
      "image/png": "[encoded data removed]",
      "text/plain": [
       "<Figure size 475.2x187.2 with 4 Axes>"
      ]
     },
     "metadata": {},
     "output_type": "display_data"
    }
   ],
   "source": [
    "## Amygdala as mask\n",
    "mask_file = '/media/Data/work/KPE_ROI/amygdala_association-test_z_FDR_0.01.nii.gz'\n",
    "mask_file = nilearn.image.math_img(\"a>=21\", a=mask_file)\n",
    "%matplotlib inline\n",
    "nilearn.plotting.plot_roi(mask_file)\n",
    "\n",
    "\n",
    "masker = nilearn.input_data.NiftiMasker(mask_img=mask_file, \n",
    "                                smoothing_fwhm=6, verbose=5).fit()"
   ]
  },
  {
   "cell_type": "code",
   "execution_count": 73,
   "metadata": {
    "slideshow": {
     "slide_type": "skip"
    }
   },
   "outputs": [
    {
     "data": {
      "text/plain": [
       "[1, 1, 0, 0, 1, 1, 1, 1, 1, 1, 0, 0, 0, 0, 1, 0, 0, 1, 0, 0, 1]"
      ]
     },
     "execution_count": 73,
     "metadata": {},
     "output_type": "execute_result"
    }
   ],
   "source": [
    "# compare between groups\n",
    "import pandas as pd\n",
    "medication_cond = pd.read_csv('/home/or/kpe_task_analysis/task_based_analysis/kpe_sub_condition.csv')\n",
    "medication_cond\n",
    "\n",
    "condition_label = np.array(medication_cond.med_cond)\n",
    "condition_label = list(map(int, condition_label))\n",
    "condition_label"
   ]
  },
  {
   "cell_type": "code",
   "execution_count": 74,
   "metadata": {},
   "outputs": [],
   "source": [
    "# function to find ev number (lookin in run.fsf file)\n",
    "def findEV(txtFile, condition):\n",
    "    # takes the txtFile and the specific condition\n",
    "    with open(txtFile) as f:\n",
    "        datafile = f.readlines()\n",
    "        lines = []\n",
    "        for line in datafile:\n",
    "            if condition in line:\n",
    "                # found = True # Not necessary\n",
    "                #print(line)\n",
    "                lines.append(line)\n",
    "\n",
    "    return lines[0].split('evtitle')[1].split(')')[0]\n",
    "\n",
    "def getBetas(beta_list, condition, ses):\n",
    "    betaTemplate = '/media/Data/Lab_Projects/KPE_PTSD_Project/neuroimaging/KPE_results/fsl_analysis_ses{ses}_Nosmooth/modelfit_ses_{ses}/_subject_id_{subject_id}/modelestimate/mapflow/_modelestimate0/results/pe{betaNum}.nii.gz'\n",
    "    beta_files = []\n",
    "    for beta in beta_list:\n",
    "        # get subject number\n",
    "        sub = beta.split('id_')[1].split('/')[0]\n",
    "        # get beta number\n",
    "        number = findEV(beta, condition)\n",
    "        # find beta file\n",
    "        betaFile = betaTemplate.format(ses=ses, subject_id = sub, betaNum = number)\n",
    "        # add it to list\n",
    "        beta_files.append(betaFile)\n",
    "    beta_files.sort()\n",
    "    return beta_files"
   ]
  },
  {
   "cell_type": "code",
   "execution_count": 75,
   "metadata": {},
   "outputs": [
    {
     "data": {
      "text/plain": [
       "['/media/Data/Lab_Projects/KPE_PTSD_Project/neuroimaging/KPE_results/fsl_analysis_ses2_Nosmooth/modelfit_ses_2/_subject_id_1322/level1design/run0.fsf',\n",
       " '/media/Data/Lab_Projects/KPE_PTSD_Project/neuroimaging/KPE_results/fsl_analysis_ses2_Nosmooth/modelfit_ses_2/_subject_id_1387/level1design/run0.fsf',\n",
       " '/media/Data/Lab_Projects/KPE_PTSD_Project/neuroimaging/KPE_results/fsl_analysis_ses2_Nosmooth/modelfit_ses_2/_subject_id_1339/level1design/run0.fsf',\n",
       " '/media/Data/Lab_Projects/KPE_PTSD_Project/neuroimaging/KPE_results/fsl_analysis_ses2_Nosmooth/modelfit_ses_2/_subject_id_1464/level1design/run0.fsf',\n",
       " '/media/Data/Lab_Projects/KPE_PTSD_Project/neuroimaging/KPE_results/fsl_analysis_ses2_Nosmooth/modelfit_ses_2/_subject_id_1315/level1design/run0.fsf',\n",
       " '/media/Data/Lab_Projects/KPE_PTSD_Project/neuroimaging/KPE_results/fsl_analysis_ses2_Nosmooth/modelfit_ses_2/_subject_id_1223/level1design/run0.fsf',\n",
       " '/media/Data/Lab_Projects/KPE_PTSD_Project/neuroimaging/KPE_results/fsl_analysis_ses2_Nosmooth/modelfit_ses_2/_subject_id_1561/level1design/run0.fsf',\n",
       " '/media/Data/Lab_Projects/KPE_PTSD_Project/neuroimaging/KPE_results/fsl_analysis_ses2_Nosmooth/modelfit_ses_2/_subject_id_1499/level1design/run0.fsf',\n",
       " '/media/Data/Lab_Projects/KPE_PTSD_Project/neuroimaging/KPE_results/fsl_analysis_ses2_Nosmooth/modelfit_ses_2/_subject_id_1307/level1design/run0.fsf',\n",
       " '/media/Data/Lab_Projects/KPE_PTSD_Project/neuroimaging/KPE_results/fsl_analysis_ses2_Nosmooth/modelfit_ses_2/_subject_id_1351/level1design/run0.fsf',\n",
       " '/media/Data/Lab_Projects/KPE_PTSD_Project/neuroimaging/KPE_results/fsl_analysis_ses2_Nosmooth/modelfit_ses_2/_subject_id_008/level1design/run0.fsf',\n",
       " '/media/Data/Lab_Projects/KPE_PTSD_Project/neuroimaging/KPE_results/fsl_analysis_ses2_Nosmooth/modelfit_ses_2/_subject_id_1390/level1design/run0.fsf',\n",
       " '/media/Data/Lab_Projects/KPE_PTSD_Project/neuroimaging/KPE_results/fsl_analysis_ses2_Nosmooth/modelfit_ses_2/_subject_id_1263/level1design/run0.fsf',\n",
       " '/media/Data/Lab_Projects/KPE_PTSD_Project/neuroimaging/KPE_results/fsl_analysis_ses2_Nosmooth/modelfit_ses_2/_subject_id_1369/level1design/run0.fsf',\n",
       " '/media/Data/Lab_Projects/KPE_PTSD_Project/neuroimaging/KPE_results/fsl_analysis_ses2_Nosmooth/modelfit_ses_2/_subject_id_1364/level1design/run0.fsf',\n",
       " '/media/Data/Lab_Projects/KPE_PTSD_Project/neuroimaging/KPE_results/fsl_analysis_ses2_Nosmooth/modelfit_ses_2/_subject_id_1293/level1design/run0.fsf',\n",
       " '/media/Data/Lab_Projects/KPE_PTSD_Project/neuroimaging/KPE_results/fsl_analysis_ses2_Nosmooth/modelfit_ses_2/_subject_id_1480/level1design/run0.fsf',\n",
       " '/media/Data/Lab_Projects/KPE_PTSD_Project/neuroimaging/KPE_results/fsl_analysis_ses2_Nosmooth/modelfit_ses_2/_subject_id_1253/level1design/run0.fsf',\n",
       " '/media/Data/Lab_Projects/KPE_PTSD_Project/neuroimaging/KPE_results/fsl_analysis_ses2_Nosmooth/modelfit_ses_2/_subject_id_1343/level1design/run0.fsf',\n",
       " '/media/Data/Lab_Projects/KPE_PTSD_Project/neuroimaging/KPE_results/fsl_analysis_ses2_Nosmooth/modelfit_ses_2/_subject_id_1356/level1design/run0.fsf',\n",
       " '/media/Data/Lab_Projects/KPE_PTSD_Project/neuroimaging/KPE_results/fsl_analysis_ses2_Nosmooth/modelfit_ses_2/_subject_id_1403/level1design/run0.fsf']"
      ]
     },
     "execution_count": 75,
     "metadata": {},
     "output_type": "execute_result"
    }
   ],
   "source": [
    "# get run files - for specific session\n",
    "ses= '2'\n",
    "beta_list = glob.glob('/media/Data/Lab_Projects/KPE_PTSD_Project/neuroimaging/KPE_results/fsl_analysis_ses%s_Nosmooth/modelfit_ses_%s/_subject_id_*/level1design/run0.fsf' %(ses,ses))\n",
    "beta_list\n"
   ]
  },
  {
   "cell_type": "code",
   "execution_count": 76,
   "metadata": {},
   "outputs": [
    {
     "data": {
      "text/plain": [
       "array(['relax1_0', 'relax1_1', 'relax1_2', 'relax1_3', 'relax2_0',\n",
       "       'relax2_1', 'relax2_2', 'relax2_3', 'relax3_0', 'relax3_1',\n",
       "       'relax3_2', 'relax3_3', 'sad1_0', 'sad1_1', 'sad1_2', 'sad1_3',\n",
       "       'sad2_0', 'sad2_1', 'sad2_2', 'sad2_3', 'sad3_0', 'sad3_1',\n",
       "       'sad3_2', 'sad3_3', 'trauma1_0', 'trauma1_1', 'trauma1_2',\n",
       "       'trauma1_3', 'trauma2_0', 'trauma2_1', 'trauma2_2', 'trauma2_3',\n",
       "       'trauma3_0', 'trauma3_1', 'trauma3_2', 'trauma3_3'], dtype=object)"
      ]
     },
     "execution_count": 76,
     "metadata": {},
     "output_type": "execute_result"
    }
   ],
   "source": [
    "# get condition list\n",
    "events_file = '/media/Data/Lab_Projects/KPE_PTSD_Project/neuroimaging/KPE_BIDS/condition_files/withNumbers/sub-1464_ses-1_30sec_window.csv'\n",
    "cond = pd.read_csv(events_file, sep='\\t')\n",
    "cond_list = np.unique(cond.trial_type_30)\n",
    "cond_list"
   ]
  },
  {
   "cell_type": "code",
   "execution_count": 77,
   "metadata": {
    "slideshow": {
     "slide_type": "skip"
    }
   },
   "outputs": [
    {
     "name": "stdout",
     "output_type": "stream",
     "text": [
      "['/media/Data/Lab_Projects/KPE_PTSD_Project/neuroimaging/KPE_results/fsl_analysis_ses2_Nosmooth/modelfit_ses_2/_subject_id_008/modelestimate/mapflow/_modelestimate0/results/pe31.nii.gz', '/media/Data/Lab_Projects/KPE_PTSD_Project/neuroimaging/KPE_results/fsl_analysis_ses2_Nosmooth/modelfit_ses_2/_subject_id_1223/modelestimate/mapflow/_modelestimate0/results/pe31.nii.gz', '/media/Data/Lab_Projects/KPE_PTSD_Project/neuroimaging/KPE_results/fsl_analysis_ses2_Nosmooth/modelfit_ses_2/_subject_id_1253/modelestimate/mapflow/_modelestimate0/results/pe31.nii.gz', '/media/Data/Lab_Projects/KPE_PTSD_Project/neuroimaging/KPE_results/fsl_analysis_ses2_Nosmooth/modelfit_ses_2/_subject_id_1263/modelestimate/mapflow/_modelestimate0/results/pe31.nii.gz', '/media/Data/Lab_Projects/KPE_PTSD_Project/neuroimaging/KPE_results/fsl_analysis_ses2_Nosmooth/modelfit_ses_2/_subject_id_1293/modelestimate/mapflow/_modelestimate0/results/pe31.nii.gz', '/media/Data/Lab_Projects/KPE_PTSD_Project/neuroimaging/KPE_results/fsl_analysis_ses2_Nosmooth/modelfit_ses_2/_subject_id_1307/modelestimate/mapflow/_modelestimate0/results/pe31.nii.gz', '/media/Data/Lab_Projects/KPE_PTSD_Project/neuroimaging/KPE_results/fsl_analysis_ses2_Nosmooth/modelfit_ses_2/_subject_id_1315/modelestimate/mapflow/_modelestimate0/results/pe31.nii.gz', '/media/Data/Lab_Projects/KPE_PTSD_Project/neuroimaging/KPE_results/fsl_analysis_ses2_Nosmooth/modelfit_ses_2/_subject_id_1322/modelestimate/mapflow/_modelestimate0/results/pe31.nii.gz', '/media/Data/Lab_Projects/KPE_PTSD_Project/neuroimaging/KPE_results/fsl_analysis_ses2_Nosmooth/modelfit_ses_2/_subject_id_1339/modelestimate/mapflow/_modelestimate0/results/pe31.nii.gz', '/media/Data/Lab_Projects/KPE_PTSD_Project/neuroimaging/KPE_results/fsl_analysis_ses2_Nosmooth/modelfit_ses_2/_subject_id_1343/modelestimate/mapflow/_modelestimate0/results/pe31.nii.gz', '/media/Data/Lab_Projects/KPE_PTSD_Project/neuroimaging/KPE_results/fsl_analysis_ses2_Nosmooth/modelfit_ses_2/_subject_id_1351/modelestimate/mapflow/_modelestimate0/results/pe31.nii.gz', '/media/Data/Lab_Projects/KPE_PTSD_Project/neuroimaging/KPE_results/fsl_analysis_ses2_Nosmooth/modelfit_ses_2/_subject_id_1356/modelestimate/mapflow/_modelestimate0/results/pe31.nii.gz', '/media/Data/Lab_Projects/KPE_PTSD_Project/neuroimaging/KPE_results/fsl_analysis_ses2_Nosmooth/modelfit_ses_2/_subject_id_1364/modelestimate/mapflow/_modelestimate0/results/pe31.nii.gz', '/media/Data/Lab_Projects/KPE_PTSD_Project/neuroimaging/KPE_results/fsl_analysis_ses2_Nosmooth/modelfit_ses_2/_subject_id_1369/modelestimate/mapflow/_modelestimate0/results/pe31.nii.gz', '/media/Data/Lab_Projects/KPE_PTSD_Project/neuroimaging/KPE_results/fsl_analysis_ses2_Nosmooth/modelfit_ses_2/_subject_id_1387/modelestimate/mapflow/_modelestimate0/results/pe31.nii.gz', '/media/Data/Lab_Projects/KPE_PTSD_Project/neuroimaging/KPE_results/fsl_analysis_ses2_Nosmooth/modelfit_ses_2/_subject_id_1390/modelestimate/mapflow/_modelestimate0/results/pe31.nii.gz', '/media/Data/Lab_Projects/KPE_PTSD_Project/neuroimaging/KPE_results/fsl_analysis_ses2_Nosmooth/modelfit_ses_2/_subject_id_1403/modelestimate/mapflow/_modelestimate0/results/pe31.nii.gz', '/media/Data/Lab_Projects/KPE_PTSD_Project/neuroimaging/KPE_results/fsl_analysis_ses2_Nosmooth/modelfit_ses_2/_subject_id_1464/modelestimate/mapflow/_modelestimate0/results/pe31.nii.gz', '/media/Data/Lab_Projects/KPE_PTSD_Project/neuroimaging/KPE_results/fsl_analysis_ses2_Nosmooth/modelfit_ses_2/_subject_id_1480/modelestimate/mapflow/_modelestimate0/results/pe31.nii.gz', '/media/Data/Lab_Projects/KPE_PTSD_Project/neuroimaging/KPE_results/fsl_analysis_ses2_Nosmooth/modelfit_ses_2/_subject_id_1499/modelestimate/mapflow/_modelestimate0/results/pe31.nii.gz', '/media/Data/Lab_Projects/KPE_PTSD_Project/neuroimaging/KPE_results/fsl_analysis_ses2_Nosmooth/modelfit_ses_2/_subject_id_1561/modelestimate/mapflow/_modelestimate0/results/pe31.nii.gz']\n",
      "Running /media/Data/Lab_Projects/KPE_PTSD_Project/neuroimaging/KPE_results/fsl_analysis_ses2_Nosmooth/modelfit_ses_2/_subject_id_008/modelestimate/mapflow/_modelestimate0/results/pe31.nii.gz\n",
      "[NiftiMasker.transform_single_imgs] Loading data from Nifti1Image(\n",
      "shape=(97, 115, 97, 1),\n",
      "affine=array([[   2. ,    0. ,    0. ,  -96.5],\n",
      "       [   0. ,    2. ,    0. , -132.5],\n",
      "       [   0. ,    0. ,    2. ,  -78.5],\n",
      "       [   0. ,    0. ,    0. ,  \n",
      "[NiftiMasker.transform_single_imgs] Resampling images\n",
      "[NiftiMasker.transform_single_imgs] Smoothing images\n",
      "[NiftiMasker.transform_single_imgs] Extracting region signals\n",
      "[NiftiMasker.transform_single_imgs] Cleaning extracted signals\n",
      "Running /media/Data/Lab_Projects/KPE_PTSD_Project/neuroimaging/KPE_results/fsl_analysis_ses2_Nosmooth/modelfit_ses_2/_subject_id_1223/modelestimate/mapflow/_modelestimate0/results/pe31.nii.gz\n",
      "[NiftiMasker.transform_single_imgs] Loading data from Nifti1Image(\n",
      "shape=(97, 115, 97, 1),\n",
      "affine=array([[   2. ,    0. ,    0. ,  -96.5],\n",
      "       [   0. ,    2. ,    0. , -132.5],\n",
      "       [   0. ,    0. ,    2. ,  -78.5],\n",
      "       [   0. ,    0. ,    0. ,  \n",
      "[NiftiMasker.transform_single_imgs] Resampling images\n",
      "[NiftiMasker.transform_single_imgs] Smoothing images\n",
      "[NiftiMasker.transform_single_imgs] Extracting region signals\n",
      "[NiftiMasker.transform_single_imgs] Cleaning extracted signals\n",
      "Running /media/Data/Lab_Projects/KPE_PTSD_Project/neuroimaging/KPE_results/fsl_analysis_ses2_Nosmooth/modelfit_ses_2/_subject_id_1253/modelestimate/mapflow/_modelestimate0/results/pe31.nii.gz\n",
      "[NiftiMasker.transform_single_imgs] Loading data from Nifti1Image(\n",
      "shape=(97, 115, 97, 1),\n",
      "affine=array([[   2. ,    0. ,    0. ,  -96.5],\n",
      "       [   0. ,    2. ,    0. , -132.5],\n",
      "       [   0. ,    0. ,    2. ,  -78.5],\n",
      "       [   0. ,    0. ,    0. ,  \n",
      "[NiftiMasker.transform_single_imgs] Resampling images\n",
      "[NiftiMasker.transform_single_imgs] Smoothing images\n",
      "[NiftiMasker.transform_single_imgs] Extracting region signals\n",
      "[NiftiMasker.transform_single_imgs] Cleaning extracted signals\n",
      "Running /media/Data/Lab_Projects/KPE_PTSD_Project/neuroimaging/KPE_results/fsl_analysis_ses2_Nosmooth/modelfit_ses_2/_subject_id_1263/modelestimate/mapflow/_modelestimate0/results/pe31.nii.gz\n",
      "[NiftiMasker.transform_single_imgs] Loading data from Nifti1Image(\n",
      "shape=(97, 115, 97, 1),\n",
      "affine=array([[   2. ,    0. ,    0. ,  -96.5],\n",
      "       [   0. ,    2. ,    0. , -132.5],\n",
      "       [   0. ,    0. ,    2. ,  -78.5],\n",
      "       [   0. ,    0. ,    0. ,  \n",
      "[NiftiMasker.transform_single_imgs] Resampling images\n",
      "[NiftiMasker.transform_single_imgs] Smoothing images\n",
      "[NiftiMasker.transform_single_imgs] Extracting region signals\n",
      "[NiftiMasker.transform_single_imgs] Cleaning extracted signals\n",
      "Running /media/Data/Lab_Projects/KPE_PTSD_Project/neuroimaging/KPE_results/fsl_analysis_ses2_Nosmooth/modelfit_ses_2/_subject_id_1293/modelestimate/mapflow/_modelestimate0/results/pe31.nii.gz\n",
      "[NiftiMasker.transform_single_imgs] Loading data from Nifti1Image(\n",
      "shape=(97, 115, 97, 1),\n",
      "affine=array([[   2. ,    0. ,    0. ,  -96.5],\n",
      "       [   0. ,    2. ,    0. , -132.5],\n",
      "       [   0. ,    0. ,    2. ,  -78.5],\n",
      "       [   0. ,    0. ,    0. ,  \n",
      "[NiftiMasker.transform_single_imgs] Resampling images\n",
      "[NiftiMasker.transform_single_imgs] Smoothing images\n",
      "[NiftiMasker.transform_single_imgs] Extracting region signals\n",
      "[NiftiMasker.transform_single_imgs] Cleaning extracted signals\n",
      "Running /media/Data/Lab_Projects/KPE_PTSD_Project/neuroimaging/KPE_results/fsl_analysis_ses2_Nosmooth/modelfit_ses_2/_subject_id_1307/modelestimate/mapflow/_modelestimate0/results/pe31.nii.gz\n",
      "[NiftiMasker.transform_single_imgs] Loading data from Nifti1Image(\n",
      "shape=(97, 115, 97, 1),\n",
      "affine=array([[   2. ,    0. ,    0. ,  -96.5],\n",
      "       [   0. ,    2. ,    0. , -132.5],\n",
      "       [   0. ,    0. ,    2. ,  -78.5],\n",
      "       [   0. ,    0. ,    0. ,  \n",
      "[NiftiMasker.transform_single_imgs] Resampling images\n",
      "[NiftiMasker.transform_single_imgs] Smoothing images\n",
      "[NiftiMasker.transform_single_imgs] Extracting region signals\n",
      "[NiftiMasker.transform_single_imgs] Cleaning extracted signals\n",
      "Running /media/Data/Lab_Projects/KPE_PTSD_Project/neuroimaging/KPE_results/fsl_analysis_ses2_Nosmooth/modelfit_ses_2/_subject_id_1315/modelestimate/mapflow/_modelestimate0/results/pe31.nii.gz\n",
      "[NiftiMasker.transform_single_imgs] Loading data from Nifti1Image(\n",
      "shape=(97, 115, 97, 1),\n",
      "affine=array([[   2. ,    0. ,    0. ,  -96.5],\n",
      "       [   0. ,    2. ,    0. , -132.5],\n",
      "       [   0. ,    0. ,    2. ,  -78.5],\n",
      "       [   0. ,    0. ,    0. ,  \n",
      "[NiftiMasker.transform_single_imgs] Resampling images\n",
      "[NiftiMasker.transform_single_imgs] Smoothing images\n",
      "[NiftiMasker.transform_single_imgs] Extracting region signals\n",
      "[NiftiMasker.transform_single_imgs] Cleaning extracted signals\n",
      "Running /media/Data/Lab_Projects/KPE_PTSD_Project/neuroimaging/KPE_results/fsl_analysis_ses2_Nosmooth/modelfit_ses_2/_subject_id_1322/modelestimate/mapflow/_modelestimate0/results/pe31.nii.gz\n",
      "[NiftiMasker.transform_single_imgs] Loading data from Nifti1Image(\n",
      "shape=(97, 115, 97, 1),\n",
      "affine=array([[   2. ,    0. ,    0. ,  -96.5],\n",
      "       [   0. ,    2. ,    0. , -132.5],\n",
      "       [   0. ,    0. ,    2. ,  -78.5],\n",
      "       [   0. ,    0. ,    0. ,  \n",
      "[NiftiMasker.transform_single_imgs] Resampling images\n"
     ]
    },
    {
     "name": "stdout",
     "output_type": "stream",
     "text": [
      "[NiftiMasker.transform_single_imgs] Smoothing images\n",
      "[NiftiMasker.transform_single_imgs] Extracting region signals\n",
      "[NiftiMasker.transform_single_imgs] Cleaning extracted signals\n",
      "Running /media/Data/Lab_Projects/KPE_PTSD_Project/neuroimaging/KPE_results/fsl_analysis_ses2_Nosmooth/modelfit_ses_2/_subject_id_1339/modelestimate/mapflow/_modelestimate0/results/pe31.nii.gz\n",
      "[NiftiMasker.transform_single_imgs] Loading data from Nifti1Image(\n",
      "shape=(97, 115, 97, 1),\n",
      "affine=array([[   2. ,    0. ,    0. ,  -96.5],\n",
      "       [   0. ,    2. ,    0. , -132.5],\n",
      "       [   0. ,    0. ,    2. ,  -78.5],\n",
      "       [   0. ,    0. ,    0. ,  \n",
      "[NiftiMasker.transform_single_imgs] Resampling images\n",
      "[NiftiMasker.transform_single_imgs] Smoothing images\n",
      "[NiftiMasker.transform_single_imgs] Extracting region signals\n",
      "[NiftiMasker.transform_single_imgs] Cleaning extracted signals\n",
      "Running /media/Data/Lab_Projects/KPE_PTSD_Project/neuroimaging/KPE_results/fsl_analysis_ses2_Nosmooth/modelfit_ses_2/_subject_id_1343/modelestimate/mapflow/_modelestimate0/results/pe31.nii.gz\n",
      "[NiftiMasker.transform_single_imgs] Loading data from Nifti1Image(\n",
      "shape=(97, 115, 97, 1),\n",
      "affine=array([[   2. ,    0. ,    0. ,  -96.5],\n",
      "       [   0. ,    2. ,    0. , -132.5],\n",
      "       [   0. ,    0. ,    2. ,  -78.5],\n",
      "       [   0. ,    0. ,    0. ,  \n",
      "[NiftiMasker.transform_single_imgs] Resampling images\n",
      "[NiftiMasker.transform_single_imgs] Smoothing images\n",
      "[NiftiMasker.transform_single_imgs] Extracting region signals\n",
      "[NiftiMasker.transform_single_imgs] Cleaning extracted signals\n",
      "Running /media/Data/Lab_Projects/KPE_PTSD_Project/neuroimaging/KPE_results/fsl_analysis_ses2_Nosmooth/modelfit_ses_2/_subject_id_1351/modelestimate/mapflow/_modelestimate0/results/pe31.nii.gz\n",
      "[NiftiMasker.transform_single_imgs] Loading data from Nifti1Image(\n",
      "shape=(97, 115, 97, 1),\n",
      "affine=array([[   2. ,    0. ,    0. ,  -96.5],\n",
      "       [   0. ,    2. ,    0. , -132.5],\n",
      "       [   0. ,    0. ,    2. ,  -78.5],\n",
      "       [   0. ,    0. ,    0. ,  \n",
      "[NiftiMasker.transform_single_imgs] Resampling images\n",
      "[NiftiMasker.transform_single_imgs] Smoothing images\n",
      "[NiftiMasker.transform_single_imgs] Extracting region signals\n",
      "[NiftiMasker.transform_single_imgs] Cleaning extracted signals\n",
      "Running /media/Data/Lab_Projects/KPE_PTSD_Project/neuroimaging/KPE_results/fsl_analysis_ses2_Nosmooth/modelfit_ses_2/_subject_id_1356/modelestimate/mapflow/_modelestimate0/results/pe31.nii.gz\n",
      "[NiftiMasker.transform_single_imgs] Loading data from Nifti1Image(\n",
      "shape=(97, 115, 97, 1),\n",
      "affine=array([[   2. ,    0. ,    0. ,  -96.5],\n",
      "       [   0. ,    2. ,    0. , -132.5],\n",
      "       [   0. ,    0. ,    2. ,  -78.5],\n",
      "       [   0. ,    0. ,    0. ,  \n",
      "[NiftiMasker.transform_single_imgs] Resampling images\n",
      "[NiftiMasker.transform_single_imgs] Smoothing images\n",
      "[NiftiMasker.transform_single_imgs] Extracting region signals\n",
      "[NiftiMasker.transform_single_imgs] Cleaning extracted signals\n",
      "Running /media/Data/Lab_Projects/KPE_PTSD_Project/neuroimaging/KPE_results/fsl_analysis_ses2_Nosmooth/modelfit_ses_2/_subject_id_1364/modelestimate/mapflow/_modelestimate0/results/pe31.nii.gz\n",
      "[NiftiMasker.transform_single_imgs] Loading data from Nifti1Image(\n",
      "shape=(97, 115, 97, 1),\n",
      "affine=array([[   2. ,    0. ,    0. ,  -96.5],\n",
      "       [   0. ,    2. ,    0. , -132.5],\n",
      "       [   0. ,    0. ,    2. ,  -78.5],\n",
      "       [   0. ,    0. ,    0. ,  \n",
      "[NiftiMasker.transform_single_imgs] Resampling images\n",
      "[NiftiMasker.transform_single_imgs] Smoothing images\n",
      "[NiftiMasker.transform_single_imgs] Extracting region signals\n",
      "[NiftiMasker.transform_single_imgs] Cleaning extracted signals\n",
      "Running /media/Data/Lab_Projects/KPE_PTSD_Project/neuroimaging/KPE_results/fsl_analysis_ses2_Nosmooth/modelfit_ses_2/_subject_id_1369/modelestimate/mapflow/_modelestimate0/results/pe31.nii.gz\n",
      "[NiftiMasker.transform_single_imgs] Loading data from Nifti1Image(\n",
      "shape=(97, 115, 97, 1),\n",
      "affine=array([[   2. ,    0. ,    0. ,  -96.5],\n",
      "       [   0. ,    2. ,    0. , -132.5],\n",
      "       [   0. ,    0. ,    2. ,  -78.5],\n",
      "       [   0. ,    0. ,    0. ,  \n",
      "[NiftiMasker.transform_single_imgs] Resampling images\n",
      "[NiftiMasker.transform_single_imgs] Smoothing images\n",
      "[NiftiMasker.transform_single_imgs] Extracting region signals\n",
      "[NiftiMasker.transform_single_imgs] Cleaning extracted signals\n",
      "Running /media/Data/Lab_Projects/KPE_PTSD_Project/neuroimaging/KPE_results/fsl_analysis_ses2_Nosmooth/modelfit_ses_2/_subject_id_1387/modelestimate/mapflow/_modelestimate0/results/pe31.nii.gz\n",
      "[NiftiMasker.transform_single_imgs] Loading data from Nifti1Image(\n",
      "shape=(97, 115, 97, 1),\n",
      "affine=array([[   2. ,    0. ,    0. ,  -96.5],\n",
      "       [   0. ,    2. ,    0. , -132.5],\n",
      "       [   0. ,    0. ,    2. ,  -78.5],\n",
      "       [   0. ,    0. ,    0. ,  \n",
      "[NiftiMasker.transform_single_imgs] Resampling images\n",
      "[NiftiMasker.transform_single_imgs] Smoothing images\n",
      "[NiftiMasker.transform_single_imgs] Extracting region signals\n",
      "[NiftiMasker.transform_single_imgs] Cleaning extracted signals\n",
      "Running /media/Data/Lab_Projects/KPE_PTSD_Project/neuroimaging/KPE_results/fsl_analysis_ses2_Nosmooth/modelfit_ses_2/_subject_id_1390/modelestimate/mapflow/_modelestimate0/results/pe31.nii.gz\n",
      "[NiftiMasker.transform_single_imgs] Loading data from Nifti1Image(\n",
      "shape=(97, 115, 97, 1),\n",
      "affine=array([[   2. ,    0. ,    0. ,  -96.5],\n",
      "       [   0. ,    2. ,    0. , -132.5],\n",
      "       [   0. ,    0. ,    2. ,  -78.5],\n",
      "       [   0. ,    0. ,    0. ,  \n",
      "[NiftiMasker.transform_single_imgs] Resampling images\n",
      "[NiftiMasker.transform_single_imgs] Smoothing images\n",
      "[NiftiMasker.transform_single_imgs] Extracting region signals\n",
      "[NiftiMasker.transform_single_imgs] Cleaning extracted signals\n",
      "Running /media/Data/Lab_Projects/KPE_PTSD_Project/neuroimaging/KPE_results/fsl_analysis_ses2_Nosmooth/modelfit_ses_2/_subject_id_1403/modelestimate/mapflow/_modelestimate0/results/pe31.nii.gz\n",
      "[NiftiMasker.transform_single_imgs] Loading data from Nifti1Image(\n",
      "shape=(97, 115, 97, 1),\n",
      "affine=array([[   2. ,    0. ,    0. ,  -96.5],\n",
      "       [   0. ,    2. ,    0. , -132.5],\n",
      "       [   0. ,    0. ,    2. ,  -78.5],\n",
      "       [   0. ,    0. ,    0. ,  \n",
      "[NiftiMasker.transform_single_imgs] Resampling images\n",
      "[NiftiMasker.transform_single_imgs] Smoothing images\n",
      "[NiftiMasker.transform_single_imgs] Extracting region signals\n",
      "[NiftiMasker.transform_single_imgs] Cleaning extracted signals\n",
      "Running /media/Data/Lab_Projects/KPE_PTSD_Project/neuroimaging/KPE_results/fsl_analysis_ses2_Nosmooth/modelfit_ses_2/_subject_id_1464/modelestimate/mapflow/_modelestimate0/results/pe31.nii.gz\n",
      "[NiftiMasker.transform_single_imgs] Loading data from Nifti1Image(\n",
      "shape=(97, 115, 97, 1),\n",
      "affine=array([[   2. ,    0. ,    0. ,  -96.5],\n",
      "       [   0. ,    2. ,    0. , -132.5],\n",
      "       [   0. ,    0. ,    2. ,  -78.5],\n",
      "       [   0. ,    0. ,    0. ,  \n",
      "[NiftiMasker.transform_single_imgs] Resampling images\n",
      "[NiftiMasker.transform_single_imgs] Smoothing images\n",
      "[NiftiMasker.transform_single_imgs] Extracting region signals\n",
      "[NiftiMasker.transform_single_imgs] Cleaning extracted signals\n",
      "Running /media/Data/Lab_Projects/KPE_PTSD_Project/neuroimaging/KPE_results/fsl_analysis_ses2_Nosmooth/modelfit_ses_2/_subject_id_1480/modelestimate/mapflow/_modelestimate0/results/pe31.nii.gz\n",
      "[NiftiMasker.transform_single_imgs] Loading data from Nifti1Image(\n",
      "shape=(97, 115, 97, 1),\n",
      "affine=array([[   2. ,    0. ,    0. ,  -96.5],\n",
      "       [   0. ,    2. ,    0. , -132.5],\n",
      "       [   0. ,    0. ,    2. ,  -78.5],\n",
      "       [   0. ,    0. ,    0. ,  \n",
      "[NiftiMasker.transform_single_imgs] Resampling images\n",
      "[NiftiMasker.transform_single_imgs] Smoothing images\n",
      "[NiftiMasker.transform_single_imgs] Extracting region signals\n",
      "[NiftiMasker.transform_single_imgs] Cleaning extracted signals\n",
      "Running /media/Data/Lab_Projects/KPE_PTSD_Project/neuroimaging/KPE_results/fsl_analysis_ses2_Nosmooth/modelfit_ses_2/_subject_id_1499/modelestimate/mapflow/_modelestimate0/results/pe31.nii.gz\n",
      "[NiftiMasker.transform_single_imgs] Loading data from Nifti1Image(\n",
      "shape=(97, 115, 97, 1),\n",
      "affine=array([[   2. ,    0. ,    0. ,  -96.5],\n",
      "       [   0. ,    2. ,    0. , -132.5],\n",
      "       [   0. ,    0. ,    2. ,  -78.5],\n",
      "       [   0. ,    0. ,    0. ,  \n",
      "[NiftiMasker.transform_single_imgs] Resampling images\n",
      "[NiftiMasker.transform_single_imgs] Smoothing images\n",
      "[NiftiMasker.transform_single_imgs] Extracting region signals\n",
      "[NiftiMasker.transform_single_imgs] Cleaning extracted signals\n",
      "Running /media/Data/Lab_Projects/KPE_PTSD_Project/neuroimaging/KPE_results/fsl_analysis_ses2_Nosmooth/modelfit_ses_2/_subject_id_1561/modelestimate/mapflow/_modelestimate0/results/pe31.nii.gz\n",
      "[NiftiMasker.transform_single_imgs] Loading data from Nifti1Image(\n",
      "shape=(97, 115, 97, 1),\n",
      "affine=array([[   2. ,    0. ,    0. ,  -96.5],\n",
      "       [   0. ,    2. ,    0. , -132.5],\n",
      "       [   0. ,    0. ,    2. ,  -78.5],\n",
      "       [   0. ,    0. ,    0. ,  \n",
      "[NiftiMasker.transform_single_imgs] Resampling images\n",
      "[NiftiMasker.transform_single_imgs] Smoothing images\n",
      "[NiftiMasker.transform_single_imgs] Extracting region signals\n"
     ]
    },
    {
     "name": "stdout",
     "output_type": "stream",
     "text": [
      "[NiftiMasker.transform_single_imgs] Cleaning extracted signals\n"
     ]
    },
    {
     "data": {
      "text/plain": [
       "(21, 846)"
      ]
     },
     "execution_count": 77,
     "metadata": {},
     "output_type": "execute_result"
    }
   ],
   "source": [
    "beta_files = getBetas(beta_list, 'trauma1_0', ses='2')\n",
    "print(beta_files)\n",
    "allGroups = []\n",
    "for func in beta_files:\n",
    "    print(f'Running {func}')\n",
    "    beta = masker.transform(func)\n",
    "    allGroups.append(beta)\n",
    "\n",
    "allArr = np.array(allGroups)\n",
    "allArr_reshape= np.array(allArr).reshape(allArr.shape[0], allArr.shape[2])\n",
    "allArr_reshape.shape"
   ]
  },
  {
   "cell_type": "code",
   "execution_count": 78,
   "metadata": {},
   "outputs": [],
   "source": [
    "X = allArr_reshape"
   ]
  },
  {
   "cell_type": "code",
   "execution_count": 79,
   "metadata": {
    "slideshow": {
     "slide_type": "slide"
    }
   },
   "outputs": [],
   "source": [
    "#from sklearn.model_selection import StratifiedKFold\n",
    "from sklearn.svm import LinearSVC\n",
    "from sklearn.model_selection import cross_val_score\n",
    "from sklearn.model_selection import StratifiedKFold\n",
    "from sklearn import svm\n",
    "model = XGBClassifier(n_jobs=5, \n",
    "                     verbose = 9, random_state=None)\n",
    "\n",
    "## Here we use stratified K-fold with shuffling to generate different shuffling of leave one subject out\n",
    "cv = StratifiedKFold(n_splits=10, shuffle=True) # running for each subject\n"
   ]
  },
  {
   "cell_type": "code",
   "execution_count": 80,
   "metadata": {},
   "outputs": [],
   "source": [
    "scores = cross_val_score(model,\n",
    "                            X,\n",
    "                            y=condition_label,\n",
    "                            cv=cv,\n",
    "                            groups=condition_label,\n",
    "                            scoring= \"accuracy\",\n",
    "                            n_jobs=1, # set number of CPUs\n",
    "                            #verbose = 5 # set some details of the activity \n",
    "                            )"
   ]
  },
  {
   "cell_type": "code",
   "execution_count": 81,
   "metadata": {},
   "outputs": [
    {
     "data": {
      "text/plain": [
       "array([0.66666667, 0.        , 0.        , 1.        , 0.5       ,\n",
       "       0.5       , 0.        , 1.        , 0.        , 1.        ])"
      ]
     },
     "execution_count": 81,
     "metadata": {},
     "output_type": "execute_result"
    }
   ],
   "source": [
    "scores"
   ]
  },
  {
   "cell_type": "markdown",
   "metadata": {
    "slideshow": {
     "slide_type": "slide"
    }
   },
   "source": [
    "## Use shuffle split to randomize and run the XGboost N times\n",
    "- This will create a distribution of estimation level \n",
    "- We can then better estimate how really its more accurate than chance\n"
   ]
  },
  {
   "cell_type": "code",
   "execution_count": 82,
   "metadata": {
    "scrolled": true,
    "slideshow": {
     "slide_type": "subslide"
    }
   },
   "outputs": [
    {
     "name": "stdout",
     "output_type": "stream",
     "text": [
      " Running 1 iteration\n",
      " Running 2 iteration\n",
      " Running 3 iteration\n",
      " Running 4 iteration\n",
      " Running 5 iteration\n",
      " Running 6 iteration\n",
      " Running 7 iteration\n",
      " Running 8 iteration\n",
      " Running 9 iteration\n",
      " Running 10 iteration\n",
      " Running 11 iteration\n",
      " Running 12 iteration\n",
      " Running 13 iteration\n",
      " Running 14 iteration\n",
      " Running 15 iteration\n",
      " Running 16 iteration\n",
      " Running 17 iteration\n",
      " Running 18 iteration\n",
      " Running 19 iteration\n",
      " Running 20 iteration\n",
      " Running 21 iteration\n",
      " Running 22 iteration\n",
      " Running 23 iteration\n",
      " Running 24 iteration\n",
      " Running 25 iteration\n",
      " Running 26 iteration\n",
      " Running 27 iteration\n",
      " Running 28 iteration\n",
      " Running 29 iteration\n",
      " Running 30 iteration\n",
      " Running 31 iteration\n",
      " Running 32 iteration\n",
      " Running 33 iteration\n",
      " Running 34 iteration\n",
      " Running 35 iteration\n",
      " Running 36 iteration\n",
      " Running 37 iteration\n",
      " Running 38 iteration\n",
      " Running 39 iteration\n",
      " Running 40 iteration\n",
      " Running 41 iteration\n",
      " Running 42 iteration\n",
      " Running 43 iteration\n",
      " Running 44 iteration\n",
      " Running 45 iteration\n",
      " Running 46 iteration\n",
      " Running 47 iteration\n",
      " Running 48 iteration\n",
      " Running 49 iteration\n",
      " Running 50 iteration\n",
      " Running 51 iteration\n",
      " Running 52 iteration\n",
      " Running 53 iteration\n",
      " Running 54 iteration\n",
      " Running 55 iteration\n",
      " Running 56 iteration\n",
      " Running 57 iteration\n",
      " Running 58 iteration\n",
      " Running 59 iteration\n",
      " Running 60 iteration\n",
      " Running 61 iteration\n",
      " Running 62 iteration\n",
      " Running 63 iteration\n",
      " Running 64 iteration\n",
      " Running 65 iteration\n",
      " Running 66 iteration\n",
      " Running 67 iteration\n",
      " Running 68 iteration\n",
      " Running 69 iteration\n",
      " Running 70 iteration\n",
      " Running 71 iteration\n",
      " Running 72 iteration\n",
      " Running 73 iteration\n",
      " Running 74 iteration\n",
      " Running 75 iteration\n",
      " Running 76 iteration\n",
      " Running 77 iteration\n",
      " Running 78 iteration\n",
      " Running 79 iteration\n",
      " Running 80 iteration\n",
      " Running 81 iteration\n",
      " Running 82 iteration\n",
      " Running 83 iteration\n",
      " Running 84 iteration\n",
      " Running 85 iteration\n",
      " Running 86 iteration\n",
      " Running 87 iteration\n",
      " Running 88 iteration\n",
      " Running 89 iteration\n",
      " Running 90 iteration\n",
      " Running 91 iteration\n",
      " Running 92 iteration\n",
      " Running 93 iteration\n",
      " Running 94 iteration\n",
      " Running 95 iteration\n",
      " Running 96 iteration\n",
      " Running 97 iteration\n",
      " Running 98 iteration\n",
      " Running 99 iteration\n",
      " Running 100 iteration\n"
     ]
    }
   ],
   "source": [
    "n_iter = 100\n",
    "rand_score = []\n",
    "for i in range(n_iter):\n",
    "    print(f' Running {i+1} iteration')\n",
    "    mean_scores = []\n",
    "    scores = cross_val_score(model,\n",
    "                            X,\n",
    "                            y=condition_label,\n",
    "                            cv=cv,\n",
    "                            groups=condition_label,\n",
    "                            scoring= \"accuracy\",\n",
    "                            n_jobs=10, # set number of CPUs\n",
    "                            #verbose = 5 # set some details of the activity \n",
    "                            )\n",
    "    mean_scores.append(scores.mean())\n",
    "    rand_score.append(mean_scores)"
   ]
  },
  {
   "cell_type": "markdown",
   "metadata": {
    "slideshow": {
     "slide_type": "slide"
    }
   },
   "source": [
    "### Plotting area under ROC curve ditribution and printing average and standard deviation of the distribution"
   ]
  },
  {
   "cell_type": "code",
   "execution_count": 83,
   "metadata": {
    "slideshow": {
     "slide_type": "fragment"
    }
   },
   "outputs": [
    {
     "name": "stdout",
     "output_type": "stream",
     "text": [
      "Area under curve: 0.50 (+/- 0.10)\n",
      "90% CI is [0.41666667 0.58333333]\n"
     ]
    },
    {
     "data": {
      "text/plain": [
       "<matplotlib.axes._subplots.AxesSubplot at 0x7fd3c94fe250>"
      ]
     },
     "execution_count": 83,
     "metadata": {},
     "output_type": "execute_result"
    },
    {
     "data": {
      "image/png": "[encoded data removed]",
      "text/plain": [
       "<Figure size 432x288 with 1 Axes>"
      ]
     },
     "metadata": {
      "needs_background": "light"
     },
     "output_type": "display_data"
    }
   ],
   "source": [
    "rand_score = np.array(rand_score)\n",
    "print(\"Area under curve: %0.2f (+/- %0.2f)\" % (np.mean(rand_score), np.std(rand_score) * 2))\n",
    "print(f'90% CI is {np.quantile(rand_score, [0.05, 0.95])}')\n",
    "sns.distplot(rand_score)"
   ]
  },
  {
   "cell_type": "code",
   "execution_count": 84,
   "metadata": {},
   "outputs": [
    {
     "name": "stderr",
     "output_type": "stream",
     "text": [
      "[Parallel(n_jobs=8)]: Using backend LokyBackend with 8 concurrent workers.\n",
      "[Parallel(n_jobs=8)]: Done   2 tasks      | elapsed:    2.4s\n",
      "[Parallel(n_jobs=8)]: Done  56 tasks      | elapsed:   18.2s\n",
      "[Parallel(n_jobs=8)]: Done 146 tasks      | elapsed:   43.6s\n",
      "[Parallel(n_jobs=8)]: Done 272 tasks      | elapsed:  1.3min\n",
      "[Parallel(n_jobs=8)]: Done 434 tasks      | elapsed:  2.2min\n",
      "[Parallel(n_jobs=8)]: Done 632 tasks      | elapsed:  3.1min\n",
      "[Parallel(n_jobs=8)]: Done 866 tasks      | elapsed:  4.3min\n"
     ]
    },
    {
     "name": "stdout",
     "output_type": "stream",
     "text": [
      "Classification score 0.3 (pvalue : 0.8291708291708292)\n"
     ]
    },
    {
     "name": "stderr",
     "output_type": "stream",
     "text": [
      "[Parallel(n_jobs=8)]: Done 1000 out of 1000 | elapsed:  4.9min finished\n"
     ]
    }
   ],
   "source": [
    "## use sklearn permutation test\n",
    "from sklearn.model_selection import permutation_test_score\n",
    "score, permutation_scores, pvalue = permutation_test_score(\n",
    "    model, X, condition_label, scoring=\"roc_auc\", cv=cv, n_permutations=1000, n_jobs=8, verbose=5)\n",
    "\n",
    "print(\"Classification score %s (pvalue : %s)\" % (score, pvalue))"
   ]
  },
  {
   "cell_type": "code",
   "execution_count": 231,
   "metadata": {},
   "outputs": [
    {
     "data": {
      "text/plain": [
       "(21, 3846)"
      ]
     },
     "execution_count": 231,
     "metadata": {},
     "output_type": "execute_result"
    }
   ],
   "source": [
    "X.shape"
   ]
  },
  {
   "cell_type": "code",
   "execution_count": 219,
   "metadata": {
    "slideshow": {
     "slide_type": "fragment"
    }
   },
   "outputs": [
    {
     "data": {
      "image/png": "[encoded data removed]",
      "text/plain": [
       "<Figure size 475.2x187.2 with 4 Axes>"
      ]
     },
     "metadata": {},
     "output_type": "display_data"
    }
   ],
   "source": [
    "mask_file = '/media/Data/work/RCF_or/vmpfc_association-test_z_FDR_0.01.nii.gz'\n",
    "mask_file = nilearn.image.math_img(\"a>=4\", a=mask_file)\n",
    "%matplotlib inline\n",
    "nilearn.plotting.plot_roi(mask_file)\n",
    "masker = nilearn.input_data.NiftiMasker(mask_img=mask_file, \n",
    "                               sessions=None, smoothing_fwhm=None, standardize=False, detrend=False, verbose=5)"
   ]
  },
  {
   "cell_type": "markdown",
   "metadata": {},
   "source": [
    "## Lets look at the hippocampus"
   ]
  },
  {
   "cell_type": "code",
   "execution_count": 210,
   "metadata": {},
   "outputs": [
    {
     "data": {
      "image/png": "[encoded data removed]",
      "text/plain": [
       "<Figure size 475.2x187.2 with 4 Axes>"
      ]
     },
     "metadata": {},
     "output_type": "display_data"
    }
   ],
   "source": [
    "mask_file = '/media/Data/work/KPE_ROI/hippocampus_association-test_z_FDR_0.01.nii.gz'\n",
    "mask_file = nilearn.image.math_img(\"a>=11\", a=mask_file)\n",
    "%matplotlib inline\n",
    "nilearn.plotting.plot_roi(mask_file)\n",
    "masker = nilearn.input_data.NiftiMasker(mask_img=mask_file, \n",
    "                               sessions=None, smoothing_fwhm=None, standardize=False, detrend=False, verbose=5)"
   ]
  },
  {
   "cell_type": "markdown",
   "metadata": {},
   "source": [
    "## Striatum"
   ]
  },
  {
   "cell_type": "code",
   "execution_count": 204,
   "metadata": {},
   "outputs": [
    {
     "data": {
      "image/png": "[encoded data removed]",
      "text/plain": [
       "<Figure size 475.2x187.2 with 4 Axes>"
      ]
     },
     "metadata": {},
     "output_type": "display_data"
    }
   ],
   "source": [
    "mask_file = '/media/Data/work/KPE_ROI/binConjunc_PvNxDECxRECxMONxPRI_striatum.nii.gz'\n",
    "mask_file = nilearn.image.math_img(\"a>=0.001\", a=mask_file)\n",
    "%matplotlib inline\n",
    "nilearn.plotting.plot_roi(mask_file)\n",
    "masker = nilearn.input_data.NiftiMasker(mask_img=mask_file, \n",
    "                               sessions=None, smoothing_fwhm=None, standardize=False, detrend=False, verbose=5)"
   ]
  },
  {
   "cell_type": "markdown",
   "metadata": {},
   "source": [
    "# An unrelated region (Primary motor cortex?) V1?"
   ]
  },
  {
   "cell_type": "code",
   "execution_count": null,
   "metadata": {},
   "outputs": [],
   "source": []
  }
 ],
 "metadata": {
  "celltoolbar": "Slideshow",
  "kernelspec": {
   "display_name": "Python 3",
   "language": "python",
   "name": "python3"
  },
  "language_info": {
   "codemirror_mode": {
    "name": "ipython",
    "version": 3
   },
   "file_extension": ".py",
   "mimetype": "text/x-python",
   "name": "python",
   "nbconvert_exporter": "python",
   "pygments_lexer": "ipython3",
   "version": "3.7.7"
  }
 },
 "nbformat": 4,
 "nbformat_minor": 4
}
