{
 "cells": [
  {
   "cell_type": "markdown",
   "metadata": {},
   "source": [
    "## This code is uses NeuroKit2 to analyze EDA data for the KPE study\n",
    "- We take event files and acq files for each subjects\n",
    "- We preprocess them and generate epoch for each script (i.e. condition)\n",
    "- We save a csv file of data for each subject for further analysis "
   ]
  },
  {
   "cell_type": "code",
   "execution_count": 41,
   "metadata": {},
   "outputs": [],
   "source": [
    "import neurokit2 as nk\n",
    "import pandas as pd\n",
    "import numpy as np\n",
    "import seaborn as sns\n",
    "import matplotlib.pyplot as plt\n",
    "import glob"
   ]
  },
  {
   "cell_type": "code",
   "execution_count": 65,
   "metadata": {},
   "outputs": [],
   "source": [
    "# set parameters\n",
    "output_dir = '/media/Data/Lab_Projects/KPE_PTSD_Project/behavioral/results'\n",
    "ses = '1' # set session\n",
    "acq_files = glob.glob('/media/Data/Lab_Projects/KPE_PTSD_Project/behavioral/physio_data/raw/kpe*/scan_%s/kpe*_scripts*.acq' %ses)\n",
    "events_file = glob.glob('/media/Data/Lab_Projects/KPE_PTSD_Project/neuroimaging/KPE_BIDS/condition_files/sub-*_ses-%s.csv' %ses)"
   ]
  },
  {
   "cell_type": "code",
   "execution_count": 66,
   "metadata": {},
   "outputs": [],
   "source": [
    "acq_files.sort()\n",
    "events_file.sort() # sorting by sub number"
   ]
  },
  {
   "cell_type": "code",
   "execution_count": 67,
   "metadata": {},
   "outputs": [
    {
     "data": {
      "text/plain": [
       "['/media/Data/Lab_Projects/KPE_PTSD_Project/behavioral/physio_data/raw/kpe008/scan_1/kpe008.1_scripts_2016-10-24T09_00_11.acq',\n",
       " '/media/Data/Lab_Projects/KPE_PTSD_Project/behavioral/physio_data/raw/kpe1223/scan_1/kpe1223.1_scripts_2017-01-30T08_17_08.acq',\n",
       " '/media/Data/Lab_Projects/KPE_PTSD_Project/behavioral/physio_data/raw/kpe1253/scan_1/kpe1253.1_scripts_2016-12-12T08_12_57.acq',\n",
       " '/media/Data/Lab_Projects/KPE_PTSD_Project/behavioral/physio_data/raw/kpe1263/scan_1/kpe1263.1_scripts_2016-11-28T08_38_41.acq',\n",
       " '/media/Data/Lab_Projects/KPE_PTSD_Project/behavioral/physio_data/raw/kpe1293/scan_1/kpe1293.1_scripts_2017-02-27T08_18_18.acq',\n",
       " '/media/Data/Lab_Projects/KPE_PTSD_Project/behavioral/physio_data/raw/kpe1307/scan_1/kpe1307.1_scripts_2017-06-05T08_31_00.acq',\n",
       " '/media/Data/Lab_Projects/KPE_PTSD_Project/behavioral/physio_data/raw/kpe1315/scan_1/kpe1315.1_scripts_2017-04-10T08_31_02.acq',\n",
       " '/media/Data/Lab_Projects/KPE_PTSD_Project/behavioral/physio_data/raw/kpe1322/scan_1/kpe1322.1_scripts_2017-05-22T08_20_59.acq',\n",
       " '/media/Data/Lab_Projects/KPE_PTSD_Project/behavioral/physio_data/raw/kpe1339/scan_1/kpe1339.1_scripts2017-07-24T08_27_26.acq',\n",
       " '/media/Data/Lab_Projects/KPE_PTSD_Project/behavioral/physio_data/raw/kpe1343/scan_1/kpe1343.1_scripts_2017-09-18T08_15_53.acq',\n",
       " '/media/Data/Lab_Projects/KPE_PTSD_Project/behavioral/physio_data/raw/kpe1351/scan_1/kpe1351.1_scripts_2017-11-27T08_28_54.acq',\n",
       " '/media/Data/Lab_Projects/KPE_PTSD_Project/behavioral/physio_data/raw/kpe1356/scan_1/kpe1356.1_scripts_2017-12-04T08_38_09.acq',\n",
       " '/media/Data/Lab_Projects/KPE_PTSD_Project/behavioral/physio_data/raw/kpe1364/scan_1/kpe1364.1_scripts_2018-01-22T08_21_12.acq',\n",
       " '/media/Data/Lab_Projects/KPE_PTSD_Project/behavioral/physio_data/raw/kpe1369/scan_1/kpe1369.1_scripts_2018-02-05T08_11_38.acq',\n",
       " '/media/Data/Lab_Projects/KPE_PTSD_Project/behavioral/physio_data/raw/kpe1387/scan_1/kpe1387.1_scripts_2018-09-10T08_39_24.acq',\n",
       " '/media/Data/Lab_Projects/KPE_PTSD_Project/behavioral/physio_data/raw/kpe1390/scan_1/kpe1390.1_scripts_2018-04-30T08_27_00.acq',\n",
       " '/media/Data/Lab_Projects/KPE_PTSD_Project/behavioral/physio_data/raw/kpe1403/scan_1/kpe1403.1_scripts_2018-06-04T08_21_30.acq',\n",
       " '/media/Data/Lab_Projects/KPE_PTSD_Project/behavioral/physio_data/raw/kpe1419/scan_1/kpe1419.1_scripts_2019-12-02T08_22_41.acq',\n",
       " '/media/Data/Lab_Projects/KPE_PTSD_Project/behavioral/physio_data/raw/kpe1464/scan_1/kpe1464.1_scripts_2019-01-14T08_27_28.acq',\n",
       " '/media/Data/Lab_Projects/KPE_PTSD_Project/behavioral/physio_data/raw/kpe1468/scan_1/kpe1468.1_scripts_2019-04-08T08_27_29.acq',\n",
       " '/media/Data/Lab_Projects/KPE_PTSD_Project/behavioral/physio_data/raw/kpe1480/scan_1/kpe1480.1_scripts_2019-05-06T08_20_54.acq',\n",
       " '/media/Data/Lab_Projects/KPE_PTSD_Project/behavioral/physio_data/raw/kpe1499/scan_1/kpe1499.1_scripts_2019-06-03T08_23_06.acq',\n",
       " '/media/Data/Lab_Projects/KPE_PTSD_Project/behavioral/physio_data/raw/kpe1561/scan_1/kpe1561.1_scripts_2019-09-23T08_13_58.acq',\n",
       " '/media/Data/Lab_Projects/KPE_PTSD_Project/behavioral/physio_data/raw/kpe1573/scan_1/kpe1573.1_scripts2020-01-27T08_25_31.acq',\n",
       " '/media/Data/Lab_Projects/KPE_PTSD_Project/behavioral/physio_data/raw/kpe1578/scan_1/kpe1578.1_scripts_2020-02-03T08_39_36.acq']"
      ]
     },
     "execution_count": 67,
     "metadata": {},
     "output_type": "execute_result"
    }
   ],
   "source": [
    "acq_files"
   ]
  },
  {
   "cell_type": "code",
   "execution_count": 68,
   "metadata": {},
   "outputs": [
    {
     "data": {
      "text/plain": [
       "25"
      ]
     },
     "execution_count": 68,
     "metadata": {},
     "output_type": "execute_result"
    }
   ],
   "source": [
    "len(acq_files)"
   ]
  },
  {
   "cell_type": "code",
   "execution_count": 69,
   "metadata": {},
   "outputs": [
    {
     "name": "stdout",
     "output_type": "stream",
     "text": [
      "008\n",
      "Acq file 008\n",
      "1223\n",
      "Acq file 1223\n",
      "1253\n",
      "Acq file 1253\n",
      "1263\n",
      "Acq file 1263\n",
      "1293\n",
      "Acq file 1293\n",
      "1307\n",
      "Acq file 1307\n",
      "1315\n",
      "Acq file 1315\n",
      "1322\n",
      "Acq file 1322\n",
      "1339\n",
      "Acq file 1339\n",
      "1343\n",
      "Acq file 1343\n",
      "1351\n",
      "Acq file 1351\n",
      "1356\n",
      "Acq file 1356\n",
      "1364\n",
      "Acq file 1364\n",
      "1369\n",
      "Acq file 1369\n",
      "1387\n",
      "Acq file 1387\n",
      "1390\n",
      "Acq file 1390\n",
      "1403\n",
      "Acq file 1403\n",
      "1419\n",
      "Acq file 1419\n",
      "1464\n",
      "Acq file 1464\n",
      "1468\n",
      "Acq file 1468\n",
      "1480\n",
      "Acq file 1480\n",
      "1499\n",
      "Acq file 1499\n",
      "1561\n",
      "Acq file 1561\n",
      "1573\n",
      "Acq file 1573\n",
      "1578\n",
      "Acq file 1578\n"
     ]
    }
   ],
   "source": [
    "len(events_file)\n",
    "for acq, file in zip(acq_files, events_file):\n",
    "    print(file.split('sub-')[1].split('_ses')[0])\n",
    "    print(f\"Acq file {acq.split('kpe')[1].split('/scan')[0]}\")\n",
    "    "
   ]
  },
  {
   "cell_type": "code",
   "execution_count": 70,
   "metadata": {},
   "outputs": [],
   "source": [
    "# find epochs to match \n",
    "# first read condition list from subjects' events file\n",
    "\n",
    "def readAnalyze_acq(file, ev_file):\n",
    "    # this function takes the acq file and events file and returns a data frame of \n",
    "    # trial type and max EDA\n",
    "    a = nk.read_acqknowledge(file, sampling_rate=100,\n",
    "                     resample_method=\"interpolation\", impute_missing=True)\n",
    "    events_file = pd.read_csv(ev_file, sep='\\t')\n",
    "    condition_list = list(events_file.trial_type)\n",
    "\n",
    "    # then use the events_find function to determine onset and duration of the events \n",
    "    #(here its going from 0 to 5, so threshold is above)\n",
    "    events = nk.events_find(event_channel=a[0].Script,\n",
    "                            threshold_keep='above',\n",
    "                            event_conditions=condition_list)\n",
    "\n",
    "    # Preprocess the data (filter, find peaks, etc.)\n",
    "    processed_data, info = nk.bio_process(#ecg=a[0][\"ECG100C\"],\n",
    "                                          eda=a[0][\"GSR100C\"],\n",
    "                                          keep=a[0][\"Script\"],\n",
    "                                          sampling_rate=a[1])\n",
    "\n",
    "\n",
    "    # create epochs\n",
    "    epochs = nk.epochs_create(processed_data, events, sampling_rate=a[1], epochs_start=0,\n",
    "                              epochs_end=10) # ends 10 as there might be some carryover\n",
    "    results = nk.bio_analyze(epochs, sampling_rate=a[1], method='interval-related')\n",
    "    return results"
   ]
  },
  {
   "cell_type": "code",
   "execution_count": 71,
   "metadata": {},
   "outputs": [
    {
     "name": "stdout",
     "output_type": "stream",
     "text": [
      "008\n",
      "/media/Data/Lab_Projects/KPE_PTSD_Project/neuroimaging/KPE_BIDS/condition_files/sub-008_ses-1.csv\n",
      "1223\n",
      "/media/Data/Lab_Projects/KPE_PTSD_Project/neuroimaging/KPE_BIDS/condition_files/sub-1223_ses-1.csv\n"
     ]
    },
    {
     "name": "stderr",
     "output_type": "stream",
     "text": [
      "/home/or/miniconda3/envs/neuroAnalysis/lib/python3.7/site-packages/neurokit2/eda/eda_intervalrelated.py:116: RuntimeWarning: invalid value encountered in double_scalars\n",
      "  output[\"SCR_Peaks_Amplitude_Mean\"] = np.nansum(amplitude) / np.sum(peaks)\n"
     ]
    },
    {
     "name": "stdout",
     "output_type": "stream",
     "text": [
      "1253\n",
      "/media/Data/Lab_Projects/KPE_PTSD_Project/neuroimaging/KPE_BIDS/condition_files/sub-1253_ses-1.csv\n"
     ]
    },
    {
     "name": "stderr",
     "output_type": "stream",
     "text": [
      "/home/or/miniconda3/envs/neuroAnalysis/lib/python3.7/site-packages/neurokit2/eda/eda_intervalrelated.py:116: RuntimeWarning: invalid value encountered in double_scalars\n",
      "  output[\"SCR_Peaks_Amplitude_Mean\"] = np.nansum(amplitude) / np.sum(peaks)\n"
     ]
    },
    {
     "name": "stdout",
     "output_type": "stream",
     "text": [
      "1263\n",
      "/media/Data/Lab_Projects/KPE_PTSD_Project/neuroimaging/KPE_BIDS/condition_files/sub-1263_ses-1.csv\n",
      "1293\n",
      "/media/Data/Lab_Projects/KPE_PTSD_Project/neuroimaging/KPE_BIDS/condition_files/sub-1293_ses-1.csv\n"
     ]
    },
    {
     "name": "stderr",
     "output_type": "stream",
     "text": [
      "/home/or/miniconda3/envs/neuroAnalysis/lib/python3.7/site-packages/neurokit2/eda/eda_intervalrelated.py:116: RuntimeWarning: invalid value encountered in double_scalars\n",
      "  output[\"SCR_Peaks_Amplitude_Mean\"] = np.nansum(amplitude) / np.sum(peaks)\n"
     ]
    },
    {
     "name": "stdout",
     "output_type": "stream",
     "text": [
      "1307\n",
      "/media/Data/Lab_Projects/KPE_PTSD_Project/neuroimaging/KPE_BIDS/condition_files/sub-1307_ses-1.csv\n",
      "1315\n",
      "/media/Data/Lab_Projects/KPE_PTSD_Project/neuroimaging/KPE_BIDS/condition_files/sub-1315_ses-1.csv\n"
     ]
    },
    {
     "name": "stderr",
     "output_type": "stream",
     "text": [
      "/home/or/miniconda3/envs/neuroAnalysis/lib/python3.7/site-packages/neurokit2/eda/eda_intervalrelated.py:116: RuntimeWarning: invalid value encountered in double_scalars\n",
      "  output[\"SCR_Peaks_Amplitude_Mean\"] = np.nansum(amplitude) / np.sum(peaks)\n"
     ]
    },
    {
     "name": "stdout",
     "output_type": "stream",
     "text": [
      "1322\n",
      "/media/Data/Lab_Projects/KPE_PTSD_Project/neuroimaging/KPE_BIDS/condition_files/sub-1322_ses-1.csv\n",
      "1339\n",
      "/media/Data/Lab_Projects/KPE_PTSD_Project/neuroimaging/KPE_BIDS/condition_files/sub-1339_ses-1.csv\n"
     ]
    },
    {
     "name": "stderr",
     "output_type": "stream",
     "text": [
      "/home/or/miniconda3/envs/neuroAnalysis/lib/python3.7/site-packages/neurokit2/eda/eda_intervalrelated.py:116: RuntimeWarning: invalid value encountered in double_scalars\n",
      "  output[\"SCR_Peaks_Amplitude_Mean\"] = np.nansum(amplitude) / np.sum(peaks)\n"
     ]
    },
    {
     "name": "stdout",
     "output_type": "stream",
     "text": [
      "1343\n",
      "/media/Data/Lab_Projects/KPE_PTSD_Project/neuroimaging/KPE_BIDS/condition_files/sub-1343_ses-1.csv\n"
     ]
    },
    {
     "name": "stderr",
     "output_type": "stream",
     "text": [
      "/home/or/miniconda3/envs/neuroAnalysis/lib/python3.7/site-packages/neurokit2/eda/eda_intervalrelated.py:116: RuntimeWarning: invalid value encountered in double_scalars\n",
      "  output[\"SCR_Peaks_Amplitude_Mean\"] = np.nansum(amplitude) / np.sum(peaks)\n"
     ]
    },
    {
     "name": "stdout",
     "output_type": "stream",
     "text": [
      "1351\n",
      "/media/Data/Lab_Projects/KPE_PTSD_Project/neuroimaging/KPE_BIDS/condition_files/sub-1351_ses-1.csv\n"
     ]
    },
    {
     "name": "stderr",
     "output_type": "stream",
     "text": [
      "/home/or/miniconda3/envs/neuroAnalysis/lib/python3.7/site-packages/neurokit2/eda/eda_intervalrelated.py:116: RuntimeWarning: invalid value encountered in double_scalars\n",
      "  output[\"SCR_Peaks_Amplitude_Mean\"] = np.nansum(amplitude) / np.sum(peaks)\n"
     ]
    },
    {
     "name": "stdout",
     "output_type": "stream",
     "text": [
      "1356\n",
      "/media/Data/Lab_Projects/KPE_PTSD_Project/neuroimaging/KPE_BIDS/condition_files/sub-1356_ses-1.csv\n"
     ]
    },
    {
     "name": "stderr",
     "output_type": "stream",
     "text": [
      "/home/or/miniconda3/envs/neuroAnalysis/lib/python3.7/site-packages/neurokit2/eda/eda_intervalrelated.py:116: RuntimeWarning: invalid value encountered in double_scalars\n",
      "  output[\"SCR_Peaks_Amplitude_Mean\"] = np.nansum(amplitude) / np.sum(peaks)\n"
     ]
    },
    {
     "name": "stdout",
     "output_type": "stream",
     "text": [
      "1364\n",
      "/media/Data/Lab_Projects/KPE_PTSD_Project/neuroimaging/KPE_BIDS/condition_files/sub-1364_ses-1.csv\n"
     ]
    },
    {
     "name": "stderr",
     "output_type": "stream",
     "text": [
      "/home/or/miniconda3/envs/neuroAnalysis/lib/python3.7/site-packages/neurokit2/eda/eda_intervalrelated.py:116: RuntimeWarning: invalid value encountered in double_scalars\n",
      "  output[\"SCR_Peaks_Amplitude_Mean\"] = np.nansum(amplitude) / np.sum(peaks)\n"
     ]
    },
    {
     "name": "stdout",
     "output_type": "stream",
     "text": [
      "1369\n",
      "/media/Data/Lab_Projects/KPE_PTSD_Project/neuroimaging/KPE_BIDS/condition_files/sub-1369_ses-1.csv\n",
      "1387\n",
      "/media/Data/Lab_Projects/KPE_PTSD_Project/neuroimaging/KPE_BIDS/condition_files/sub-1387_ses-1.csv\n"
     ]
    },
    {
     "name": "stderr",
     "output_type": "stream",
     "text": [
      "/home/or/miniconda3/envs/neuroAnalysis/lib/python3.7/site-packages/neurokit2/eda/eda_intervalrelated.py:116: RuntimeWarning: invalid value encountered in double_scalars\n",
      "  output[\"SCR_Peaks_Amplitude_Mean\"] = np.nansum(amplitude) / np.sum(peaks)\n"
     ]
    },
    {
     "name": "stdout",
     "output_type": "stream",
     "text": [
      "1390\n",
      "/media/Data/Lab_Projects/KPE_PTSD_Project/neuroimaging/KPE_BIDS/condition_files/sub-1390_ses-1.csv\n"
     ]
    },
    {
     "name": "stderr",
     "output_type": "stream",
     "text": [
      "/home/or/miniconda3/envs/neuroAnalysis/lib/python3.7/site-packages/neurokit2/eda/eda_intervalrelated.py:116: RuntimeWarning: invalid value encountered in double_scalars\n",
      "  output[\"SCR_Peaks_Amplitude_Mean\"] = np.nansum(amplitude) / np.sum(peaks)\n"
     ]
    },
    {
     "name": "stdout",
     "output_type": "stream",
     "text": [
      "1403\n",
      "/media/Data/Lab_Projects/KPE_PTSD_Project/neuroimaging/KPE_BIDS/condition_files/sub-1403_ses-1.csv\n"
     ]
    },
    {
     "name": "stderr",
     "output_type": "stream",
     "text": [
      "/home/or/miniconda3/envs/neuroAnalysis/lib/python3.7/site-packages/neurokit2/eda/eda_intervalrelated.py:116: RuntimeWarning: invalid value encountered in double_scalars\n",
      "  output[\"SCR_Peaks_Amplitude_Mean\"] = np.nansum(amplitude) / np.sum(peaks)\n"
     ]
    },
    {
     "name": "stdout",
     "output_type": "stream",
     "text": [
      "1419\n",
      "/media/Data/Lab_Projects/KPE_PTSD_Project/neuroimaging/KPE_BIDS/condition_files/sub-1419_ses-1.csv\n"
     ]
    },
    {
     "name": "stderr",
     "output_type": "stream",
     "text": [
      "/home/or/miniconda3/envs/neuroAnalysis/lib/python3.7/site-packages/neurokit2/eda/eda_intervalrelated.py:116: RuntimeWarning: invalid value encountered in double_scalars\n",
      "  output[\"SCR_Peaks_Amplitude_Mean\"] = np.nansum(amplitude) / np.sum(peaks)\n"
     ]
    },
    {
     "name": "stdout",
     "output_type": "stream",
     "text": [
      "1464\n",
      "/media/Data/Lab_Projects/KPE_PTSD_Project/neuroimaging/KPE_BIDS/condition_files/sub-1464_ses-1.csv\n"
     ]
    },
    {
     "name": "stderr",
     "output_type": "stream",
     "text": [
      "/home/or/miniconda3/envs/neuroAnalysis/lib/python3.7/site-packages/neurokit2/eda/eda_intervalrelated.py:116: RuntimeWarning: invalid value encountered in double_scalars\n",
      "  output[\"SCR_Peaks_Amplitude_Mean\"] = np.nansum(amplitude) / np.sum(peaks)\n"
     ]
    },
    {
     "name": "stdout",
     "output_type": "stream",
     "text": [
      "1468\n",
      "/media/Data/Lab_Projects/KPE_PTSD_Project/neuroimaging/KPE_BIDS/condition_files/sub-1468_ses-1.csv\n",
      "1480\n",
      "/media/Data/Lab_Projects/KPE_PTSD_Project/neuroimaging/KPE_BIDS/condition_files/sub-1480_ses-1.csv\n"
     ]
    },
    {
     "name": "stderr",
     "output_type": "stream",
     "text": [
      "/home/or/miniconda3/envs/neuroAnalysis/lib/python3.7/site-packages/neurokit2/eda/eda_intervalrelated.py:116: RuntimeWarning: invalid value encountered in double_scalars\n",
      "  output[\"SCR_Peaks_Amplitude_Mean\"] = np.nansum(amplitude) / np.sum(peaks)\n"
     ]
    },
    {
     "name": "stdout",
     "output_type": "stream",
     "text": [
      "1499\n",
      "/media/Data/Lab_Projects/KPE_PTSD_Project/neuroimaging/KPE_BIDS/condition_files/sub-1499_ses-1.csv\n"
     ]
    },
    {
     "name": "stderr",
     "output_type": "stream",
     "text": [
      "/home/or/miniconda3/envs/neuroAnalysis/lib/python3.7/site-packages/neurokit2/eda/eda_intervalrelated.py:116: RuntimeWarning: invalid value encountered in double_scalars\n",
      "  output[\"SCR_Peaks_Amplitude_Mean\"] = np.nansum(amplitude) / np.sum(peaks)\n"
     ]
    },
    {
     "name": "stdout",
     "output_type": "stream",
     "text": [
      "1561\n",
      "/media/Data/Lab_Projects/KPE_PTSD_Project/neuroimaging/KPE_BIDS/condition_files/sub-1561_ses-1.csv\n"
     ]
    },
    {
     "name": "stderr",
     "output_type": "stream",
     "text": [
      "/home/or/miniconda3/envs/neuroAnalysis/lib/python3.7/site-packages/neurokit2/eda/eda_intervalrelated.py:116: RuntimeWarning: invalid value encountered in double_scalars\n",
      "  output[\"SCR_Peaks_Amplitude_Mean\"] = np.nansum(amplitude) / np.sum(peaks)\n"
     ]
    },
    {
     "name": "stdout",
     "output_type": "stream",
     "text": [
      "1573\n",
      "/media/Data/Lab_Projects/KPE_PTSD_Project/neuroimaging/KPE_BIDS/condition_files/sub-1573_ses-1.csv\n"
     ]
    },
    {
     "name": "stderr",
     "output_type": "stream",
     "text": [
      "/home/or/miniconda3/envs/neuroAnalysis/lib/python3.7/site-packages/neurokit2/eda/eda_intervalrelated.py:116: RuntimeWarning: invalid value encountered in double_scalars\n",
      "  output[\"SCR_Peaks_Amplitude_Mean\"] = np.nansum(amplitude) / np.sum(peaks)\n"
     ]
    },
    {
     "name": "stdout",
     "output_type": "stream",
     "text": [
      "1578\n",
      "/media/Data/Lab_Projects/KPE_PTSD_Project/neuroimaging/KPE_BIDS/condition_files/sub-1578_ses-1.csv\n"
     ]
    },
    {
     "name": "stderr",
     "output_type": "stream",
     "text": [
      "/home/or/miniconda3/envs/neuroAnalysis/lib/python3.7/site-packages/neurokit2/eda/eda_intervalrelated.py:116: RuntimeWarning: invalid value encountered in double_scalars\n",
      "  output[\"SCR_Peaks_Amplitude_Mean\"] = np.nansum(amplitude) / np.sum(peaks)\n"
     ]
    }
   ],
   "source": [
    "for file, ev_file in zip(acq_files, events_file):\n",
    "    sub = file.split('kpe')[1].split('/')[0]\n",
    "    print(sub)\n",
    "    print(ev_file)\n",
    "    result = readAnalyze_acq(file, ev_file)\n",
    "    result['subject_id'] = sub\n",
    "    result.to_csv(output_dir + '/sub-' + sub + '_ses-' + ses + '.csv', index=False, sep = '\\t')"
   ]
  },
  {
   "cell_type": "code",
   "execution_count": 49,
   "metadata": {},
   "outputs": [
    {
     "data": {
      "text/html": [
       "<div>\n",
       "<style scoped>\n",
       "    .dataframe tbody tr th:only-of-type {\n",
       "        vertical-align: middle;\n",
       "    }\n",
       "\n",
       "    .dataframe tbody tr th {\n",
       "        vertical-align: top;\n",
       "    }\n",
       "\n",
       "    .dataframe thead th {\n",
       "        text-align: right;\n",
       "    }\n",
       "</style>\n",
       "<table border=\"1\" class=\"dataframe\">\n",
       "  <thead>\n",
       "    <tr style=\"text-align: right;\">\n",
       "      <th></th>\n",
       "      <th>SCR_Peaks_N</th>\n",
       "      <th>SCR_Peaks_Amplitude_Mean</th>\n",
       "      <th>subject_id</th>\n",
       "    </tr>\n",
       "  </thead>\n",
       "  <tbody>\n",
       "    <tr>\n",
       "      <th>1</th>\n",
       "      <td>1.0</td>\n",
       "      <td>0.042608</td>\n",
       "      <td>1561</td>\n",
       "    </tr>\n",
       "    <tr>\n",
       "      <th>2</th>\n",
       "      <td>0.0</td>\n",
       "      <td>NaN</td>\n",
       "      <td>1561</td>\n",
       "    </tr>\n",
       "    <tr>\n",
       "      <th>3</th>\n",
       "      <td>1.0</td>\n",
       "      <td>0.007511</td>\n",
       "      <td>1561</td>\n",
       "    </tr>\n",
       "    <tr>\n",
       "      <th>4</th>\n",
       "      <td>1.0</td>\n",
       "      <td>0.047930</td>\n",
       "      <td>1561</td>\n",
       "    </tr>\n",
       "    <tr>\n",
       "      <th>5</th>\n",
       "      <td>1.0</td>\n",
       "      <td>0.003172</td>\n",
       "      <td>1561</td>\n",
       "    </tr>\n",
       "    <tr>\n",
       "      <th>6</th>\n",
       "      <td>1.0</td>\n",
       "      <td>0.044502</td>\n",
       "      <td>1561</td>\n",
       "    </tr>\n",
       "    <tr>\n",
       "      <th>7</th>\n",
       "      <td>1.0</td>\n",
       "      <td>0.289602</td>\n",
       "      <td>1561</td>\n",
       "    </tr>\n",
       "    <tr>\n",
       "      <th>8</th>\n",
       "      <td>1.0</td>\n",
       "      <td>0.147923</td>\n",
       "      <td>1561</td>\n",
       "    </tr>\n",
       "    <tr>\n",
       "      <th>9</th>\n",
       "      <td>1.0</td>\n",
       "      <td>0.200464</td>\n",
       "      <td>1561</td>\n",
       "    </tr>\n",
       "  </tbody>\n",
       "</table>\n",
       "</div>"
      ],
      "text/plain": [
       "   SCR_Peaks_N  SCR_Peaks_Amplitude_Mean subject_id\n",
       "1          1.0                  0.042608       1561\n",
       "2          0.0                       NaN       1561\n",
       "3          1.0                  0.007511       1561\n",
       "4          1.0                  0.047930       1561\n",
       "5          1.0                  0.003172       1561\n",
       "6          1.0                  0.044502       1561\n",
       "7          1.0                  0.289602       1561\n",
       "8          1.0                  0.147923       1561\n",
       "9          1.0                  0.200464       1561"
      ]
     },
     "execution_count": 49,
     "metadata": {},
     "output_type": "execute_result"
    }
   ],
   "source": [
    "result"
   ]
  },
  {
   "cell_type": "code",
   "execution_count": 50,
   "metadata": {},
   "outputs": [],
   "source": [
    "condition_list = ['sad1','trauma1','relax1', 'sad2','trauma2','']"
   ]
  },
  {
   "cell_type": "code",
   "execution_count": 2,
   "metadata": {},
   "outputs": [
    {
     "name": "stdout",
     "output_type": "stream",
     "text": [
      "\n",
      "You can cite NeuroKit2 as follows:\n",
      "\n",
      "- Makowski, D., Pham, T., Lau, Z. J., Brammer, J. C., Lesspinasse, F., Pham, H.,\n",
      "  Schölzel, C., & S H Chen, A. (2020). NeuroKit2: A Python Toolbox for Neurophysiological\n",
      "  Signal Processing. Retrieved October 25, 2020, from https://github.com/neuropsychology/NeuroKit\n",
      "\n",
      "\n",
      "Full bibtex reference:\n",
      "\n",
      "@misc{neurokit2,\n",
      "  doi = {10.5281/ZENODO.3597887},\n",
      "  url = {https://github.com/neuropsychology/NeuroKit},\n",
      "  author = {Makowski, Dominique and Pham, Tam and Lau, Zen J. and Brammer, Jan C. and Lesspinasse,\n",
      "            Fran\\c{c}ois and Pham, Hung and Schölzel, Christopher and S H Chen, Annabel},\n",
      "  title = {NeuroKit2: A Python Toolbox for Neurophysiological Signal Processing},\n",
      "  publisher = {Zenodo},\n",
      "  month={Mar},\n",
      "  year = {2020},\n",
      "}\n",
      "\n"
     ]
    }
   ],
   "source": [
    "nk.cite()"
   ]
  }
 ],
 "metadata": {
  "kernelspec": {
   "display_name": "Python 3.7.7 64-bit ('neuroAnalysis': conda)",
   "language": "python",
   "name": "python37764bitneuroanalysiscondaa23731adadc74dd9881a406adec17ad1"
  },
  "language_info": {
   "codemirror_mode": {
    "name": "ipython",
    "version": 3
   },
   "file_extension": ".py",
   "mimetype": "text/x-python",
   "name": "python",
   "nbconvert_exporter": "python",
   "pygments_lexer": "ipython3",
   "version": "3.7.7"
  }
 },
 "nbformat": 4,
 "nbformat_minor": 4
}
